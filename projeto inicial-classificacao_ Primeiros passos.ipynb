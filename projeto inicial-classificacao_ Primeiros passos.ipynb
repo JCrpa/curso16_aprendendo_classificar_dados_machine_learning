{
 "cells": [
  {
   "cell_type": "markdown",
   "metadata": {
    "id": "MJ3tSbLsBPhe"
   },
   "source": [
    "# Classificação: Primeiros passos"
   ]
  },
  {
   "cell_type": "markdown",
   "metadata": {
    "id": "CYC5vst2FcaG"
   },
   "source": [
    "Neste projeto, iremos analisar dados de uma campanha de marketing para aderência de investimentos. O intuito é usar as informações dos dados para prever se os clientes de um banco vão aplicar o dinheiro em um investimento ou não.\n",
    "\n",
    "Essa previsão será feita utilizando machine learning e este notebook vai conter os passos para se obter um modelo capaz de realizar as previsões, desde a **leitura**, **análise exploratória**, **separação** e **transformação** dos dados, até o **ajuste**, **avaliação** e **comparação** de modelos de classificação."
   ]
  },
  {
   "cell_type": "markdown",
   "metadata": {
    "id": "dr9I9xCXoICN"
   },
   "source": [
    "# Análise exploratória"
   ]
  },
  {
   "cell_type": "markdown",
   "metadata": {
    "id": "fwuPpdZOBTUn"
   },
   "source": [
    "## Fazendo a leitura dos dados"
   ]
  },
  {
   "cell_type": "markdown",
   "metadata": {
    "id": "YzOu8ojHPemt"
   },
   "source": [
    "Podemos realizar a leitura dos dados a partir da biblioteca `pandas`. Por conta disso, vamos realizar a importação da biblioteca com o comando `import pandas as pd`.\n",
    "\n",
    "Como o arquivo de dados está no formato *csv*, vamos realizar a leitura com a função [`read_csv()`](https://pandas.pydata.org/docs/reference/api/pandas.read_csv.html)."
   ]
  },
  {
   "cell_type": "code",
   "execution_count": 1,
   "metadata": {
    "id": "nPrDJYBKZbKW"
   },
   "outputs": [],
   "source": [
    "import pandas as pd"
   ]
  },
  {
   "cell_type": "code",
   "execution_count": 3,
   "metadata": {
    "id": "9h4YUPxyZuLf"
   },
   "outputs": [],
   "source": [
    "dados = pd.read_csv('C:\\\\Users\\\\joaoc\\\\OneDrive\\\\Documentos\\\\Aprendizado_ONE\\\\formacao-tech-foundation\\\\curso16_aprendendo_classificar_dados_machine_learning\\\\marketing_investimento.csv')"
   ]
  },
  {
   "cell_type": "code",
   "execution_count": 4,
   "metadata": {
    "id": "4uQHVCGlZxkL"
   },
   "outputs": [
    {
     "data": {
      "application/vnd.microsoft.datawrangler.viewer.v0+json": {
       "columns": [
        {
         "name": "index",
         "rawType": "int64",
         "type": "integer"
        },
        {
         "name": "idade",
         "rawType": "int64",
         "type": "integer"
        },
        {
         "name": "estado_civil",
         "rawType": "object",
         "type": "string"
        },
        {
         "name": "escolaridade",
         "rawType": "object",
         "type": "string"
        },
        {
         "name": "inadimplencia",
         "rawType": "object",
         "type": "string"
        },
        {
         "name": "saldo",
         "rawType": "int64",
         "type": "integer"
        },
        {
         "name": "fez_emprestimo",
         "rawType": "object",
         "type": "string"
        },
        {
         "name": "tempo_ult_contato",
         "rawType": "int64",
         "type": "integer"
        },
        {
         "name": "numero_contatos",
         "rawType": "int64",
         "type": "integer"
        },
        {
         "name": "aderencia_investimento",
         "rawType": "object",
         "type": "string"
        }
       ],
       "ref": "4d0ce11e-526d-40a2-8965-5f8e11366e2a",
       "rows": [
        [
         "0",
         "45",
         "casado (a)",
         "superior",
         "nao",
         "242",
         "nao",
         "587",
         "1",
         "sim"
        ],
        [
         "1",
         "42",
         "casado (a)",
         "medio",
         "nao",
         "1289",
         "nao",
         "250",
         "4",
         "sim"
        ],
        [
         "2",
         "23",
         "solteiro (a)",
         "superior",
         "nao",
         "363",
         "nao",
         "16",
         "18",
         "nao"
        ],
        [
         "3",
         "58",
         "divorciado (a)",
         "superior",
         "nao",
         "1382",
         "nao",
         "700",
         "1",
         "sim"
        ],
        [
         "4",
         "50",
         "casado (a)",
         "medio",
         "nao",
         "3357",
         "nao",
         "239",
         "4",
         "sim"
        ],
        [
         "5",
         "24",
         "solteiro (a)",
         "medio",
         "nao",
         "174",
         "sim",
         "487",
         "1",
         "sim"
        ],
        [
         "6",
         "53",
         "casado (a)",
         "superior",
         "nao",
         "4446",
         "nao",
         "429",
         "1",
         "nao"
        ],
        [
         "7",
         "30",
         "casado (a)",
         "medio",
         "nao",
         "946",
         "nao",
         "1065",
         "1",
         "nao"
        ],
        [
         "8",
         "39",
         "casado (a)",
         "fundamental",
         "nao",
         "879",
         "nao",
         "102",
         "2",
         "nao"
        ],
        [
         "9",
         "30",
         "divorciado (a)",
         "medio",
         "nao",
         "-94",
         "nao",
         "41",
         "2",
         "nao"
        ],
        [
         "10",
         "34",
         "solteiro (a)",
         "superior",
         "nao",
         "5086",
         "nao",
         "213",
         "4",
         "sim"
        ],
        [
         "11",
         "39",
         "casado (a)",
         "fundamental",
         "nao",
         "7685",
         "nao",
         "493",
         "3",
         "nao"
        ],
        [
         "12",
         "33",
         "casado (a)",
         "medio",
         "nao",
         "139",
         "sim",
         "732",
         "2",
         "sim"
        ],
        [
         "13",
         "34",
         "casado (a)",
         "superior",
         "nao",
         "1116",
         "nao",
         "53",
         "5",
         "nao"
        ],
        [
         "14",
         "38",
         "solteiro (a)",
         "superior",
         "nao",
         "0",
         "nao",
         "71",
         "1",
         "nao"
        ],
        [
         "15",
         "33",
         "divorciado (a)",
         "medio",
         "nao",
         "2411",
         "nao",
         "130",
         "1",
         "sim"
        ],
        [
         "16",
         "48",
         "casado (a)",
         "fundamental",
         "nao",
         "559",
         "nao",
         "1231",
         "2",
         "nao"
        ],
        [
         "17",
         "39",
         "casado (a)",
         "medio",
         "nao",
         "0",
         "nao",
         "793",
         "2",
         "nao"
        ],
        [
         "18",
         "53",
         "casado (a)",
         "medio",
         "nao",
         "70",
         "nao",
         "611",
         "2",
         "nao"
        ],
        [
         "19",
         "80",
         "casado (a)",
         "medio",
         "nao",
         "8304",
         "nao",
         "712",
         "1",
         "sim"
        ],
        [
         "20",
         "38",
         "divorciado (a)",
         "medio",
         "nao",
         "157",
         "nao",
         "299",
         "5",
         "nao"
        ],
        [
         "21",
         "24",
         "solteiro (a)",
         "medio",
         "nao",
         "-46",
         "nao",
         "23",
         "1",
         "nao"
        ],
        [
         "22",
         "44",
         "casado (a)",
         "medio",
         "nao",
         "10888",
         "nao",
         "163",
         "1",
         "nao"
        ],
        [
         "23",
         "46",
         "divorciado (a)",
         "superior",
         "nao",
         "624",
         "nao",
         "336",
         "2",
         "sim"
        ],
        [
         "24",
         "53",
         "casado (a)",
         "medio",
         "nao",
         "719",
         "nao",
         "230",
         "1",
         "nao"
        ],
        [
         "25",
         "30",
         "casado (a)",
         "superior",
         "nao",
         "102",
         "nao",
         "470",
         "7",
         "sim"
        ],
        [
         "26",
         "41",
         "casado (a)",
         "fundamental",
         "nao",
         "7735",
         "nao",
         "220",
         "1",
         "nao"
        ],
        [
         "27",
         "47",
         "solteiro (a)",
         "superior",
         "nao",
         "4402",
         "nao",
         "805",
         "1",
         "sim"
        ],
        [
         "28",
         "30",
         "solteiro (a)",
         "medio",
         "nao",
         "2145",
         "nao",
         "727",
         "2",
         "sim"
        ],
        [
         "29",
         "47",
         "casado (a)",
         "medio",
         "nao",
         "1167",
         "nao",
         "968",
         "1",
         "sim"
        ],
        [
         "30",
         "32",
         "solteiro (a)",
         "medio",
         "nao",
         "118",
         "nao",
         "1275",
         "1",
         "sim"
        ],
        [
         "31",
         "27",
         "casado (a)",
         "medio",
         "nao",
         "-247",
         "sim",
         "344",
         "2",
         "nao"
        ],
        [
         "32",
         "58",
         "solteiro (a)",
         "medio",
         "nao",
         "1640",
         "sim",
         "72",
         "6",
         "nao"
        ],
        [
         "33",
         "51",
         "casado (a)",
         "medio",
         "nao",
         "2662",
         "nao",
         "148",
         "2",
         "nao"
        ],
        [
         "34",
         "47",
         "casado (a)",
         "medio",
         "nao",
         "2246",
         "nao",
         "330",
         "1",
         "nao"
        ],
        [
         "35",
         "34",
         "casado (a)",
         "medio",
         "nao",
         "475",
         "nao",
         "559",
         "1",
         "nao"
        ],
        [
         "36",
         "40",
         "casado (a)",
         "superior",
         "nao",
         "1584",
         "nao",
         "661",
         "1",
         "nao"
        ],
        [
         "37",
         "44",
         "divorciado (a)",
         "medio",
         "nao",
         "0",
         "nao",
         "264",
         "5",
         "nao"
        ],
        [
         "38",
         "55",
         "divorciado (a)",
         "medio",
         "sim",
         "-404",
         "nao",
         "502",
         "3",
         "nao"
        ],
        [
         "39",
         "71",
         "casado (a)",
         "superior",
         "nao",
         "14220",
         "nao",
         "397",
         "1",
         "sim"
        ],
        [
         "40",
         "38",
         "casado (a)",
         "fundamental",
         "nao",
         "168",
         "sim",
         "212",
         "3",
         "nao"
        ],
        [
         "41",
         "38",
         "casado (a)",
         "superior",
         "nao",
         "12877",
         "nao",
         "118",
         "3",
         "nao"
        ],
        [
         "42",
         "54",
         "casado (a)",
         "superior",
         "nao",
         "98",
         "nao",
         "420",
         "4",
         "nao"
        ],
        [
         "43",
         "43",
         "casado (a)",
         "superior",
         "nao",
         "13342",
         "nao",
         "465",
         "1",
         "nao"
        ],
        [
         "44",
         "31",
         "casado (a)",
         "superior",
         "nao",
         "8312",
         "nao",
         "43",
         "13",
         "nao"
        ],
        [
         "45",
         "36",
         "divorciado (a)",
         "superior",
         "nao",
         "119",
         "nao",
         "127",
         "8",
         "nao"
        ],
        [
         "46",
         "31",
         "casado (a)",
         "superior",
         "nao",
         "156",
         "nao",
         "657",
         "7",
         "sim"
        ],
        [
         "47",
         "33",
         "casado (a)",
         "superior",
         "nao",
         "3696",
         "nao",
         "305",
         "1",
         "nao"
        ],
        [
         "48",
         "30",
         "casado (a)",
         "medio",
         "nao",
         "-393",
         "sim",
         "435",
         "1",
         "sim"
        ],
        [
         "49",
         "38",
         "casado (a)",
         "medio",
         "nao",
         "497",
         "sim",
         "88",
         "5",
         "nao"
        ]
       ],
       "shape": {
        "columns": 9,
        "rows": 1268
       }
      },
      "text/html": [
       "<div>\n",
       "<style scoped>\n",
       "    .dataframe tbody tr th:only-of-type {\n",
       "        vertical-align: middle;\n",
       "    }\n",
       "\n",
       "    .dataframe tbody tr th {\n",
       "        vertical-align: top;\n",
       "    }\n",
       "\n",
       "    .dataframe thead th {\n",
       "        text-align: right;\n",
       "    }\n",
       "</style>\n",
       "<table border=\"1\" class=\"dataframe\">\n",
       "  <thead>\n",
       "    <tr style=\"text-align: right;\">\n",
       "      <th></th>\n",
       "      <th>idade</th>\n",
       "      <th>estado_civil</th>\n",
       "      <th>escolaridade</th>\n",
       "      <th>inadimplencia</th>\n",
       "      <th>saldo</th>\n",
       "      <th>fez_emprestimo</th>\n",
       "      <th>tempo_ult_contato</th>\n",
       "      <th>numero_contatos</th>\n",
       "      <th>aderencia_investimento</th>\n",
       "    </tr>\n",
       "  </thead>\n",
       "  <tbody>\n",
       "    <tr>\n",
       "      <th>0</th>\n",
       "      <td>45</td>\n",
       "      <td>casado (a)</td>\n",
       "      <td>superior</td>\n",
       "      <td>nao</td>\n",
       "      <td>242</td>\n",
       "      <td>nao</td>\n",
       "      <td>587</td>\n",
       "      <td>1</td>\n",
       "      <td>sim</td>\n",
       "    </tr>\n",
       "    <tr>\n",
       "      <th>1</th>\n",
       "      <td>42</td>\n",
       "      <td>casado (a)</td>\n",
       "      <td>medio</td>\n",
       "      <td>nao</td>\n",
       "      <td>1289</td>\n",
       "      <td>nao</td>\n",
       "      <td>250</td>\n",
       "      <td>4</td>\n",
       "      <td>sim</td>\n",
       "    </tr>\n",
       "    <tr>\n",
       "      <th>2</th>\n",
       "      <td>23</td>\n",
       "      <td>solteiro (a)</td>\n",
       "      <td>superior</td>\n",
       "      <td>nao</td>\n",
       "      <td>363</td>\n",
       "      <td>nao</td>\n",
       "      <td>16</td>\n",
       "      <td>18</td>\n",
       "      <td>nao</td>\n",
       "    </tr>\n",
       "    <tr>\n",
       "      <th>3</th>\n",
       "      <td>58</td>\n",
       "      <td>divorciado (a)</td>\n",
       "      <td>superior</td>\n",
       "      <td>nao</td>\n",
       "      <td>1382</td>\n",
       "      <td>nao</td>\n",
       "      <td>700</td>\n",
       "      <td>1</td>\n",
       "      <td>sim</td>\n",
       "    </tr>\n",
       "    <tr>\n",
       "      <th>4</th>\n",
       "      <td>50</td>\n",
       "      <td>casado (a)</td>\n",
       "      <td>medio</td>\n",
       "      <td>nao</td>\n",
       "      <td>3357</td>\n",
       "      <td>nao</td>\n",
       "      <td>239</td>\n",
       "      <td>4</td>\n",
       "      <td>sim</td>\n",
       "    </tr>\n",
       "    <tr>\n",
       "      <th>...</th>\n",
       "      <td>...</td>\n",
       "      <td>...</td>\n",
       "      <td>...</td>\n",
       "      <td>...</td>\n",
       "      <td>...</td>\n",
       "      <td>...</td>\n",
       "      <td>...</td>\n",
       "      <td>...</td>\n",
       "      <td>...</td>\n",
       "    </tr>\n",
       "    <tr>\n",
       "      <th>1263</th>\n",
       "      <td>52</td>\n",
       "      <td>solteiro (a)</td>\n",
       "      <td>superior</td>\n",
       "      <td>nao</td>\n",
       "      <td>83</td>\n",
       "      <td>nao</td>\n",
       "      <td>1223</td>\n",
       "      <td>6</td>\n",
       "      <td>sim</td>\n",
       "    </tr>\n",
       "    <tr>\n",
       "      <th>1264</th>\n",
       "      <td>35</td>\n",
       "      <td>solteiro (a)</td>\n",
       "      <td>superior</td>\n",
       "      <td>nao</td>\n",
       "      <td>5958</td>\n",
       "      <td>nao</td>\n",
       "      <td>215</td>\n",
       "      <td>1</td>\n",
       "      <td>sim</td>\n",
       "    </tr>\n",
       "    <tr>\n",
       "      <th>1265</th>\n",
       "      <td>30</td>\n",
       "      <td>solteiro (a)</td>\n",
       "      <td>superior</td>\n",
       "      <td>nao</td>\n",
       "      <td>-477</td>\n",
       "      <td>sim</td>\n",
       "      <td>1532</td>\n",
       "      <td>2</td>\n",
       "      <td>sim</td>\n",
       "    </tr>\n",
       "    <tr>\n",
       "      <th>1266</th>\n",
       "      <td>42</td>\n",
       "      <td>casado (a)</td>\n",
       "      <td>superior</td>\n",
       "      <td>nao</td>\n",
       "      <td>2187</td>\n",
       "      <td>nao</td>\n",
       "      <td>525</td>\n",
       "      <td>3</td>\n",
       "      <td>sim</td>\n",
       "    </tr>\n",
       "    <tr>\n",
       "      <th>1267</th>\n",
       "      <td>29</td>\n",
       "      <td>solteiro (a)</td>\n",
       "      <td>superior</td>\n",
       "      <td>nao</td>\n",
       "      <td>19</td>\n",
       "      <td>nao</td>\n",
       "      <td>110</td>\n",
       "      <td>2</td>\n",
       "      <td>sim</td>\n",
       "    </tr>\n",
       "  </tbody>\n",
       "</table>\n",
       "<p>1268 rows × 9 columns</p>\n",
       "</div>"
      ],
      "text/plain": [
       "      idade    estado_civil escolaridade inadimplencia  saldo fez_emprestimo  \\\n",
       "0        45      casado (a)     superior           nao    242            nao   \n",
       "1        42      casado (a)        medio           nao   1289            nao   \n",
       "2        23    solteiro (a)     superior           nao    363            nao   \n",
       "3        58  divorciado (a)     superior           nao   1382            nao   \n",
       "4        50      casado (a)        medio           nao   3357            nao   \n",
       "...     ...             ...          ...           ...    ...            ...   \n",
       "1263     52    solteiro (a)     superior           nao     83            nao   \n",
       "1264     35    solteiro (a)     superior           nao   5958            nao   \n",
       "1265     30    solteiro (a)     superior           nao   -477            sim   \n",
       "1266     42      casado (a)     superior           nao   2187            nao   \n",
       "1267     29    solteiro (a)     superior           nao     19            nao   \n",
       "\n",
       "      tempo_ult_contato  numero_contatos aderencia_investimento  \n",
       "0                   587                1                    sim  \n",
       "1                   250                4                    sim  \n",
       "2                    16               18                    nao  \n",
       "3                   700                1                    sim  \n",
       "4                   239                4                    sim  \n",
       "...                 ...              ...                    ...  \n",
       "1263               1223                6                    sim  \n",
       "1264                215                1                    sim  \n",
       "1265               1532                2                    sim  \n",
       "1266                525                3                    sim  \n",
       "1267                110                2                    sim  \n",
       "\n",
       "[1268 rows x 9 columns]"
      ]
     },
     "execution_count": 4,
     "metadata": {},
     "output_type": "execute_result"
    }
   ],
   "source": [
    "dados"
   ]
  },
  {
   "cell_type": "markdown",
   "metadata": {
    "id": "y5VuhIoQQC51"
   },
   "source": [
    "Para criar modelos de classificação, precisamos utilizar dados de qualidade, sem inconsistências e sem dados faltantes. Vamos checar se existem dados nulos e o tipo dos dados de cada coluna na base de dados a partir do método [`info()`](https://pandas.pydata.org/docs/reference/api/pandas.DataFrame.info.html)."
   ]
  },
  {
   "cell_type": "code",
   "execution_count": 5,
   "metadata": {
    "id": "p1ylujcUmSGW"
   },
   "outputs": [
    {
     "name": "stdout",
     "output_type": "stream",
     "text": [
      "<class 'pandas.core.frame.DataFrame'>\n",
      "RangeIndex: 1268 entries, 0 to 1267\n",
      "Data columns (total 9 columns):\n",
      " #   Column                  Non-Null Count  Dtype \n",
      "---  ------                  --------------  ----- \n",
      " 0   idade                   1268 non-null   int64 \n",
      " 1   estado_civil            1268 non-null   object\n",
      " 2   escolaridade            1268 non-null   object\n",
      " 3   inadimplencia           1268 non-null   object\n",
      " 4   saldo                   1268 non-null   int64 \n",
      " 5   fez_emprestimo          1268 non-null   object\n",
      " 6   tempo_ult_contato       1268 non-null   int64 \n",
      " 7   numero_contatos         1268 non-null   int64 \n",
      " 8   aderencia_investimento  1268 non-null   object\n",
      "dtypes: int64(4), object(5)\n",
      "memory usage: 89.3+ KB\n"
     ]
    }
   ],
   "source": [
    "dados.info()"
   ]
  },
  {
   "cell_type": "markdown",
   "metadata": {},
   "source": [
    "### Análise exporatória de dados"
   ]
  },
  {
   "cell_type": "code",
   "execution_count": 6,
   "metadata": {},
   "outputs": [],
   "source": [
    "import plotly.express as px"
   ]
  },
  {
   "cell_type": "markdown",
   "metadata": {},
   "source": [
    "Primeiro vamos visualizar os gráficos das variáveis categóricas"
   ]
  },
  {
   "cell_type": "code",
   "execution_count": 8,
   "metadata": {},
   "outputs": [
    {
     "data": {
      "application/vnd.plotly.v1+json": {
       "config": {
        "plotlyServerURL": "https://plot.ly"
       },
       "data": [
        {
         "bingroup": "x",
         "hovertemplate": "aderencia_investimento=%{x}<br>count=%{y}<extra></extra>",
         "legendgroup": "",
         "marker": {
          "color": "#636efa",
          "pattern": {
           "shape": ""
          }
         },
         "name": "",
         "orientation": "v",
         "showlegend": false,
         "texttemplate": "%{value}",
         "type": "histogram",
         "x": [
          "sim",
          "sim",
          "nao",
          "sim",
          "sim",
          "sim",
          "nao",
          "nao",
          "nao",
          "nao",
          "sim",
          "nao",
          "sim",
          "nao",
          "nao",
          "sim",
          "nao",
          "nao",
          "nao",
          "sim",
          "nao",
          "nao",
          "nao",
          "sim",
          "nao",
          "sim",
          "nao",
          "sim",
          "sim",
          "sim",
          "sim",
          "nao",
          "nao",
          "nao",
          "nao",
          "nao",
          "nao",
          "nao",
          "nao",
          "sim",
          "nao",
          "nao",
          "nao",
          "nao",
          "nao",
          "nao",
          "sim",
          "nao",
          "sim",
          "nao",
          "sim",
          "nao",
          "nao",
          "sim",
          "sim",
          "sim",
          "nao",
          "sim",
          "nao",
          "nao",
          "nao",
          "nao",
          "nao",
          "nao",
          "nao",
          "nao",
          "nao",
          "nao",
          "nao",
          "sim",
          "nao",
          "nao",
          "nao",
          "nao",
          "sim",
          "nao",
          "sim",
          "sim",
          "nao",
          "nao",
          "sim",
          "sim",
          "nao",
          "nao",
          "nao",
          "nao",
          "sim",
          "sim",
          "sim",
          "sim",
          "sim",
          "nao",
          "sim",
          "sim",
          "sim",
          "nao",
          "nao",
          "nao",
          "nao",
          "nao",
          "nao",
          "sim",
          "sim",
          "nao",
          "sim",
          "sim",
          "nao",
          "nao",
          "sim",
          "nao",
          "nao",
          "nao",
          "nao",
          "sim",
          "nao",
          "sim",
          "nao",
          "nao",
          "nao",
          "sim",
          "sim",
          "nao",
          "nao",
          "sim",
          "sim",
          "nao",
          "nao",
          "sim",
          "nao",
          "sim",
          "nao",
          "sim",
          "sim",
          "nao",
          "nao",
          "nao",
          "sim",
          "sim",
          "nao",
          "sim",
          "sim",
          "sim",
          "sim",
          "sim",
          "nao",
          "sim",
          "sim",
          "sim",
          "sim",
          "sim",
          "nao",
          "nao",
          "nao",
          "nao",
          "nao",
          "sim",
          "nao",
          "nao",
          "nao",
          "nao",
          "nao",
          "nao",
          "nao",
          "sim",
          "nao",
          "nao",
          "nao",
          "sim",
          "sim",
          "sim",
          "nao",
          "nao",
          "nao",
          "nao",
          "nao",
          "sim",
          "sim",
          "nao",
          "nao",
          "sim",
          "nao",
          "sim",
          "nao",
          "sim",
          "sim",
          "nao",
          "nao",
          "sim",
          "sim",
          "nao",
          "nao",
          "sim",
          "sim",
          "nao",
          "nao",
          "nao",
          "nao",
          "sim",
          "nao",
          "nao",
          "sim",
          "sim",
          "nao",
          "nao",
          "nao",
          "sim",
          "sim",
          "nao",
          "sim",
          "nao",
          "sim",
          "nao",
          "sim",
          "nao",
          "nao",
          "nao",
          "sim",
          "nao",
          "nao",
          "sim",
          "nao",
          "sim",
          "sim",
          "nao",
          "nao",
          "nao",
          "sim",
          "sim",
          "sim",
          "nao",
          "nao",
          "nao",
          "nao",
          "sim",
          "nao",
          "sim",
          "sim",
          "nao",
          "nao",
          "sim",
          "sim",
          "nao",
          "nao",
          "nao",
          "nao",
          "nao",
          "nao",
          "nao",
          "nao",
          "nao",
          "nao",
          "nao",
          "nao",
          "nao",
          "nao",
          "nao",
          "nao",
          "sim",
          "nao",
          "nao",
          "sim",
          "sim",
          "nao",
          "sim",
          "nao",
          "nao",
          "sim",
          "sim",
          "sim",
          "sim",
          "sim",
          "nao",
          "sim",
          "nao",
          "nao",
          "sim",
          "sim",
          "sim",
          "sim",
          "nao",
          "nao",
          "sim",
          "nao",
          "nao",
          "nao",
          "nao",
          "nao",
          "sim",
          "nao",
          "nao",
          "nao",
          "nao",
          "sim",
          "nao",
          "nao",
          "nao",
          "nao",
          "nao",
          "nao",
          "sim",
          "sim",
          "nao",
          "nao",
          "nao",
          "nao",
          "sim",
          "nao",
          "sim",
          "nao",
          "nao",
          "nao",
          "nao",
          "sim",
          "nao",
          "nao",
          "nao",
          "sim",
          "nao",
          "sim",
          "sim",
          "sim",
          "nao",
          "nao",
          "sim",
          "nao",
          "nao",
          "nao",
          "nao",
          "nao",
          "nao",
          "nao",
          "nao",
          "sim",
          "sim",
          "nao",
          "nao",
          "nao",
          "nao",
          "sim",
          "nao",
          "nao",
          "nao",
          "nao",
          "nao",
          "sim",
          "nao",
          "nao",
          "sim",
          "sim",
          "sim",
          "nao",
          "nao",
          "nao",
          "sim",
          "nao",
          "nao",
          "sim",
          "nao",
          "nao",
          "sim",
          "sim",
          "nao",
          "nao",
          "nao",
          "nao",
          "sim",
          "nao",
          "sim",
          "sim",
          "sim",
          "nao",
          "nao",
          "sim",
          "nao",
          "sim",
          "nao",
          "nao",
          "nao",
          "nao",
          "nao",
          "nao",
          "sim",
          "sim",
          "sim",
          "sim",
          "sim",
          "nao",
          "sim",
          "nao",
          "nao",
          "nao",
          "nao",
          "nao",
          "sim",
          "nao",
          "nao",
          "sim",
          "nao",
          "nao",
          "nao",
          "sim",
          "sim",
          "sim",
          "sim",
          "sim",
          "nao",
          "nao",
          "nao",
          "sim",
          "nao",
          "sim",
          "sim",
          "nao",
          "nao",
          "nao",
          "nao",
          "sim",
          "sim",
          "nao",
          "nao",
          "nao",
          "nao",
          "sim",
          "nao",
          "nao",
          "sim",
          "sim",
          "nao",
          "nao",
          "nao",
          "sim",
          "sim",
          "sim",
          "sim",
          "sim",
          "nao",
          "sim",
          "nao",
          "nao",
          "sim",
          "nao",
          "nao",
          "nao",
          "nao",
          "nao",
          "nao",
          "nao",
          "nao",
          "nao",
          "sim",
          "nao",
          "sim",
          "nao",
          "nao",
          "sim",
          "nao",
          "nao",
          "nao",
          "nao",
          "nao",
          "sim",
          "nao",
          "nao",
          "nao",
          "sim",
          "sim",
          "sim",
          "nao",
          "sim",
          "nao",
          "nao",
          "nao",
          "sim",
          "nao",
          "sim",
          "sim",
          "nao",
          "sim",
          "sim",
          "sim",
          "nao",
          "sim",
          "nao",
          "nao",
          "sim",
          "nao",
          "sim",
          "sim",
          "nao",
          "nao",
          "nao",
          "sim",
          "nao",
          "nao",
          "sim",
          "sim",
          "sim",
          "nao",
          "nao",
          "nao",
          "sim",
          "nao",
          "nao",
          "nao",
          "nao",
          "nao",
          "nao",
          "nao",
          "sim",
          "sim",
          "nao",
          "nao",
          "nao",
          "sim",
          "nao",
          "sim",
          "nao",
          "sim",
          "nao",
          "nao",
          "nao",
          "nao",
          "sim",
          "sim",
          "sim",
          "nao",
          "nao",
          "nao",
          "sim",
          "nao",
          "nao",
          "nao",
          "nao",
          "nao",
          "sim",
          "sim",
          "sim",
          "nao",
          "sim",
          "nao",
          "sim",
          "nao",
          "nao",
          "sim",
          "sim",
          "nao",
          "sim",
          "sim",
          "nao",
          "sim",
          "nao",
          "nao",
          "nao",
          "nao",
          "sim",
          "nao",
          "nao",
          "sim",
          "sim",
          "sim",
          "nao",
          "nao",
          "nao",
          "nao",
          "nao",
          "nao",
          "sim",
          "nao",
          "nao",
          "sim",
          "nao",
          "sim",
          "nao",
          "nao",
          "nao",
          "nao",
          "nao",
          "nao",
          "nao",
          "nao",
          "nao",
          "nao",
          "nao",
          "sim",
          "nao",
          "nao",
          "sim",
          "nao",
          "sim",
          "nao",
          "nao",
          "sim",
          "nao",
          "sim",
          "sim",
          "nao",
          "nao",
          "sim",
          "nao",
          "nao",
          "sim",
          "nao",
          "nao",
          "sim",
          "sim",
          "nao",
          "sim",
          "nao",
          "sim",
          "sim",
          "nao",
          "nao",
          "sim",
          "sim",
          "nao",
          "sim",
          "sim",
          "sim",
          "sim",
          "sim",
          "nao",
          "sim",
          "nao",
          "sim",
          "sim",
          "nao",
          "nao",
          "nao",
          "nao",
          "sim",
          "nao",
          "nao",
          "nao",
          "nao",
          "sim",
          "nao",
          "nao",
          "sim",
          "nao",
          "nao",
          "nao",
          "sim",
          "nao",
          "sim",
          "nao",
          "nao",
          "nao",
          "nao",
          "sim",
          "nao",
          "sim",
          "sim",
          "sim",
          "sim",
          "nao",
          "nao",
          "nao",
          "nao",
          "nao",
          "nao",
          "sim",
          "nao",
          "sim",
          "nao",
          "nao",
          "nao",
          "nao",
          "nao",
          "nao",
          "nao",
          "sim",
          "sim",
          "nao",
          "nao",
          "nao",
          "nao",
          "sim",
          "nao",
          "nao",
          "nao",
          "nao",
          "nao",
          "nao",
          "nao",
          "sim",
          "nao",
          "sim",
          "nao",
          "nao",
          "nao",
          "sim",
          "sim",
          "nao",
          "nao",
          "sim",
          "nao",
          "nao",
          "nao",
          "nao",
          "nao",
          "nao",
          "sim",
          "sim",
          "sim",
          "nao",
          "nao",
          "nao",
          "nao",
          "sim",
          "nao",
          "sim",
          "sim",
          "sim",
          "nao",
          "nao",
          "nao",
          "nao",
          "sim",
          "sim",
          "sim",
          "nao",
          "sim",
          "sim",
          "nao",
          "nao",
          "nao",
          "nao",
          "sim",
          "nao",
          "nao",
          "nao",
          "sim",
          "nao",
          "nao",
          "sim",
          "sim",
          "sim",
          "nao",
          "nao",
          "nao",
          "nao",
          "sim",
          "nao",
          "sim",
          "nao",
          "nao",
          "sim",
          "nao",
          "sim",
          "sim",
          "sim",
          "sim",
          "nao",
          "sim",
          "nao",
          "nao",
          "sim",
          "nao",
          "nao",
          "nao",
          "nao",
          "sim",
          "nao",
          "nao",
          "nao",
          "nao",
          "nao",
          "sim",
          "sim",
          "nao",
          "sim",
          "nao",
          "nao",
          "nao",
          "nao",
          "nao",
          "sim",
          "nao",
          "sim",
          "sim",
          "nao",
          "nao",
          "sim",
          "sim",
          "sim",
          "nao",
          "nao",
          "sim",
          "nao",
          "nao",
          "nao",
          "nao",
          "nao",
          "nao",
          "sim",
          "nao",
          "nao",
          "nao",
          "sim",
          "nao",
          "nao",
          "sim",
          "sim",
          "nao",
          "sim",
          "nao",
          "sim",
          "nao",
          "sim",
          "nao",
          "sim",
          "nao",
          "sim",
          "nao",
          "sim",
          "sim",
          "sim",
          "nao",
          "nao",
          "sim",
          "nao",
          "nao",
          "nao",
          "nao",
          "nao",
          "nao",
          "nao",
          "sim",
          "sim",
          "nao",
          "sim",
          "nao",
          "nao",
          "sim",
          "nao",
          "nao",
          "sim",
          "sim",
          "nao",
          "sim",
          "nao",
          "sim",
          "nao",
          "nao",
          "nao",
          "nao",
          "sim",
          "nao",
          "nao",
          "sim",
          "sim",
          "nao",
          "nao",
          "nao",
          "nao",
          "nao",
          "nao",
          "nao",
          "sim",
          "nao",
          "nao",
          "nao",
          "sim",
          "sim",
          "nao",
          "nao",
          "nao",
          "sim",
          "sim",
          "sim",
          "nao",
          "sim",
          "sim",
          "nao",
          "nao",
          "nao",
          "sim",
          "nao",
          "nao",
          "sim",
          "sim",
          "nao",
          "nao",
          "sim",
          "nao",
          "nao",
          "nao",
          "nao",
          "nao",
          "nao",
          "sim",
          "sim",
          "sim",
          "nao",
          "nao",
          "sim",
          "sim",
          "sim",
          "nao",
          "nao",
          "nao",
          "nao",
          "nao",
          "nao",
          "nao",
          "sim",
          "nao",
          "sim",
          "sim",
          "sim",
          "sim",
          "nao",
          "nao",
          "nao",
          "sim",
          "nao",
          "nao",
          "nao",
          "sim",
          "nao",
          "nao",
          "nao",
          "nao",
          "sim",
          "nao",
          "sim",
          "sim",
          "nao",
          "sim",
          "nao",
          "nao",
          "sim",
          "nao",
          "nao",
          "sim",
          "sim",
          "nao",
          "nao",
          "nao",
          "nao",
          "sim",
          "sim",
          "nao",
          "sim",
          "sim",
          "nao",
          "sim",
          "sim",
          "sim",
          "nao",
          "nao",
          "sim",
          "sim",
          "nao",
          "nao",
          "nao",
          "sim",
          "sim",
          "sim",
          "sim",
          "sim",
          "sim",
          "nao",
          "nao",
          "nao",
          "sim",
          "nao",
          "sim",
          "sim",
          "nao",
          "nao",
          "sim",
          "nao",
          "sim",
          "sim",
          "nao",
          "sim",
          "nao",
          "sim",
          "nao",
          "nao",
          "nao",
          "nao",
          "sim",
          "sim",
          "sim",
          "sim",
          "sim",
          "nao",
          "nao",
          "sim",
          "sim",
          "nao",
          "nao",
          "nao",
          "nao",
          "nao",
          "sim",
          "nao",
          "nao",
          "sim",
          "sim",
          "nao",
          "nao",
          "nao",
          "nao",
          "nao",
          "sim",
          "nao",
          "nao",
          "nao",
          "nao",
          "nao",
          "nao",
          "nao",
          "nao",
          "sim",
          "sim",
          "sim",
          "nao",
          "sim",
          "sim",
          "nao",
          "sim",
          "sim",
          "nao",
          "nao",
          "nao",
          "sim",
          "nao",
          "nao",
          "nao",
          "nao",
          "sim",
          "sim",
          "nao",
          "nao",
          "sim",
          "sim",
          "sim",
          "sim",
          "nao",
          "sim",
          "sim",
          "sim",
          "sim",
          "sim",
          "nao",
          "sim",
          "nao",
          "sim",
          "nao",
          "nao",
          "sim",
          "nao",
          "nao",
          "nao",
          "nao",
          "sim",
          "nao",
          "sim",
          "sim",
          "nao",
          "nao",
          "sim",
          "sim",
          "sim",
          "sim",
          "nao",
          "nao",
          "sim",
          "nao",
          "nao",
          "nao",
          "nao",
          "sim",
          "sim",
          "nao",
          "sim",
          "nao",
          "sim",
          "nao",
          "nao",
          "sim",
          "sim",
          "nao",
          "nao",
          "nao",
          "nao",
          "nao",
          "nao",
          "sim",
          "nao",
          "sim",
          "nao",
          "nao",
          "sim",
          "nao",
          "nao",
          "nao",
          "sim",
          "nao",
          "sim",
          "sim",
          "nao",
          "sim",
          "nao",
          "nao",
          "nao",
          "nao",
          "nao",
          "sim",
          "sim",
          "sim",
          "nao",
          "nao",
          "sim",
          "nao",
          "nao",
          "nao",
          "sim",
          "nao",
          "nao",
          "sim",
          "sim",
          "sim",
          "nao",
          "sim",
          "nao",
          "nao",
          "nao",
          "sim",
          "nao",
          "sim",
          "nao",
          "nao",
          "sim",
          "nao",
          "nao",
          "sim",
          "nao",
          "nao",
          "sim",
          "sim",
          "sim",
          "nao",
          "nao",
          "sim",
          "sim",
          "nao",
          "sim",
          "sim",
          "sim",
          "nao",
          "nao",
          "sim",
          "nao",
          "nao",
          "nao",
          "sim",
          "nao",
          "nao",
          "sim",
          "sim",
          "sim",
          "sim",
          "nao",
          "nao",
          "sim",
          "nao",
          "sim",
          "nao",
          "nao",
          "nao",
          "nao",
          "nao",
          "nao",
          "sim",
          "sim",
          "nao",
          "sim",
          "nao",
          "nao",
          "nao",
          "sim",
          "sim",
          "nao",
          "nao",
          "nao",
          "nao",
          "nao",
          "sim",
          "sim",
          "sim",
          "nao",
          "nao",
          "nao",
          "sim",
          "nao",
          "sim",
          "nao",
          "sim",
          "nao",
          "nao",
          "nao",
          "nao",
          "nao",
          "sim",
          "nao",
          "sim",
          "sim",
          "sim",
          "nao",
          "nao",
          "sim",
          "nao",
          "sim",
          "nao",
          "sim",
          "nao",
          "sim",
          "nao",
          "nao",
          "nao",
          "nao",
          "nao",
          "nao",
          "sim",
          "nao",
          "nao",
          "sim",
          "sim",
          "nao",
          "sim",
          "nao",
          "sim",
          "nao",
          "sim",
          "nao",
          "nao",
          "sim",
          "nao",
          "sim",
          "nao",
          "nao",
          "nao",
          "nao",
          "sim",
          "nao",
          "sim",
          "sim",
          "nao",
          "sim",
          "nao",
          "sim",
          "nao",
          "sim",
          "sim",
          "nao",
          "nao",
          "sim",
          "nao",
          "nao",
          "sim",
          "sim",
          "sim",
          "sim",
          "sim"
         ],
         "xaxis": "x",
         "yaxis": "y"
        }
       ],
       "layout": {
        "barmode": "relative",
        "legend": {
         "tracegroupgap": 0
        },
        "margin": {
         "t": 60
        },
        "template": {
         "data": {
          "bar": [
           {
            "error_x": {
             "color": "#2a3f5f"
            },
            "error_y": {
             "color": "#2a3f5f"
            },
            "marker": {
             "line": {
              "color": "#E5ECF6",
              "width": 0.5
             },
             "pattern": {
              "fillmode": "overlay",
              "size": 10,
              "solidity": 0.2
             }
            },
            "type": "bar"
           }
          ],
          "barpolar": [
           {
            "marker": {
             "line": {
              "color": "#E5ECF6",
              "width": 0.5
             },
             "pattern": {
              "fillmode": "overlay",
              "size": 10,
              "solidity": 0.2
             }
            },
            "type": "barpolar"
           }
          ],
          "carpet": [
           {
            "aaxis": {
             "endlinecolor": "#2a3f5f",
             "gridcolor": "white",
             "linecolor": "white",
             "minorgridcolor": "white",
             "startlinecolor": "#2a3f5f"
            },
            "baxis": {
             "endlinecolor": "#2a3f5f",
             "gridcolor": "white",
             "linecolor": "white",
             "minorgridcolor": "white",
             "startlinecolor": "#2a3f5f"
            },
            "type": "carpet"
           }
          ],
          "choropleth": [
           {
            "colorbar": {
             "outlinewidth": 0,
             "ticks": ""
            },
            "type": "choropleth"
           }
          ],
          "contour": [
           {
            "colorbar": {
             "outlinewidth": 0,
             "ticks": ""
            },
            "colorscale": [
             [
              0,
              "#0d0887"
             ],
             [
              0.1111111111111111,
              "#46039f"
             ],
             [
              0.2222222222222222,
              "#7201a8"
             ],
             [
              0.3333333333333333,
              "#9c179e"
             ],
             [
              0.4444444444444444,
              "#bd3786"
             ],
             [
              0.5555555555555556,
              "#d8576b"
             ],
             [
              0.6666666666666666,
              "#ed7953"
             ],
             [
              0.7777777777777778,
              "#fb9f3a"
             ],
             [
              0.8888888888888888,
              "#fdca26"
             ],
             [
              1,
              "#f0f921"
             ]
            ],
            "type": "contour"
           }
          ],
          "contourcarpet": [
           {
            "colorbar": {
             "outlinewidth": 0,
             "ticks": ""
            },
            "type": "contourcarpet"
           }
          ],
          "heatmap": [
           {
            "colorbar": {
             "outlinewidth": 0,
             "ticks": ""
            },
            "colorscale": [
             [
              0,
              "#0d0887"
             ],
             [
              0.1111111111111111,
              "#46039f"
             ],
             [
              0.2222222222222222,
              "#7201a8"
             ],
             [
              0.3333333333333333,
              "#9c179e"
             ],
             [
              0.4444444444444444,
              "#bd3786"
             ],
             [
              0.5555555555555556,
              "#d8576b"
             ],
             [
              0.6666666666666666,
              "#ed7953"
             ],
             [
              0.7777777777777778,
              "#fb9f3a"
             ],
             [
              0.8888888888888888,
              "#fdca26"
             ],
             [
              1,
              "#f0f921"
             ]
            ],
            "type": "heatmap"
           }
          ],
          "histogram": [
           {
            "marker": {
             "pattern": {
              "fillmode": "overlay",
              "size": 10,
              "solidity": 0.2
             }
            },
            "type": "histogram"
           }
          ],
          "histogram2d": [
           {
            "colorbar": {
             "outlinewidth": 0,
             "ticks": ""
            },
            "colorscale": [
             [
              0,
              "#0d0887"
             ],
             [
              0.1111111111111111,
              "#46039f"
             ],
             [
              0.2222222222222222,
              "#7201a8"
             ],
             [
              0.3333333333333333,
              "#9c179e"
             ],
             [
              0.4444444444444444,
              "#bd3786"
             ],
             [
              0.5555555555555556,
              "#d8576b"
             ],
             [
              0.6666666666666666,
              "#ed7953"
             ],
             [
              0.7777777777777778,
              "#fb9f3a"
             ],
             [
              0.8888888888888888,
              "#fdca26"
             ],
             [
              1,
              "#f0f921"
             ]
            ],
            "type": "histogram2d"
           }
          ],
          "histogram2dcontour": [
           {
            "colorbar": {
             "outlinewidth": 0,
             "ticks": ""
            },
            "colorscale": [
             [
              0,
              "#0d0887"
             ],
             [
              0.1111111111111111,
              "#46039f"
             ],
             [
              0.2222222222222222,
              "#7201a8"
             ],
             [
              0.3333333333333333,
              "#9c179e"
             ],
             [
              0.4444444444444444,
              "#bd3786"
             ],
             [
              0.5555555555555556,
              "#d8576b"
             ],
             [
              0.6666666666666666,
              "#ed7953"
             ],
             [
              0.7777777777777778,
              "#fb9f3a"
             ],
             [
              0.8888888888888888,
              "#fdca26"
             ],
             [
              1,
              "#f0f921"
             ]
            ],
            "type": "histogram2dcontour"
           }
          ],
          "mesh3d": [
           {
            "colorbar": {
             "outlinewidth": 0,
             "ticks": ""
            },
            "type": "mesh3d"
           }
          ],
          "parcoords": [
           {
            "line": {
             "colorbar": {
              "outlinewidth": 0,
              "ticks": ""
             }
            },
            "type": "parcoords"
           }
          ],
          "pie": [
           {
            "automargin": true,
            "type": "pie"
           }
          ],
          "scatter": [
           {
            "fillpattern": {
             "fillmode": "overlay",
             "size": 10,
             "solidity": 0.2
            },
            "type": "scatter"
           }
          ],
          "scatter3d": [
           {
            "line": {
             "colorbar": {
              "outlinewidth": 0,
              "ticks": ""
             }
            },
            "marker": {
             "colorbar": {
              "outlinewidth": 0,
              "ticks": ""
             }
            },
            "type": "scatter3d"
           }
          ],
          "scattercarpet": [
           {
            "marker": {
             "colorbar": {
              "outlinewidth": 0,
              "ticks": ""
             }
            },
            "type": "scattercarpet"
           }
          ],
          "scattergeo": [
           {
            "marker": {
             "colorbar": {
              "outlinewidth": 0,
              "ticks": ""
             }
            },
            "type": "scattergeo"
           }
          ],
          "scattergl": [
           {
            "marker": {
             "colorbar": {
              "outlinewidth": 0,
              "ticks": ""
             }
            },
            "type": "scattergl"
           }
          ],
          "scattermap": [
           {
            "marker": {
             "colorbar": {
              "outlinewidth": 0,
              "ticks": ""
             }
            },
            "type": "scattermap"
           }
          ],
          "scattermapbox": [
           {
            "marker": {
             "colorbar": {
              "outlinewidth": 0,
              "ticks": ""
             }
            },
            "type": "scattermapbox"
           }
          ],
          "scatterpolar": [
           {
            "marker": {
             "colorbar": {
              "outlinewidth": 0,
              "ticks": ""
             }
            },
            "type": "scatterpolar"
           }
          ],
          "scatterpolargl": [
           {
            "marker": {
             "colorbar": {
              "outlinewidth": 0,
              "ticks": ""
             }
            },
            "type": "scatterpolargl"
           }
          ],
          "scatterternary": [
           {
            "marker": {
             "colorbar": {
              "outlinewidth": 0,
              "ticks": ""
             }
            },
            "type": "scatterternary"
           }
          ],
          "surface": [
           {
            "colorbar": {
             "outlinewidth": 0,
             "ticks": ""
            },
            "colorscale": [
             [
              0,
              "#0d0887"
             ],
             [
              0.1111111111111111,
              "#46039f"
             ],
             [
              0.2222222222222222,
              "#7201a8"
             ],
             [
              0.3333333333333333,
              "#9c179e"
             ],
             [
              0.4444444444444444,
              "#bd3786"
             ],
             [
              0.5555555555555556,
              "#d8576b"
             ],
             [
              0.6666666666666666,
              "#ed7953"
             ],
             [
              0.7777777777777778,
              "#fb9f3a"
             ],
             [
              0.8888888888888888,
              "#fdca26"
             ],
             [
              1,
              "#f0f921"
             ]
            ],
            "type": "surface"
           }
          ],
          "table": [
           {
            "cells": {
             "fill": {
              "color": "#EBF0F8"
             },
             "line": {
              "color": "white"
             }
            },
            "header": {
             "fill": {
              "color": "#C8D4E3"
             },
             "line": {
              "color": "white"
             }
            },
            "type": "table"
           }
          ]
         },
         "layout": {
          "annotationdefaults": {
           "arrowcolor": "#2a3f5f",
           "arrowhead": 0,
           "arrowwidth": 1
          },
          "autotypenumbers": "strict",
          "coloraxis": {
           "colorbar": {
            "outlinewidth": 0,
            "ticks": ""
           }
          },
          "colorscale": {
           "diverging": [
            [
             0,
             "#8e0152"
            ],
            [
             0.1,
             "#c51b7d"
            ],
            [
             0.2,
             "#de77ae"
            ],
            [
             0.3,
             "#f1b6da"
            ],
            [
             0.4,
             "#fde0ef"
            ],
            [
             0.5,
             "#f7f7f7"
            ],
            [
             0.6,
             "#e6f5d0"
            ],
            [
             0.7,
             "#b8e186"
            ],
            [
             0.8,
             "#7fbc41"
            ],
            [
             0.9,
             "#4d9221"
            ],
            [
             1,
             "#276419"
            ]
           ],
           "sequential": [
            [
             0,
             "#0d0887"
            ],
            [
             0.1111111111111111,
             "#46039f"
            ],
            [
             0.2222222222222222,
             "#7201a8"
            ],
            [
             0.3333333333333333,
             "#9c179e"
            ],
            [
             0.4444444444444444,
             "#bd3786"
            ],
            [
             0.5555555555555556,
             "#d8576b"
            ],
            [
             0.6666666666666666,
             "#ed7953"
            ],
            [
             0.7777777777777778,
             "#fb9f3a"
            ],
            [
             0.8888888888888888,
             "#fdca26"
            ],
            [
             1,
             "#f0f921"
            ]
           ],
           "sequentialminus": [
            [
             0,
             "#0d0887"
            ],
            [
             0.1111111111111111,
             "#46039f"
            ],
            [
             0.2222222222222222,
             "#7201a8"
            ],
            [
             0.3333333333333333,
             "#9c179e"
            ],
            [
             0.4444444444444444,
             "#bd3786"
            ],
            [
             0.5555555555555556,
             "#d8576b"
            ],
            [
             0.6666666666666666,
             "#ed7953"
            ],
            [
             0.7777777777777778,
             "#fb9f3a"
            ],
            [
             0.8888888888888888,
             "#fdca26"
            ],
            [
             1,
             "#f0f921"
            ]
           ]
          },
          "colorway": [
           "#636efa",
           "#EF553B",
           "#00cc96",
           "#ab63fa",
           "#FFA15A",
           "#19d3f3",
           "#FF6692",
           "#B6E880",
           "#FF97FF",
           "#FECB52"
          ],
          "font": {
           "color": "#2a3f5f"
          },
          "geo": {
           "bgcolor": "white",
           "lakecolor": "white",
           "landcolor": "#E5ECF6",
           "showlakes": true,
           "showland": true,
           "subunitcolor": "white"
          },
          "hoverlabel": {
           "align": "left"
          },
          "hovermode": "closest",
          "mapbox": {
           "style": "light"
          },
          "paper_bgcolor": "white",
          "plot_bgcolor": "#E5ECF6",
          "polar": {
           "angularaxis": {
            "gridcolor": "white",
            "linecolor": "white",
            "ticks": ""
           },
           "bgcolor": "#E5ECF6",
           "radialaxis": {
            "gridcolor": "white",
            "linecolor": "white",
            "ticks": ""
           }
          },
          "scene": {
           "xaxis": {
            "backgroundcolor": "#E5ECF6",
            "gridcolor": "white",
            "gridwidth": 2,
            "linecolor": "white",
            "showbackground": true,
            "ticks": "",
            "zerolinecolor": "white"
           },
           "yaxis": {
            "backgroundcolor": "#E5ECF6",
            "gridcolor": "white",
            "gridwidth": 2,
            "linecolor": "white",
            "showbackground": true,
            "ticks": "",
            "zerolinecolor": "white"
           },
           "zaxis": {
            "backgroundcolor": "#E5ECF6",
            "gridcolor": "white",
            "gridwidth": 2,
            "linecolor": "white",
            "showbackground": true,
            "ticks": "",
            "zerolinecolor": "white"
           }
          },
          "shapedefaults": {
           "line": {
            "color": "#2a3f5f"
           }
          },
          "ternary": {
           "aaxis": {
            "gridcolor": "white",
            "linecolor": "white",
            "ticks": ""
           },
           "baxis": {
            "gridcolor": "white",
            "linecolor": "white",
            "ticks": ""
           },
           "bgcolor": "#E5ECF6",
           "caxis": {
            "gridcolor": "white",
            "linecolor": "white",
            "ticks": ""
           }
          },
          "title": {
           "x": 0.05
          },
          "xaxis": {
           "automargin": true,
           "gridcolor": "white",
           "linecolor": "white",
           "ticks": "",
           "title": {
            "standoff": 15
           },
           "zerolinecolor": "white",
           "zerolinewidth": 2
          },
          "yaxis": {
           "automargin": true,
           "gridcolor": "white",
           "linecolor": "white",
           "ticks": "",
           "title": {
            "standoff": 15
           },
           "zerolinecolor": "white",
           "zerolinewidth": 2
          }
         }
        },
        "xaxis": {
         "anchor": "y",
         "domain": [
          0,
          1
         ],
         "title": {
          "text": "aderencia_investimento"
         }
        },
        "yaxis": {
         "anchor": "x",
         "domain": [
          0,
          1
         ],
         "title": {
          "text": "count"
         }
        }
       }
      }
     },
     "metadata": {},
     "output_type": "display_data"
    }
   ],
   "source": [
    "px.histogram(dados, x='aderencia_investimento', text_auto = True)"
   ]
  },
  {
   "cell_type": "code",
   "execution_count": 9,
   "metadata": {},
   "outputs": [
    {
     "data": {
      "application/vnd.plotly.v1+json": {
       "config": {
        "plotlyServerURL": "https://plot.ly"
       },
       "data": [
        {
         "alignmentgroup": "True",
         "bingroup": "x",
         "hovertemplate": "aderencia_investimento=sim<br>estado_civil=%{x}<br>count=%{y}<extra></extra>",
         "legendgroup": "sim",
         "marker": {
          "color": "#636efa",
          "pattern": {
           "shape": ""
          }
         },
         "name": "sim",
         "offsetgroup": "sim",
         "orientation": "v",
         "showlegend": true,
         "texttemplate": "%{value}",
         "type": "histogram",
         "x": [
          "casado (a)",
          "casado (a)",
          "divorciado (a)",
          "casado (a)",
          "solteiro (a)",
          "solteiro (a)",
          "casado (a)",
          "divorciado (a)",
          "casado (a)",
          "divorciado (a)",
          "casado (a)",
          "solteiro (a)",
          "solteiro (a)",
          "casado (a)",
          "solteiro (a)",
          "casado (a)",
          "casado (a)",
          "casado (a)",
          "casado (a)",
          "casado (a)",
          "casado (a)",
          "casado (a)",
          "casado (a)",
          "solteiro (a)",
          "solteiro (a)",
          "divorciado (a)",
          "divorciado (a)",
          "solteiro (a)",
          "divorciado (a)",
          "solteiro (a)",
          "solteiro (a)",
          "solteiro (a)",
          "solteiro (a)",
          "solteiro (a)",
          "casado (a)",
          "casado (a)",
          "casado (a)",
          "casado (a)",
          "casado (a)",
          "solteiro (a)",
          "solteiro (a)",
          "casado (a)",
          "solteiro (a)",
          "casado (a)",
          "casado (a)",
          "casado (a)",
          "divorciado (a)",
          "casado (a)",
          "solteiro (a)",
          "solteiro (a)",
          "casado (a)",
          "casado (a)",
          "casado (a)",
          "casado (a)",
          "solteiro (a)",
          "casado (a)",
          "divorciado (a)",
          "casado (a)",
          "divorciado (a)",
          "casado (a)",
          "solteiro (a)",
          "casado (a)",
          "casado (a)",
          "divorciado (a)",
          "divorciado (a)",
          "solteiro (a)",
          "casado (a)",
          "casado (a)",
          "casado (a)",
          "solteiro (a)",
          "divorciado (a)",
          "solteiro (a)",
          "casado (a)",
          "casado (a)",
          "casado (a)",
          "divorciado (a)",
          "divorciado (a)",
          "casado (a)",
          "solteiro (a)",
          "casado (a)",
          "solteiro (a)",
          "casado (a)",
          "casado (a)",
          "casado (a)",
          "casado (a)",
          "casado (a)",
          "divorciado (a)",
          "divorciado (a)",
          "casado (a)",
          "divorciado (a)",
          "casado (a)",
          "casado (a)",
          "casado (a)",
          "solteiro (a)",
          "casado (a)",
          "casado (a)",
          "casado (a)",
          "solteiro (a)",
          "solteiro (a)",
          "solteiro (a)",
          "casado (a)",
          "casado (a)",
          "divorciado (a)",
          "casado (a)",
          "solteiro (a)",
          "casado (a)",
          "casado (a)",
          "solteiro (a)",
          "divorciado (a)",
          "solteiro (a)",
          "casado (a)",
          "solteiro (a)",
          "casado (a)",
          "solteiro (a)",
          "casado (a)",
          "solteiro (a)",
          "solteiro (a)",
          "casado (a)",
          "casado (a)",
          "casado (a)",
          "casado (a)",
          "solteiro (a)",
          "divorciado (a)",
          "solteiro (a)",
          "solteiro (a)",
          "solteiro (a)",
          "casado (a)",
          "solteiro (a)",
          "solteiro (a)",
          "solteiro (a)",
          "solteiro (a)",
          "casado (a)",
          "solteiro (a)",
          "divorciado (a)",
          "casado (a)",
          "casado (a)",
          "casado (a)",
          "divorciado (a)",
          "casado (a)",
          "solteiro (a)",
          "casado (a)",
          "casado (a)",
          "solteiro (a)",
          "casado (a)",
          "solteiro (a)",
          "casado (a)",
          "casado (a)",
          "solteiro (a)",
          "casado (a)",
          "solteiro (a)",
          "solteiro (a)",
          "casado (a)",
          "solteiro (a)",
          "casado (a)",
          "solteiro (a)",
          "divorciado (a)",
          "solteiro (a)",
          "solteiro (a)",
          "solteiro (a)",
          "casado (a)",
          "casado (a)",
          "casado (a)",
          "casado (a)",
          "solteiro (a)",
          "casado (a)",
          "casado (a)",
          "casado (a)",
          "casado (a)",
          "casado (a)",
          "solteiro (a)",
          "solteiro (a)",
          "casado (a)",
          "casado (a)",
          "casado (a)",
          "solteiro (a)",
          "casado (a)",
          "casado (a)",
          "divorciado (a)",
          "casado (a)",
          "casado (a)",
          "solteiro (a)",
          "casado (a)",
          "divorciado (a)",
          "casado (a)",
          "casado (a)",
          "solteiro (a)",
          "solteiro (a)",
          "divorciado (a)",
          "casado (a)",
          "casado (a)",
          "casado (a)",
          "casado (a)",
          "divorciado (a)",
          "divorciado (a)",
          "solteiro (a)",
          "solteiro (a)",
          "casado (a)",
          "solteiro (a)",
          "solteiro (a)",
          "casado (a)",
          "casado (a)",
          "casado (a)",
          "casado (a)",
          "casado (a)",
          "solteiro (a)",
          "solteiro (a)",
          "divorciado (a)",
          "solteiro (a)",
          "divorciado (a)",
          "casado (a)",
          "solteiro (a)",
          "casado (a)",
          "divorciado (a)",
          "solteiro (a)",
          "casado (a)",
          "casado (a)",
          "solteiro (a)",
          "casado (a)",
          "casado (a)",
          "divorciado (a)",
          "casado (a)",
          "solteiro (a)",
          "casado (a)",
          "casado (a)",
          "casado (a)",
          "divorciado (a)",
          "casado (a)",
          "solteiro (a)",
          "casado (a)",
          "casado (a)",
          "casado (a)",
          "divorciado (a)",
          "casado (a)",
          "solteiro (a)",
          "casado (a)",
          "casado (a)",
          "casado (a)",
          "casado (a)",
          "casado (a)",
          "casado (a)",
          "solteiro (a)",
          "casado (a)",
          "casado (a)",
          "casado (a)",
          "solteiro (a)",
          "casado (a)",
          "casado (a)",
          "casado (a)",
          "casado (a)",
          "divorciado (a)",
          "solteiro (a)",
          "casado (a)",
          "casado (a)",
          "casado (a)",
          "divorciado (a)",
          "casado (a)",
          "divorciado (a)",
          "solteiro (a)",
          "casado (a)",
          "solteiro (a)",
          "solteiro (a)",
          "casado (a)",
          "casado (a)",
          "casado (a)",
          "casado (a)",
          "solteiro (a)",
          "solteiro (a)",
          "casado (a)",
          "casado (a)",
          "casado (a)",
          "solteiro (a)",
          "solteiro (a)",
          "casado (a)",
          "casado (a)",
          "casado (a)",
          "solteiro (a)",
          "casado (a)",
          "casado (a)",
          "casado (a)",
          "casado (a)",
          "divorciado (a)",
          "solteiro (a)",
          "casado (a)",
          "divorciado (a)",
          "solteiro (a)",
          "solteiro (a)",
          "casado (a)",
          "casado (a)",
          "casado (a)",
          "casado (a)",
          "casado (a)",
          "solteiro (a)",
          "solteiro (a)",
          "casado (a)",
          "solteiro (a)",
          "solteiro (a)",
          "solteiro (a)",
          "divorciado (a)",
          "solteiro (a)",
          "casado (a)",
          "divorciado (a)",
          "casado (a)",
          "casado (a)",
          "casado (a)",
          "casado (a)",
          "casado (a)",
          "solteiro (a)",
          "casado (a)",
          "casado (a)",
          "casado (a)",
          "casado (a)",
          "solteiro (a)",
          "casado (a)",
          "solteiro (a)",
          "solteiro (a)",
          "divorciado (a)",
          "solteiro (a)",
          "solteiro (a)",
          "casado (a)",
          "casado (a)",
          "divorciado (a)",
          "casado (a)",
          "solteiro (a)",
          "casado (a)",
          "divorciado (a)",
          "solteiro (a)",
          "casado (a)",
          "casado (a)",
          "divorciado (a)",
          "casado (a)",
          "casado (a)",
          "casado (a)",
          "solteiro (a)",
          "casado (a)",
          "solteiro (a)",
          "solteiro (a)",
          "solteiro (a)",
          "casado (a)",
          "casado (a)",
          "solteiro (a)",
          "solteiro (a)",
          "casado (a)",
          "casado (a)",
          "solteiro (a)",
          "solteiro (a)",
          "solteiro (a)",
          "casado (a)",
          "casado (a)",
          "casado (a)",
          "casado (a)",
          "divorciado (a)",
          "solteiro (a)",
          "divorciado (a)",
          "casado (a)",
          "divorciado (a)",
          "casado (a)",
          "solteiro (a)",
          "solteiro (a)",
          "divorciado (a)",
          "casado (a)",
          "solteiro (a)",
          "solteiro (a)",
          "casado (a)",
          "casado (a)",
          "casado (a)",
          "divorciado (a)",
          "solteiro (a)",
          "solteiro (a)",
          "solteiro (a)",
          "casado (a)",
          "solteiro (a)",
          "casado (a)",
          "casado (a)",
          "casado (a)",
          "solteiro (a)",
          "casado (a)",
          "casado (a)",
          "solteiro (a)",
          "solteiro (a)",
          "divorciado (a)",
          "solteiro (a)",
          "divorciado (a)",
          "divorciado (a)",
          "casado (a)",
          "divorciado (a)",
          "casado (a)",
          "divorciado (a)",
          "divorciado (a)",
          "divorciado (a)",
          "solteiro (a)",
          "divorciado (a)",
          "divorciado (a)",
          "solteiro (a)",
          "solteiro (a)",
          "solteiro (a)",
          "casado (a)",
          "divorciado (a)",
          "solteiro (a)",
          "casado (a)",
          "divorciado (a)",
          "solteiro (a)",
          "solteiro (a)",
          "casado (a)",
          "solteiro (a)",
          "solteiro (a)",
          "solteiro (a)",
          "solteiro (a)",
          "casado (a)",
          "casado (a)",
          "solteiro (a)",
          "divorciado (a)",
          "solteiro (a)",
          "casado (a)",
          "casado (a)",
          "casado (a)",
          "casado (a)",
          "solteiro (a)",
          "divorciado (a)",
          "casado (a)",
          "casado (a)",
          "casado (a)",
          "solteiro (a)",
          "casado (a)",
          "casado (a)",
          "solteiro (a)",
          "solteiro (a)",
          "casado (a)",
          "solteiro (a)",
          "casado (a)",
          "casado (a)",
          "solteiro (a)",
          "casado (a)",
          "divorciado (a)",
          "casado (a)",
          "divorciado (a)",
          "solteiro (a)",
          "solteiro (a)",
          "casado (a)",
          "casado (a)",
          "solteiro (a)",
          "divorciado (a)",
          "casado (a)",
          "divorciado (a)",
          "casado (a)",
          "solteiro (a)",
          "casado (a)",
          "solteiro (a)",
          "divorciado (a)",
          "divorciado (a)",
          "casado (a)",
          "casado (a)",
          "solteiro (a)",
          "solteiro (a)",
          "casado (a)",
          "casado (a)",
          "casado (a)",
          "casado (a)",
          "divorciado (a)",
          "solteiro (a)",
          "casado (a)",
          "solteiro (a)",
          "casado (a)",
          "casado (a)",
          "divorciado (a)",
          "casado (a)",
          "casado (a)",
          "casado (a)",
          "solteiro (a)",
          "casado (a)",
          "solteiro (a)",
          "casado (a)",
          "casado (a)",
          "casado (a)",
          "solteiro (a)",
          "divorciado (a)",
          "casado (a)",
          "casado (a)",
          "casado (a)",
          "casado (a)",
          "casado (a)",
          "casado (a)",
          "solteiro (a)",
          "solteiro (a)",
          "casado (a)",
          "casado (a)",
          "casado (a)",
          "solteiro (a)",
          "casado (a)",
          "casado (a)",
          "casado (a)",
          "divorciado (a)",
          "casado (a)",
          "solteiro (a)",
          "casado (a)",
          "casado (a)",
          "divorciado (a)",
          "casado (a)",
          "solteiro (a)",
          "solteiro (a)",
          "solteiro (a)",
          "casado (a)",
          "solteiro (a)"
         ],
         "xaxis": "x",
         "yaxis": "y"
        },
        {
         "alignmentgroup": "True",
         "bingroup": "x",
         "hovertemplate": "aderencia_investimento=nao<br>estado_civil=%{x}<br>count=%{y}<extra></extra>",
         "legendgroup": "nao",
         "marker": {
          "color": "#EF553B",
          "pattern": {
           "shape": ""
          }
         },
         "name": "nao",
         "offsetgroup": "nao",
         "orientation": "v",
         "showlegend": true,
         "texttemplate": "%{value}",
         "type": "histogram",
         "x": [
          "solteiro (a)",
          "casado (a)",
          "casado (a)",
          "casado (a)",
          "divorciado (a)",
          "casado (a)",
          "casado (a)",
          "solteiro (a)",
          "casado (a)",
          "casado (a)",
          "casado (a)",
          "divorciado (a)",
          "solteiro (a)",
          "casado (a)",
          "casado (a)",
          "casado (a)",
          "casado (a)",
          "solteiro (a)",
          "casado (a)",
          "casado (a)",
          "casado (a)",
          "casado (a)",
          "divorciado (a)",
          "divorciado (a)",
          "casado (a)",
          "casado (a)",
          "casado (a)",
          "casado (a)",
          "casado (a)",
          "divorciado (a)",
          "casado (a)",
          "casado (a)",
          "casado (a)",
          "solteiro (a)",
          "casado (a)",
          "solteiro (a)",
          "divorciado (a)",
          "solteiro (a)",
          "casado (a)",
          "casado (a)",
          "casado (a)",
          "casado (a)",
          "divorciado (a)",
          "casado (a)",
          "casado (a)",
          "casado (a)",
          "casado (a)",
          "casado (a)",
          "casado (a)",
          "casado (a)",
          "solteiro (a)",
          "casado (a)",
          "casado (a)",
          "casado (a)",
          "solteiro (a)",
          "casado (a)",
          "casado (a)",
          "casado (a)",
          "divorciado (a)",
          "solteiro (a)",
          "casado (a)",
          "casado (a)",
          "solteiro (a)",
          "casado (a)",
          "casado (a)",
          "casado (a)",
          "solteiro (a)",
          "casado (a)",
          "solteiro (a)",
          "casado (a)",
          "casado (a)",
          "casado (a)",
          "solteiro (a)",
          "casado (a)",
          "casado (a)",
          "solteiro (a)",
          "casado (a)",
          "solteiro (a)",
          "casado (a)",
          "casado (a)",
          "casado (a)",
          "casado (a)",
          "casado (a)",
          "casado (a)",
          "casado (a)",
          "casado (a)",
          "casado (a)",
          "casado (a)",
          "casado (a)",
          "divorciado (a)",
          "casado (a)",
          "casado (a)",
          "casado (a)",
          "casado (a)",
          "solteiro (a)",
          "casado (a)",
          "casado (a)",
          "casado (a)",
          "casado (a)",
          "casado (a)",
          "casado (a)",
          "casado (a)",
          "casado (a)",
          "casado (a)",
          "casado (a)",
          "casado (a)",
          "casado (a)",
          "solteiro (a)",
          "solteiro (a)",
          "solteiro (a)",
          "solteiro (a)",
          "solteiro (a)",
          "casado (a)",
          "casado (a)",
          "casado (a)",
          "casado (a)",
          "casado (a)",
          "casado (a)",
          "casado (a)",
          "casado (a)",
          "casado (a)",
          "divorciado (a)",
          "casado (a)",
          "casado (a)",
          "casado (a)",
          "casado (a)",
          "casado (a)",
          "solteiro (a)",
          "casado (a)",
          "solteiro (a)",
          "casado (a)",
          "casado (a)",
          "casado (a)",
          "casado (a)",
          "casado (a)",
          "casado (a)",
          "solteiro (a)",
          "casado (a)",
          "casado (a)",
          "casado (a)",
          "solteiro (a)",
          "divorciado (a)",
          "casado (a)",
          "solteiro (a)",
          "divorciado (a)",
          "casado (a)",
          "solteiro (a)",
          "casado (a)",
          "solteiro (a)",
          "solteiro (a)",
          "casado (a)",
          "solteiro (a)",
          "divorciado (a)",
          "divorciado (a)",
          "casado (a)",
          "solteiro (a)",
          "casado (a)",
          "solteiro (a)",
          "solteiro (a)",
          "casado (a)",
          "casado (a)",
          "casado (a)",
          "solteiro (a)",
          "casado (a)",
          "solteiro (a)",
          "casado (a)",
          "casado (a)",
          "casado (a)",
          "casado (a)",
          "divorciado (a)",
          "solteiro (a)",
          "solteiro (a)",
          "casado (a)",
          "casado (a)",
          "divorciado (a)",
          "casado (a)",
          "solteiro (a)",
          "casado (a)",
          "solteiro (a)",
          "divorciado (a)",
          "casado (a)",
          "solteiro (a)",
          "solteiro (a)",
          "casado (a)",
          "casado (a)",
          "casado (a)",
          "solteiro (a)",
          "casado (a)",
          "solteiro (a)",
          "divorciado (a)",
          "divorciado (a)",
          "casado (a)",
          "casado (a)",
          "solteiro (a)",
          "casado (a)",
          "casado (a)",
          "casado (a)",
          "solteiro (a)",
          "divorciado (a)",
          "divorciado (a)",
          "casado (a)",
          "solteiro (a)",
          "casado (a)",
          "casado (a)",
          "solteiro (a)",
          "casado (a)",
          "divorciado (a)",
          "solteiro (a)",
          "casado (a)",
          "casado (a)",
          "casado (a)",
          "casado (a)",
          "casado (a)",
          "casado (a)",
          "casado (a)",
          "casado (a)",
          "solteiro (a)",
          "solteiro (a)",
          "solteiro (a)",
          "solteiro (a)",
          "solteiro (a)",
          "divorciado (a)",
          "solteiro (a)",
          "casado (a)",
          "divorciado (a)",
          "casado (a)",
          "casado (a)",
          "casado (a)",
          "solteiro (a)",
          "casado (a)",
          "solteiro (a)",
          "solteiro (a)",
          "casado (a)",
          "divorciado (a)",
          "solteiro (a)",
          "casado (a)",
          "casado (a)",
          "casado (a)",
          "solteiro (a)",
          "solteiro (a)",
          "casado (a)",
          "divorciado (a)",
          "divorciado (a)",
          "casado (a)",
          "casado (a)",
          "casado (a)",
          "casado (a)",
          "casado (a)",
          "casado (a)",
          "casado (a)",
          "solteiro (a)",
          "solteiro (a)",
          "casado (a)",
          "casado (a)",
          "casado (a)",
          "casado (a)",
          "casado (a)",
          "casado (a)",
          "divorciado (a)",
          "casado (a)",
          "casado (a)",
          "divorciado (a)",
          "solteiro (a)",
          "solteiro (a)",
          "casado (a)",
          "casado (a)",
          "solteiro (a)",
          "solteiro (a)",
          "casado (a)",
          "casado (a)",
          "casado (a)",
          "casado (a)",
          "solteiro (a)",
          "casado (a)",
          "solteiro (a)",
          "divorciado (a)",
          "solteiro (a)",
          "casado (a)",
          "casado (a)",
          "casado (a)",
          "divorciado (a)",
          "casado (a)",
          "casado (a)",
          "casado (a)",
          "solteiro (a)",
          "solteiro (a)",
          "divorciado (a)",
          "casado (a)",
          "casado (a)",
          "solteiro (a)",
          "casado (a)",
          "solteiro (a)",
          "solteiro (a)",
          "solteiro (a)",
          "casado (a)",
          "casado (a)",
          "casado (a)",
          "solteiro (a)",
          "solteiro (a)",
          "casado (a)",
          "casado (a)",
          "solteiro (a)",
          "divorciado (a)",
          "casado (a)",
          "casado (a)",
          "divorciado (a)",
          "solteiro (a)",
          "solteiro (a)",
          "solteiro (a)",
          "casado (a)",
          "casado (a)",
          "casado (a)",
          "casado (a)",
          "casado (a)",
          "solteiro (a)",
          "solteiro (a)",
          "solteiro (a)",
          "casado (a)",
          "solteiro (a)",
          "casado (a)",
          "casado (a)",
          "solteiro (a)",
          "solteiro (a)",
          "solteiro (a)",
          "casado (a)",
          "divorciado (a)",
          "divorciado (a)",
          "solteiro (a)",
          "casado (a)",
          "casado (a)",
          "casado (a)",
          "casado (a)",
          "solteiro (a)",
          "solteiro (a)",
          "casado (a)",
          "solteiro (a)",
          "casado (a)",
          "casado (a)",
          "solteiro (a)",
          "casado (a)",
          "casado (a)",
          "casado (a)",
          "casado (a)",
          "casado (a)",
          "casado (a)",
          "casado (a)",
          "casado (a)",
          "casado (a)",
          "casado (a)",
          "solteiro (a)",
          "casado (a)",
          "solteiro (a)",
          "solteiro (a)",
          "casado (a)",
          "solteiro (a)",
          "casado (a)",
          "casado (a)",
          "casado (a)",
          "casado (a)",
          "divorciado (a)",
          "solteiro (a)",
          "casado (a)",
          "solteiro (a)",
          "casado (a)",
          "solteiro (a)",
          "casado (a)",
          "casado (a)",
          "casado (a)",
          "casado (a)",
          "divorciado (a)",
          "solteiro (a)",
          "casado (a)",
          "solteiro (a)",
          "casado (a)",
          "solteiro (a)",
          "casado (a)",
          "casado (a)",
          "casado (a)",
          "casado (a)",
          "casado (a)",
          "solteiro (a)",
          "casado (a)",
          "casado (a)",
          "casado (a)",
          "solteiro (a)",
          "divorciado (a)",
          "solteiro (a)",
          "casado (a)",
          "casado (a)",
          "casado (a)",
          "solteiro (a)",
          "casado (a)",
          "casado (a)",
          "solteiro (a)",
          "casado (a)",
          "solteiro (a)",
          "casado (a)",
          "casado (a)",
          "casado (a)",
          "casado (a)",
          "casado (a)",
          "solteiro (a)",
          "casado (a)",
          "solteiro (a)",
          "casado (a)",
          "casado (a)",
          "casado (a)",
          "divorciado (a)",
          "casado (a)",
          "casado (a)",
          "casado (a)",
          "divorciado (a)",
          "casado (a)",
          "casado (a)",
          "solteiro (a)",
          "casado (a)",
          "solteiro (a)",
          "casado (a)",
          "divorciado (a)",
          "casado (a)",
          "casado (a)",
          "casado (a)",
          "divorciado (a)",
          "casado (a)",
          "casado (a)",
          "casado (a)",
          "solteiro (a)",
          "solteiro (a)",
          "casado (a)",
          "solteiro (a)",
          "casado (a)",
          "casado (a)",
          "solteiro (a)",
          "casado (a)",
          "solteiro (a)",
          "casado (a)",
          "casado (a)",
          "casado (a)",
          "casado (a)",
          "casado (a)",
          "casado (a)",
          "casado (a)",
          "casado (a)",
          "casado (a)",
          "solteiro (a)",
          "divorciado (a)",
          "casado (a)",
          "solteiro (a)",
          "divorciado (a)",
          "solteiro (a)",
          "divorciado (a)",
          "casado (a)",
          "casado (a)",
          "casado (a)",
          "casado (a)",
          "divorciado (a)",
          "casado (a)",
          "solteiro (a)",
          "divorciado (a)",
          "casado (a)",
          "solteiro (a)",
          "casado (a)",
          "divorciado (a)",
          "casado (a)",
          "casado (a)",
          "casado (a)",
          "solteiro (a)",
          "casado (a)",
          "solteiro (a)",
          "solteiro (a)",
          "casado (a)",
          "casado (a)",
          "divorciado (a)",
          "solteiro (a)",
          "solteiro (a)",
          "casado (a)",
          "solteiro (a)",
          "solteiro (a)",
          "divorciado (a)",
          "casado (a)",
          "divorciado (a)",
          "casado (a)",
          "solteiro (a)",
          "casado (a)",
          "divorciado (a)",
          "casado (a)",
          "casado (a)",
          "casado (a)",
          "divorciado (a)",
          "casado (a)",
          "casado (a)",
          "divorciado (a)",
          "casado (a)",
          "casado (a)",
          "casado (a)",
          "solteiro (a)",
          "casado (a)",
          "divorciado (a)",
          "casado (a)",
          "casado (a)",
          "casado (a)",
          "casado (a)",
          "casado (a)",
          "casado (a)",
          "solteiro (a)",
          "casado (a)",
          "solteiro (a)",
          "casado (a)",
          "solteiro (a)",
          "solteiro (a)",
          "solteiro (a)",
          "casado (a)",
          "casado (a)",
          "casado (a)",
          "casado (a)",
          "casado (a)",
          "solteiro (a)",
          "casado (a)",
          "casado (a)",
          "solteiro (a)",
          "solteiro (a)",
          "casado (a)",
          "casado (a)",
          "divorciado (a)",
          "casado (a)",
          "divorciado (a)",
          "casado (a)",
          "solteiro (a)",
          "casado (a)",
          "divorciado (a)",
          "casado (a)",
          "casado (a)",
          "solteiro (a)",
          "casado (a)",
          "casado (a)",
          "divorciado (a)",
          "solteiro (a)",
          "divorciado (a)",
          "casado (a)",
          "solteiro (a)",
          "solteiro (a)",
          "casado (a)",
          "solteiro (a)",
          "casado (a)",
          "divorciado (a)",
          "casado (a)",
          "casado (a)",
          "casado (a)",
          "casado (a)",
          "casado (a)",
          "casado (a)",
          "solteiro (a)",
          "casado (a)",
          "casado (a)",
          "casado (a)",
          "solteiro (a)",
          "casado (a)",
          "casado (a)",
          "casado (a)",
          "solteiro (a)",
          "divorciado (a)",
          "solteiro (a)",
          "casado (a)",
          "solteiro (a)",
          "casado (a)",
          "solteiro (a)",
          "casado (a)",
          "casado (a)",
          "casado (a)",
          "casado (a)",
          "divorciado (a)",
          "casado (a)",
          "casado (a)",
          "divorciado (a)",
          "casado (a)",
          "casado (a)",
          "casado (a)",
          "casado (a)",
          "casado (a)",
          "solteiro (a)",
          "divorciado (a)",
          "casado (a)",
          "casado (a)",
          "casado (a)",
          "solteiro (a)",
          "casado (a)",
          "casado (a)",
          "casado (a)",
          "casado (a)",
          "casado (a)",
          "solteiro (a)",
          "solteiro (a)",
          "solteiro (a)",
          "casado (a)",
          "divorciado (a)",
          "casado (a)",
          "divorciado (a)",
          "casado (a)",
          "casado (a)",
          "solteiro (a)",
          "divorciado (a)",
          "casado (a)",
          "solteiro (a)",
          "casado (a)",
          "casado (a)",
          "solteiro (a)",
          "casado (a)",
          "casado (a)",
          "casado (a)",
          "casado (a)",
          "divorciado (a)",
          "casado (a)",
          "casado (a)",
          "casado (a)",
          "solteiro (a)",
          "divorciado (a)",
          "solteiro (a)",
          "casado (a)",
          "casado (a)",
          "solteiro (a)",
          "casado (a)",
          "casado (a)",
          "casado (a)",
          "casado (a)",
          "casado (a)",
          "casado (a)",
          "solteiro (a)",
          "solteiro (a)",
          "divorciado (a)",
          "divorciado (a)",
          "casado (a)",
          "casado (a)",
          "solteiro (a)",
          "divorciado (a)",
          "casado (a)",
          "solteiro (a)",
          "casado (a)",
          "casado (a)",
          "casado (a)",
          "solteiro (a)",
          "casado (a)",
          "casado (a)",
          "solteiro (a)",
          "casado (a)",
          "solteiro (a)",
          "solteiro (a)",
          "casado (a)",
          "casado (a)",
          "casado (a)",
          "casado (a)",
          "divorciado (a)",
          "divorciado (a)",
          "casado (a)",
          "casado (a)",
          "casado (a)",
          "solteiro (a)",
          "casado (a)",
          "divorciado (a)",
          "divorciado (a)",
          "divorciado (a)",
          "casado (a)",
          "solteiro (a)",
          "divorciado (a)",
          "solteiro (a)",
          "casado (a)",
          "casado (a)",
          "solteiro (a)",
          "casado (a)",
          "divorciado (a)",
          "casado (a)",
          "casado (a)",
          "casado (a)",
          "solteiro (a)",
          "casado (a)",
          "casado (a)",
          "casado (a)",
          "casado (a)",
          "casado (a)",
          "casado (a)",
          "casado (a)",
          "casado (a)",
          "casado (a)",
          "solteiro (a)",
          "casado (a)",
          "divorciado (a)",
          "solteiro (a)",
          "casado (a)",
          "casado (a)",
          "casado (a)",
          "casado (a)",
          "solteiro (a)",
          "casado (a)",
          "casado (a)",
          "solteiro (a)",
          "solteiro (a)",
          "solteiro (a)",
          "casado (a)",
          "casado (a)",
          "casado (a)",
          "casado (a)",
          "solteiro (a)",
          "casado (a)",
          "casado (a)",
          "solteiro (a)",
          "casado (a)",
          "divorciado (a)",
          "solteiro (a)",
          "divorciado (a)",
          "casado (a)",
          "solteiro (a)",
          "casado (a)",
          "casado (a)",
          "casado (a)",
          "solteiro (a)",
          "casado (a)",
          "solteiro (a)",
          "casado (a)",
          "casado (a)",
          "casado (a)",
          "divorciado (a)",
          "casado (a)",
          "solteiro (a)",
          "solteiro (a)",
          "casado (a)",
          "casado (a)",
          "solteiro (a)",
          "casado (a)",
          "casado (a)",
          "divorciado (a)",
          "casado (a)",
          "solteiro (a)",
          "casado (a)",
          "solteiro (a)",
          "casado (a)",
          "divorciado (a)",
          "casado (a)",
          "solteiro (a)",
          "casado (a)",
          "casado (a)",
          "solteiro (a)",
          "casado (a)",
          "solteiro (a)",
          "casado (a)",
          "casado (a)",
          "casado (a)",
          "casado (a)",
          "casado (a)",
          "casado (a)",
          "solteiro (a)",
          "casado (a)",
          "solteiro (a)",
          "casado (a)",
          "casado (a)",
          "casado (a)",
          "solteiro (a)",
          "casado (a)",
          "casado (a)",
          "solteiro (a)",
          "casado (a)",
          "casado (a)",
          "solteiro (a)",
          "casado (a)",
          "divorciado (a)",
          "solteiro (a)",
          "casado (a)",
          "casado (a)"
         ],
         "xaxis": "x",
         "yaxis": "y"
        }
       ],
       "layout": {
        "barmode": "group",
        "legend": {
         "title": {
          "text": "aderencia_investimento"
         },
         "tracegroupgap": 0
        },
        "margin": {
         "t": 60
        },
        "template": {
         "data": {
          "bar": [
           {
            "error_x": {
             "color": "#2a3f5f"
            },
            "error_y": {
             "color": "#2a3f5f"
            },
            "marker": {
             "line": {
              "color": "#E5ECF6",
              "width": 0.5
             },
             "pattern": {
              "fillmode": "overlay",
              "size": 10,
              "solidity": 0.2
             }
            },
            "type": "bar"
           }
          ],
          "barpolar": [
           {
            "marker": {
             "line": {
              "color": "#E5ECF6",
              "width": 0.5
             },
             "pattern": {
              "fillmode": "overlay",
              "size": 10,
              "solidity": 0.2
             }
            },
            "type": "barpolar"
           }
          ],
          "carpet": [
           {
            "aaxis": {
             "endlinecolor": "#2a3f5f",
             "gridcolor": "white",
             "linecolor": "white",
             "minorgridcolor": "white",
             "startlinecolor": "#2a3f5f"
            },
            "baxis": {
             "endlinecolor": "#2a3f5f",
             "gridcolor": "white",
             "linecolor": "white",
             "minorgridcolor": "white",
             "startlinecolor": "#2a3f5f"
            },
            "type": "carpet"
           }
          ],
          "choropleth": [
           {
            "colorbar": {
             "outlinewidth": 0,
             "ticks": ""
            },
            "type": "choropleth"
           }
          ],
          "contour": [
           {
            "colorbar": {
             "outlinewidth": 0,
             "ticks": ""
            },
            "colorscale": [
             [
              0,
              "#0d0887"
             ],
             [
              0.1111111111111111,
              "#46039f"
             ],
             [
              0.2222222222222222,
              "#7201a8"
             ],
             [
              0.3333333333333333,
              "#9c179e"
             ],
             [
              0.4444444444444444,
              "#bd3786"
             ],
             [
              0.5555555555555556,
              "#d8576b"
             ],
             [
              0.6666666666666666,
              "#ed7953"
             ],
             [
              0.7777777777777778,
              "#fb9f3a"
             ],
             [
              0.8888888888888888,
              "#fdca26"
             ],
             [
              1,
              "#f0f921"
             ]
            ],
            "type": "contour"
           }
          ],
          "contourcarpet": [
           {
            "colorbar": {
             "outlinewidth": 0,
             "ticks": ""
            },
            "type": "contourcarpet"
           }
          ],
          "heatmap": [
           {
            "colorbar": {
             "outlinewidth": 0,
             "ticks": ""
            },
            "colorscale": [
             [
              0,
              "#0d0887"
             ],
             [
              0.1111111111111111,
              "#46039f"
             ],
             [
              0.2222222222222222,
              "#7201a8"
             ],
             [
              0.3333333333333333,
              "#9c179e"
             ],
             [
              0.4444444444444444,
              "#bd3786"
             ],
             [
              0.5555555555555556,
              "#d8576b"
             ],
             [
              0.6666666666666666,
              "#ed7953"
             ],
             [
              0.7777777777777778,
              "#fb9f3a"
             ],
             [
              0.8888888888888888,
              "#fdca26"
             ],
             [
              1,
              "#f0f921"
             ]
            ],
            "type": "heatmap"
           }
          ],
          "histogram": [
           {
            "marker": {
             "pattern": {
              "fillmode": "overlay",
              "size": 10,
              "solidity": 0.2
             }
            },
            "type": "histogram"
           }
          ],
          "histogram2d": [
           {
            "colorbar": {
             "outlinewidth": 0,
             "ticks": ""
            },
            "colorscale": [
             [
              0,
              "#0d0887"
             ],
             [
              0.1111111111111111,
              "#46039f"
             ],
             [
              0.2222222222222222,
              "#7201a8"
             ],
             [
              0.3333333333333333,
              "#9c179e"
             ],
             [
              0.4444444444444444,
              "#bd3786"
             ],
             [
              0.5555555555555556,
              "#d8576b"
             ],
             [
              0.6666666666666666,
              "#ed7953"
             ],
             [
              0.7777777777777778,
              "#fb9f3a"
             ],
             [
              0.8888888888888888,
              "#fdca26"
             ],
             [
              1,
              "#f0f921"
             ]
            ],
            "type": "histogram2d"
           }
          ],
          "histogram2dcontour": [
           {
            "colorbar": {
             "outlinewidth": 0,
             "ticks": ""
            },
            "colorscale": [
             [
              0,
              "#0d0887"
             ],
             [
              0.1111111111111111,
              "#46039f"
             ],
             [
              0.2222222222222222,
              "#7201a8"
             ],
             [
              0.3333333333333333,
              "#9c179e"
             ],
             [
              0.4444444444444444,
              "#bd3786"
             ],
             [
              0.5555555555555556,
              "#d8576b"
             ],
             [
              0.6666666666666666,
              "#ed7953"
             ],
             [
              0.7777777777777778,
              "#fb9f3a"
             ],
             [
              0.8888888888888888,
              "#fdca26"
             ],
             [
              1,
              "#f0f921"
             ]
            ],
            "type": "histogram2dcontour"
           }
          ],
          "mesh3d": [
           {
            "colorbar": {
             "outlinewidth": 0,
             "ticks": ""
            },
            "type": "mesh3d"
           }
          ],
          "parcoords": [
           {
            "line": {
             "colorbar": {
              "outlinewidth": 0,
              "ticks": ""
             }
            },
            "type": "parcoords"
           }
          ],
          "pie": [
           {
            "automargin": true,
            "type": "pie"
           }
          ],
          "scatter": [
           {
            "fillpattern": {
             "fillmode": "overlay",
             "size": 10,
             "solidity": 0.2
            },
            "type": "scatter"
           }
          ],
          "scatter3d": [
           {
            "line": {
             "colorbar": {
              "outlinewidth": 0,
              "ticks": ""
             }
            },
            "marker": {
             "colorbar": {
              "outlinewidth": 0,
              "ticks": ""
             }
            },
            "type": "scatter3d"
           }
          ],
          "scattercarpet": [
           {
            "marker": {
             "colorbar": {
              "outlinewidth": 0,
              "ticks": ""
             }
            },
            "type": "scattercarpet"
           }
          ],
          "scattergeo": [
           {
            "marker": {
             "colorbar": {
              "outlinewidth": 0,
              "ticks": ""
             }
            },
            "type": "scattergeo"
           }
          ],
          "scattergl": [
           {
            "marker": {
             "colorbar": {
              "outlinewidth": 0,
              "ticks": ""
             }
            },
            "type": "scattergl"
           }
          ],
          "scattermap": [
           {
            "marker": {
             "colorbar": {
              "outlinewidth": 0,
              "ticks": ""
             }
            },
            "type": "scattermap"
           }
          ],
          "scattermapbox": [
           {
            "marker": {
             "colorbar": {
              "outlinewidth": 0,
              "ticks": ""
             }
            },
            "type": "scattermapbox"
           }
          ],
          "scatterpolar": [
           {
            "marker": {
             "colorbar": {
              "outlinewidth": 0,
              "ticks": ""
             }
            },
            "type": "scatterpolar"
           }
          ],
          "scatterpolargl": [
           {
            "marker": {
             "colorbar": {
              "outlinewidth": 0,
              "ticks": ""
             }
            },
            "type": "scatterpolargl"
           }
          ],
          "scatterternary": [
           {
            "marker": {
             "colorbar": {
              "outlinewidth": 0,
              "ticks": ""
             }
            },
            "type": "scatterternary"
           }
          ],
          "surface": [
           {
            "colorbar": {
             "outlinewidth": 0,
             "ticks": ""
            },
            "colorscale": [
             [
              0,
              "#0d0887"
             ],
             [
              0.1111111111111111,
              "#46039f"
             ],
             [
              0.2222222222222222,
              "#7201a8"
             ],
             [
              0.3333333333333333,
              "#9c179e"
             ],
             [
              0.4444444444444444,
              "#bd3786"
             ],
             [
              0.5555555555555556,
              "#d8576b"
             ],
             [
              0.6666666666666666,
              "#ed7953"
             ],
             [
              0.7777777777777778,
              "#fb9f3a"
             ],
             [
              0.8888888888888888,
              "#fdca26"
             ],
             [
              1,
              "#f0f921"
             ]
            ],
            "type": "surface"
           }
          ],
          "table": [
           {
            "cells": {
             "fill": {
              "color": "#EBF0F8"
             },
             "line": {
              "color": "white"
             }
            },
            "header": {
             "fill": {
              "color": "#C8D4E3"
             },
             "line": {
              "color": "white"
             }
            },
            "type": "table"
           }
          ]
         },
         "layout": {
          "annotationdefaults": {
           "arrowcolor": "#2a3f5f",
           "arrowhead": 0,
           "arrowwidth": 1
          },
          "autotypenumbers": "strict",
          "coloraxis": {
           "colorbar": {
            "outlinewidth": 0,
            "ticks": ""
           }
          },
          "colorscale": {
           "diverging": [
            [
             0,
             "#8e0152"
            ],
            [
             0.1,
             "#c51b7d"
            ],
            [
             0.2,
             "#de77ae"
            ],
            [
             0.3,
             "#f1b6da"
            ],
            [
             0.4,
             "#fde0ef"
            ],
            [
             0.5,
             "#f7f7f7"
            ],
            [
             0.6,
             "#e6f5d0"
            ],
            [
             0.7,
             "#b8e186"
            ],
            [
             0.8,
             "#7fbc41"
            ],
            [
             0.9,
             "#4d9221"
            ],
            [
             1,
             "#276419"
            ]
           ],
           "sequential": [
            [
             0,
             "#0d0887"
            ],
            [
             0.1111111111111111,
             "#46039f"
            ],
            [
             0.2222222222222222,
             "#7201a8"
            ],
            [
             0.3333333333333333,
             "#9c179e"
            ],
            [
             0.4444444444444444,
             "#bd3786"
            ],
            [
             0.5555555555555556,
             "#d8576b"
            ],
            [
             0.6666666666666666,
             "#ed7953"
            ],
            [
             0.7777777777777778,
             "#fb9f3a"
            ],
            [
             0.8888888888888888,
             "#fdca26"
            ],
            [
             1,
             "#f0f921"
            ]
           ],
           "sequentialminus": [
            [
             0,
             "#0d0887"
            ],
            [
             0.1111111111111111,
             "#46039f"
            ],
            [
             0.2222222222222222,
             "#7201a8"
            ],
            [
             0.3333333333333333,
             "#9c179e"
            ],
            [
             0.4444444444444444,
             "#bd3786"
            ],
            [
             0.5555555555555556,
             "#d8576b"
            ],
            [
             0.6666666666666666,
             "#ed7953"
            ],
            [
             0.7777777777777778,
             "#fb9f3a"
            ],
            [
             0.8888888888888888,
             "#fdca26"
            ],
            [
             1,
             "#f0f921"
            ]
           ]
          },
          "colorway": [
           "#636efa",
           "#EF553B",
           "#00cc96",
           "#ab63fa",
           "#FFA15A",
           "#19d3f3",
           "#FF6692",
           "#B6E880",
           "#FF97FF",
           "#FECB52"
          ],
          "font": {
           "color": "#2a3f5f"
          },
          "geo": {
           "bgcolor": "white",
           "lakecolor": "white",
           "landcolor": "#E5ECF6",
           "showlakes": true,
           "showland": true,
           "subunitcolor": "white"
          },
          "hoverlabel": {
           "align": "left"
          },
          "hovermode": "closest",
          "mapbox": {
           "style": "light"
          },
          "paper_bgcolor": "white",
          "plot_bgcolor": "#E5ECF6",
          "polar": {
           "angularaxis": {
            "gridcolor": "white",
            "linecolor": "white",
            "ticks": ""
           },
           "bgcolor": "#E5ECF6",
           "radialaxis": {
            "gridcolor": "white",
            "linecolor": "white",
            "ticks": ""
           }
          },
          "scene": {
           "xaxis": {
            "backgroundcolor": "#E5ECF6",
            "gridcolor": "white",
            "gridwidth": 2,
            "linecolor": "white",
            "showbackground": true,
            "ticks": "",
            "zerolinecolor": "white"
           },
           "yaxis": {
            "backgroundcolor": "#E5ECF6",
            "gridcolor": "white",
            "gridwidth": 2,
            "linecolor": "white",
            "showbackground": true,
            "ticks": "",
            "zerolinecolor": "white"
           },
           "zaxis": {
            "backgroundcolor": "#E5ECF6",
            "gridcolor": "white",
            "gridwidth": 2,
            "linecolor": "white",
            "showbackground": true,
            "ticks": "",
            "zerolinecolor": "white"
           }
          },
          "shapedefaults": {
           "line": {
            "color": "#2a3f5f"
           }
          },
          "ternary": {
           "aaxis": {
            "gridcolor": "white",
            "linecolor": "white",
            "ticks": ""
           },
           "baxis": {
            "gridcolor": "white",
            "linecolor": "white",
            "ticks": ""
           },
           "bgcolor": "#E5ECF6",
           "caxis": {
            "gridcolor": "white",
            "linecolor": "white",
            "ticks": ""
           }
          },
          "title": {
           "x": 0.05
          },
          "xaxis": {
           "automargin": true,
           "gridcolor": "white",
           "linecolor": "white",
           "ticks": "",
           "title": {
            "standoff": 15
           },
           "zerolinecolor": "white",
           "zerolinewidth": 2
          },
          "yaxis": {
           "automargin": true,
           "gridcolor": "white",
           "linecolor": "white",
           "ticks": "",
           "title": {
            "standoff": 15
           },
           "zerolinecolor": "white",
           "zerolinewidth": 2
          }
         }
        },
        "xaxis": {
         "anchor": "y",
         "domain": [
          0,
          1
         ],
         "title": {
          "text": "estado_civil"
         }
        },
        "yaxis": {
         "anchor": "x",
         "domain": [
          0,
          1
         ],
         "title": {
          "text": "count"
         }
        }
       }
      }
     },
     "metadata": {},
     "output_type": "display_data"
    }
   ],
   "source": [
    "px.histogram(dados, x='estado_civil', text_auto = True, color='aderencia_investimento', barmode = 'group')"
   ]
  },
  {
   "cell_type": "code",
   "execution_count": 10,
   "metadata": {},
   "outputs": [
    {
     "data": {
      "application/vnd.plotly.v1+json": {
       "config": {
        "plotlyServerURL": "https://plot.ly"
       },
       "data": [
        {
         "alignmentgroup": "True",
         "bingroup": "x",
         "hovertemplate": "aderencia_investimento=sim<br>escolaridade=%{x}<br>count=%{y}<extra></extra>",
         "legendgroup": "sim",
         "marker": {
          "color": "#636efa",
          "pattern": {
           "shape": ""
          }
         },
         "name": "sim",
         "offsetgroup": "sim",
         "orientation": "v",
         "showlegend": true,
         "texttemplate": "%{value}",
         "type": "histogram",
         "x": [
          "superior",
          "medio",
          "superior",
          "medio",
          "medio",
          "superior",
          "medio",
          "medio",
          "medio",
          "superior",
          "superior",
          "superior",
          "medio",
          "medio",
          "medio",
          "superior",
          "superior",
          "medio",
          "medio",
          "medio",
          "medio",
          "medio",
          "superior",
          "superior",
          "superior",
          "superior",
          "superior",
          "superior",
          "superior",
          "medio",
          "superior",
          "superior",
          "medio",
          "fundamental",
          "medio",
          "medio",
          "superior",
          "superior",
          "superior",
          "superior",
          "medio",
          "medio",
          "superior",
          "medio",
          "superior",
          "medio",
          "medio",
          "fundamental",
          "medio",
          "medio",
          "medio",
          "superior",
          "medio",
          "superior",
          "superior",
          "superior",
          "fundamental",
          "medio",
          "fundamental",
          "superior",
          "superior",
          "medio",
          "superior",
          "medio",
          "medio",
          "medio",
          "medio",
          "medio",
          "superior",
          "superior",
          "fundamental",
          "medio",
          "medio",
          "superior",
          "fundamental",
          "superior",
          "medio",
          "fundamental",
          "superior",
          "medio",
          "medio",
          "fundamental",
          "medio",
          "fundamental",
          "medio",
          "fundamental",
          "fundamental",
          "superior",
          "superior",
          "medio",
          "superior",
          "medio",
          "medio",
          "superior",
          "medio",
          "superior",
          "medio",
          "medio",
          "superior",
          "medio",
          "medio",
          "medio",
          "medio",
          "medio",
          "superior",
          "medio",
          "medio",
          "medio",
          "medio",
          "superior",
          "medio",
          "medio",
          "superior",
          "medio",
          "superior",
          "medio",
          "medio",
          "medio",
          "superior",
          "medio",
          "superior",
          "fundamental",
          "medio",
          "superior",
          "medio",
          "medio",
          "fundamental",
          "medio",
          "medio",
          "superior",
          "medio",
          "medio",
          "superior",
          "medio",
          "medio",
          "superior",
          "medio",
          "medio",
          "medio",
          "medio",
          "fundamental",
          "fundamental",
          "superior",
          "superior",
          "medio",
          "superior",
          "superior",
          "superior",
          "medio",
          "medio",
          "superior",
          "medio",
          "superior",
          "superior",
          "medio",
          "superior",
          "medio",
          "superior",
          "medio",
          "fundamental",
          "medio",
          "superior",
          "medio",
          "medio",
          "fundamental",
          "superior",
          "medio",
          "medio",
          "medio",
          "superior",
          "medio",
          "superior",
          "superior",
          "superior",
          "medio",
          "superior",
          "fundamental",
          "superior",
          "medio",
          "medio",
          "medio",
          "superior",
          "medio",
          "superior",
          "superior",
          "fundamental",
          "medio",
          "medio",
          "medio",
          "superior",
          "medio",
          "medio",
          "fundamental",
          "fundamental",
          "superior",
          "superior",
          "medio",
          "superior",
          "medio",
          "fundamental",
          "fundamental",
          "medio",
          "fundamental",
          "superior",
          "fundamental",
          "medio",
          "medio",
          "medio",
          "medio",
          "superior",
          "medio",
          "medio",
          "superior",
          "superior",
          "superior",
          "superior",
          "medio",
          "medio",
          "superior",
          "superior",
          "medio",
          "medio",
          "medio",
          "medio",
          "medio",
          "superior",
          "medio",
          "superior",
          "medio",
          "medio",
          "superior",
          "medio",
          "fundamental",
          "medio",
          "fundamental",
          "superior",
          "superior",
          "fundamental",
          "fundamental",
          "fundamental",
          "superior",
          "superior",
          "superior",
          "medio",
          "medio",
          "medio",
          "medio",
          "medio",
          "medio",
          "medio",
          "medio",
          "medio",
          "superior",
          "fundamental",
          "medio",
          "superior",
          "medio",
          "superior",
          "medio",
          "superior",
          "medio",
          "fundamental",
          "fundamental",
          "medio",
          "superior",
          "superior",
          "superior",
          "medio",
          "medio",
          "medio",
          "superior",
          "medio",
          "superior",
          "superior",
          "medio",
          "superior",
          "fundamental",
          "medio",
          "medio",
          "medio",
          "medio",
          "superior",
          "superior",
          "medio",
          "medio",
          "medio",
          "fundamental",
          "fundamental",
          "medio",
          "superior",
          "superior",
          "fundamental",
          "superior",
          "superior",
          "superior",
          "superior",
          "medio",
          "medio",
          "medio",
          "superior",
          "medio",
          "medio",
          "medio",
          "medio",
          "fundamental",
          "medio",
          "superior",
          "medio",
          "medio",
          "medio",
          "superior",
          "medio",
          "medio",
          "fundamental",
          "medio",
          "superior",
          "superior",
          "superior",
          "superior",
          "medio",
          "superior",
          "fundamental",
          "medio",
          "fundamental",
          "medio",
          "superior",
          "medio",
          "superior",
          "fundamental",
          "medio",
          "superior",
          "medio",
          "medio",
          "superior",
          "superior",
          "superior",
          "medio",
          "medio",
          "superior",
          "medio",
          "superior",
          "medio",
          "superior",
          "medio",
          "medio",
          "fundamental",
          "medio",
          "medio",
          "superior",
          "fundamental",
          "medio",
          "fundamental",
          "medio",
          "superior",
          "medio",
          "medio",
          "superior",
          "medio",
          "fundamental",
          "superior",
          "medio",
          "medio",
          "medio",
          "medio",
          "medio",
          "fundamental",
          "fundamental",
          "superior",
          "medio",
          "medio",
          "superior",
          "superior",
          "superior",
          "superior",
          "medio",
          "medio",
          "fundamental",
          "medio",
          "medio",
          "superior",
          "medio",
          "fundamental",
          "superior",
          "fundamental",
          "superior",
          "medio",
          "superior",
          "fundamental",
          "medio",
          "medio",
          "fundamental",
          "fundamental",
          "superior",
          "medio",
          "medio",
          "superior",
          "medio",
          "medio",
          "superior",
          "superior",
          "medio",
          "medio",
          "superior",
          "superior",
          "superior",
          "superior",
          "medio",
          "fundamental",
          "superior",
          "superior",
          "medio",
          "superior",
          "medio",
          "medio",
          "fundamental",
          "superior",
          "superior",
          "medio",
          "medio",
          "fundamental",
          "fundamental",
          "superior",
          "superior",
          "superior",
          "superior",
          "superior",
          "medio",
          "medio",
          "superior",
          "medio",
          "medio",
          "superior",
          "medio",
          "superior",
          "superior",
          "superior",
          "superior",
          "medio",
          "fundamental",
          "superior",
          "medio",
          "medio",
          "fundamental",
          "superior",
          "medio",
          "medio",
          "superior",
          "medio",
          "superior",
          "superior",
          "medio",
          "medio",
          "superior",
          "medio",
          "superior",
          "superior",
          "superior",
          "superior",
          "medio",
          "medio",
          "superior",
          "medio",
          "fundamental",
          "medio",
          "medio",
          "fundamental",
          "superior",
          "medio",
          "medio",
          "medio",
          "medio",
          "medio",
          "medio",
          "medio",
          "medio",
          "medio",
          "medio",
          "fundamental",
          "medio",
          "medio",
          "superior",
          "superior",
          "superior",
          "superior",
          "superior",
          "fundamental",
          "superior",
          "superior",
          "superior",
          "medio",
          "medio",
          "medio",
          "medio",
          "superior",
          "medio",
          "superior",
          "superior",
          "superior",
          "superior",
          "superior",
          "superior",
          "superior"
         ],
         "xaxis": "x",
         "yaxis": "y"
        },
        {
         "alignmentgroup": "True",
         "bingroup": "x",
         "hovertemplate": "aderencia_investimento=nao<br>escolaridade=%{x}<br>count=%{y}<extra></extra>",
         "legendgroup": "nao",
         "marker": {
          "color": "#EF553B",
          "pattern": {
           "shape": ""
          }
         },
         "name": "nao",
         "offsetgroup": "nao",
         "orientation": "v",
         "showlegend": true,
         "texttemplate": "%{value}",
         "type": "histogram",
         "x": [
          "superior",
          "superior",
          "medio",
          "fundamental",
          "medio",
          "fundamental",
          "superior",
          "superior",
          "fundamental",
          "medio",
          "medio",
          "medio",
          "medio",
          "medio",
          "medio",
          "fundamental",
          "medio",
          "medio",
          "medio",
          "medio",
          "medio",
          "superior",
          "medio",
          "medio",
          "fundamental",
          "superior",
          "superior",
          "superior",
          "superior",
          "superior",
          "superior",
          "medio",
          "superior",
          "medio",
          "medio",
          "fundamental",
          "superior",
          "medio",
          "medio",
          "superior",
          "medio",
          "fundamental",
          "fundamental",
          "superior",
          "superior",
          "medio",
          "superior",
          "medio",
          "fundamental",
          "medio",
          "superior",
          "superior",
          "medio",
          "superior",
          "medio",
          "medio",
          "fundamental",
          "fundamental",
          "medio",
          "superior",
          "medio",
          "fundamental",
          "superior",
          "medio",
          "medio",
          "medio",
          "medio",
          "superior",
          "superior",
          "superior",
          "superior",
          "fundamental",
          "superior",
          "medio",
          "medio",
          "medio",
          "fundamental",
          "medio",
          "fundamental",
          "medio",
          "superior",
          "medio",
          "medio",
          "superior",
          "medio",
          "medio",
          "fundamental",
          "medio",
          "medio",
          "superior",
          "medio",
          "medio",
          "medio",
          "medio",
          "superior",
          "medio",
          "medio",
          "medio",
          "superior",
          "medio",
          "medio",
          "superior",
          "medio",
          "medio",
          "superior",
          "medio",
          "medio",
          "superior",
          "medio",
          "medio",
          "fundamental",
          "superior",
          "medio",
          "medio",
          "medio",
          "medio",
          "medio",
          "fundamental",
          "medio",
          "superior",
          "medio",
          "medio",
          "medio",
          "superior",
          "medio",
          "medio",
          "superior",
          "fundamental",
          "medio",
          "medio",
          "medio",
          "medio",
          "medio",
          "medio",
          "medio",
          "medio",
          "superior",
          "medio",
          "medio",
          "fundamental",
          "medio",
          "medio",
          "superior",
          "superior",
          "superior",
          "medio",
          "medio",
          "medio",
          "superior",
          "fundamental",
          "superior",
          "fundamental",
          "medio",
          "medio",
          "medio",
          "medio",
          "fundamental",
          "medio",
          "medio",
          "fundamental",
          "superior",
          "fundamental",
          "fundamental",
          "superior",
          "medio",
          "fundamental",
          "medio",
          "medio",
          "superior",
          "medio",
          "fundamental",
          "superior",
          "superior",
          "medio",
          "superior",
          "medio",
          "medio",
          "fundamental",
          "medio",
          "fundamental",
          "medio",
          "superior",
          "superior",
          "medio",
          "medio",
          "superior",
          "medio",
          "superior",
          "medio",
          "superior",
          "superior",
          "medio",
          "medio",
          "superior",
          "superior",
          "fundamental",
          "medio",
          "superior",
          "medio",
          "medio",
          "fundamental",
          "fundamental",
          "medio",
          "medio",
          "medio",
          "fundamental",
          "medio",
          "medio",
          "superior",
          "superior",
          "fundamental",
          "medio",
          "medio",
          "medio",
          "superior",
          "fundamental",
          "superior",
          "superior",
          "medio",
          "superior",
          "superior",
          "superior",
          "medio",
          "medio",
          "fundamental",
          "superior",
          "medio",
          "medio",
          "fundamental",
          "medio",
          "fundamental",
          "superior",
          "medio",
          "medio",
          "medio",
          "medio",
          "medio",
          "medio",
          "medio",
          "medio",
          "medio",
          "medio",
          "medio",
          "medio",
          "medio",
          "superior",
          "fundamental",
          "fundamental",
          "superior",
          "medio",
          "medio",
          "superior",
          "medio",
          "fundamental",
          "superior",
          "fundamental",
          "superior",
          "medio",
          "superior",
          "fundamental",
          "medio",
          "medio",
          "fundamental",
          "superior",
          "medio",
          "medio",
          "fundamental",
          "superior",
          "medio",
          "superior",
          "medio",
          "medio",
          "medio",
          "medio",
          "superior",
          "medio",
          "medio",
          "fundamental",
          "superior",
          "medio",
          "superior",
          "medio",
          "medio",
          "superior",
          "superior",
          "superior",
          "superior",
          "superior",
          "medio",
          "medio",
          "medio",
          "medio",
          "medio",
          "medio",
          "medio",
          "medio",
          "fundamental",
          "fundamental",
          "medio",
          "medio",
          "superior",
          "medio",
          "superior",
          "medio",
          "medio",
          "superior",
          "superior",
          "medio",
          "medio",
          "medio",
          "medio",
          "medio",
          "medio",
          "medio",
          "superior",
          "medio",
          "superior",
          "fundamental",
          "medio",
          "medio",
          "medio",
          "medio",
          "medio",
          "superior",
          "medio",
          "medio",
          "medio",
          "superior",
          "fundamental",
          "superior",
          "medio",
          "superior",
          "superior",
          "medio",
          "superior",
          "superior",
          "superior",
          "medio",
          "medio",
          "fundamental",
          "medio",
          "fundamental",
          "medio",
          "fundamental",
          "medio",
          "medio",
          "fundamental",
          "fundamental",
          "medio",
          "superior",
          "medio",
          "medio",
          "superior",
          "medio",
          "medio",
          "fundamental",
          "fundamental",
          "fundamental",
          "medio",
          "medio",
          "superior",
          "medio",
          "fundamental",
          "superior",
          "medio",
          "fundamental",
          "fundamental",
          "superior",
          "fundamental",
          "medio",
          "medio",
          "medio",
          "medio",
          "fundamental",
          "medio",
          "medio",
          "medio",
          "fundamental",
          "medio",
          "superior",
          "medio",
          "medio",
          "medio",
          "medio",
          "medio",
          "medio",
          "superior",
          "medio",
          "medio",
          "medio",
          "superior",
          "medio",
          "medio",
          "medio",
          "fundamental",
          "superior",
          "superior",
          "superior",
          "medio",
          "superior",
          "fundamental",
          "medio",
          "medio",
          "superior",
          "superior",
          "medio",
          "superior",
          "superior",
          "medio",
          "medio",
          "fundamental",
          "medio",
          "medio",
          "fundamental",
          "medio",
          "medio",
          "superior",
          "fundamental",
          "fundamental",
          "superior",
          "medio",
          "medio",
          "medio",
          "superior",
          "medio",
          "superior",
          "medio",
          "superior",
          "fundamental",
          "medio",
          "superior",
          "medio",
          "fundamental",
          "medio",
          "superior",
          "superior",
          "medio",
          "medio",
          "superior",
          "fundamental",
          "medio",
          "medio",
          "superior",
          "fundamental",
          "medio",
          "superior",
          "medio",
          "superior",
          "superior",
          "superior",
          "superior",
          "fundamental",
          "medio",
          "superior",
          "medio",
          "medio",
          "superior",
          "medio",
          "superior",
          "superior",
          "superior",
          "superior",
          "medio",
          "fundamental",
          "medio",
          "medio",
          "superior",
          "fundamental",
          "superior",
          "medio",
          "medio",
          "medio",
          "medio",
          "medio",
          "medio",
          "medio",
          "medio",
          "medio",
          "fundamental",
          "fundamental",
          "medio",
          "medio",
          "superior",
          "medio",
          "fundamental",
          "medio",
          "fundamental",
          "superior",
          "medio",
          "medio",
          "medio",
          "medio",
          "medio",
          "superior",
          "fundamental",
          "medio",
          "medio",
          "medio",
          "medio",
          "medio",
          "medio",
          "superior",
          "superior",
          "medio",
          "medio",
          "superior",
          "superior",
          "medio",
          "medio",
          "medio",
          "medio",
          "medio",
          "medio",
          "fundamental",
          "superior",
          "superior",
          "superior",
          "superior",
          "medio",
          "fundamental",
          "fundamental",
          "medio",
          "medio",
          "fundamental",
          "medio",
          "medio",
          "superior",
          "medio",
          "medio",
          "medio",
          "superior",
          "superior",
          "superior",
          "medio",
          "medio",
          "medio",
          "medio",
          "fundamental",
          "medio",
          "superior",
          "superior",
          "superior",
          "medio",
          "medio",
          "superior",
          "superior",
          "superior",
          "medio",
          "medio",
          "superior",
          "superior",
          "medio",
          "medio",
          "medio",
          "fundamental",
          "fundamental",
          "fundamental",
          "medio",
          "medio",
          "medio",
          "medio",
          "medio",
          "medio",
          "superior",
          "medio",
          "superior",
          "fundamental",
          "medio",
          "medio",
          "fundamental",
          "fundamental",
          "fundamental",
          "medio",
          "medio",
          "medio",
          "superior",
          "fundamental",
          "superior",
          "medio",
          "medio",
          "superior",
          "fundamental",
          "superior",
          "fundamental",
          "medio",
          "fundamental",
          "superior",
          "fundamental",
          "superior",
          "superior",
          "medio",
          "superior",
          "medio",
          "medio",
          "superior",
          "medio",
          "medio",
          "superior",
          "medio",
          "superior",
          "fundamental",
          "superior",
          "medio",
          "fundamental",
          "superior",
          "superior",
          "medio",
          "fundamental",
          "fundamental",
          "fundamental",
          "medio",
          "medio",
          "medio",
          "fundamental",
          "superior",
          "medio",
          "medio",
          "medio",
          "medio",
          "medio",
          "medio",
          "medio",
          "medio",
          "superior",
          "superior",
          "medio",
          "superior",
          "medio",
          "superior",
          "medio",
          "medio",
          "medio",
          "superior",
          "medio",
          "medio",
          "superior",
          "fundamental",
          "medio",
          "medio",
          "superior",
          "medio",
          "medio",
          "medio",
          "superior",
          "medio",
          "medio",
          "fundamental",
          "fundamental",
          "fundamental",
          "superior",
          "medio",
          "medio",
          "superior",
          "superior",
          "fundamental",
          "medio",
          "medio",
          "medio",
          "medio",
          "medio",
          "medio",
          "fundamental",
          "fundamental",
          "superior",
          "medio",
          "medio",
          "medio",
          "superior",
          "superior",
          "medio",
          "superior",
          "fundamental",
          "superior",
          "superior",
          "medio",
          "medio",
          "medio",
          "fundamental",
          "medio",
          "medio",
          "medio",
          "fundamental",
          "superior",
          "superior",
          "medio",
          "medio",
          "medio",
          "medio",
          "superior",
          "medio",
          "superior",
          "superior",
          "medio",
          "medio",
          "medio",
          "superior",
          "fundamental",
          "medio",
          "medio",
          "fundamental",
          "medio",
          "medio",
          "fundamental",
          "superior",
          "medio",
          "medio",
          "superior",
          "medio",
          "fundamental",
          "superior",
          "medio",
          "fundamental",
          "superior",
          "superior",
          "medio",
          "superior",
          "fundamental",
          "superior",
          "medio",
          "fundamental",
          "medio",
          "medio",
          "superior",
          "fundamental",
          "medio",
          "medio",
          "medio",
          "medio",
          "medio",
          "medio",
          "fundamental",
          "medio",
          "medio",
          "medio",
          "medio",
          "medio",
          "superior",
          "medio",
          "medio",
          "superior",
          "superior",
          "medio",
          "superior",
          "fundamental",
          "superior",
          "fundamental",
          "superior",
          "medio",
          "medio",
          "medio",
          "medio",
          "medio",
          "fundamental",
          "medio",
          "medio",
          "fundamental",
          "medio",
          "superior",
          "superior",
          "superior",
          "medio",
          "medio",
          "medio",
          "medio",
          "medio",
          "medio"
         ],
         "xaxis": "x",
         "yaxis": "y"
        }
       ],
       "layout": {
        "barmode": "group",
        "legend": {
         "title": {
          "text": "aderencia_investimento"
         },
         "tracegroupgap": 0
        },
        "margin": {
         "t": 60
        },
        "template": {
         "data": {
          "bar": [
           {
            "error_x": {
             "color": "#2a3f5f"
            },
            "error_y": {
             "color": "#2a3f5f"
            },
            "marker": {
             "line": {
              "color": "#E5ECF6",
              "width": 0.5
             },
             "pattern": {
              "fillmode": "overlay",
              "size": 10,
              "solidity": 0.2
             }
            },
            "type": "bar"
           }
          ],
          "barpolar": [
           {
            "marker": {
             "line": {
              "color": "#E5ECF6",
              "width": 0.5
             },
             "pattern": {
              "fillmode": "overlay",
              "size": 10,
              "solidity": 0.2
             }
            },
            "type": "barpolar"
           }
          ],
          "carpet": [
           {
            "aaxis": {
             "endlinecolor": "#2a3f5f",
             "gridcolor": "white",
             "linecolor": "white",
             "minorgridcolor": "white",
             "startlinecolor": "#2a3f5f"
            },
            "baxis": {
             "endlinecolor": "#2a3f5f",
             "gridcolor": "white",
             "linecolor": "white",
             "minorgridcolor": "white",
             "startlinecolor": "#2a3f5f"
            },
            "type": "carpet"
           }
          ],
          "choropleth": [
           {
            "colorbar": {
             "outlinewidth": 0,
             "ticks": ""
            },
            "type": "choropleth"
           }
          ],
          "contour": [
           {
            "colorbar": {
             "outlinewidth": 0,
             "ticks": ""
            },
            "colorscale": [
             [
              0,
              "#0d0887"
             ],
             [
              0.1111111111111111,
              "#46039f"
             ],
             [
              0.2222222222222222,
              "#7201a8"
             ],
             [
              0.3333333333333333,
              "#9c179e"
             ],
             [
              0.4444444444444444,
              "#bd3786"
             ],
             [
              0.5555555555555556,
              "#d8576b"
             ],
             [
              0.6666666666666666,
              "#ed7953"
             ],
             [
              0.7777777777777778,
              "#fb9f3a"
             ],
             [
              0.8888888888888888,
              "#fdca26"
             ],
             [
              1,
              "#f0f921"
             ]
            ],
            "type": "contour"
           }
          ],
          "contourcarpet": [
           {
            "colorbar": {
             "outlinewidth": 0,
             "ticks": ""
            },
            "type": "contourcarpet"
           }
          ],
          "heatmap": [
           {
            "colorbar": {
             "outlinewidth": 0,
             "ticks": ""
            },
            "colorscale": [
             [
              0,
              "#0d0887"
             ],
             [
              0.1111111111111111,
              "#46039f"
             ],
             [
              0.2222222222222222,
              "#7201a8"
             ],
             [
              0.3333333333333333,
              "#9c179e"
             ],
             [
              0.4444444444444444,
              "#bd3786"
             ],
             [
              0.5555555555555556,
              "#d8576b"
             ],
             [
              0.6666666666666666,
              "#ed7953"
             ],
             [
              0.7777777777777778,
              "#fb9f3a"
             ],
             [
              0.8888888888888888,
              "#fdca26"
             ],
             [
              1,
              "#f0f921"
             ]
            ],
            "type": "heatmap"
           }
          ],
          "histogram": [
           {
            "marker": {
             "pattern": {
              "fillmode": "overlay",
              "size": 10,
              "solidity": 0.2
             }
            },
            "type": "histogram"
           }
          ],
          "histogram2d": [
           {
            "colorbar": {
             "outlinewidth": 0,
             "ticks": ""
            },
            "colorscale": [
             [
              0,
              "#0d0887"
             ],
             [
              0.1111111111111111,
              "#46039f"
             ],
             [
              0.2222222222222222,
              "#7201a8"
             ],
             [
              0.3333333333333333,
              "#9c179e"
             ],
             [
              0.4444444444444444,
              "#bd3786"
             ],
             [
              0.5555555555555556,
              "#d8576b"
             ],
             [
              0.6666666666666666,
              "#ed7953"
             ],
             [
              0.7777777777777778,
              "#fb9f3a"
             ],
             [
              0.8888888888888888,
              "#fdca26"
             ],
             [
              1,
              "#f0f921"
             ]
            ],
            "type": "histogram2d"
           }
          ],
          "histogram2dcontour": [
           {
            "colorbar": {
             "outlinewidth": 0,
             "ticks": ""
            },
            "colorscale": [
             [
              0,
              "#0d0887"
             ],
             [
              0.1111111111111111,
              "#46039f"
             ],
             [
              0.2222222222222222,
              "#7201a8"
             ],
             [
              0.3333333333333333,
              "#9c179e"
             ],
             [
              0.4444444444444444,
              "#bd3786"
             ],
             [
              0.5555555555555556,
              "#d8576b"
             ],
             [
              0.6666666666666666,
              "#ed7953"
             ],
             [
              0.7777777777777778,
              "#fb9f3a"
             ],
             [
              0.8888888888888888,
              "#fdca26"
             ],
             [
              1,
              "#f0f921"
             ]
            ],
            "type": "histogram2dcontour"
           }
          ],
          "mesh3d": [
           {
            "colorbar": {
             "outlinewidth": 0,
             "ticks": ""
            },
            "type": "mesh3d"
           }
          ],
          "parcoords": [
           {
            "line": {
             "colorbar": {
              "outlinewidth": 0,
              "ticks": ""
             }
            },
            "type": "parcoords"
           }
          ],
          "pie": [
           {
            "automargin": true,
            "type": "pie"
           }
          ],
          "scatter": [
           {
            "fillpattern": {
             "fillmode": "overlay",
             "size": 10,
             "solidity": 0.2
            },
            "type": "scatter"
           }
          ],
          "scatter3d": [
           {
            "line": {
             "colorbar": {
              "outlinewidth": 0,
              "ticks": ""
             }
            },
            "marker": {
             "colorbar": {
              "outlinewidth": 0,
              "ticks": ""
             }
            },
            "type": "scatter3d"
           }
          ],
          "scattercarpet": [
           {
            "marker": {
             "colorbar": {
              "outlinewidth": 0,
              "ticks": ""
             }
            },
            "type": "scattercarpet"
           }
          ],
          "scattergeo": [
           {
            "marker": {
             "colorbar": {
              "outlinewidth": 0,
              "ticks": ""
             }
            },
            "type": "scattergeo"
           }
          ],
          "scattergl": [
           {
            "marker": {
             "colorbar": {
              "outlinewidth": 0,
              "ticks": ""
             }
            },
            "type": "scattergl"
           }
          ],
          "scattermap": [
           {
            "marker": {
             "colorbar": {
              "outlinewidth": 0,
              "ticks": ""
             }
            },
            "type": "scattermap"
           }
          ],
          "scattermapbox": [
           {
            "marker": {
             "colorbar": {
              "outlinewidth": 0,
              "ticks": ""
             }
            },
            "type": "scattermapbox"
           }
          ],
          "scatterpolar": [
           {
            "marker": {
             "colorbar": {
              "outlinewidth": 0,
              "ticks": ""
             }
            },
            "type": "scatterpolar"
           }
          ],
          "scatterpolargl": [
           {
            "marker": {
             "colorbar": {
              "outlinewidth": 0,
              "ticks": ""
             }
            },
            "type": "scatterpolargl"
           }
          ],
          "scatterternary": [
           {
            "marker": {
             "colorbar": {
              "outlinewidth": 0,
              "ticks": ""
             }
            },
            "type": "scatterternary"
           }
          ],
          "surface": [
           {
            "colorbar": {
             "outlinewidth": 0,
             "ticks": ""
            },
            "colorscale": [
             [
              0,
              "#0d0887"
             ],
             [
              0.1111111111111111,
              "#46039f"
             ],
             [
              0.2222222222222222,
              "#7201a8"
             ],
             [
              0.3333333333333333,
              "#9c179e"
             ],
             [
              0.4444444444444444,
              "#bd3786"
             ],
             [
              0.5555555555555556,
              "#d8576b"
             ],
             [
              0.6666666666666666,
              "#ed7953"
             ],
             [
              0.7777777777777778,
              "#fb9f3a"
             ],
             [
              0.8888888888888888,
              "#fdca26"
             ],
             [
              1,
              "#f0f921"
             ]
            ],
            "type": "surface"
           }
          ],
          "table": [
           {
            "cells": {
             "fill": {
              "color": "#EBF0F8"
             },
             "line": {
              "color": "white"
             }
            },
            "header": {
             "fill": {
              "color": "#C8D4E3"
             },
             "line": {
              "color": "white"
             }
            },
            "type": "table"
           }
          ]
         },
         "layout": {
          "annotationdefaults": {
           "arrowcolor": "#2a3f5f",
           "arrowhead": 0,
           "arrowwidth": 1
          },
          "autotypenumbers": "strict",
          "coloraxis": {
           "colorbar": {
            "outlinewidth": 0,
            "ticks": ""
           }
          },
          "colorscale": {
           "diverging": [
            [
             0,
             "#8e0152"
            ],
            [
             0.1,
             "#c51b7d"
            ],
            [
             0.2,
             "#de77ae"
            ],
            [
             0.3,
             "#f1b6da"
            ],
            [
             0.4,
             "#fde0ef"
            ],
            [
             0.5,
             "#f7f7f7"
            ],
            [
             0.6,
             "#e6f5d0"
            ],
            [
             0.7,
             "#b8e186"
            ],
            [
             0.8,
             "#7fbc41"
            ],
            [
             0.9,
             "#4d9221"
            ],
            [
             1,
             "#276419"
            ]
           ],
           "sequential": [
            [
             0,
             "#0d0887"
            ],
            [
             0.1111111111111111,
             "#46039f"
            ],
            [
             0.2222222222222222,
             "#7201a8"
            ],
            [
             0.3333333333333333,
             "#9c179e"
            ],
            [
             0.4444444444444444,
             "#bd3786"
            ],
            [
             0.5555555555555556,
             "#d8576b"
            ],
            [
             0.6666666666666666,
             "#ed7953"
            ],
            [
             0.7777777777777778,
             "#fb9f3a"
            ],
            [
             0.8888888888888888,
             "#fdca26"
            ],
            [
             1,
             "#f0f921"
            ]
           ],
           "sequentialminus": [
            [
             0,
             "#0d0887"
            ],
            [
             0.1111111111111111,
             "#46039f"
            ],
            [
             0.2222222222222222,
             "#7201a8"
            ],
            [
             0.3333333333333333,
             "#9c179e"
            ],
            [
             0.4444444444444444,
             "#bd3786"
            ],
            [
             0.5555555555555556,
             "#d8576b"
            ],
            [
             0.6666666666666666,
             "#ed7953"
            ],
            [
             0.7777777777777778,
             "#fb9f3a"
            ],
            [
             0.8888888888888888,
             "#fdca26"
            ],
            [
             1,
             "#f0f921"
            ]
           ]
          },
          "colorway": [
           "#636efa",
           "#EF553B",
           "#00cc96",
           "#ab63fa",
           "#FFA15A",
           "#19d3f3",
           "#FF6692",
           "#B6E880",
           "#FF97FF",
           "#FECB52"
          ],
          "font": {
           "color": "#2a3f5f"
          },
          "geo": {
           "bgcolor": "white",
           "lakecolor": "white",
           "landcolor": "#E5ECF6",
           "showlakes": true,
           "showland": true,
           "subunitcolor": "white"
          },
          "hoverlabel": {
           "align": "left"
          },
          "hovermode": "closest",
          "mapbox": {
           "style": "light"
          },
          "paper_bgcolor": "white",
          "plot_bgcolor": "#E5ECF6",
          "polar": {
           "angularaxis": {
            "gridcolor": "white",
            "linecolor": "white",
            "ticks": ""
           },
           "bgcolor": "#E5ECF6",
           "radialaxis": {
            "gridcolor": "white",
            "linecolor": "white",
            "ticks": ""
           }
          },
          "scene": {
           "xaxis": {
            "backgroundcolor": "#E5ECF6",
            "gridcolor": "white",
            "gridwidth": 2,
            "linecolor": "white",
            "showbackground": true,
            "ticks": "",
            "zerolinecolor": "white"
           },
           "yaxis": {
            "backgroundcolor": "#E5ECF6",
            "gridcolor": "white",
            "gridwidth": 2,
            "linecolor": "white",
            "showbackground": true,
            "ticks": "",
            "zerolinecolor": "white"
           },
           "zaxis": {
            "backgroundcolor": "#E5ECF6",
            "gridcolor": "white",
            "gridwidth": 2,
            "linecolor": "white",
            "showbackground": true,
            "ticks": "",
            "zerolinecolor": "white"
           }
          },
          "shapedefaults": {
           "line": {
            "color": "#2a3f5f"
           }
          },
          "ternary": {
           "aaxis": {
            "gridcolor": "white",
            "linecolor": "white",
            "ticks": ""
           },
           "baxis": {
            "gridcolor": "white",
            "linecolor": "white",
            "ticks": ""
           },
           "bgcolor": "#E5ECF6",
           "caxis": {
            "gridcolor": "white",
            "linecolor": "white",
            "ticks": ""
           }
          },
          "title": {
           "x": 0.05
          },
          "xaxis": {
           "automargin": true,
           "gridcolor": "white",
           "linecolor": "white",
           "ticks": "",
           "title": {
            "standoff": 15
           },
           "zerolinecolor": "white",
           "zerolinewidth": 2
          },
          "yaxis": {
           "automargin": true,
           "gridcolor": "white",
           "linecolor": "white",
           "ticks": "",
           "title": {
            "standoff": 15
           },
           "zerolinecolor": "white",
           "zerolinewidth": 2
          }
         }
        },
        "xaxis": {
         "anchor": "y",
         "domain": [
          0,
          1
         ],
         "title": {
          "text": "escolaridade"
         }
        },
        "yaxis": {
         "anchor": "x",
         "domain": [
          0,
          1
         ],
         "title": {
          "text": "count"
         }
        }
       }
      }
     },
     "metadata": {},
     "output_type": "display_data"
    }
   ],
   "source": [
    "px.histogram(dados, x='escolaridade', text_auto = True, color='aderencia_investimento', barmode = 'group')"
   ]
  },
  {
   "cell_type": "code",
   "execution_count": 11,
   "metadata": {},
   "outputs": [
    {
     "data": {
      "application/vnd.plotly.v1+json": {
       "config": {
        "plotlyServerURL": "https://plot.ly"
       },
       "data": [
        {
         "alignmentgroup": "True",
         "bingroup": "x",
         "hovertemplate": "aderencia_investimento=sim<br>inadimplencia=%{x}<br>count=%{y}<extra></extra>",
         "legendgroup": "sim",
         "marker": {
          "color": "#636efa",
          "pattern": {
           "shape": ""
          }
         },
         "name": "sim",
         "offsetgroup": "sim",
         "orientation": "v",
         "showlegend": true,
         "texttemplate": "%{value}",
         "type": "histogram",
         "x": [
          "nao",
          "nao",
          "nao",
          "nao",
          "nao",
          "nao",
          "nao",
          "nao",
          "nao",
          "nao",
          "nao",
          "nao",
          "nao",
          "nao",
          "nao",
          "nao",
          "nao",
          "nao",
          "nao",
          "nao",
          "nao",
          "nao",
          "nao",
          "nao",
          "nao",
          "nao",
          "nao",
          "nao",
          "nao",
          "nao",
          "nao",
          "nao",
          "nao",
          "nao",
          "nao",
          "nao",
          "nao",
          "nao",
          "nao",
          "nao",
          "nao",
          "nao",
          "nao",
          "nao",
          "nao",
          "sim",
          "nao",
          "nao",
          "nao",
          "nao",
          "nao",
          "nao",
          "nao",
          "nao",
          "nao",
          "nao",
          "nao",
          "nao",
          "nao",
          "nao",
          "nao",
          "nao",
          "nao",
          "nao",
          "nao",
          "nao",
          "nao",
          "nao",
          "nao",
          "nao",
          "nao",
          "nao",
          "nao",
          "nao",
          "nao",
          "nao",
          "nao",
          "nao",
          "nao",
          "nao",
          "nao",
          "nao",
          "nao",
          "nao",
          "nao",
          "nao",
          "nao",
          "nao",
          "nao",
          "nao",
          "nao",
          "nao",
          "nao",
          "nao",
          "nao",
          "nao",
          "nao",
          "nao",
          "nao",
          "nao",
          "nao",
          "nao",
          "nao",
          "nao",
          "nao",
          "nao",
          "nao",
          "nao",
          "nao",
          "nao",
          "nao",
          "nao",
          "nao",
          "nao",
          "nao",
          "nao",
          "nao",
          "nao",
          "nao",
          "nao",
          "nao",
          "nao",
          "nao",
          "nao",
          "nao",
          "nao",
          "nao",
          "nao",
          "nao",
          "nao",
          "nao",
          "nao",
          "nao",
          "nao",
          "nao",
          "nao",
          "nao",
          "nao",
          "nao",
          "nao",
          "nao",
          "nao",
          "nao",
          "nao",
          "nao",
          "nao",
          "nao",
          "nao",
          "nao",
          "nao",
          "nao",
          "nao",
          "nao",
          "nao",
          "nao",
          "nao",
          "nao",
          "nao",
          "sim",
          "nao",
          "nao",
          "nao",
          "nao",
          "nao",
          "nao",
          "nao",
          "nao",
          "nao",
          "sim",
          "nao",
          "nao",
          "nao",
          "nao",
          "nao",
          "nao",
          "nao",
          "nao",
          "nao",
          "nao",
          "nao",
          "nao",
          "nao",
          "nao",
          "nao",
          "nao",
          "nao",
          "nao",
          "nao",
          "nao",
          "nao",
          "nao",
          "nao",
          "nao",
          "nao",
          "nao",
          "nao",
          "nao",
          "nao",
          "nao",
          "nao",
          "nao",
          "nao",
          "nao",
          "nao",
          "nao",
          "nao",
          "nao",
          "nao",
          "nao",
          "nao",
          "sim",
          "nao",
          "nao",
          "nao",
          "nao",
          "nao",
          "nao",
          "nao",
          "nao",
          "nao",
          "nao",
          "nao",
          "nao",
          "nao",
          "nao",
          "nao",
          "nao",
          "nao",
          "nao",
          "nao",
          "nao",
          "nao",
          "nao",
          "nao",
          "nao",
          "nao",
          "nao",
          "nao",
          "nao",
          "nao",
          "nao",
          "nao",
          "nao",
          "nao",
          "nao",
          "nao",
          "nao",
          "nao",
          "nao",
          "nao",
          "nao",
          "nao",
          "nao",
          "nao",
          "nao",
          "nao",
          "nao",
          "nao",
          "nao",
          "nao",
          "nao",
          "nao",
          "nao",
          "nao",
          "nao",
          "nao",
          "nao",
          "nao",
          "nao",
          "nao",
          "nao",
          "nao",
          "nao",
          "nao",
          "nao",
          "nao",
          "nao",
          "nao",
          "nao",
          "nao",
          "nao",
          "nao",
          "nao",
          "nao",
          "nao",
          "nao",
          "nao",
          "nao",
          "nao",
          "nao",
          "nao",
          "nao",
          "nao",
          "nao",
          "nao",
          "nao",
          "nao",
          "nao",
          "nao",
          "nao",
          "nao",
          "nao",
          "nao",
          "nao",
          "nao",
          "nao",
          "nao",
          "nao",
          "nao",
          "nao",
          "nao",
          "nao",
          "nao",
          "nao",
          "nao",
          "nao",
          "nao",
          "nao",
          "nao",
          "nao",
          "nao",
          "nao",
          "nao",
          "nao",
          "nao",
          "nao",
          "nao",
          "nao",
          "nao",
          "nao",
          "nao",
          "nao",
          "nao",
          "nao",
          "nao",
          "nao",
          "nao",
          "nao",
          "nao",
          "nao",
          "nao",
          "nao",
          "nao",
          "nao",
          "nao",
          "nao",
          "nao",
          "nao",
          "nao",
          "nao",
          "nao",
          "nao",
          "nao",
          "nao",
          "nao",
          "nao",
          "nao",
          "nao",
          "nao",
          "nao",
          "nao",
          "nao",
          "nao",
          "nao",
          "nao",
          "nao",
          "nao",
          "nao",
          "nao",
          "nao",
          "nao",
          "nao",
          "nao",
          "nao",
          "nao",
          "nao",
          "nao",
          "nao",
          "nao",
          "nao",
          "nao",
          "nao",
          "nao",
          "nao",
          "nao",
          "nao",
          "nao",
          "sim",
          "nao",
          "nao",
          "nao",
          "nao",
          "nao",
          "nao",
          "nao",
          "nao",
          "nao",
          "nao",
          "nao",
          "nao",
          "nao",
          "sim",
          "nao",
          "nao",
          "nao",
          "nao",
          "nao",
          "nao",
          "nao",
          "nao",
          "nao",
          "nao",
          "nao",
          "nao",
          "nao",
          "nao",
          "nao",
          "nao",
          "nao",
          "nao",
          "nao",
          "nao",
          "nao",
          "nao",
          "nao",
          "nao",
          "nao",
          "nao",
          "nao",
          "nao",
          "nao",
          "nao",
          "nao",
          "nao",
          "nao",
          "nao",
          "nao",
          "nao",
          "nao",
          "nao",
          "nao",
          "nao",
          "nao",
          "nao",
          "nao",
          "nao",
          "nao",
          "nao",
          "sim",
          "nao",
          "nao",
          "nao",
          "nao",
          "nao",
          "nao",
          "nao",
          "nao",
          "nao",
          "nao",
          "nao",
          "nao",
          "nao",
          "nao",
          "nao",
          "nao",
          "nao",
          "nao",
          "nao",
          "nao",
          "nao",
          "nao",
          "nao",
          "nao",
          "nao",
          "nao",
          "nao",
          "sim",
          "nao",
          "nao",
          "nao",
          "nao",
          "nao",
          "nao",
          "nao",
          "nao",
          "nao",
          "nao",
          "nao",
          "nao",
          "nao",
          "nao",
          "nao",
          "nao",
          "nao",
          "nao",
          "nao",
          "nao",
          "nao",
          "nao",
          "nao",
          "nao",
          "nao"
         ],
         "xaxis": "x",
         "yaxis": "y"
        },
        {
         "alignmentgroup": "True",
         "bingroup": "x",
         "hovertemplate": "aderencia_investimento=nao<br>inadimplencia=%{x}<br>count=%{y}<extra></extra>",
         "legendgroup": "nao",
         "marker": {
          "color": "#EF553B",
          "pattern": {
           "shape": ""
          }
         },
         "name": "nao",
         "offsetgroup": "nao",
         "orientation": "v",
         "showlegend": true,
         "texttemplate": "%{value}",
         "type": "histogram",
         "x": [
          "nao",
          "nao",
          "nao",
          "nao",
          "nao",
          "nao",
          "nao",
          "nao",
          "nao",
          "nao",
          "nao",
          "nao",
          "nao",
          "nao",
          "nao",
          "nao",
          "nao",
          "nao",
          "nao",
          "nao",
          "nao",
          "nao",
          "nao",
          "sim",
          "nao",
          "nao",
          "nao",
          "nao",
          "nao",
          "nao",
          "nao",
          "nao",
          "nao",
          "nao",
          "nao",
          "nao",
          "nao",
          "nao",
          "nao",
          "nao",
          "nao",
          "nao",
          "nao",
          "nao",
          "nao",
          "nao",
          "nao",
          "nao",
          "nao",
          "nao",
          "nao",
          "nao",
          "nao",
          "nao",
          "nao",
          "nao",
          "sim",
          "nao",
          "nao",
          "nao",
          "nao",
          "nao",
          "nao",
          "nao",
          "nao",
          "nao",
          "nao",
          "nao",
          "nao",
          "nao",
          "nao",
          "nao",
          "nao",
          "nao",
          "nao",
          "nao",
          "nao",
          "nao",
          "nao",
          "nao",
          "nao",
          "nao",
          "nao",
          "nao",
          "nao",
          "nao",
          "nao",
          "nao",
          "nao",
          "nao",
          "nao",
          "nao",
          "nao",
          "nao",
          "nao",
          "nao",
          "nao",
          "nao",
          "nao",
          "nao",
          "nao",
          "nao",
          "nao",
          "nao",
          "nao",
          "nao",
          "nao",
          "nao",
          "nao",
          "nao",
          "nao",
          "sim",
          "nao",
          "nao",
          "sim",
          "nao",
          "nao",
          "nao",
          "nao",
          "nao",
          "nao",
          "nao",
          "nao",
          "nao",
          "nao",
          "nao",
          "nao",
          "nao",
          "nao",
          "nao",
          "nao",
          "nao",
          "nao",
          "nao",
          "nao",
          "nao",
          "nao",
          "nao",
          "nao",
          "nao",
          "nao",
          "nao",
          "nao",
          "nao",
          "nao",
          "nao",
          "nao",
          "nao",
          "nao",
          "nao",
          "nao",
          "nao",
          "nao",
          "nao",
          "nao",
          "nao",
          "nao",
          "nao",
          "nao",
          "nao",
          "nao",
          "nao",
          "nao",
          "nao",
          "sim",
          "nao",
          "nao",
          "nao",
          "nao",
          "nao",
          "nao",
          "nao",
          "nao",
          "nao",
          "nao",
          "nao",
          "nao",
          "nao",
          "nao",
          "nao",
          "nao",
          "nao",
          "nao",
          "nao",
          "nao",
          "nao",
          "nao",
          "nao",
          "nao",
          "nao",
          "nao",
          "nao",
          "nao",
          "nao",
          "nao",
          "nao",
          "nao",
          "nao",
          "nao",
          "nao",
          "nao",
          "nao",
          "nao",
          "nao",
          "nao",
          "nao",
          "nao",
          "nao",
          "nao",
          "nao",
          "nao",
          "nao",
          "nao",
          "nao",
          "nao",
          "nao",
          "nao",
          "nao",
          "nao",
          "nao",
          "nao",
          "nao",
          "nao",
          "nao",
          "nao",
          "nao",
          "nao",
          "nao",
          "nao",
          "nao",
          "nao",
          "nao",
          "nao",
          "nao",
          "nao",
          "nao",
          "nao",
          "nao",
          "nao",
          "nao",
          "nao",
          "nao",
          "nao",
          "nao",
          "nao",
          "nao",
          "nao",
          "nao",
          "nao",
          "nao",
          "nao",
          "nao",
          "nao",
          "nao",
          "nao",
          "nao",
          "nao",
          "nao",
          "nao",
          "nao",
          "nao",
          "nao",
          "nao",
          "nao",
          "nao",
          "nao",
          "nao",
          "nao",
          "nao",
          "nao",
          "nao",
          "nao",
          "nao",
          "nao",
          "nao",
          "nao",
          "nao",
          "nao",
          "nao",
          "nao",
          "nao",
          "nao",
          "nao",
          "nao",
          "nao",
          "nao",
          "nao",
          "nao",
          "nao",
          "nao",
          "nao",
          "nao",
          "nao",
          "nao",
          "nao",
          "nao",
          "nao",
          "nao",
          "nao",
          "nao",
          "nao",
          "nao",
          "nao",
          "nao",
          "nao",
          "sim",
          "nao",
          "sim",
          "nao",
          "nao",
          "nao",
          "nao",
          "nao",
          "nao",
          "nao",
          "nao",
          "nao",
          "nao",
          "nao",
          "nao",
          "nao",
          "nao",
          "nao",
          "nao",
          "nao",
          "nao",
          "sim",
          "nao",
          "nao",
          "nao",
          "nao",
          "nao",
          "nao",
          "nao",
          "nao",
          "nao",
          "nao",
          "nao",
          "nao",
          "nao",
          "nao",
          "nao",
          "nao",
          "nao",
          "nao",
          "nao",
          "nao",
          "nao",
          "nao",
          "nao",
          "nao",
          "nao",
          "nao",
          "nao",
          "nao",
          "nao",
          "nao",
          "nao",
          "nao",
          "nao",
          "nao",
          "nao",
          "nao",
          "nao",
          "sim",
          "nao",
          "nao",
          "nao",
          "nao",
          "nao",
          "nao",
          "nao",
          "nao",
          "nao",
          "nao",
          "nao",
          "nao",
          "nao",
          "nao",
          "nao",
          "nao",
          "nao",
          "nao",
          "nao",
          "nao",
          "nao",
          "nao",
          "nao",
          "nao",
          "nao",
          "nao",
          "nao",
          "nao",
          "nao",
          "nao",
          "nao",
          "nao",
          "nao",
          "nao",
          "nao",
          "nao",
          "nao",
          "nao",
          "nao",
          "nao",
          "nao",
          "nao",
          "nao",
          "nao",
          "nao",
          "nao",
          "nao",
          "nao",
          "nao",
          "nao",
          "nao",
          "nao",
          "nao",
          "nao",
          "nao",
          "nao",
          "nao",
          "nao",
          "nao",
          "nao",
          "nao",
          "nao",
          "nao",
          "nao",
          "nao",
          "nao",
          "nao",
          "nao",
          "nao",
          "nao",
          "nao",
          "nao",
          "nao",
          "nao",
          "nao",
          "nao",
          "nao",
          "nao",
          "nao",
          "nao",
          "nao",
          "nao",
          "nao",
          "sim",
          "nao",
          "nao",
          "nao",
          "nao",
          "nao",
          "nao",
          "nao",
          "nao",
          "nao",
          "nao",
          "nao",
          "nao",
          "nao",
          "nao",
          "nao",
          "nao",
          "nao",
          "nao",
          "nao",
          "nao",
          "nao",
          "nao",
          "nao",
          "nao",
          "nao",
          "nao",
          "nao",
          "nao",
          "nao",
          "nao",
          "nao",
          "nao",
          "nao",
          "nao",
          "nao",
          "nao",
          "nao",
          "nao",
          "nao",
          "nao",
          "nao",
          "nao",
          "nao",
          "nao",
          "nao",
          "nao",
          "nao",
          "nao",
          "nao",
          "nao",
          "nao",
          "nao",
          "nao",
          "nao",
          "nao",
          "nao",
          "nao",
          "nao",
          "nao",
          "nao",
          "nao",
          "nao",
          "nao",
          "nao",
          "nao",
          "nao",
          "nao",
          "nao",
          "nao",
          "nao",
          "nao",
          "nao",
          "nao",
          "nao",
          "nao",
          "nao",
          "nao",
          "nao",
          "nao",
          "nao",
          "nao",
          "nao",
          "nao",
          "nao",
          "nao",
          "nao",
          "nao",
          "nao",
          "nao",
          "nao",
          "nao",
          "nao",
          "nao",
          "nao",
          "nao",
          "nao",
          "nao",
          "nao",
          "nao",
          "nao",
          "nao",
          "nao",
          "nao",
          "nao",
          "nao",
          "nao",
          "nao",
          "nao",
          "nao",
          "nao",
          "nao",
          "nao",
          "nao",
          "nao",
          "nao",
          "nao",
          "nao",
          "nao",
          "nao",
          "nao",
          "nao",
          "nao",
          "nao",
          "nao",
          "sim",
          "nao",
          "nao",
          "nao",
          "nao",
          "nao",
          "nao",
          "nao",
          "nao",
          "nao",
          "nao",
          "nao",
          "sim",
          "nao",
          "nao",
          "nao",
          "nao",
          "nao",
          "nao",
          "nao",
          "nao",
          "nao",
          "nao",
          "nao",
          "nao",
          "nao",
          "nao",
          "nao",
          "nao",
          "nao",
          "nao",
          "nao",
          "nao",
          "nao",
          "nao",
          "nao",
          "nao",
          "nao",
          "nao",
          "nao",
          "nao",
          "nao",
          "nao",
          "nao",
          "nao",
          "nao",
          "nao",
          "nao",
          "nao",
          "nao",
          "nao",
          "nao",
          "nao",
          "nao",
          "nao",
          "nao",
          "nao",
          "nao",
          "nao",
          "nao",
          "nao",
          "nao",
          "nao",
          "nao",
          "nao",
          "nao",
          "nao",
          "nao",
          "nao",
          "nao",
          "nao",
          "nao",
          "nao",
          "nao",
          "nao",
          "nao",
          "nao",
          "nao",
          "nao",
          "nao",
          "nao",
          "nao",
          "nao",
          "nao",
          "nao",
          "nao",
          "nao",
          "nao",
          "nao",
          "nao",
          "nao",
          "nao",
          "nao",
          "nao",
          "nao",
          "nao",
          "nao",
          "nao",
          "nao",
          "nao",
          "nao",
          "nao",
          "nao",
          "nao",
          "nao",
          "nao",
          "nao",
          "nao",
          "nao",
          "nao",
          "nao",
          "nao",
          "nao",
          "nao",
          "nao",
          "nao",
          "nao",
          "sim",
          "nao",
          "sim",
          "nao",
          "nao",
          "nao",
          "nao",
          "nao",
          "nao",
          "nao",
          "nao",
          "nao",
          "nao",
          "nao",
          "nao",
          "nao",
          "nao",
          "nao",
          "nao",
          "nao",
          "nao",
          "nao",
          "nao",
          "nao",
          "nao",
          "nao",
          "nao",
          "nao",
          "nao",
          "nao",
          "nao",
          "nao",
          "nao",
          "nao",
          "nao",
          "nao",
          "nao",
          "nao",
          "nao",
          "nao",
          "nao",
          "nao",
          "nao",
          "nao",
          "nao",
          "nao",
          "sim",
          "nao",
          "nao",
          "nao",
          "nao",
          "nao",
          "nao",
          "nao",
          "nao",
          "nao",
          "nao",
          "nao",
          "nao",
          "nao",
          "nao",
          "nao",
          "nao",
          "nao",
          "nao",
          "nao",
          "nao",
          "nao",
          "nao",
          "nao",
          "nao",
          "nao",
          "nao",
          "nao",
          "nao",
          "nao"
         ],
         "xaxis": "x",
         "yaxis": "y"
        }
       ],
       "layout": {
        "barmode": "group",
        "legend": {
         "title": {
          "text": "aderencia_investimento"
         },
         "tracegroupgap": 0
        },
        "margin": {
         "t": 60
        },
        "template": {
         "data": {
          "bar": [
           {
            "error_x": {
             "color": "#2a3f5f"
            },
            "error_y": {
             "color": "#2a3f5f"
            },
            "marker": {
             "line": {
              "color": "#E5ECF6",
              "width": 0.5
             },
             "pattern": {
              "fillmode": "overlay",
              "size": 10,
              "solidity": 0.2
             }
            },
            "type": "bar"
           }
          ],
          "barpolar": [
           {
            "marker": {
             "line": {
              "color": "#E5ECF6",
              "width": 0.5
             },
             "pattern": {
              "fillmode": "overlay",
              "size": 10,
              "solidity": 0.2
             }
            },
            "type": "barpolar"
           }
          ],
          "carpet": [
           {
            "aaxis": {
             "endlinecolor": "#2a3f5f",
             "gridcolor": "white",
             "linecolor": "white",
             "minorgridcolor": "white",
             "startlinecolor": "#2a3f5f"
            },
            "baxis": {
             "endlinecolor": "#2a3f5f",
             "gridcolor": "white",
             "linecolor": "white",
             "minorgridcolor": "white",
             "startlinecolor": "#2a3f5f"
            },
            "type": "carpet"
           }
          ],
          "choropleth": [
           {
            "colorbar": {
             "outlinewidth": 0,
             "ticks": ""
            },
            "type": "choropleth"
           }
          ],
          "contour": [
           {
            "colorbar": {
             "outlinewidth": 0,
             "ticks": ""
            },
            "colorscale": [
             [
              0,
              "#0d0887"
             ],
             [
              0.1111111111111111,
              "#46039f"
             ],
             [
              0.2222222222222222,
              "#7201a8"
             ],
             [
              0.3333333333333333,
              "#9c179e"
             ],
             [
              0.4444444444444444,
              "#bd3786"
             ],
             [
              0.5555555555555556,
              "#d8576b"
             ],
             [
              0.6666666666666666,
              "#ed7953"
             ],
             [
              0.7777777777777778,
              "#fb9f3a"
             ],
             [
              0.8888888888888888,
              "#fdca26"
             ],
             [
              1,
              "#f0f921"
             ]
            ],
            "type": "contour"
           }
          ],
          "contourcarpet": [
           {
            "colorbar": {
             "outlinewidth": 0,
             "ticks": ""
            },
            "type": "contourcarpet"
           }
          ],
          "heatmap": [
           {
            "colorbar": {
             "outlinewidth": 0,
             "ticks": ""
            },
            "colorscale": [
             [
              0,
              "#0d0887"
             ],
             [
              0.1111111111111111,
              "#46039f"
             ],
             [
              0.2222222222222222,
              "#7201a8"
             ],
             [
              0.3333333333333333,
              "#9c179e"
             ],
             [
              0.4444444444444444,
              "#bd3786"
             ],
             [
              0.5555555555555556,
              "#d8576b"
             ],
             [
              0.6666666666666666,
              "#ed7953"
             ],
             [
              0.7777777777777778,
              "#fb9f3a"
             ],
             [
              0.8888888888888888,
              "#fdca26"
             ],
             [
              1,
              "#f0f921"
             ]
            ],
            "type": "heatmap"
           }
          ],
          "histogram": [
           {
            "marker": {
             "pattern": {
              "fillmode": "overlay",
              "size": 10,
              "solidity": 0.2
             }
            },
            "type": "histogram"
           }
          ],
          "histogram2d": [
           {
            "colorbar": {
             "outlinewidth": 0,
             "ticks": ""
            },
            "colorscale": [
             [
              0,
              "#0d0887"
             ],
             [
              0.1111111111111111,
              "#46039f"
             ],
             [
              0.2222222222222222,
              "#7201a8"
             ],
             [
              0.3333333333333333,
              "#9c179e"
             ],
             [
              0.4444444444444444,
              "#bd3786"
             ],
             [
              0.5555555555555556,
              "#d8576b"
             ],
             [
              0.6666666666666666,
              "#ed7953"
             ],
             [
              0.7777777777777778,
              "#fb9f3a"
             ],
             [
              0.8888888888888888,
              "#fdca26"
             ],
             [
              1,
              "#f0f921"
             ]
            ],
            "type": "histogram2d"
           }
          ],
          "histogram2dcontour": [
           {
            "colorbar": {
             "outlinewidth": 0,
             "ticks": ""
            },
            "colorscale": [
             [
              0,
              "#0d0887"
             ],
             [
              0.1111111111111111,
              "#46039f"
             ],
             [
              0.2222222222222222,
              "#7201a8"
             ],
             [
              0.3333333333333333,
              "#9c179e"
             ],
             [
              0.4444444444444444,
              "#bd3786"
             ],
             [
              0.5555555555555556,
              "#d8576b"
             ],
             [
              0.6666666666666666,
              "#ed7953"
             ],
             [
              0.7777777777777778,
              "#fb9f3a"
             ],
             [
              0.8888888888888888,
              "#fdca26"
             ],
             [
              1,
              "#f0f921"
             ]
            ],
            "type": "histogram2dcontour"
           }
          ],
          "mesh3d": [
           {
            "colorbar": {
             "outlinewidth": 0,
             "ticks": ""
            },
            "type": "mesh3d"
           }
          ],
          "parcoords": [
           {
            "line": {
             "colorbar": {
              "outlinewidth": 0,
              "ticks": ""
             }
            },
            "type": "parcoords"
           }
          ],
          "pie": [
           {
            "automargin": true,
            "type": "pie"
           }
          ],
          "scatter": [
           {
            "fillpattern": {
             "fillmode": "overlay",
             "size": 10,
             "solidity": 0.2
            },
            "type": "scatter"
           }
          ],
          "scatter3d": [
           {
            "line": {
             "colorbar": {
              "outlinewidth": 0,
              "ticks": ""
             }
            },
            "marker": {
             "colorbar": {
              "outlinewidth": 0,
              "ticks": ""
             }
            },
            "type": "scatter3d"
           }
          ],
          "scattercarpet": [
           {
            "marker": {
             "colorbar": {
              "outlinewidth": 0,
              "ticks": ""
             }
            },
            "type": "scattercarpet"
           }
          ],
          "scattergeo": [
           {
            "marker": {
             "colorbar": {
              "outlinewidth": 0,
              "ticks": ""
             }
            },
            "type": "scattergeo"
           }
          ],
          "scattergl": [
           {
            "marker": {
             "colorbar": {
              "outlinewidth": 0,
              "ticks": ""
             }
            },
            "type": "scattergl"
           }
          ],
          "scattermap": [
           {
            "marker": {
             "colorbar": {
              "outlinewidth": 0,
              "ticks": ""
             }
            },
            "type": "scattermap"
           }
          ],
          "scattermapbox": [
           {
            "marker": {
             "colorbar": {
              "outlinewidth": 0,
              "ticks": ""
             }
            },
            "type": "scattermapbox"
           }
          ],
          "scatterpolar": [
           {
            "marker": {
             "colorbar": {
              "outlinewidth": 0,
              "ticks": ""
             }
            },
            "type": "scatterpolar"
           }
          ],
          "scatterpolargl": [
           {
            "marker": {
             "colorbar": {
              "outlinewidth": 0,
              "ticks": ""
             }
            },
            "type": "scatterpolargl"
           }
          ],
          "scatterternary": [
           {
            "marker": {
             "colorbar": {
              "outlinewidth": 0,
              "ticks": ""
             }
            },
            "type": "scatterternary"
           }
          ],
          "surface": [
           {
            "colorbar": {
             "outlinewidth": 0,
             "ticks": ""
            },
            "colorscale": [
             [
              0,
              "#0d0887"
             ],
             [
              0.1111111111111111,
              "#46039f"
             ],
             [
              0.2222222222222222,
              "#7201a8"
             ],
             [
              0.3333333333333333,
              "#9c179e"
             ],
             [
              0.4444444444444444,
              "#bd3786"
             ],
             [
              0.5555555555555556,
              "#d8576b"
             ],
             [
              0.6666666666666666,
              "#ed7953"
             ],
             [
              0.7777777777777778,
              "#fb9f3a"
             ],
             [
              0.8888888888888888,
              "#fdca26"
             ],
             [
              1,
              "#f0f921"
             ]
            ],
            "type": "surface"
           }
          ],
          "table": [
           {
            "cells": {
             "fill": {
              "color": "#EBF0F8"
             },
             "line": {
              "color": "white"
             }
            },
            "header": {
             "fill": {
              "color": "#C8D4E3"
             },
             "line": {
              "color": "white"
             }
            },
            "type": "table"
           }
          ]
         },
         "layout": {
          "annotationdefaults": {
           "arrowcolor": "#2a3f5f",
           "arrowhead": 0,
           "arrowwidth": 1
          },
          "autotypenumbers": "strict",
          "coloraxis": {
           "colorbar": {
            "outlinewidth": 0,
            "ticks": ""
           }
          },
          "colorscale": {
           "diverging": [
            [
             0,
             "#8e0152"
            ],
            [
             0.1,
             "#c51b7d"
            ],
            [
             0.2,
             "#de77ae"
            ],
            [
             0.3,
             "#f1b6da"
            ],
            [
             0.4,
             "#fde0ef"
            ],
            [
             0.5,
             "#f7f7f7"
            ],
            [
             0.6,
             "#e6f5d0"
            ],
            [
             0.7,
             "#b8e186"
            ],
            [
             0.8,
             "#7fbc41"
            ],
            [
             0.9,
             "#4d9221"
            ],
            [
             1,
             "#276419"
            ]
           ],
           "sequential": [
            [
             0,
             "#0d0887"
            ],
            [
             0.1111111111111111,
             "#46039f"
            ],
            [
             0.2222222222222222,
             "#7201a8"
            ],
            [
             0.3333333333333333,
             "#9c179e"
            ],
            [
             0.4444444444444444,
             "#bd3786"
            ],
            [
             0.5555555555555556,
             "#d8576b"
            ],
            [
             0.6666666666666666,
             "#ed7953"
            ],
            [
             0.7777777777777778,
             "#fb9f3a"
            ],
            [
             0.8888888888888888,
             "#fdca26"
            ],
            [
             1,
             "#f0f921"
            ]
           ],
           "sequentialminus": [
            [
             0,
             "#0d0887"
            ],
            [
             0.1111111111111111,
             "#46039f"
            ],
            [
             0.2222222222222222,
             "#7201a8"
            ],
            [
             0.3333333333333333,
             "#9c179e"
            ],
            [
             0.4444444444444444,
             "#bd3786"
            ],
            [
             0.5555555555555556,
             "#d8576b"
            ],
            [
             0.6666666666666666,
             "#ed7953"
            ],
            [
             0.7777777777777778,
             "#fb9f3a"
            ],
            [
             0.8888888888888888,
             "#fdca26"
            ],
            [
             1,
             "#f0f921"
            ]
           ]
          },
          "colorway": [
           "#636efa",
           "#EF553B",
           "#00cc96",
           "#ab63fa",
           "#FFA15A",
           "#19d3f3",
           "#FF6692",
           "#B6E880",
           "#FF97FF",
           "#FECB52"
          ],
          "font": {
           "color": "#2a3f5f"
          },
          "geo": {
           "bgcolor": "white",
           "lakecolor": "white",
           "landcolor": "#E5ECF6",
           "showlakes": true,
           "showland": true,
           "subunitcolor": "white"
          },
          "hoverlabel": {
           "align": "left"
          },
          "hovermode": "closest",
          "mapbox": {
           "style": "light"
          },
          "paper_bgcolor": "white",
          "plot_bgcolor": "#E5ECF6",
          "polar": {
           "angularaxis": {
            "gridcolor": "white",
            "linecolor": "white",
            "ticks": ""
           },
           "bgcolor": "#E5ECF6",
           "radialaxis": {
            "gridcolor": "white",
            "linecolor": "white",
            "ticks": ""
           }
          },
          "scene": {
           "xaxis": {
            "backgroundcolor": "#E5ECF6",
            "gridcolor": "white",
            "gridwidth": 2,
            "linecolor": "white",
            "showbackground": true,
            "ticks": "",
            "zerolinecolor": "white"
           },
           "yaxis": {
            "backgroundcolor": "#E5ECF6",
            "gridcolor": "white",
            "gridwidth": 2,
            "linecolor": "white",
            "showbackground": true,
            "ticks": "",
            "zerolinecolor": "white"
           },
           "zaxis": {
            "backgroundcolor": "#E5ECF6",
            "gridcolor": "white",
            "gridwidth": 2,
            "linecolor": "white",
            "showbackground": true,
            "ticks": "",
            "zerolinecolor": "white"
           }
          },
          "shapedefaults": {
           "line": {
            "color": "#2a3f5f"
           }
          },
          "ternary": {
           "aaxis": {
            "gridcolor": "white",
            "linecolor": "white",
            "ticks": ""
           },
           "baxis": {
            "gridcolor": "white",
            "linecolor": "white",
            "ticks": ""
           },
           "bgcolor": "#E5ECF6",
           "caxis": {
            "gridcolor": "white",
            "linecolor": "white",
            "ticks": ""
           }
          },
          "title": {
           "x": 0.05
          },
          "xaxis": {
           "automargin": true,
           "gridcolor": "white",
           "linecolor": "white",
           "ticks": "",
           "title": {
            "standoff": 15
           },
           "zerolinecolor": "white",
           "zerolinewidth": 2
          },
          "yaxis": {
           "automargin": true,
           "gridcolor": "white",
           "linecolor": "white",
           "ticks": "",
           "title": {
            "standoff": 15
           },
           "zerolinecolor": "white",
           "zerolinewidth": 2
          }
         }
        },
        "xaxis": {
         "anchor": "y",
         "domain": [
          0,
          1
         ],
         "title": {
          "text": "inadimplencia"
         }
        },
        "yaxis": {
         "anchor": "x",
         "domain": [
          0,
          1
         ],
         "title": {
          "text": "count"
         }
        }
       }
      }
     },
     "metadata": {},
     "output_type": "display_data"
    }
   ],
   "source": [
    "px.histogram(dados, x='inadimplencia', text_auto = True, color='aderencia_investimento', barmode = 'group')"
   ]
  },
  {
   "cell_type": "code",
   "execution_count": 12,
   "metadata": {},
   "outputs": [
    {
     "data": {
      "application/vnd.plotly.v1+json": {
       "config": {
        "plotlyServerURL": "https://plot.ly"
       },
       "data": [
        {
         "alignmentgroup": "True",
         "bingroup": "x",
         "hovertemplate": "aderencia_investimento=sim<br>fez_emprestimo=%{x}<br>count=%{y}<extra></extra>",
         "legendgroup": "sim",
         "marker": {
          "color": "#636efa",
          "pattern": {
           "shape": ""
          }
         },
         "name": "sim",
         "offsetgroup": "sim",
         "orientation": "v",
         "showlegend": true,
         "texttemplate": "%{value}",
         "type": "histogram",
         "x": [
          "nao",
          "nao",
          "nao",
          "nao",
          "sim",
          "nao",
          "sim",
          "nao",
          "nao",
          "nao",
          "nao",
          "nao",
          "nao",
          "nao",
          "nao",
          "nao",
          "nao",
          "sim",
          "nao",
          "nao",
          "nao",
          "nao",
          "nao",
          "nao",
          "nao",
          "nao",
          "nao",
          "nao",
          "sim",
          "nao",
          "nao",
          "nao",
          "nao",
          "nao",
          "nao",
          "nao",
          "nao",
          "nao",
          "nao",
          "nao",
          "nao",
          "nao",
          "sim",
          "nao",
          "nao",
          "nao",
          "nao",
          "nao",
          "nao",
          "nao",
          "nao",
          "nao",
          "nao",
          "nao",
          "nao",
          "nao",
          "nao",
          "nao",
          "nao",
          "sim",
          "nao",
          "nao",
          "nao",
          "nao",
          "nao",
          "nao",
          "nao",
          "nao",
          "nao",
          "nao",
          "nao",
          "sim",
          "nao",
          "nao",
          "nao",
          "nao",
          "sim",
          "nao",
          "nao",
          "nao",
          "nao",
          "nao",
          "nao",
          "nao",
          "nao",
          "nao",
          "nao",
          "nao",
          "nao",
          "nao",
          "nao",
          "nao",
          "nao",
          "nao",
          "nao",
          "nao",
          "nao",
          "nao",
          "nao",
          "nao",
          "sim",
          "nao",
          "nao",
          "nao",
          "nao",
          "nao",
          "nao",
          "nao",
          "nao",
          "nao",
          "nao",
          "nao",
          "nao",
          "nao",
          "nao",
          "nao",
          "nao",
          "nao",
          "nao",
          "nao",
          "nao",
          "nao",
          "nao",
          "nao",
          "nao",
          "nao",
          "sim",
          "nao",
          "nao",
          "nao",
          "nao",
          "nao",
          "nao",
          "nao",
          "nao",
          "sim",
          "nao",
          "nao",
          "nao",
          "nao",
          "nao",
          "nao",
          "nao",
          "nao",
          "nao",
          "nao",
          "nao",
          "sim",
          "nao",
          "nao",
          "nao",
          "nao",
          "nao",
          "nao",
          "nao",
          "nao",
          "nao",
          "nao",
          "sim",
          "nao",
          "nao",
          "nao",
          "nao",
          "nao",
          "nao",
          "nao",
          "nao",
          "nao",
          "sim",
          "nao",
          "nao",
          "sim",
          "nao",
          "sim",
          "nao",
          "nao",
          "nao",
          "nao",
          "nao",
          "nao",
          "nao",
          "nao",
          "nao",
          "nao",
          "nao",
          "nao",
          "nao",
          "nao",
          "nao",
          "nao",
          "nao",
          "nao",
          "nao",
          "nao",
          "nao",
          "nao",
          "nao",
          "nao",
          "nao",
          "nao",
          "nao",
          "nao",
          "nao",
          "nao",
          "nao",
          "nao",
          "nao",
          "nao",
          "nao",
          "nao",
          "nao",
          "nao",
          "nao",
          "nao",
          "nao",
          "nao",
          "nao",
          "sim",
          "nao",
          "nao",
          "nao",
          "nao",
          "nao",
          "nao",
          "nao",
          "nao",
          "nao",
          "nao",
          "nao",
          "nao",
          "nao",
          "sim",
          "nao",
          "nao",
          "nao",
          "nao",
          "nao",
          "nao",
          "nao",
          "nao",
          "nao",
          "nao",
          "nao",
          "nao",
          "nao",
          "nao",
          "nao",
          "nao",
          "nao",
          "nao",
          "sim",
          "nao",
          "nao",
          "sim",
          "nao",
          "nao",
          "nao",
          "nao",
          "nao",
          "nao",
          "nao",
          "nao",
          "nao",
          "nao",
          "nao",
          "nao",
          "nao",
          "sim",
          "nao",
          "nao",
          "nao",
          "nao",
          "sim",
          "sim",
          "nao",
          "nao",
          "nao",
          "nao",
          "nao",
          "nao",
          "nao",
          "nao",
          "nao",
          "nao",
          "nao",
          "nao",
          "nao",
          "nao",
          "nao",
          "nao",
          "nao",
          "nao",
          "nao",
          "nao",
          "nao",
          "nao",
          "nao",
          "nao",
          "nao",
          "nao",
          "sim",
          "nao",
          "nao",
          "nao",
          "nao",
          "nao",
          "nao",
          "nao",
          "nao",
          "nao",
          "nao",
          "sim",
          "nao",
          "nao",
          "nao",
          "nao",
          "nao",
          "nao",
          "nao",
          "nao",
          "nao",
          "nao",
          "nao",
          "nao",
          "nao",
          "nao",
          "sim",
          "nao",
          "sim",
          "nao",
          "nao",
          "nao",
          "nao",
          "sim",
          "nao",
          "nao",
          "sim",
          "nao",
          "nao",
          "nao",
          "nao",
          "nao",
          "nao",
          "nao",
          "nao",
          "nao",
          "nao",
          "nao",
          "nao",
          "nao",
          "nao",
          "nao",
          "nao",
          "nao",
          "nao",
          "nao",
          "nao",
          "nao",
          "nao",
          "nao",
          "sim",
          "nao",
          "nao",
          "sim",
          "sim",
          "nao",
          "nao",
          "nao",
          "nao",
          "nao",
          "nao",
          "nao",
          "nao",
          "nao",
          "sim",
          "nao",
          "nao",
          "nao",
          "nao",
          "nao",
          "nao",
          "nao",
          "nao",
          "nao",
          "nao",
          "nao",
          "nao",
          "nao",
          "sim",
          "nao",
          "nao",
          "nao",
          "nao",
          "nao",
          "nao",
          "nao",
          "nao",
          "nao",
          "nao",
          "nao",
          "nao",
          "nao",
          "nao",
          "nao",
          "nao",
          "nao",
          "nao",
          "sim",
          "nao",
          "nao",
          "nao",
          "nao",
          "nao",
          "nao",
          "nao",
          "sim",
          "nao",
          "nao",
          "sim",
          "nao",
          "nao",
          "nao",
          "sim",
          "nao",
          "nao",
          "nao",
          "nao",
          "nao",
          "nao",
          "nao",
          "nao",
          "nao",
          "nao",
          "nao",
          "nao",
          "nao",
          "nao",
          "nao",
          "nao",
          "nao",
          "sim",
          "nao",
          "nao",
          "nao",
          "nao",
          "nao",
          "nao",
          "nao",
          "nao",
          "nao",
          "nao",
          "nao",
          "nao",
          "nao",
          "nao",
          "nao",
          "nao",
          "nao",
          "sim",
          "nao",
          "nao",
          "nao",
          "nao",
          "nao",
          "nao",
          "nao",
          "nao",
          "nao",
          "nao",
          "nao",
          "sim",
          "nao",
          "nao",
          "nao",
          "nao",
          "nao",
          "nao",
          "nao",
          "nao",
          "nao",
          "nao",
          "nao",
          "nao",
          "nao",
          "nao",
          "nao",
          "nao",
          "nao",
          "nao",
          "nao",
          "nao",
          "sim",
          "nao",
          "nao",
          "nao",
          "nao",
          "nao",
          "nao",
          "nao",
          "sim",
          "nao",
          "nao"
         ],
         "xaxis": "x",
         "yaxis": "y"
        },
        {
         "alignmentgroup": "True",
         "bingroup": "x",
         "hovertemplate": "aderencia_investimento=nao<br>fez_emprestimo=%{x}<br>count=%{y}<extra></extra>",
         "legendgroup": "nao",
         "marker": {
          "color": "#EF553B",
          "pattern": {
           "shape": ""
          }
         },
         "name": "nao",
         "offsetgroup": "nao",
         "orientation": "v",
         "showlegend": true,
         "texttemplate": "%{value}",
         "type": "histogram",
         "x": [
          "nao",
          "nao",
          "nao",
          "nao",
          "nao",
          "nao",
          "nao",
          "nao",
          "nao",
          "nao",
          "nao",
          "nao",
          "nao",
          "nao",
          "nao",
          "nao",
          "sim",
          "sim",
          "nao",
          "nao",
          "nao",
          "nao",
          "nao",
          "nao",
          "sim",
          "nao",
          "nao",
          "nao",
          "nao",
          "nao",
          "nao",
          "sim",
          "sim",
          "nao",
          "nao",
          "nao",
          "nao",
          "nao",
          "sim",
          "nao",
          "nao",
          "nao",
          "nao",
          "nao",
          "nao",
          "nao",
          "nao",
          "nao",
          "nao",
          "sim",
          "nao",
          "nao",
          "nao",
          "sim",
          "nao",
          "sim",
          "sim",
          "nao",
          "nao",
          "sim",
          "nao",
          "nao",
          "nao",
          "nao",
          "nao",
          "sim",
          "nao",
          "nao",
          "sim",
          "sim",
          "sim",
          "nao",
          "nao",
          "nao",
          "nao",
          "nao",
          "nao",
          "nao",
          "sim",
          "nao",
          "nao",
          "nao",
          "nao",
          "nao",
          "sim",
          "nao",
          "nao",
          "nao",
          "nao",
          "nao",
          "nao",
          "nao",
          "nao",
          "nao",
          "sim",
          "nao",
          "nao",
          "nao",
          "nao",
          "nao",
          "nao",
          "nao",
          "nao",
          "nao",
          "nao",
          "nao",
          "nao",
          "nao",
          "nao",
          "nao",
          "nao",
          "nao",
          "sim",
          "nao",
          "sim",
          "nao",
          "sim",
          "nao",
          "nao",
          "nao",
          "nao",
          "nao",
          "nao",
          "nao",
          "nao",
          "nao",
          "nao",
          "nao",
          "nao",
          "sim",
          "nao",
          "sim",
          "sim",
          "nao",
          "nao",
          "nao",
          "nao",
          "sim",
          "nao",
          "nao",
          "nao",
          "nao",
          "sim",
          "nao",
          "nao",
          "nao",
          "nao",
          "nao",
          "nao",
          "nao",
          "nao",
          "nao",
          "nao",
          "nao",
          "sim",
          "nao",
          "nao",
          "nao",
          "nao",
          "nao",
          "nao",
          "nao",
          "sim",
          "nao",
          "nao",
          "nao",
          "nao",
          "nao",
          "nao",
          "nao",
          "sim",
          "nao",
          "nao",
          "nao",
          "nao",
          "nao",
          "nao",
          "nao",
          "nao",
          "nao",
          "nao",
          "nao",
          "nao",
          "nao",
          "nao",
          "nao",
          "nao",
          "nao",
          "nao",
          "nao",
          "nao",
          "nao",
          "nao",
          "nao",
          "nao",
          "nao",
          "nao",
          "nao",
          "sim",
          "nao",
          "nao",
          "sim",
          "nao",
          "sim",
          "nao",
          "nao",
          "nao",
          "nao",
          "sim",
          "nao",
          "nao",
          "sim",
          "sim",
          "nao",
          "nao",
          "nao",
          "nao",
          "nao",
          "nao",
          "nao",
          "sim",
          "nao",
          "nao",
          "nao",
          "nao",
          "nao",
          "nao",
          "nao",
          "nao",
          "nao",
          "nao",
          "nao",
          "nao",
          "sim",
          "nao",
          "nao",
          "nao",
          "nao",
          "nao",
          "nao",
          "nao",
          "nao",
          "nao",
          "nao",
          "nao",
          "nao",
          "nao",
          "sim",
          "nao",
          "nao",
          "nao",
          "nao",
          "sim",
          "nao",
          "nao",
          "nao",
          "nao",
          "nao",
          "nao",
          "nao",
          "sim",
          "nao",
          "nao",
          "nao",
          "nao",
          "nao",
          "nao",
          "nao",
          "nao",
          "nao",
          "nao",
          "nao",
          "nao",
          "nao",
          "nao",
          "nao",
          "nao",
          "nao",
          "sim",
          "nao",
          "nao",
          "nao",
          "nao",
          "nao",
          "nao",
          "nao",
          "nao",
          "nao",
          "sim",
          "nao",
          "sim",
          "nao",
          "sim",
          "sim",
          "sim",
          "nao",
          "nao",
          "nao",
          "nao",
          "nao",
          "nao",
          "nao",
          "nao",
          "sim",
          "nao",
          "sim",
          "nao",
          "nao",
          "nao",
          "nao",
          "nao",
          "nao",
          "nao",
          "nao",
          "nao",
          "nao",
          "nao",
          "nao",
          "sim",
          "nao",
          "nao",
          "sim",
          "sim",
          "nao",
          "nao",
          "nao",
          "sim",
          "nao",
          "sim",
          "nao",
          "nao",
          "nao",
          "nao",
          "nao",
          "nao",
          "nao",
          "nao",
          "nao",
          "nao",
          "nao",
          "nao",
          "nao",
          "nao",
          "sim",
          "sim",
          "sim",
          "nao",
          "nao",
          "nao",
          "nao",
          "nao",
          "nao",
          "sim",
          "nao",
          "nao",
          "sim",
          "nao",
          "sim",
          "nao",
          "nao",
          "nao",
          "nao",
          "nao",
          "nao",
          "nao",
          "nao",
          "nao",
          "nao",
          "nao",
          "sim",
          "sim",
          "nao",
          "nao",
          "nao",
          "nao",
          "nao",
          "nao",
          "nao",
          "nao",
          "sim",
          "nao",
          "nao",
          "nao",
          "nao",
          "nao",
          "sim",
          "nao",
          "sim",
          "sim",
          "nao",
          "nao",
          "nao",
          "nao",
          "sim",
          "sim",
          "nao",
          "nao",
          "nao",
          "nao",
          "nao",
          "nao",
          "nao",
          "nao",
          "nao",
          "nao",
          "nao",
          "nao",
          "nao",
          "nao",
          "nao",
          "nao",
          "sim",
          "nao",
          "nao",
          "sim",
          "nao",
          "nao",
          "nao",
          "nao",
          "nao",
          "nao",
          "nao",
          "nao",
          "nao",
          "sim",
          "nao",
          "nao",
          "nao",
          "nao",
          "nao",
          "nao",
          "nao",
          "nao",
          "nao",
          "nao",
          "sim",
          "nao",
          "nao",
          "nao",
          "nao",
          "nao",
          "nao",
          "nao",
          "nao",
          "nao",
          "nao",
          "nao",
          "nao",
          "nao",
          "nao",
          "nao",
          "nao",
          "nao",
          "nao",
          "sim",
          "nao",
          "nao",
          "sim",
          "sim",
          "nao",
          "nao",
          "nao",
          "nao",
          "nao",
          "nao",
          "nao",
          "nao",
          "sim",
          "sim",
          "nao",
          "nao",
          "nao",
          "nao",
          "sim",
          "nao",
          "sim",
          "nao",
          "sim",
          "nao",
          "sim",
          "nao",
          "sim",
          "sim",
          "nao",
          "nao",
          "nao",
          "nao",
          "nao",
          "nao",
          "sim",
          "nao",
          "sim",
          "nao",
          "sim",
          "nao",
          "nao",
          "nao",
          "nao",
          "nao",
          "nao",
          "nao",
          "nao",
          "sim",
          "nao",
          "nao",
          "nao",
          "nao",
          "nao",
          "nao",
          "nao",
          "nao",
          "sim",
          "sim",
          "nao",
          "nao",
          "nao",
          "nao",
          "nao",
          "nao",
          "nao",
          "nao",
          "nao",
          "sim",
          "nao",
          "sim",
          "nao",
          "nao",
          "sim",
          "sim",
          "nao",
          "sim",
          "nao",
          "nao",
          "nao",
          "nao",
          "nao",
          "nao",
          "nao",
          "nao",
          "nao",
          "nao",
          "nao",
          "nao",
          "nao",
          "nao",
          "nao",
          "nao",
          "nao",
          "nao",
          "nao",
          "nao",
          "nao",
          "nao",
          "sim",
          "nao",
          "sim",
          "nao",
          "nao",
          "nao",
          "sim",
          "nao",
          "nao",
          "nao",
          "nao",
          "nao",
          "nao",
          "nao",
          "sim",
          "nao",
          "nao",
          "nao",
          "nao",
          "nao",
          "nao",
          "nao",
          "nao",
          "sim",
          "sim",
          "sim",
          "nao",
          "nao",
          "nao",
          "nao",
          "nao",
          "nao",
          "nao",
          "nao",
          "nao",
          "nao",
          "nao",
          "nao",
          "nao",
          "nao",
          "nao",
          "nao",
          "nao",
          "nao",
          "nao",
          "nao",
          "nao",
          "nao",
          "nao",
          "nao",
          "sim",
          "sim",
          "nao",
          "nao",
          "nao",
          "nao",
          "nao",
          "sim",
          "nao",
          "sim",
          "nao",
          "nao",
          "sim",
          "sim",
          "nao",
          "nao",
          "nao",
          "nao",
          "nao",
          "nao",
          "nao",
          "sim",
          "sim",
          "sim",
          "nao",
          "nao",
          "nao",
          "sim",
          "nao",
          "nao",
          "nao",
          "nao",
          "nao",
          "sim",
          "nao",
          "nao",
          "nao",
          "nao",
          "nao",
          "sim",
          "nao",
          "nao",
          "nao",
          "nao",
          "nao",
          "nao",
          "nao",
          "nao",
          "nao",
          "sim",
          "nao",
          "nao",
          "nao",
          "nao",
          "nao",
          "nao",
          "nao",
          "nao",
          "nao",
          "nao",
          "nao",
          "nao",
          "nao",
          "nao",
          "nao",
          "nao",
          "nao",
          "nao",
          "nao",
          "nao",
          "nao",
          "nao",
          "nao",
          "nao",
          "nao",
          "nao",
          "nao",
          "nao",
          "nao",
          "nao",
          "nao",
          "nao",
          "sim",
          "nao",
          "nao",
          "nao",
          "nao",
          "nao",
          "nao",
          "nao",
          "nao",
          "nao",
          "nao",
          "nao",
          "nao",
          "nao",
          "sim",
          "nao",
          "nao",
          "sim",
          "nao",
          "nao",
          "nao",
          "nao",
          "nao",
          "nao",
          "nao",
          "nao",
          "nao",
          "nao",
          "nao",
          "sim",
          "nao",
          "nao",
          "nao",
          "sim",
          "nao",
          "sim",
          "nao",
          "sim",
          "nao",
          "nao",
          "nao",
          "nao",
          "nao",
          "nao",
          "nao",
          "nao",
          "sim",
          "nao",
          "sim",
          "sim",
          "nao",
          "nao",
          "nao",
          "nao",
          "nao",
          "nao",
          "nao",
          "nao",
          "nao",
          "nao",
          "nao",
          "nao",
          "nao",
          "nao",
          "nao",
          "nao",
          "nao",
          "sim",
          "sim",
          "nao",
          "nao",
          "nao",
          "nao",
          "nao",
          "nao",
          "nao",
          "nao",
          "nao",
          "nao",
          "sim",
          "sim"
         ],
         "xaxis": "x",
         "yaxis": "y"
        }
       ],
       "layout": {
        "barmode": "group",
        "legend": {
         "title": {
          "text": "aderencia_investimento"
         },
         "tracegroupgap": 0
        },
        "margin": {
         "t": 60
        },
        "template": {
         "data": {
          "bar": [
           {
            "error_x": {
             "color": "#2a3f5f"
            },
            "error_y": {
             "color": "#2a3f5f"
            },
            "marker": {
             "line": {
              "color": "#E5ECF6",
              "width": 0.5
             },
             "pattern": {
              "fillmode": "overlay",
              "size": 10,
              "solidity": 0.2
             }
            },
            "type": "bar"
           }
          ],
          "barpolar": [
           {
            "marker": {
             "line": {
              "color": "#E5ECF6",
              "width": 0.5
             },
             "pattern": {
              "fillmode": "overlay",
              "size": 10,
              "solidity": 0.2
             }
            },
            "type": "barpolar"
           }
          ],
          "carpet": [
           {
            "aaxis": {
             "endlinecolor": "#2a3f5f",
             "gridcolor": "white",
             "linecolor": "white",
             "minorgridcolor": "white",
             "startlinecolor": "#2a3f5f"
            },
            "baxis": {
             "endlinecolor": "#2a3f5f",
             "gridcolor": "white",
             "linecolor": "white",
             "minorgridcolor": "white",
             "startlinecolor": "#2a3f5f"
            },
            "type": "carpet"
           }
          ],
          "choropleth": [
           {
            "colorbar": {
             "outlinewidth": 0,
             "ticks": ""
            },
            "type": "choropleth"
           }
          ],
          "contour": [
           {
            "colorbar": {
             "outlinewidth": 0,
             "ticks": ""
            },
            "colorscale": [
             [
              0,
              "#0d0887"
             ],
             [
              0.1111111111111111,
              "#46039f"
             ],
             [
              0.2222222222222222,
              "#7201a8"
             ],
             [
              0.3333333333333333,
              "#9c179e"
             ],
             [
              0.4444444444444444,
              "#bd3786"
             ],
             [
              0.5555555555555556,
              "#d8576b"
             ],
             [
              0.6666666666666666,
              "#ed7953"
             ],
             [
              0.7777777777777778,
              "#fb9f3a"
             ],
             [
              0.8888888888888888,
              "#fdca26"
             ],
             [
              1,
              "#f0f921"
             ]
            ],
            "type": "contour"
           }
          ],
          "contourcarpet": [
           {
            "colorbar": {
             "outlinewidth": 0,
             "ticks": ""
            },
            "type": "contourcarpet"
           }
          ],
          "heatmap": [
           {
            "colorbar": {
             "outlinewidth": 0,
             "ticks": ""
            },
            "colorscale": [
             [
              0,
              "#0d0887"
             ],
             [
              0.1111111111111111,
              "#46039f"
             ],
             [
              0.2222222222222222,
              "#7201a8"
             ],
             [
              0.3333333333333333,
              "#9c179e"
             ],
             [
              0.4444444444444444,
              "#bd3786"
             ],
             [
              0.5555555555555556,
              "#d8576b"
             ],
             [
              0.6666666666666666,
              "#ed7953"
             ],
             [
              0.7777777777777778,
              "#fb9f3a"
             ],
             [
              0.8888888888888888,
              "#fdca26"
             ],
             [
              1,
              "#f0f921"
             ]
            ],
            "type": "heatmap"
           }
          ],
          "histogram": [
           {
            "marker": {
             "pattern": {
              "fillmode": "overlay",
              "size": 10,
              "solidity": 0.2
             }
            },
            "type": "histogram"
           }
          ],
          "histogram2d": [
           {
            "colorbar": {
             "outlinewidth": 0,
             "ticks": ""
            },
            "colorscale": [
             [
              0,
              "#0d0887"
             ],
             [
              0.1111111111111111,
              "#46039f"
             ],
             [
              0.2222222222222222,
              "#7201a8"
             ],
             [
              0.3333333333333333,
              "#9c179e"
             ],
             [
              0.4444444444444444,
              "#bd3786"
             ],
             [
              0.5555555555555556,
              "#d8576b"
             ],
             [
              0.6666666666666666,
              "#ed7953"
             ],
             [
              0.7777777777777778,
              "#fb9f3a"
             ],
             [
              0.8888888888888888,
              "#fdca26"
             ],
             [
              1,
              "#f0f921"
             ]
            ],
            "type": "histogram2d"
           }
          ],
          "histogram2dcontour": [
           {
            "colorbar": {
             "outlinewidth": 0,
             "ticks": ""
            },
            "colorscale": [
             [
              0,
              "#0d0887"
             ],
             [
              0.1111111111111111,
              "#46039f"
             ],
             [
              0.2222222222222222,
              "#7201a8"
             ],
             [
              0.3333333333333333,
              "#9c179e"
             ],
             [
              0.4444444444444444,
              "#bd3786"
             ],
             [
              0.5555555555555556,
              "#d8576b"
             ],
             [
              0.6666666666666666,
              "#ed7953"
             ],
             [
              0.7777777777777778,
              "#fb9f3a"
             ],
             [
              0.8888888888888888,
              "#fdca26"
             ],
             [
              1,
              "#f0f921"
             ]
            ],
            "type": "histogram2dcontour"
           }
          ],
          "mesh3d": [
           {
            "colorbar": {
             "outlinewidth": 0,
             "ticks": ""
            },
            "type": "mesh3d"
           }
          ],
          "parcoords": [
           {
            "line": {
             "colorbar": {
              "outlinewidth": 0,
              "ticks": ""
             }
            },
            "type": "parcoords"
           }
          ],
          "pie": [
           {
            "automargin": true,
            "type": "pie"
           }
          ],
          "scatter": [
           {
            "fillpattern": {
             "fillmode": "overlay",
             "size": 10,
             "solidity": 0.2
            },
            "type": "scatter"
           }
          ],
          "scatter3d": [
           {
            "line": {
             "colorbar": {
              "outlinewidth": 0,
              "ticks": ""
             }
            },
            "marker": {
             "colorbar": {
              "outlinewidth": 0,
              "ticks": ""
             }
            },
            "type": "scatter3d"
           }
          ],
          "scattercarpet": [
           {
            "marker": {
             "colorbar": {
              "outlinewidth": 0,
              "ticks": ""
             }
            },
            "type": "scattercarpet"
           }
          ],
          "scattergeo": [
           {
            "marker": {
             "colorbar": {
              "outlinewidth": 0,
              "ticks": ""
             }
            },
            "type": "scattergeo"
           }
          ],
          "scattergl": [
           {
            "marker": {
             "colorbar": {
              "outlinewidth": 0,
              "ticks": ""
             }
            },
            "type": "scattergl"
           }
          ],
          "scattermap": [
           {
            "marker": {
             "colorbar": {
              "outlinewidth": 0,
              "ticks": ""
             }
            },
            "type": "scattermap"
           }
          ],
          "scattermapbox": [
           {
            "marker": {
             "colorbar": {
              "outlinewidth": 0,
              "ticks": ""
             }
            },
            "type": "scattermapbox"
           }
          ],
          "scatterpolar": [
           {
            "marker": {
             "colorbar": {
              "outlinewidth": 0,
              "ticks": ""
             }
            },
            "type": "scatterpolar"
           }
          ],
          "scatterpolargl": [
           {
            "marker": {
             "colorbar": {
              "outlinewidth": 0,
              "ticks": ""
             }
            },
            "type": "scatterpolargl"
           }
          ],
          "scatterternary": [
           {
            "marker": {
             "colorbar": {
              "outlinewidth": 0,
              "ticks": ""
             }
            },
            "type": "scatterternary"
           }
          ],
          "surface": [
           {
            "colorbar": {
             "outlinewidth": 0,
             "ticks": ""
            },
            "colorscale": [
             [
              0,
              "#0d0887"
             ],
             [
              0.1111111111111111,
              "#46039f"
             ],
             [
              0.2222222222222222,
              "#7201a8"
             ],
             [
              0.3333333333333333,
              "#9c179e"
             ],
             [
              0.4444444444444444,
              "#bd3786"
             ],
             [
              0.5555555555555556,
              "#d8576b"
             ],
             [
              0.6666666666666666,
              "#ed7953"
             ],
             [
              0.7777777777777778,
              "#fb9f3a"
             ],
             [
              0.8888888888888888,
              "#fdca26"
             ],
             [
              1,
              "#f0f921"
             ]
            ],
            "type": "surface"
           }
          ],
          "table": [
           {
            "cells": {
             "fill": {
              "color": "#EBF0F8"
             },
             "line": {
              "color": "white"
             }
            },
            "header": {
             "fill": {
              "color": "#C8D4E3"
             },
             "line": {
              "color": "white"
             }
            },
            "type": "table"
           }
          ]
         },
         "layout": {
          "annotationdefaults": {
           "arrowcolor": "#2a3f5f",
           "arrowhead": 0,
           "arrowwidth": 1
          },
          "autotypenumbers": "strict",
          "coloraxis": {
           "colorbar": {
            "outlinewidth": 0,
            "ticks": ""
           }
          },
          "colorscale": {
           "diverging": [
            [
             0,
             "#8e0152"
            ],
            [
             0.1,
             "#c51b7d"
            ],
            [
             0.2,
             "#de77ae"
            ],
            [
             0.3,
             "#f1b6da"
            ],
            [
             0.4,
             "#fde0ef"
            ],
            [
             0.5,
             "#f7f7f7"
            ],
            [
             0.6,
             "#e6f5d0"
            ],
            [
             0.7,
             "#b8e186"
            ],
            [
             0.8,
             "#7fbc41"
            ],
            [
             0.9,
             "#4d9221"
            ],
            [
             1,
             "#276419"
            ]
           ],
           "sequential": [
            [
             0,
             "#0d0887"
            ],
            [
             0.1111111111111111,
             "#46039f"
            ],
            [
             0.2222222222222222,
             "#7201a8"
            ],
            [
             0.3333333333333333,
             "#9c179e"
            ],
            [
             0.4444444444444444,
             "#bd3786"
            ],
            [
             0.5555555555555556,
             "#d8576b"
            ],
            [
             0.6666666666666666,
             "#ed7953"
            ],
            [
             0.7777777777777778,
             "#fb9f3a"
            ],
            [
             0.8888888888888888,
             "#fdca26"
            ],
            [
             1,
             "#f0f921"
            ]
           ],
           "sequentialminus": [
            [
             0,
             "#0d0887"
            ],
            [
             0.1111111111111111,
             "#46039f"
            ],
            [
             0.2222222222222222,
             "#7201a8"
            ],
            [
             0.3333333333333333,
             "#9c179e"
            ],
            [
             0.4444444444444444,
             "#bd3786"
            ],
            [
             0.5555555555555556,
             "#d8576b"
            ],
            [
             0.6666666666666666,
             "#ed7953"
            ],
            [
             0.7777777777777778,
             "#fb9f3a"
            ],
            [
             0.8888888888888888,
             "#fdca26"
            ],
            [
             1,
             "#f0f921"
            ]
           ]
          },
          "colorway": [
           "#636efa",
           "#EF553B",
           "#00cc96",
           "#ab63fa",
           "#FFA15A",
           "#19d3f3",
           "#FF6692",
           "#B6E880",
           "#FF97FF",
           "#FECB52"
          ],
          "font": {
           "color": "#2a3f5f"
          },
          "geo": {
           "bgcolor": "white",
           "lakecolor": "white",
           "landcolor": "#E5ECF6",
           "showlakes": true,
           "showland": true,
           "subunitcolor": "white"
          },
          "hoverlabel": {
           "align": "left"
          },
          "hovermode": "closest",
          "mapbox": {
           "style": "light"
          },
          "paper_bgcolor": "white",
          "plot_bgcolor": "#E5ECF6",
          "polar": {
           "angularaxis": {
            "gridcolor": "white",
            "linecolor": "white",
            "ticks": ""
           },
           "bgcolor": "#E5ECF6",
           "radialaxis": {
            "gridcolor": "white",
            "linecolor": "white",
            "ticks": ""
           }
          },
          "scene": {
           "xaxis": {
            "backgroundcolor": "#E5ECF6",
            "gridcolor": "white",
            "gridwidth": 2,
            "linecolor": "white",
            "showbackground": true,
            "ticks": "",
            "zerolinecolor": "white"
           },
           "yaxis": {
            "backgroundcolor": "#E5ECF6",
            "gridcolor": "white",
            "gridwidth": 2,
            "linecolor": "white",
            "showbackground": true,
            "ticks": "",
            "zerolinecolor": "white"
           },
           "zaxis": {
            "backgroundcolor": "#E5ECF6",
            "gridcolor": "white",
            "gridwidth": 2,
            "linecolor": "white",
            "showbackground": true,
            "ticks": "",
            "zerolinecolor": "white"
           }
          },
          "shapedefaults": {
           "line": {
            "color": "#2a3f5f"
           }
          },
          "ternary": {
           "aaxis": {
            "gridcolor": "white",
            "linecolor": "white",
            "ticks": ""
           },
           "baxis": {
            "gridcolor": "white",
            "linecolor": "white",
            "ticks": ""
           },
           "bgcolor": "#E5ECF6",
           "caxis": {
            "gridcolor": "white",
            "linecolor": "white",
            "ticks": ""
           }
          },
          "title": {
           "x": 0.05
          },
          "xaxis": {
           "automargin": true,
           "gridcolor": "white",
           "linecolor": "white",
           "ticks": "",
           "title": {
            "standoff": 15
           },
           "zerolinecolor": "white",
           "zerolinewidth": 2
          },
          "yaxis": {
           "automargin": true,
           "gridcolor": "white",
           "linecolor": "white",
           "ticks": "",
           "title": {
            "standoff": 15
           },
           "zerolinecolor": "white",
           "zerolinewidth": 2
          }
         }
        },
        "xaxis": {
         "anchor": "y",
         "domain": [
          0,
          1
         ],
         "title": {
          "text": "fez_emprestimo"
         }
        },
        "yaxis": {
         "anchor": "x",
         "domain": [
          0,
          1
         ],
         "title": {
          "text": "count"
         }
        }
       }
      }
     },
     "metadata": {},
     "output_type": "display_data"
    }
   ],
   "source": [
    "px.histogram(dados, x='fez_emprestimo', text_auto = True, color='aderencia_investimento', barmode = 'group')"
   ]
  },
  {
   "cell_type": "markdown",
   "metadata": {},
   "source": [
    "Variáveis Numéricas"
   ]
  },
  {
   "cell_type": "code",
   "execution_count": 13,
   "metadata": {},
   "outputs": [
    {
     "data": {
      "application/vnd.plotly.v1+json": {
       "config": {
        "plotlyServerURL": "https://plot.ly"
       },
       "data": [
        {
         "alignmentgroup": "True",
         "hovertemplate": "aderencia_investimento=sim<br>idade=%{x}<extra></extra>",
         "legendgroup": "sim",
         "marker": {
          "color": "#636efa"
         },
         "name": "sim",
         "notched": false,
         "offsetgroup": "sim",
         "orientation": "h",
         "showlegend": true,
         "type": "box",
         "x": {
          "bdata": "LSo6MhgiISFQLh4vHi8gRx8eNDMiOyMWHDwrIzYgMSsUMTAxMSAmHxsgIiEiIEQ8IBUhJzYqLR9TIi8wHSEfOiUcMTkiHk4dOzAxSy5PHCsaQj1INTo0PiU3ISMoGTElSiMhJy8iMy4kKz0fNx4xICQiMSYtNTQrPR87HiMmNS8WIxs/HC8bHS4sICZHSSkmGS5NHjAZIDUzJRwxEzIpUDQfLhwpGy4sKRwsOSseJSQ6NiAsGDc1IyIfIDshHi40LTcgITgiKyApKjU2FyBLJSckJDUjIDFNKS1DLjAbNj8bIDAbITEpI1cgNR8eODEkHCQhICwxIz0kLiovMDwuQjceIigoOzInJS8rJiYjGRkfMi8dOy5LJT8gIjAbITc8LiEeLRc7LB0cIh0iMisvRyIcIDUxIUAZPBYgIh8dHzM9Ux0sJh0uLCkrJzslKCYsKi02HCQ7OyQaGiNAJjsqPDM+GyIaNSQlHiAoKxstExksJhslIykcOCQdITccVCBJTTQ+OCkpHzgnKBwkKh8ZIzseNSAmIhoyJiYiRS8jJyImHTY3MCIZNCgkGCEiRBsvJyQpIiM5IBw3KSM8HCMbSiciOBodISUqPTIdJCAfNS0lNSgbJCIfNz0tLTE3KS8qJSAZJidPGiEvGDUoHiYgJSQ0Ix4qHQ==",
          "dtype": "i1"
         },
         "x0": " ",
         "xaxis": "x",
         "y0": " ",
         "yaxis": "y"
        },
        {
         "alignmentgroup": "True",
         "hovertemplate": "aderencia_investimento=nao<br>idade=%{x}<extra></extra>",
         "legendgroup": "nao",
         "marker": {
          "color": "#EF553B"
         },
         "name": "nao",
         "notched": false,
         "offsetgroup": "nao",
         "orientation": "h",
         "showlegend": true,
         "type": "box",
         "x": {
          "bdata": "FzUeJx4nIiYwJzUmGCw1KRs6My8iKCw3JiY2Kx8kISY5HyIdJikiJTI3LSMxJCkwMTciOSYoLT05TCEgIiUiHy8fIx8jKCYxKCIyKCsnLRoqIUseIDsmNCQyGy0oMCQxJCchHiAdJCkmJCoeHx4bJSI7IyocNzIhIDU8IjYqJCFDIkYjIj0vKBwhNCseOycgKjkhJSwtKRozLi0uKR0pOyIeKiEeJzsnISo0ISQoLTwkNSIxKy4nKSwpGx8ZIDgeHR8lOjkhMyo2HCMuGjsyJDQgNTQpKCIxIhwgIiQ4Kh0tJS4oKiI3ITMqHjIpICA1JCEhOjErUDceGyQjJCAnMiQ0JS8nKRckOjQXIi8yJh8oKDAnIik3OygcJCkbIS8sHxwiHx8iISU6JRwiIhkjJzoaIB8fLSVTMzQdHiMeGi0pFikhKSIhHTEzKCofHx8uIiYbOCElHio0MS8uMyo7GzwmHB8mNzo1HjEZLhwxKzgmISAbHTscICw/MywmKCEkIzggIzkfJzksJjwmJSIxKC4dHxcwJiEqMDAtJyI7KB8hOTokMiItJDUkHB4hKyYgHi0eNSsxIyQtHigoIiQqNCocJykuKCE2MyE4Kx0rOh05NioiHx4fLyweITklJDMrOzYgLSVFKx86OCIvHycmLjkbOho6JSkxJSsiNSEkGiklISQmITAhGyEhITshJC4aKC4aJyQnJyMfLTAvISkfMjclJCQ8ICMgJzI0IyMrNxofHiYwKyMlOikxMTE1MBwkKiQlHCpFLS4oMDQ0ICAfIiA4IicsJyoeNiYjHiAkKCkfOjcnJiIqIx02MCAuMzgjKi46LDY1KSoZRjgjJjIeHickIjUbKjM5OycmLSktNCYoHSMrIilMHiAnJjsvLDQzICE4Izs6HDgqOiAhNyEwPTEkMx4bIRwiLTI2OBkvMxwhJyQlIxopKCQjHx4vLzghHx4eMyUiNikjMSUxOh8qITMkOSIqHisqIi4hGy4fQjkmLRwhIyA6IholKBomOA==",
          "dtype": "i1"
         },
         "x0": " ",
         "xaxis": "x",
         "y0": " ",
         "yaxis": "y"
        }
       ],
       "layout": {
        "boxmode": "group",
        "legend": {
         "title": {
          "text": "aderencia_investimento"
         },
         "tracegroupgap": 0
        },
        "margin": {
         "t": 60
        },
        "template": {
         "data": {
          "bar": [
           {
            "error_x": {
             "color": "#2a3f5f"
            },
            "error_y": {
             "color": "#2a3f5f"
            },
            "marker": {
             "line": {
              "color": "#E5ECF6",
              "width": 0.5
             },
             "pattern": {
              "fillmode": "overlay",
              "size": 10,
              "solidity": 0.2
             }
            },
            "type": "bar"
           }
          ],
          "barpolar": [
           {
            "marker": {
             "line": {
              "color": "#E5ECF6",
              "width": 0.5
             },
             "pattern": {
              "fillmode": "overlay",
              "size": 10,
              "solidity": 0.2
             }
            },
            "type": "barpolar"
           }
          ],
          "carpet": [
           {
            "aaxis": {
             "endlinecolor": "#2a3f5f",
             "gridcolor": "white",
             "linecolor": "white",
             "minorgridcolor": "white",
             "startlinecolor": "#2a3f5f"
            },
            "baxis": {
             "endlinecolor": "#2a3f5f",
             "gridcolor": "white",
             "linecolor": "white",
             "minorgridcolor": "white",
             "startlinecolor": "#2a3f5f"
            },
            "type": "carpet"
           }
          ],
          "choropleth": [
           {
            "colorbar": {
             "outlinewidth": 0,
             "ticks": ""
            },
            "type": "choropleth"
           }
          ],
          "contour": [
           {
            "colorbar": {
             "outlinewidth": 0,
             "ticks": ""
            },
            "colorscale": [
             [
              0,
              "#0d0887"
             ],
             [
              0.1111111111111111,
              "#46039f"
             ],
             [
              0.2222222222222222,
              "#7201a8"
             ],
             [
              0.3333333333333333,
              "#9c179e"
             ],
             [
              0.4444444444444444,
              "#bd3786"
             ],
             [
              0.5555555555555556,
              "#d8576b"
             ],
             [
              0.6666666666666666,
              "#ed7953"
             ],
             [
              0.7777777777777778,
              "#fb9f3a"
             ],
             [
              0.8888888888888888,
              "#fdca26"
             ],
             [
              1,
              "#f0f921"
             ]
            ],
            "type": "contour"
           }
          ],
          "contourcarpet": [
           {
            "colorbar": {
             "outlinewidth": 0,
             "ticks": ""
            },
            "type": "contourcarpet"
           }
          ],
          "heatmap": [
           {
            "colorbar": {
             "outlinewidth": 0,
             "ticks": ""
            },
            "colorscale": [
             [
              0,
              "#0d0887"
             ],
             [
              0.1111111111111111,
              "#46039f"
             ],
             [
              0.2222222222222222,
              "#7201a8"
             ],
             [
              0.3333333333333333,
              "#9c179e"
             ],
             [
              0.4444444444444444,
              "#bd3786"
             ],
             [
              0.5555555555555556,
              "#d8576b"
             ],
             [
              0.6666666666666666,
              "#ed7953"
             ],
             [
              0.7777777777777778,
              "#fb9f3a"
             ],
             [
              0.8888888888888888,
              "#fdca26"
             ],
             [
              1,
              "#f0f921"
             ]
            ],
            "type": "heatmap"
           }
          ],
          "histogram": [
           {
            "marker": {
             "pattern": {
              "fillmode": "overlay",
              "size": 10,
              "solidity": 0.2
             }
            },
            "type": "histogram"
           }
          ],
          "histogram2d": [
           {
            "colorbar": {
             "outlinewidth": 0,
             "ticks": ""
            },
            "colorscale": [
             [
              0,
              "#0d0887"
             ],
             [
              0.1111111111111111,
              "#46039f"
             ],
             [
              0.2222222222222222,
              "#7201a8"
             ],
             [
              0.3333333333333333,
              "#9c179e"
             ],
             [
              0.4444444444444444,
              "#bd3786"
             ],
             [
              0.5555555555555556,
              "#d8576b"
             ],
             [
              0.6666666666666666,
              "#ed7953"
             ],
             [
              0.7777777777777778,
              "#fb9f3a"
             ],
             [
              0.8888888888888888,
              "#fdca26"
             ],
             [
              1,
              "#f0f921"
             ]
            ],
            "type": "histogram2d"
           }
          ],
          "histogram2dcontour": [
           {
            "colorbar": {
             "outlinewidth": 0,
             "ticks": ""
            },
            "colorscale": [
             [
              0,
              "#0d0887"
             ],
             [
              0.1111111111111111,
              "#46039f"
             ],
             [
              0.2222222222222222,
              "#7201a8"
             ],
             [
              0.3333333333333333,
              "#9c179e"
             ],
             [
              0.4444444444444444,
              "#bd3786"
             ],
             [
              0.5555555555555556,
              "#d8576b"
             ],
             [
              0.6666666666666666,
              "#ed7953"
             ],
             [
              0.7777777777777778,
              "#fb9f3a"
             ],
             [
              0.8888888888888888,
              "#fdca26"
             ],
             [
              1,
              "#f0f921"
             ]
            ],
            "type": "histogram2dcontour"
           }
          ],
          "mesh3d": [
           {
            "colorbar": {
             "outlinewidth": 0,
             "ticks": ""
            },
            "type": "mesh3d"
           }
          ],
          "parcoords": [
           {
            "line": {
             "colorbar": {
              "outlinewidth": 0,
              "ticks": ""
             }
            },
            "type": "parcoords"
           }
          ],
          "pie": [
           {
            "automargin": true,
            "type": "pie"
           }
          ],
          "scatter": [
           {
            "fillpattern": {
             "fillmode": "overlay",
             "size": 10,
             "solidity": 0.2
            },
            "type": "scatter"
           }
          ],
          "scatter3d": [
           {
            "line": {
             "colorbar": {
              "outlinewidth": 0,
              "ticks": ""
             }
            },
            "marker": {
             "colorbar": {
              "outlinewidth": 0,
              "ticks": ""
             }
            },
            "type": "scatter3d"
           }
          ],
          "scattercarpet": [
           {
            "marker": {
             "colorbar": {
              "outlinewidth": 0,
              "ticks": ""
             }
            },
            "type": "scattercarpet"
           }
          ],
          "scattergeo": [
           {
            "marker": {
             "colorbar": {
              "outlinewidth": 0,
              "ticks": ""
             }
            },
            "type": "scattergeo"
           }
          ],
          "scattergl": [
           {
            "marker": {
             "colorbar": {
              "outlinewidth": 0,
              "ticks": ""
             }
            },
            "type": "scattergl"
           }
          ],
          "scattermap": [
           {
            "marker": {
             "colorbar": {
              "outlinewidth": 0,
              "ticks": ""
             }
            },
            "type": "scattermap"
           }
          ],
          "scattermapbox": [
           {
            "marker": {
             "colorbar": {
              "outlinewidth": 0,
              "ticks": ""
             }
            },
            "type": "scattermapbox"
           }
          ],
          "scatterpolar": [
           {
            "marker": {
             "colorbar": {
              "outlinewidth": 0,
              "ticks": ""
             }
            },
            "type": "scatterpolar"
           }
          ],
          "scatterpolargl": [
           {
            "marker": {
             "colorbar": {
              "outlinewidth": 0,
              "ticks": ""
             }
            },
            "type": "scatterpolargl"
           }
          ],
          "scatterternary": [
           {
            "marker": {
             "colorbar": {
              "outlinewidth": 0,
              "ticks": ""
             }
            },
            "type": "scatterternary"
           }
          ],
          "surface": [
           {
            "colorbar": {
             "outlinewidth": 0,
             "ticks": ""
            },
            "colorscale": [
             [
              0,
              "#0d0887"
             ],
             [
              0.1111111111111111,
              "#46039f"
             ],
             [
              0.2222222222222222,
              "#7201a8"
             ],
             [
              0.3333333333333333,
              "#9c179e"
             ],
             [
              0.4444444444444444,
              "#bd3786"
             ],
             [
              0.5555555555555556,
              "#d8576b"
             ],
             [
              0.6666666666666666,
              "#ed7953"
             ],
             [
              0.7777777777777778,
              "#fb9f3a"
             ],
             [
              0.8888888888888888,
              "#fdca26"
             ],
             [
              1,
              "#f0f921"
             ]
            ],
            "type": "surface"
           }
          ],
          "table": [
           {
            "cells": {
             "fill": {
              "color": "#EBF0F8"
             },
             "line": {
              "color": "white"
             }
            },
            "header": {
             "fill": {
              "color": "#C8D4E3"
             },
             "line": {
              "color": "white"
             }
            },
            "type": "table"
           }
          ]
         },
         "layout": {
          "annotationdefaults": {
           "arrowcolor": "#2a3f5f",
           "arrowhead": 0,
           "arrowwidth": 1
          },
          "autotypenumbers": "strict",
          "coloraxis": {
           "colorbar": {
            "outlinewidth": 0,
            "ticks": ""
           }
          },
          "colorscale": {
           "diverging": [
            [
             0,
             "#8e0152"
            ],
            [
             0.1,
             "#c51b7d"
            ],
            [
             0.2,
             "#de77ae"
            ],
            [
             0.3,
             "#f1b6da"
            ],
            [
             0.4,
             "#fde0ef"
            ],
            [
             0.5,
             "#f7f7f7"
            ],
            [
             0.6,
             "#e6f5d0"
            ],
            [
             0.7,
             "#b8e186"
            ],
            [
             0.8,
             "#7fbc41"
            ],
            [
             0.9,
             "#4d9221"
            ],
            [
             1,
             "#276419"
            ]
           ],
           "sequential": [
            [
             0,
             "#0d0887"
            ],
            [
             0.1111111111111111,
             "#46039f"
            ],
            [
             0.2222222222222222,
             "#7201a8"
            ],
            [
             0.3333333333333333,
             "#9c179e"
            ],
            [
             0.4444444444444444,
             "#bd3786"
            ],
            [
             0.5555555555555556,
             "#d8576b"
            ],
            [
             0.6666666666666666,
             "#ed7953"
            ],
            [
             0.7777777777777778,
             "#fb9f3a"
            ],
            [
             0.8888888888888888,
             "#fdca26"
            ],
            [
             1,
             "#f0f921"
            ]
           ],
           "sequentialminus": [
            [
             0,
             "#0d0887"
            ],
            [
             0.1111111111111111,
             "#46039f"
            ],
            [
             0.2222222222222222,
             "#7201a8"
            ],
            [
             0.3333333333333333,
             "#9c179e"
            ],
            [
             0.4444444444444444,
             "#bd3786"
            ],
            [
             0.5555555555555556,
             "#d8576b"
            ],
            [
             0.6666666666666666,
             "#ed7953"
            ],
            [
             0.7777777777777778,
             "#fb9f3a"
            ],
            [
             0.8888888888888888,
             "#fdca26"
            ],
            [
             1,
             "#f0f921"
            ]
           ]
          },
          "colorway": [
           "#636efa",
           "#EF553B",
           "#00cc96",
           "#ab63fa",
           "#FFA15A",
           "#19d3f3",
           "#FF6692",
           "#B6E880",
           "#FF97FF",
           "#FECB52"
          ],
          "font": {
           "color": "#2a3f5f"
          },
          "geo": {
           "bgcolor": "white",
           "lakecolor": "white",
           "landcolor": "#E5ECF6",
           "showlakes": true,
           "showland": true,
           "subunitcolor": "white"
          },
          "hoverlabel": {
           "align": "left"
          },
          "hovermode": "closest",
          "mapbox": {
           "style": "light"
          },
          "paper_bgcolor": "white",
          "plot_bgcolor": "#E5ECF6",
          "polar": {
           "angularaxis": {
            "gridcolor": "white",
            "linecolor": "white",
            "ticks": ""
           },
           "bgcolor": "#E5ECF6",
           "radialaxis": {
            "gridcolor": "white",
            "linecolor": "white",
            "ticks": ""
           }
          },
          "scene": {
           "xaxis": {
            "backgroundcolor": "#E5ECF6",
            "gridcolor": "white",
            "gridwidth": 2,
            "linecolor": "white",
            "showbackground": true,
            "ticks": "",
            "zerolinecolor": "white"
           },
           "yaxis": {
            "backgroundcolor": "#E5ECF6",
            "gridcolor": "white",
            "gridwidth": 2,
            "linecolor": "white",
            "showbackground": true,
            "ticks": "",
            "zerolinecolor": "white"
           },
           "zaxis": {
            "backgroundcolor": "#E5ECF6",
            "gridcolor": "white",
            "gridwidth": 2,
            "linecolor": "white",
            "showbackground": true,
            "ticks": "",
            "zerolinecolor": "white"
           }
          },
          "shapedefaults": {
           "line": {
            "color": "#2a3f5f"
           }
          },
          "ternary": {
           "aaxis": {
            "gridcolor": "white",
            "linecolor": "white",
            "ticks": ""
           },
           "baxis": {
            "gridcolor": "white",
            "linecolor": "white",
            "ticks": ""
           },
           "bgcolor": "#E5ECF6",
           "caxis": {
            "gridcolor": "white",
            "linecolor": "white",
            "ticks": ""
           }
          },
          "title": {
           "x": 0.05
          },
          "xaxis": {
           "automargin": true,
           "gridcolor": "white",
           "linecolor": "white",
           "ticks": "",
           "title": {
            "standoff": 15
           },
           "zerolinecolor": "white",
           "zerolinewidth": 2
          },
          "yaxis": {
           "automargin": true,
           "gridcolor": "white",
           "linecolor": "white",
           "ticks": "",
           "title": {
            "standoff": 15
           },
           "zerolinecolor": "white",
           "zerolinewidth": 2
          }
         }
        },
        "xaxis": {
         "anchor": "y",
         "domain": [
          0,
          1
         ],
         "title": {
          "text": "idade"
         }
        },
        "yaxis": {
         "anchor": "x",
         "domain": [
          0,
          1
         ]
        }
       }
      }
     },
     "metadata": {},
     "output_type": "display_data"
    }
   ],
   "source": [
    "px.box(dados, x='idade', color='aderencia_investimento')"
   ]
  },
  {
   "cell_type": "code",
   "execution_count": 14,
   "metadata": {},
   "outputs": [
    {
     "data": {
      "application/vnd.plotly.v1+json": {
       "config": {
        "plotlyServerURL": "https://plot.ly"
       },
       "data": [
        {
         "alignmentgroup": "True",
         "hovertemplate": "aderencia_investimento=sim<br>saldo=%{x}<extra></extra>",
         "legendgroup": "sim",
         "marker": {
          "color": "#636efa"
         },
         "name": "sim",
         "notched": false,
         "offsetgroup": "sim",
         "orientation": "h",
         "showlegend": true,
         "type": "box",
         "x": {
          "bdata": "8gAJBWYFHQ2uAN4TiwBrCXAgcAJmADIRYQiPBHYAjDecAHf+TwF1ADkFAwHxBLMCAABuAYQB1gF7COYAlwCgBvYBYgjgAa8Cjg5/CWwN0wzVAHEHEgAAAF4Cy/9dEEEApgK4CV8PFwSeCHQBAAg0EEkE9wB+AI8EpQXeAUUBzgEAAMYA9wcUBOoLMQHlAOz/BAl7BHkD4g6m/2whugFwCP8AzgDZA/sCBAc1AkH/BgDuAHoNTwCYAKsF+AIYDiMFmQMAAEcMmhuVAUYJjwYkAoAL1QwAEvAJTQYuATr+KwNtBNcACwLvCZoBGQA2/IQA5QNVaQIEyQAAAM0IaABwDrgJYgo9/0APGgbhAIEDxwCcAg4AKQgO/zESHANuBsQHSwERAQAAAgAxAwgANwFeACkB8hPjAPMCLgGwBH7+AADDAHwCFgCrACcAIgNwAc0A0ALjEfQAAACVBZYHDv/vAfUDAAAmANgKNgOJ/v0CihvFAJYBQQvVFoIBsANGAJECTAPQAwAAPQBK+84BSw3kAL4UURMyAWcgBABsAj0FigmGA/ELDADLAUoFAgDTBHoeSwDiFL0CEQU/EZ4AAADaAQAAagM4ApUOhQDFAOcANA7mAJgAGwAzBTkCPw0rDZkEUAAJAIQF9wLiG0AB1AKnBFYRyPw4BMMEEAdqAbgInAcaAqgBAAAAAAMAAAAMEF8C6xSPDhgFUQLiAJwRKAMwAcgEhw1cDhUJZhAEALsO4AHSBSkAvwIDEOkBYP4GDe0BOQARAcUEZQdpBN0HxxM8ApkA3wEuBOUMyv+IAM4EIgtxC+QKORKZAjcDXwBOA/kBlw6QDYUAogIZMbUBKwpfANIZqQFxAJYSRgDHASwCIgSYAmgAywoAAFEO7/8ZAK4KCf/MAGwDYQbqAQEAzCXnBZwCifzSAyYG/Aq/BqgD/isMJEMHwwE0BCYBXgnM/okB9v0AACwHuwLGAsn+ZwBXAY8GSBqrFEkPCABGAQUCFASFB4wDJQgcJokSfwJzAxcBMxInCAAA1gSeF/wDywG2AqoBZACoAO8BAQHrAgoAAABfAe8ADwDoCW8CVhVDBVUBqgAAAAX/YAjMB5sL/whFAGgAVADF/hsKGxxWCg7//QlRBcUALAK5AgMGdUs2AAAArwKrC60TnQORAEcLnwEAACwGKgQAB6AQ0v8AAL8C7w8DAAAALQBuAgIElQL5D7UEgBcNAOIB4AGKFVwA3AI7ALoH1AMAANAOGQQQAOYGWgJlCwAAAABXBsz+zv7RBOIDAABZBsoJrwT7Aq0BqgAoBAIJlBEAALn8OwGiDHkDQgCdA1MARhcj/osIEwA=",
          "dtype": "i2"
         },
         "x0": " ",
         "xaxis": "x",
         "y0": " ",
         "yaxis": "y"
        },
        {
         "alignmentgroup": "True",
         "hovertemplate": "aderencia_investimento=nao<br>saldo=%{x}<extra></extra>",
         "legendgroup": "nao",
         "marker": {
          "color": "#EF553B"
         },
         "name": "nao",
         "notched": false,
         "offsetgroup": "nao",
         "orientation": "h",
         "showlegend": true,
         "type": "box",
         "x": {
          "bdata": "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",
          "dtype": "i2"
         },
         "x0": " ",
         "xaxis": "x",
         "y0": " ",
         "yaxis": "y"
        }
       ],
       "layout": {
        "boxmode": "group",
        "legend": {
         "title": {
          "text": "aderencia_investimento"
         },
         "tracegroupgap": 0
        },
        "margin": {
         "t": 60
        },
        "template": {
         "data": {
          "bar": [
           {
            "error_x": {
             "color": "#2a3f5f"
            },
            "error_y": {
             "color": "#2a3f5f"
            },
            "marker": {
             "line": {
              "color": "#E5ECF6",
              "width": 0.5
             },
             "pattern": {
              "fillmode": "overlay",
              "size": 10,
              "solidity": 0.2
             }
            },
            "type": "bar"
           }
          ],
          "barpolar": [
           {
            "marker": {
             "line": {
              "color": "#E5ECF6",
              "width": 0.5
             },
             "pattern": {
              "fillmode": "overlay",
              "size": 10,
              "solidity": 0.2
             }
            },
            "type": "barpolar"
           }
          ],
          "carpet": [
           {
            "aaxis": {
             "endlinecolor": "#2a3f5f",
             "gridcolor": "white",
             "linecolor": "white",
             "minorgridcolor": "white",
             "startlinecolor": "#2a3f5f"
            },
            "baxis": {
             "endlinecolor": "#2a3f5f",
             "gridcolor": "white",
             "linecolor": "white",
             "minorgridcolor": "white",
             "startlinecolor": "#2a3f5f"
            },
            "type": "carpet"
           }
          ],
          "choropleth": [
           {
            "colorbar": {
             "outlinewidth": 0,
             "ticks": ""
            },
            "type": "choropleth"
           }
          ],
          "contour": [
           {
            "colorbar": {
             "outlinewidth": 0,
             "ticks": ""
            },
            "colorscale": [
             [
              0,
              "#0d0887"
             ],
             [
              0.1111111111111111,
              "#46039f"
             ],
             [
              0.2222222222222222,
              "#7201a8"
             ],
             [
              0.3333333333333333,
              "#9c179e"
             ],
             [
              0.4444444444444444,
              "#bd3786"
             ],
             [
              0.5555555555555556,
              "#d8576b"
             ],
             [
              0.6666666666666666,
              "#ed7953"
             ],
             [
              0.7777777777777778,
              "#fb9f3a"
             ],
             [
              0.8888888888888888,
              "#fdca26"
             ],
             [
              1,
              "#f0f921"
             ]
            ],
            "type": "contour"
           }
          ],
          "contourcarpet": [
           {
            "colorbar": {
             "outlinewidth": 0,
             "ticks": ""
            },
            "type": "contourcarpet"
           }
          ],
          "heatmap": [
           {
            "colorbar": {
             "outlinewidth": 0,
             "ticks": ""
            },
            "colorscale": [
             [
              0,
              "#0d0887"
             ],
             [
              0.1111111111111111,
              "#46039f"
             ],
             [
              0.2222222222222222,
              "#7201a8"
             ],
             [
              0.3333333333333333,
              "#9c179e"
             ],
             [
              0.4444444444444444,
              "#bd3786"
             ],
             [
              0.5555555555555556,
              "#d8576b"
             ],
             [
              0.6666666666666666,
              "#ed7953"
             ],
             [
              0.7777777777777778,
              "#fb9f3a"
             ],
             [
              0.8888888888888888,
              "#fdca26"
             ],
             [
              1,
              "#f0f921"
             ]
            ],
            "type": "heatmap"
           }
          ],
          "histogram": [
           {
            "marker": {
             "pattern": {
              "fillmode": "overlay",
              "size": 10,
              "solidity": 0.2
             }
            },
            "type": "histogram"
           }
          ],
          "histogram2d": [
           {
            "colorbar": {
             "outlinewidth": 0,
             "ticks": ""
            },
            "colorscale": [
             [
              0,
              "#0d0887"
             ],
             [
              0.1111111111111111,
              "#46039f"
             ],
             [
              0.2222222222222222,
              "#7201a8"
             ],
             [
              0.3333333333333333,
              "#9c179e"
             ],
             [
              0.4444444444444444,
              "#bd3786"
             ],
             [
              0.5555555555555556,
              "#d8576b"
             ],
             [
              0.6666666666666666,
              "#ed7953"
             ],
             [
              0.7777777777777778,
              "#fb9f3a"
             ],
             [
              0.8888888888888888,
              "#fdca26"
             ],
             [
              1,
              "#f0f921"
             ]
            ],
            "type": "histogram2d"
           }
          ],
          "histogram2dcontour": [
           {
            "colorbar": {
             "outlinewidth": 0,
             "ticks": ""
            },
            "colorscale": [
             [
              0,
              "#0d0887"
             ],
             [
              0.1111111111111111,
              "#46039f"
             ],
             [
              0.2222222222222222,
              "#7201a8"
             ],
             [
              0.3333333333333333,
              "#9c179e"
             ],
             [
              0.4444444444444444,
              "#bd3786"
             ],
             [
              0.5555555555555556,
              "#d8576b"
             ],
             [
              0.6666666666666666,
              "#ed7953"
             ],
             [
              0.7777777777777778,
              "#fb9f3a"
             ],
             [
              0.8888888888888888,
              "#fdca26"
             ],
             [
              1,
              "#f0f921"
             ]
            ],
            "type": "histogram2dcontour"
           }
          ],
          "mesh3d": [
           {
            "colorbar": {
             "outlinewidth": 0,
             "ticks": ""
            },
            "type": "mesh3d"
           }
          ],
          "parcoords": [
           {
            "line": {
             "colorbar": {
              "outlinewidth": 0,
              "ticks": ""
             }
            },
            "type": "parcoords"
           }
          ],
          "pie": [
           {
            "automargin": true,
            "type": "pie"
           }
          ],
          "scatter": [
           {
            "fillpattern": {
             "fillmode": "overlay",
             "size": 10,
             "solidity": 0.2
            },
            "type": "scatter"
           }
          ],
          "scatter3d": [
           {
            "line": {
             "colorbar": {
              "outlinewidth": 0,
              "ticks": ""
             }
            },
            "marker": {
             "colorbar": {
              "outlinewidth": 0,
              "ticks": ""
             }
            },
            "type": "scatter3d"
           }
          ],
          "scattercarpet": [
           {
            "marker": {
             "colorbar": {
              "outlinewidth": 0,
              "ticks": ""
             }
            },
            "type": "scattercarpet"
           }
          ],
          "scattergeo": [
           {
            "marker": {
             "colorbar": {
              "outlinewidth": 0,
              "ticks": ""
             }
            },
            "type": "scattergeo"
           }
          ],
          "scattergl": [
           {
            "marker": {
             "colorbar": {
              "outlinewidth": 0,
              "ticks": ""
             }
            },
            "type": "scattergl"
           }
          ],
          "scattermap": [
           {
            "marker": {
             "colorbar": {
              "outlinewidth": 0,
              "ticks": ""
             }
            },
            "type": "scattermap"
           }
          ],
          "scattermapbox": [
           {
            "marker": {
             "colorbar": {
              "outlinewidth": 0,
              "ticks": ""
             }
            },
            "type": "scattermapbox"
           }
          ],
          "scatterpolar": [
           {
            "marker": {
             "colorbar": {
              "outlinewidth": 0,
              "ticks": ""
             }
            },
            "type": "scatterpolar"
           }
          ],
          "scatterpolargl": [
           {
            "marker": {
             "colorbar": {
              "outlinewidth": 0,
              "ticks": ""
             }
            },
            "type": "scatterpolargl"
           }
          ],
          "scatterternary": [
           {
            "marker": {
             "colorbar": {
              "outlinewidth": 0,
              "ticks": ""
             }
            },
            "type": "scatterternary"
           }
          ],
          "surface": [
           {
            "colorbar": {
             "outlinewidth": 0,
             "ticks": ""
            },
            "colorscale": [
             [
              0,
              "#0d0887"
             ],
             [
              0.1111111111111111,
              "#46039f"
             ],
             [
              0.2222222222222222,
              "#7201a8"
             ],
             [
              0.3333333333333333,
              "#9c179e"
             ],
             [
              0.4444444444444444,
              "#bd3786"
             ],
             [
              0.5555555555555556,
              "#d8576b"
             ],
             [
              0.6666666666666666,
              "#ed7953"
             ],
             [
              0.7777777777777778,
              "#fb9f3a"
             ],
             [
              0.8888888888888888,
              "#fdca26"
             ],
             [
              1,
              "#f0f921"
             ]
            ],
            "type": "surface"
           }
          ],
          "table": [
           {
            "cells": {
             "fill": {
              "color": "#EBF0F8"
             },
             "line": {
              "color": "white"
             }
            },
            "header": {
             "fill": {
              "color": "#C8D4E3"
             },
             "line": {
              "color": "white"
             }
            },
            "type": "table"
           }
          ]
         },
         "layout": {
          "annotationdefaults": {
           "arrowcolor": "#2a3f5f",
           "arrowhead": 0,
           "arrowwidth": 1
          },
          "autotypenumbers": "strict",
          "coloraxis": {
           "colorbar": {
            "outlinewidth": 0,
            "ticks": ""
           }
          },
          "colorscale": {
           "diverging": [
            [
             0,
             "#8e0152"
            ],
            [
             0.1,
             "#c51b7d"
            ],
            [
             0.2,
             "#de77ae"
            ],
            [
             0.3,
             "#f1b6da"
            ],
            [
             0.4,
             "#fde0ef"
            ],
            [
             0.5,
             "#f7f7f7"
            ],
            [
             0.6,
             "#e6f5d0"
            ],
            [
             0.7,
             "#b8e186"
            ],
            [
             0.8,
             "#7fbc41"
            ],
            [
             0.9,
             "#4d9221"
            ],
            [
             1,
             "#276419"
            ]
           ],
           "sequential": [
            [
             0,
             "#0d0887"
            ],
            [
             0.1111111111111111,
             "#46039f"
            ],
            [
             0.2222222222222222,
             "#7201a8"
            ],
            [
             0.3333333333333333,
             "#9c179e"
            ],
            [
             0.4444444444444444,
             "#bd3786"
            ],
            [
             0.5555555555555556,
             "#d8576b"
            ],
            [
             0.6666666666666666,
             "#ed7953"
            ],
            [
             0.7777777777777778,
             "#fb9f3a"
            ],
            [
             0.8888888888888888,
             "#fdca26"
            ],
            [
             1,
             "#f0f921"
            ]
           ],
           "sequentialminus": [
            [
             0,
             "#0d0887"
            ],
            [
             0.1111111111111111,
             "#46039f"
            ],
            [
             0.2222222222222222,
             "#7201a8"
            ],
            [
             0.3333333333333333,
             "#9c179e"
            ],
            [
             0.4444444444444444,
             "#bd3786"
            ],
            [
             0.5555555555555556,
             "#d8576b"
            ],
            [
             0.6666666666666666,
             "#ed7953"
            ],
            [
             0.7777777777777778,
             "#fb9f3a"
            ],
            [
             0.8888888888888888,
             "#fdca26"
            ],
            [
             1,
             "#f0f921"
            ]
           ]
          },
          "colorway": [
           "#636efa",
           "#EF553B",
           "#00cc96",
           "#ab63fa",
           "#FFA15A",
           "#19d3f3",
           "#FF6692",
           "#B6E880",
           "#FF97FF",
           "#FECB52"
          ],
          "font": {
           "color": "#2a3f5f"
          },
          "geo": {
           "bgcolor": "white",
           "lakecolor": "white",
           "landcolor": "#E5ECF6",
           "showlakes": true,
           "showland": true,
           "subunitcolor": "white"
          },
          "hoverlabel": {
           "align": "left"
          },
          "hovermode": "closest",
          "mapbox": {
           "style": "light"
          },
          "paper_bgcolor": "white",
          "plot_bgcolor": "#E5ECF6",
          "polar": {
           "angularaxis": {
            "gridcolor": "white",
            "linecolor": "white",
            "ticks": ""
           },
           "bgcolor": "#E5ECF6",
           "radialaxis": {
            "gridcolor": "white",
            "linecolor": "white",
            "ticks": ""
           }
          },
          "scene": {
           "xaxis": {
            "backgroundcolor": "#E5ECF6",
            "gridcolor": "white",
            "gridwidth": 2,
            "linecolor": "white",
            "showbackground": true,
            "ticks": "",
            "zerolinecolor": "white"
           },
           "yaxis": {
            "backgroundcolor": "#E5ECF6",
            "gridcolor": "white",
            "gridwidth": 2,
            "linecolor": "white",
            "showbackground": true,
            "ticks": "",
            "zerolinecolor": "white"
           },
           "zaxis": {
            "backgroundcolor": "#E5ECF6",
            "gridcolor": "white",
            "gridwidth": 2,
            "linecolor": "white",
            "showbackground": true,
            "ticks": "",
            "zerolinecolor": "white"
           }
          },
          "shapedefaults": {
           "line": {
            "color": "#2a3f5f"
           }
          },
          "ternary": {
           "aaxis": {
            "gridcolor": "white",
            "linecolor": "white",
            "ticks": ""
           },
           "baxis": {
            "gridcolor": "white",
            "linecolor": "white",
            "ticks": ""
           },
           "bgcolor": "#E5ECF6",
           "caxis": {
            "gridcolor": "white",
            "linecolor": "white",
            "ticks": ""
           }
          },
          "title": {
           "x": 0.05
          },
          "xaxis": {
           "automargin": true,
           "gridcolor": "white",
           "linecolor": "white",
           "ticks": "",
           "title": {
            "standoff": 15
           },
           "zerolinecolor": "white",
           "zerolinewidth": 2
          },
          "yaxis": {
           "automargin": true,
           "gridcolor": "white",
           "linecolor": "white",
           "ticks": "",
           "title": {
            "standoff": 15
           },
           "zerolinecolor": "white",
           "zerolinewidth": 2
          }
         }
        },
        "xaxis": {
         "anchor": "y",
         "domain": [
          0,
          1
         ],
         "title": {
          "text": "saldo"
         }
        },
        "yaxis": {
         "anchor": "x",
         "domain": [
          0,
          1
         ]
        }
       }
      }
     },
     "metadata": {},
     "output_type": "display_data"
    }
   ],
   "source": [
    "px.box(dados, x='saldo', color='aderencia_investimento')"
   ]
  },
  {
   "cell_type": "code",
   "execution_count": 15,
   "metadata": {},
   "outputs": [
    {
     "data": {
      "application/vnd.plotly.v1+json": {
       "config": {
        "plotlyServerURL": "https://plot.ly"
       },
       "data": [
        {
         "alignmentgroup": "True",
         "hovertemplate": "aderencia_investimento=sim<br>tempo_ult_contato=%{x}<extra></extra>",
         "legendgroup": "sim",
         "marker": {
          "color": "#636efa"
         },
         "name": "sim",
         "notched": false,
         "offsetgroup": "sim",
         "orientation": "h",
         "showlegend": true,
         "type": "box",
         "x": {
          "bdata": "SwL6ALwC7wDnAdUA3AKCAMgCUAHWASUD1wLIA/sEjQGRArMBmwHTAUoBnwFGAVIB/wJRAicI5wIKBLoBYQABAQUB7AU+AwQDawOGApcCAgF6AcUCZwGoBWEAiAKBAwQEKwYCAf0CKgJoAI4CNgE8AbUAkQGYCQgBSAHbAXME7wGSAIAAwwFJAtUBeQJhAD4CLwOFAYQBBgEOAUYB2gEFAckB3wHmA4ABJwFsA/MC2AC5AKkA+QAzAjoB3wDnAOAAigExBKUBmwLiA6EAoQGdBHIDuQbUAPwAKAEQAi4CMwIlAV4BmADfAHsDEALpAT4CagCOAp0CRQGWBKkDvQL6AMEBAAOHAfoAkwJmBI0BmQbvBKcAhACVBF0AqwEFAaQAqgCOA08DBwQFAmsA9QLtAZ8B9AAWAbwEzQCIA90BfwLcAGABhAFdACUCOQIlASEBiwKZAccGiAL3A7QBfQSdAM4AagLoAr0CuAAuA78D3gBOAOACZAEkBP0A+wDlAI4B+gNZASYCRAN+AVUHwwL5A9gDNwGEAc8AiwHSBJ8BWwCzAtEKSwIuAuACZABiAaUB3wG7AP4AzAIIBIoCoQCnAUgGAgV6AcYA2gDfAGABKAOQAJ4A5gApAdAD8wANAUoBpAKCAeABPQEpA7MHHwHWAL4BrQG3A7kC9QAwA3kA2ABhASoBmgDkAOYD7QEOAsYB0gHhA/UBzAX6AlYDCwHiAKEFYAA3An0ANQEMAbkAWAH6Aa4CVgGNAWQB/wJ4Ap8CHAMjAxcB6wQmA94AogE6AWQEAwIeAOUBugJrAZwBuQAGAnEBXANzAQwDTwGfAoIBvgBMAasASwJYAfgBGAEdBeEBcwNIAcgC/wCTAYYCvAC7A3sCDgIsA5gC2gHoAIEDBwLgAA0BEwHPAJ8A6gAOAUACOwNaBS0BPgP0AaMDQwGPAvUAjAKYAFcAPQHVAjcCngJSAu4C6gSNAgYEaAB5Ac4C6ADAAHwAXQAUA6kCYQGIA38G9QFnAGgBYQEeA48BoQALAeMAFgYsAXIDbwKQAAUE3QBbAdUAuwMfAlkDqwAnBJwBmQO+AykBrgEYAZ4CugEEAYECoQH5Aq0BBwN4AF4CTQTtB0gBYQKOAFgChgDBBQQBzAFcA7kB+QAfAvwBZQMzAfwAxQIfAzMDCQMmAe8DbQB2Au8AxwAMAk4CVwHoAQYBuwWrBeIAyAMhAXgBngJMAEkE1QA/AbAC9wJpA5QBYAGTABcB4ADeA6YARAHXAMAFCAE5BA0D9AFbAJUADAEcA+UBsgBtA+4DgQAyAu8A3QJQAPoDfwVCArkAjARBAccE1wD8BQ0CbgA=",
          "dtype": "i2"
         },
         "x0": " ",
         "xaxis": "x",
         "y0": " ",
         "yaxis": "y"
        },
        {
         "alignmentgroup": "True",
         "hovertemplate": "aderencia_investimento=nao<br>tempo_ult_contato=%{x}<extra></extra>",
         "legendgroup": "nao",
         "marker": {
          "color": "#EF553B"
         },
         "name": "nao",
         "notched": false,
         "offsetgroup": "nao",
         "orientation": "h",
         "showlegend": true,
         "type": "box",
         "x": {
          "bdata": "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",
          "dtype": "i2"
         },
         "x0": " ",
         "xaxis": "x",
         "y0": " ",
         "yaxis": "y"
        }
       ],
       "layout": {
        "boxmode": "group",
        "legend": {
         "title": {
          "text": "aderencia_investimento"
         },
         "tracegroupgap": 0
        },
        "margin": {
         "t": 60
        },
        "template": {
         "data": {
          "bar": [
           {
            "error_x": {
             "color": "#2a3f5f"
            },
            "error_y": {
             "color": "#2a3f5f"
            },
            "marker": {
             "line": {
              "color": "#E5ECF6",
              "width": 0.5
             },
             "pattern": {
              "fillmode": "overlay",
              "size": 10,
              "solidity": 0.2
             }
            },
            "type": "bar"
           }
          ],
          "barpolar": [
           {
            "marker": {
             "line": {
              "color": "#E5ECF6",
              "width": 0.5
             },
             "pattern": {
              "fillmode": "overlay",
              "size": 10,
              "solidity": 0.2
             }
            },
            "type": "barpolar"
           }
          ],
          "carpet": [
           {
            "aaxis": {
             "endlinecolor": "#2a3f5f",
             "gridcolor": "white",
             "linecolor": "white",
             "minorgridcolor": "white",
             "startlinecolor": "#2a3f5f"
            },
            "baxis": {
             "endlinecolor": "#2a3f5f",
             "gridcolor": "white",
             "linecolor": "white",
             "minorgridcolor": "white",
             "startlinecolor": "#2a3f5f"
            },
            "type": "carpet"
           }
          ],
          "choropleth": [
           {
            "colorbar": {
             "outlinewidth": 0,
             "ticks": ""
            },
            "type": "choropleth"
           }
          ],
          "contour": [
           {
            "colorbar": {
             "outlinewidth": 0,
             "ticks": ""
            },
            "colorscale": [
             [
              0,
              "#0d0887"
             ],
             [
              0.1111111111111111,
              "#46039f"
             ],
             [
              0.2222222222222222,
              "#7201a8"
             ],
             [
              0.3333333333333333,
              "#9c179e"
             ],
             [
              0.4444444444444444,
              "#bd3786"
             ],
             [
              0.5555555555555556,
              "#d8576b"
             ],
             [
              0.6666666666666666,
              "#ed7953"
             ],
             [
              0.7777777777777778,
              "#fb9f3a"
             ],
             [
              0.8888888888888888,
              "#fdca26"
             ],
             [
              1,
              "#f0f921"
             ]
            ],
            "type": "contour"
           }
          ],
          "contourcarpet": [
           {
            "colorbar": {
             "outlinewidth": 0,
             "ticks": ""
            },
            "type": "contourcarpet"
           }
          ],
          "heatmap": [
           {
            "colorbar": {
             "outlinewidth": 0,
             "ticks": ""
            },
            "colorscale": [
             [
              0,
              "#0d0887"
             ],
             [
              0.1111111111111111,
              "#46039f"
             ],
             [
              0.2222222222222222,
              "#7201a8"
             ],
             [
              0.3333333333333333,
              "#9c179e"
             ],
             [
              0.4444444444444444,
              "#bd3786"
             ],
             [
              0.5555555555555556,
              "#d8576b"
             ],
             [
              0.6666666666666666,
              "#ed7953"
             ],
             [
              0.7777777777777778,
              "#fb9f3a"
             ],
             [
              0.8888888888888888,
              "#fdca26"
             ],
             [
              1,
              "#f0f921"
             ]
            ],
            "type": "heatmap"
           }
          ],
          "histogram": [
           {
            "marker": {
             "pattern": {
              "fillmode": "overlay",
              "size": 10,
              "solidity": 0.2
             }
            },
            "type": "histogram"
           }
          ],
          "histogram2d": [
           {
            "colorbar": {
             "outlinewidth": 0,
             "ticks": ""
            },
            "colorscale": [
             [
              0,
              "#0d0887"
             ],
             [
              0.1111111111111111,
              "#46039f"
             ],
             [
              0.2222222222222222,
              "#7201a8"
             ],
             [
              0.3333333333333333,
              "#9c179e"
             ],
             [
              0.4444444444444444,
              "#bd3786"
             ],
             [
              0.5555555555555556,
              "#d8576b"
             ],
             [
              0.6666666666666666,
              "#ed7953"
             ],
             [
              0.7777777777777778,
              "#fb9f3a"
             ],
             [
              0.8888888888888888,
              "#fdca26"
             ],
             [
              1,
              "#f0f921"
             ]
            ],
            "type": "histogram2d"
           }
          ],
          "histogram2dcontour": [
           {
            "colorbar": {
             "outlinewidth": 0,
             "ticks": ""
            },
            "colorscale": [
             [
              0,
              "#0d0887"
             ],
             [
              0.1111111111111111,
              "#46039f"
             ],
             [
              0.2222222222222222,
              "#7201a8"
             ],
             [
              0.3333333333333333,
              "#9c179e"
             ],
             [
              0.4444444444444444,
              "#bd3786"
             ],
             [
              0.5555555555555556,
              "#d8576b"
             ],
             [
              0.6666666666666666,
              "#ed7953"
             ],
             [
              0.7777777777777778,
              "#fb9f3a"
             ],
             [
              0.8888888888888888,
              "#fdca26"
             ],
             [
              1,
              "#f0f921"
             ]
            ],
            "type": "histogram2dcontour"
           }
          ],
          "mesh3d": [
           {
            "colorbar": {
             "outlinewidth": 0,
             "ticks": ""
            },
            "type": "mesh3d"
           }
          ],
          "parcoords": [
           {
            "line": {
             "colorbar": {
              "outlinewidth": 0,
              "ticks": ""
             }
            },
            "type": "parcoords"
           }
          ],
          "pie": [
           {
            "automargin": true,
            "type": "pie"
           }
          ],
          "scatter": [
           {
            "fillpattern": {
             "fillmode": "overlay",
             "size": 10,
             "solidity": 0.2
            },
            "type": "scatter"
           }
          ],
          "scatter3d": [
           {
            "line": {
             "colorbar": {
              "outlinewidth": 0,
              "ticks": ""
             }
            },
            "marker": {
             "colorbar": {
              "outlinewidth": 0,
              "ticks": ""
             }
            },
            "type": "scatter3d"
           }
          ],
          "scattercarpet": [
           {
            "marker": {
             "colorbar": {
              "outlinewidth": 0,
              "ticks": ""
             }
            },
            "type": "scattercarpet"
           }
          ],
          "scattergeo": [
           {
            "marker": {
             "colorbar": {
              "outlinewidth": 0,
              "ticks": ""
             }
            },
            "type": "scattergeo"
           }
          ],
          "scattergl": [
           {
            "marker": {
             "colorbar": {
              "outlinewidth": 0,
              "ticks": ""
             }
            },
            "type": "scattergl"
           }
          ],
          "scattermap": [
           {
            "marker": {
             "colorbar": {
              "outlinewidth": 0,
              "ticks": ""
             }
            },
            "type": "scattermap"
           }
          ],
          "scattermapbox": [
           {
            "marker": {
             "colorbar": {
              "outlinewidth": 0,
              "ticks": ""
             }
            },
            "type": "scattermapbox"
           }
          ],
          "scatterpolar": [
           {
            "marker": {
             "colorbar": {
              "outlinewidth": 0,
              "ticks": ""
             }
            },
            "type": "scatterpolar"
           }
          ],
          "scatterpolargl": [
           {
            "marker": {
             "colorbar": {
              "outlinewidth": 0,
              "ticks": ""
             }
            },
            "type": "scatterpolargl"
           }
          ],
          "scatterternary": [
           {
            "marker": {
             "colorbar": {
              "outlinewidth": 0,
              "ticks": ""
             }
            },
            "type": "scatterternary"
           }
          ],
          "surface": [
           {
            "colorbar": {
             "outlinewidth": 0,
             "ticks": ""
            },
            "colorscale": [
             [
              0,
              "#0d0887"
             ],
             [
              0.1111111111111111,
              "#46039f"
             ],
             [
              0.2222222222222222,
              "#7201a8"
             ],
             [
              0.3333333333333333,
              "#9c179e"
             ],
             [
              0.4444444444444444,
              "#bd3786"
             ],
             [
              0.5555555555555556,
              "#d8576b"
             ],
             [
              0.6666666666666666,
              "#ed7953"
             ],
             [
              0.7777777777777778,
              "#fb9f3a"
             ],
             [
              0.8888888888888888,
              "#fdca26"
             ],
             [
              1,
              "#f0f921"
             ]
            ],
            "type": "surface"
           }
          ],
          "table": [
           {
            "cells": {
             "fill": {
              "color": "#EBF0F8"
             },
             "line": {
              "color": "white"
             }
            },
            "header": {
             "fill": {
              "color": "#C8D4E3"
             },
             "line": {
              "color": "white"
             }
            },
            "type": "table"
           }
          ]
         },
         "layout": {
          "annotationdefaults": {
           "arrowcolor": "#2a3f5f",
           "arrowhead": 0,
           "arrowwidth": 1
          },
          "autotypenumbers": "strict",
          "coloraxis": {
           "colorbar": {
            "outlinewidth": 0,
            "ticks": ""
           }
          },
          "colorscale": {
           "diverging": [
            [
             0,
             "#8e0152"
            ],
            [
             0.1,
             "#c51b7d"
            ],
            [
             0.2,
             "#de77ae"
            ],
            [
             0.3,
             "#f1b6da"
            ],
            [
             0.4,
             "#fde0ef"
            ],
            [
             0.5,
             "#f7f7f7"
            ],
            [
             0.6,
             "#e6f5d0"
            ],
            [
             0.7,
             "#b8e186"
            ],
            [
             0.8,
             "#7fbc41"
            ],
            [
             0.9,
             "#4d9221"
            ],
            [
             1,
             "#276419"
            ]
           ],
           "sequential": [
            [
             0,
             "#0d0887"
            ],
            [
             0.1111111111111111,
             "#46039f"
            ],
            [
             0.2222222222222222,
             "#7201a8"
            ],
            [
             0.3333333333333333,
             "#9c179e"
            ],
            [
             0.4444444444444444,
             "#bd3786"
            ],
            [
             0.5555555555555556,
             "#d8576b"
            ],
            [
             0.6666666666666666,
             "#ed7953"
            ],
            [
             0.7777777777777778,
             "#fb9f3a"
            ],
            [
             0.8888888888888888,
             "#fdca26"
            ],
            [
             1,
             "#f0f921"
            ]
           ],
           "sequentialminus": [
            [
             0,
             "#0d0887"
            ],
            [
             0.1111111111111111,
             "#46039f"
            ],
            [
             0.2222222222222222,
             "#7201a8"
            ],
            [
             0.3333333333333333,
             "#9c179e"
            ],
            [
             0.4444444444444444,
             "#bd3786"
            ],
            [
             0.5555555555555556,
             "#d8576b"
            ],
            [
             0.6666666666666666,
             "#ed7953"
            ],
            [
             0.7777777777777778,
             "#fb9f3a"
            ],
            [
             0.8888888888888888,
             "#fdca26"
            ],
            [
             1,
             "#f0f921"
            ]
           ]
          },
          "colorway": [
           "#636efa",
           "#EF553B",
           "#00cc96",
           "#ab63fa",
           "#FFA15A",
           "#19d3f3",
           "#FF6692",
           "#B6E880",
           "#FF97FF",
           "#FECB52"
          ],
          "font": {
           "color": "#2a3f5f"
          },
          "geo": {
           "bgcolor": "white",
           "lakecolor": "white",
           "landcolor": "#E5ECF6",
           "showlakes": true,
           "showland": true,
           "subunitcolor": "white"
          },
          "hoverlabel": {
           "align": "left"
          },
          "hovermode": "closest",
          "mapbox": {
           "style": "light"
          },
          "paper_bgcolor": "white",
          "plot_bgcolor": "#E5ECF6",
          "polar": {
           "angularaxis": {
            "gridcolor": "white",
            "linecolor": "white",
            "ticks": ""
           },
           "bgcolor": "#E5ECF6",
           "radialaxis": {
            "gridcolor": "white",
            "linecolor": "white",
            "ticks": ""
           }
          },
          "scene": {
           "xaxis": {
            "backgroundcolor": "#E5ECF6",
            "gridcolor": "white",
            "gridwidth": 2,
            "linecolor": "white",
            "showbackground": true,
            "ticks": "",
            "zerolinecolor": "white"
           },
           "yaxis": {
            "backgroundcolor": "#E5ECF6",
            "gridcolor": "white",
            "gridwidth": 2,
            "linecolor": "white",
            "showbackground": true,
            "ticks": "",
            "zerolinecolor": "white"
           },
           "zaxis": {
            "backgroundcolor": "#E5ECF6",
            "gridcolor": "white",
            "gridwidth": 2,
            "linecolor": "white",
            "showbackground": true,
            "ticks": "",
            "zerolinecolor": "white"
           }
          },
          "shapedefaults": {
           "line": {
            "color": "#2a3f5f"
           }
          },
          "ternary": {
           "aaxis": {
            "gridcolor": "white",
            "linecolor": "white",
            "ticks": ""
           },
           "baxis": {
            "gridcolor": "white",
            "linecolor": "white",
            "ticks": ""
           },
           "bgcolor": "#E5ECF6",
           "caxis": {
            "gridcolor": "white",
            "linecolor": "white",
            "ticks": ""
           }
          },
          "title": {
           "x": 0.05
          },
          "xaxis": {
           "automargin": true,
           "gridcolor": "white",
           "linecolor": "white",
           "ticks": "",
           "title": {
            "standoff": 15
           },
           "zerolinecolor": "white",
           "zerolinewidth": 2
          },
          "yaxis": {
           "automargin": true,
           "gridcolor": "white",
           "linecolor": "white",
           "ticks": "",
           "title": {
            "standoff": 15
           },
           "zerolinecolor": "white",
           "zerolinewidth": 2
          }
         }
        },
        "xaxis": {
         "anchor": "y",
         "domain": [
          0,
          1
         ],
         "title": {
          "text": "tempo_ult_contato"
         }
        },
        "yaxis": {
         "anchor": "x",
         "domain": [
          0,
          1
         ]
        }
       }
      }
     },
     "metadata": {},
     "output_type": "display_data"
    }
   ],
   "source": [
    "px.box(dados, x='tempo_ult_contato', color='aderencia_investimento')"
   ]
  },
  {
   "cell_type": "code",
   "execution_count": 16,
   "metadata": {},
   "outputs": [
    {
     "data": {
      "application/vnd.plotly.v1+json": {
       "config": {
        "plotlyServerURL": "https://plot.ly"
       },
       "data": [
        {
         "alignmentgroup": "True",
         "hovertemplate": "aderencia_investimento=sim<br>numero_contatos=%{x}<extra></extra>",
         "legendgroup": "sim",
         "marker": {
          "color": "#636efa"
         },
         "name": "sim",
         "notched": false,
         "offsetgroup": "sim",
         "orientation": "h",
         "showlegend": true,
         "type": "box",
         "x": {
          "bdata": "AQQBBAEEAgEBAgcBAgEBAQcBAQICAQUBBQECDQEBAwEBAgEBAgUEAQECAQcBAQICAQYBAQECAQMBAgIBAgICAQQCAQEBAQEBAQEBAQECAwEBAQYCAQEBAQEBAgEBAwEBAgECAwIBAQQIAgEBAQMBAQEDAgEEAgEBAQIBAgEDAQICAgECBAQBBAIBAQMFAQECBAIBCAECAgEEAQEEAQMBAQEEBgECAQEBAQIEAQECBgMBAQEBAQIDAwMBAQIBAgICAwEEAwIDAgYBAgMBAgMHAwIEAgECAgMBCQECAwMCAQENBgIBAQECAgECAwEMAQIBAgQBBQIEAgQBAwMEAQYBAQIEAQIBAgICBAYCGAMBAgICAQEBAQEBAgEFAQIEAgQEAQEEBgEEAgECAQECAgcBAQICAgIEAQECAQEBAgEBBAQCAQIGAwEDAwUDAgEDAQIEAQIDAQgCAgEDAgMDAQQBAQQDAQEBAQEDAgQCAgEBAgEBAQIBAwEBAgIBAgIBAwEDAQECAQYBAQEBAQMDAgIEAQUBAgYEAQYEAQMBAQIEAwMDAgECAgEEBQEBAgIBAQIBAQEJAQIKBAIBAwYDAQEDAwEBAQIBAQICAwEDAQEBAggBAQECBAECAwEBAQIBAQEBAgEBAQcCAQEEAgICAQIBAgMGAQIDAg==",
          "dtype": "i1"
         },
         "x0": " ",
         "xaxis": "x",
         "y0": " ",
         "yaxis": "y"
        },
        {
         "alignmentgroup": "True",
         "hovertemplate": "aderencia_investimento=nao<br>numero_contatos=%{x}<extra></extra>",
         "legendgroup": "nao",
         "marker": {
          "color": "#EF553B"
         },
         "name": "nao",
         "notched": false,
         "offsetgroup": "nao",
         "orientation": "h",
         "showlegend": true,
         "type": "box",
         "x": {
          "bdata": "EgEBAgIDBQECAgIFAQEBAQIGAgEBAQUDAwMEAQ0IAQUDAgIDAQIBBAQJAgQBAwgCBQIBAgECAgEEDAMBAwIBAQMDAgEBAgEBAgIEAwICAgEGAgICBAICAQIBAgUBAwMDCAYCBAIBAQECAgIBAQIBAQECAwMCAwEBAQQBAQEBAQECAgIGAQEBAQIMEQECAQECAgECAwICAgQCAQICAgECAQICAQIDAgMBAgEGAgIBBAICAQgDDgYEAgIBBQEEAQECBgwCAgEDCgUDBAIEAgIBAQECAwEEAgMCAQECBgMDAQgBBQIDAQYCAQEBBQcBAQECAgIIAgYBAQMBAQYMAgMBAgEBAQIBAgEDAQwBAgYIAgEBAgIDBAcBAgQCAwMCAwMCAQ0CAQEGAgQGAQcGAwEBDQICAgEEARAKAwEDAgMBBgEBAQQKAgEFAQoJAQEEBAYBAgICAQEBAgIDBwYBAQICAQEFAgYCBAMGCwMBAgcFAggBAQMCAQIBAgEBAQMCCAwBAQEEAQISAwsBAgICAgEBAQIBAgEHAgQECwECAgICAQEBAQYBAwECAQICAQECAQIDAQECAQ0DAgUEAgIGAgQBEQECBAUDAwICAQUGAgECAgIBAQULAQEEAQUBAwEBAgECAQIBAQIBBAICAQEBAgMgBgMBBgMFAgEDAwIFBgEDAwEBAwIBAg8BAgEBAQEMAw4FAQMSAgICAQMBAwMDAQgBAgEBAQQIAQICBQgFAQYCAgIBBgQBAwICAQwCBwEBAwEDAQIDBAIBAwICBwYBBQICCAEBAQEBAgEEBAICBgMCAQEFAgMBBgEDBQEBAgUEAwECAQIDBgoBAwwCAwIBAQEBAQECAQEBAQQBAwEDAgcBAgIFAgIEAQEBEAICAQIBAwECAgIBAwEBAQEBBgMBAQUBAQYEAgECAgECAgIBAQMCBwYIBgMBAwIBAx0GAQQBBwILCwIBAQICAQEBAgEDAgcBAwYBAgIgAQMEBAMEAwUBBAEFAQQCAQEBBAEEAQECAg==",
          "dtype": "i1"
         },
         "x0": " ",
         "xaxis": "x",
         "y0": " ",
         "yaxis": "y"
        }
       ],
       "layout": {
        "boxmode": "group",
        "legend": {
         "title": {
          "text": "aderencia_investimento"
         },
         "tracegroupgap": 0
        },
        "margin": {
         "t": 60
        },
        "template": {
         "data": {
          "bar": [
           {
            "error_x": {
             "color": "#2a3f5f"
            },
            "error_y": {
             "color": "#2a3f5f"
            },
            "marker": {
             "line": {
              "color": "#E5ECF6",
              "width": 0.5
             },
             "pattern": {
              "fillmode": "overlay",
              "size": 10,
              "solidity": 0.2
             }
            },
            "type": "bar"
           }
          ],
          "barpolar": [
           {
            "marker": {
             "line": {
              "color": "#E5ECF6",
              "width": 0.5
             },
             "pattern": {
              "fillmode": "overlay",
              "size": 10,
              "solidity": 0.2
             }
            },
            "type": "barpolar"
           }
          ],
          "carpet": [
           {
            "aaxis": {
             "endlinecolor": "#2a3f5f",
             "gridcolor": "white",
             "linecolor": "white",
             "minorgridcolor": "white",
             "startlinecolor": "#2a3f5f"
            },
            "baxis": {
             "endlinecolor": "#2a3f5f",
             "gridcolor": "white",
             "linecolor": "white",
             "minorgridcolor": "white",
             "startlinecolor": "#2a3f5f"
            },
            "type": "carpet"
           }
          ],
          "choropleth": [
           {
            "colorbar": {
             "outlinewidth": 0,
             "ticks": ""
            },
            "type": "choropleth"
           }
          ],
          "contour": [
           {
            "colorbar": {
             "outlinewidth": 0,
             "ticks": ""
            },
            "colorscale": [
             [
              0,
              "#0d0887"
             ],
             [
              0.1111111111111111,
              "#46039f"
             ],
             [
              0.2222222222222222,
              "#7201a8"
             ],
             [
              0.3333333333333333,
              "#9c179e"
             ],
             [
              0.4444444444444444,
              "#bd3786"
             ],
             [
              0.5555555555555556,
              "#d8576b"
             ],
             [
              0.6666666666666666,
              "#ed7953"
             ],
             [
              0.7777777777777778,
              "#fb9f3a"
             ],
             [
              0.8888888888888888,
              "#fdca26"
             ],
             [
              1,
              "#f0f921"
             ]
            ],
            "type": "contour"
           }
          ],
          "contourcarpet": [
           {
            "colorbar": {
             "outlinewidth": 0,
             "ticks": ""
            },
            "type": "contourcarpet"
           }
          ],
          "heatmap": [
           {
            "colorbar": {
             "outlinewidth": 0,
             "ticks": ""
            },
            "colorscale": [
             [
              0,
              "#0d0887"
             ],
             [
              0.1111111111111111,
              "#46039f"
             ],
             [
              0.2222222222222222,
              "#7201a8"
             ],
             [
              0.3333333333333333,
              "#9c179e"
             ],
             [
              0.4444444444444444,
              "#bd3786"
             ],
             [
              0.5555555555555556,
              "#d8576b"
             ],
             [
              0.6666666666666666,
              "#ed7953"
             ],
             [
              0.7777777777777778,
              "#fb9f3a"
             ],
             [
              0.8888888888888888,
              "#fdca26"
             ],
             [
              1,
              "#f0f921"
             ]
            ],
            "type": "heatmap"
           }
          ],
          "histogram": [
           {
            "marker": {
             "pattern": {
              "fillmode": "overlay",
              "size": 10,
              "solidity": 0.2
             }
            },
            "type": "histogram"
           }
          ],
          "histogram2d": [
           {
            "colorbar": {
             "outlinewidth": 0,
             "ticks": ""
            },
            "colorscale": [
             [
              0,
              "#0d0887"
             ],
             [
              0.1111111111111111,
              "#46039f"
             ],
             [
              0.2222222222222222,
              "#7201a8"
             ],
             [
              0.3333333333333333,
              "#9c179e"
             ],
             [
              0.4444444444444444,
              "#bd3786"
             ],
             [
              0.5555555555555556,
              "#d8576b"
             ],
             [
              0.6666666666666666,
              "#ed7953"
             ],
             [
              0.7777777777777778,
              "#fb9f3a"
             ],
             [
              0.8888888888888888,
              "#fdca26"
             ],
             [
              1,
              "#f0f921"
             ]
            ],
            "type": "histogram2d"
           }
          ],
          "histogram2dcontour": [
           {
            "colorbar": {
             "outlinewidth": 0,
             "ticks": ""
            },
            "colorscale": [
             [
              0,
              "#0d0887"
             ],
             [
              0.1111111111111111,
              "#46039f"
             ],
             [
              0.2222222222222222,
              "#7201a8"
             ],
             [
              0.3333333333333333,
              "#9c179e"
             ],
             [
              0.4444444444444444,
              "#bd3786"
             ],
             [
              0.5555555555555556,
              "#d8576b"
             ],
             [
              0.6666666666666666,
              "#ed7953"
             ],
             [
              0.7777777777777778,
              "#fb9f3a"
             ],
             [
              0.8888888888888888,
              "#fdca26"
             ],
             [
              1,
              "#f0f921"
             ]
            ],
            "type": "histogram2dcontour"
           }
          ],
          "mesh3d": [
           {
            "colorbar": {
             "outlinewidth": 0,
             "ticks": ""
            },
            "type": "mesh3d"
           }
          ],
          "parcoords": [
           {
            "line": {
             "colorbar": {
              "outlinewidth": 0,
              "ticks": ""
             }
            },
            "type": "parcoords"
           }
          ],
          "pie": [
           {
            "automargin": true,
            "type": "pie"
           }
          ],
          "scatter": [
           {
            "fillpattern": {
             "fillmode": "overlay",
             "size": 10,
             "solidity": 0.2
            },
            "type": "scatter"
           }
          ],
          "scatter3d": [
           {
            "line": {
             "colorbar": {
              "outlinewidth": 0,
              "ticks": ""
             }
            },
            "marker": {
             "colorbar": {
              "outlinewidth": 0,
              "ticks": ""
             }
            },
            "type": "scatter3d"
           }
          ],
          "scattercarpet": [
           {
            "marker": {
             "colorbar": {
              "outlinewidth": 0,
              "ticks": ""
             }
            },
            "type": "scattercarpet"
           }
          ],
          "scattergeo": [
           {
            "marker": {
             "colorbar": {
              "outlinewidth": 0,
              "ticks": ""
             }
            },
            "type": "scattergeo"
           }
          ],
          "scattergl": [
           {
            "marker": {
             "colorbar": {
              "outlinewidth": 0,
              "ticks": ""
             }
            },
            "type": "scattergl"
           }
          ],
          "scattermap": [
           {
            "marker": {
             "colorbar": {
              "outlinewidth": 0,
              "ticks": ""
             }
            },
            "type": "scattermap"
           }
          ],
          "scattermapbox": [
           {
            "marker": {
             "colorbar": {
              "outlinewidth": 0,
              "ticks": ""
             }
            },
            "type": "scattermapbox"
           }
          ],
          "scatterpolar": [
           {
            "marker": {
             "colorbar": {
              "outlinewidth": 0,
              "ticks": ""
             }
            },
            "type": "scatterpolar"
           }
          ],
          "scatterpolargl": [
           {
            "marker": {
             "colorbar": {
              "outlinewidth": 0,
              "ticks": ""
             }
            },
            "type": "scatterpolargl"
           }
          ],
          "scatterternary": [
           {
            "marker": {
             "colorbar": {
              "outlinewidth": 0,
              "ticks": ""
             }
            },
            "type": "scatterternary"
           }
          ],
          "surface": [
           {
            "colorbar": {
             "outlinewidth": 0,
             "ticks": ""
            },
            "colorscale": [
             [
              0,
              "#0d0887"
             ],
             [
              0.1111111111111111,
              "#46039f"
             ],
             [
              0.2222222222222222,
              "#7201a8"
             ],
             [
              0.3333333333333333,
              "#9c179e"
             ],
             [
              0.4444444444444444,
              "#bd3786"
             ],
             [
              0.5555555555555556,
              "#d8576b"
             ],
             [
              0.6666666666666666,
              "#ed7953"
             ],
             [
              0.7777777777777778,
              "#fb9f3a"
             ],
             [
              0.8888888888888888,
              "#fdca26"
             ],
             [
              1,
              "#f0f921"
             ]
            ],
            "type": "surface"
           }
          ],
          "table": [
           {
            "cells": {
             "fill": {
              "color": "#EBF0F8"
             },
             "line": {
              "color": "white"
             }
            },
            "header": {
             "fill": {
              "color": "#C8D4E3"
             },
             "line": {
              "color": "white"
             }
            },
            "type": "table"
           }
          ]
         },
         "layout": {
          "annotationdefaults": {
           "arrowcolor": "#2a3f5f",
           "arrowhead": 0,
           "arrowwidth": 1
          },
          "autotypenumbers": "strict",
          "coloraxis": {
           "colorbar": {
            "outlinewidth": 0,
            "ticks": ""
           }
          },
          "colorscale": {
           "diverging": [
            [
             0,
             "#8e0152"
            ],
            [
             0.1,
             "#c51b7d"
            ],
            [
             0.2,
             "#de77ae"
            ],
            [
             0.3,
             "#f1b6da"
            ],
            [
             0.4,
             "#fde0ef"
            ],
            [
             0.5,
             "#f7f7f7"
            ],
            [
             0.6,
             "#e6f5d0"
            ],
            [
             0.7,
             "#b8e186"
            ],
            [
             0.8,
             "#7fbc41"
            ],
            [
             0.9,
             "#4d9221"
            ],
            [
             1,
             "#276419"
            ]
           ],
           "sequential": [
            [
             0,
             "#0d0887"
            ],
            [
             0.1111111111111111,
             "#46039f"
            ],
            [
             0.2222222222222222,
             "#7201a8"
            ],
            [
             0.3333333333333333,
             "#9c179e"
            ],
            [
             0.4444444444444444,
             "#bd3786"
            ],
            [
             0.5555555555555556,
             "#d8576b"
            ],
            [
             0.6666666666666666,
             "#ed7953"
            ],
            [
             0.7777777777777778,
             "#fb9f3a"
            ],
            [
             0.8888888888888888,
             "#fdca26"
            ],
            [
             1,
             "#f0f921"
            ]
           ],
           "sequentialminus": [
            [
             0,
             "#0d0887"
            ],
            [
             0.1111111111111111,
             "#46039f"
            ],
            [
             0.2222222222222222,
             "#7201a8"
            ],
            [
             0.3333333333333333,
             "#9c179e"
            ],
            [
             0.4444444444444444,
             "#bd3786"
            ],
            [
             0.5555555555555556,
             "#d8576b"
            ],
            [
             0.6666666666666666,
             "#ed7953"
            ],
            [
             0.7777777777777778,
             "#fb9f3a"
            ],
            [
             0.8888888888888888,
             "#fdca26"
            ],
            [
             1,
             "#f0f921"
            ]
           ]
          },
          "colorway": [
           "#636efa",
           "#EF553B",
           "#00cc96",
           "#ab63fa",
           "#FFA15A",
           "#19d3f3",
           "#FF6692",
           "#B6E880",
           "#FF97FF",
           "#FECB52"
          ],
          "font": {
           "color": "#2a3f5f"
          },
          "geo": {
           "bgcolor": "white",
           "lakecolor": "white",
           "landcolor": "#E5ECF6",
           "showlakes": true,
           "showland": true,
           "subunitcolor": "white"
          },
          "hoverlabel": {
           "align": "left"
          },
          "hovermode": "closest",
          "mapbox": {
           "style": "light"
          },
          "paper_bgcolor": "white",
          "plot_bgcolor": "#E5ECF6",
          "polar": {
           "angularaxis": {
            "gridcolor": "white",
            "linecolor": "white",
            "ticks": ""
           },
           "bgcolor": "#E5ECF6",
           "radialaxis": {
            "gridcolor": "white",
            "linecolor": "white",
            "ticks": ""
           }
          },
          "scene": {
           "xaxis": {
            "backgroundcolor": "#E5ECF6",
            "gridcolor": "white",
            "gridwidth": 2,
            "linecolor": "white",
            "showbackground": true,
            "ticks": "",
            "zerolinecolor": "white"
           },
           "yaxis": {
            "backgroundcolor": "#E5ECF6",
            "gridcolor": "white",
            "gridwidth": 2,
            "linecolor": "white",
            "showbackground": true,
            "ticks": "",
            "zerolinecolor": "white"
           },
           "zaxis": {
            "backgroundcolor": "#E5ECF6",
            "gridcolor": "white",
            "gridwidth": 2,
            "linecolor": "white",
            "showbackground": true,
            "ticks": "",
            "zerolinecolor": "white"
           }
          },
          "shapedefaults": {
           "line": {
            "color": "#2a3f5f"
           }
          },
          "ternary": {
           "aaxis": {
            "gridcolor": "white",
            "linecolor": "white",
            "ticks": ""
           },
           "baxis": {
            "gridcolor": "white",
            "linecolor": "white",
            "ticks": ""
           },
           "bgcolor": "#E5ECF6",
           "caxis": {
            "gridcolor": "white",
            "linecolor": "white",
            "ticks": ""
           }
          },
          "title": {
           "x": 0.05
          },
          "xaxis": {
           "automargin": true,
           "gridcolor": "white",
           "linecolor": "white",
           "ticks": "",
           "title": {
            "standoff": 15
           },
           "zerolinecolor": "white",
           "zerolinewidth": 2
          },
          "yaxis": {
           "automargin": true,
           "gridcolor": "white",
           "linecolor": "white",
           "ticks": "",
           "title": {
            "standoff": 15
           },
           "zerolinecolor": "white",
           "zerolinewidth": 2
          }
         }
        },
        "xaxis": {
         "anchor": "y",
         "domain": [
          0,
          1
         ],
         "title": {
          "text": "numero_contatos"
         }
        },
        "yaxis": {
         "anchor": "x",
         "domain": [
          0,
          1
         ]
        }
       }
      }
     },
     "metadata": {},
     "output_type": "display_data"
    }
   ],
   "source": [
    "px.box(dados, x='numero_contatos', color='aderencia_investimento')"
   ]
  },
  {
   "cell_type": "markdown",
   "metadata": {},
   "source": [
    "### Módulo 2 - Transformação de dados - aula 2 - Separação de variáveis"
   ]
  },
  {
   "cell_type": "code",
   "execution_count": 17,
   "metadata": {},
   "outputs": [
    {
     "data": {
      "application/vnd.microsoft.datawrangler.viewer.v0+json": {
       "columns": [
        {
         "name": "index",
         "rawType": "int64",
         "type": "integer"
        },
        {
         "name": "idade",
         "rawType": "int64",
         "type": "integer"
        },
        {
         "name": "estado_civil",
         "rawType": "object",
         "type": "string"
        },
        {
         "name": "escolaridade",
         "rawType": "object",
         "type": "string"
        },
        {
         "name": "inadimplencia",
         "rawType": "object",
         "type": "string"
        },
        {
         "name": "saldo",
         "rawType": "int64",
         "type": "integer"
        },
        {
         "name": "fez_emprestimo",
         "rawType": "object",
         "type": "string"
        },
        {
         "name": "tempo_ult_contato",
         "rawType": "int64",
         "type": "integer"
        },
        {
         "name": "numero_contatos",
         "rawType": "int64",
         "type": "integer"
        },
        {
         "name": "aderencia_investimento",
         "rawType": "object",
         "type": "string"
        }
       ],
       "ref": "ae4f44e9-faa4-44f6-8b7a-b65747c29adc",
       "rows": [
        [
         "0",
         "45",
         "casado (a)",
         "superior",
         "nao",
         "242",
         "nao",
         "587",
         "1",
         "sim"
        ],
        [
         "1",
         "42",
         "casado (a)",
         "medio",
         "nao",
         "1289",
         "nao",
         "250",
         "4",
         "sim"
        ],
        [
         "2",
         "23",
         "solteiro (a)",
         "superior",
         "nao",
         "363",
         "nao",
         "16",
         "18",
         "nao"
        ],
        [
         "3",
         "58",
         "divorciado (a)",
         "superior",
         "nao",
         "1382",
         "nao",
         "700",
         "1",
         "sim"
        ],
        [
         "4",
         "50",
         "casado (a)",
         "medio",
         "nao",
         "3357",
         "nao",
         "239",
         "4",
         "sim"
        ],
        [
         "5",
         "24",
         "solteiro (a)",
         "medio",
         "nao",
         "174",
         "sim",
         "487",
         "1",
         "sim"
        ],
        [
         "6",
         "53",
         "casado (a)",
         "superior",
         "nao",
         "4446",
         "nao",
         "429",
         "1",
         "nao"
        ],
        [
         "7",
         "30",
         "casado (a)",
         "medio",
         "nao",
         "946",
         "nao",
         "1065",
         "1",
         "nao"
        ],
        [
         "8",
         "39",
         "casado (a)",
         "fundamental",
         "nao",
         "879",
         "nao",
         "102",
         "2",
         "nao"
        ],
        [
         "9",
         "30",
         "divorciado (a)",
         "medio",
         "nao",
         "-94",
         "nao",
         "41",
         "2",
         "nao"
        ],
        [
         "10",
         "34",
         "solteiro (a)",
         "superior",
         "nao",
         "5086",
         "nao",
         "213",
         "4",
         "sim"
        ],
        [
         "11",
         "39",
         "casado (a)",
         "fundamental",
         "nao",
         "7685",
         "nao",
         "493",
         "3",
         "nao"
        ],
        [
         "12",
         "33",
         "casado (a)",
         "medio",
         "nao",
         "139",
         "sim",
         "732",
         "2",
         "sim"
        ],
        [
         "13",
         "34",
         "casado (a)",
         "superior",
         "nao",
         "1116",
         "nao",
         "53",
         "5",
         "nao"
        ],
        [
         "14",
         "38",
         "solteiro (a)",
         "superior",
         "nao",
         "0",
         "nao",
         "71",
         "1",
         "nao"
        ],
        [
         "15",
         "33",
         "divorciado (a)",
         "medio",
         "nao",
         "2411",
         "nao",
         "130",
         "1",
         "sim"
        ],
        [
         "16",
         "48",
         "casado (a)",
         "fundamental",
         "nao",
         "559",
         "nao",
         "1231",
         "2",
         "nao"
        ],
        [
         "17",
         "39",
         "casado (a)",
         "medio",
         "nao",
         "0",
         "nao",
         "793",
         "2",
         "nao"
        ],
        [
         "18",
         "53",
         "casado (a)",
         "medio",
         "nao",
         "70",
         "nao",
         "611",
         "2",
         "nao"
        ],
        [
         "19",
         "80",
         "casado (a)",
         "medio",
         "nao",
         "8304",
         "nao",
         "712",
         "1",
         "sim"
        ],
        [
         "20",
         "38",
         "divorciado (a)",
         "medio",
         "nao",
         "157",
         "nao",
         "299",
         "5",
         "nao"
        ],
        [
         "21",
         "24",
         "solteiro (a)",
         "medio",
         "nao",
         "-46",
         "nao",
         "23",
         "1",
         "nao"
        ],
        [
         "22",
         "44",
         "casado (a)",
         "medio",
         "nao",
         "10888",
         "nao",
         "163",
         "1",
         "nao"
        ],
        [
         "23",
         "46",
         "divorciado (a)",
         "superior",
         "nao",
         "624",
         "nao",
         "336",
         "2",
         "sim"
        ],
        [
         "24",
         "53",
         "casado (a)",
         "medio",
         "nao",
         "719",
         "nao",
         "230",
         "1",
         "nao"
        ],
        [
         "25",
         "30",
         "casado (a)",
         "superior",
         "nao",
         "102",
         "nao",
         "470",
         "7",
         "sim"
        ],
        [
         "26",
         "41",
         "casado (a)",
         "fundamental",
         "nao",
         "7735",
         "nao",
         "220",
         "1",
         "nao"
        ],
        [
         "27",
         "47",
         "solteiro (a)",
         "superior",
         "nao",
         "4402",
         "nao",
         "805",
         "1",
         "sim"
        ],
        [
         "28",
         "30",
         "solteiro (a)",
         "medio",
         "nao",
         "2145",
         "nao",
         "727",
         "2",
         "sim"
        ],
        [
         "29",
         "47",
         "casado (a)",
         "medio",
         "nao",
         "1167",
         "nao",
         "968",
         "1",
         "sim"
        ],
        [
         "30",
         "32",
         "solteiro (a)",
         "medio",
         "nao",
         "118",
         "nao",
         "1275",
         "1",
         "sim"
        ],
        [
         "31",
         "27",
         "casado (a)",
         "medio",
         "nao",
         "-247",
         "sim",
         "344",
         "2",
         "nao"
        ],
        [
         "32",
         "58",
         "solteiro (a)",
         "medio",
         "nao",
         "1640",
         "sim",
         "72",
         "6",
         "nao"
        ],
        [
         "33",
         "51",
         "casado (a)",
         "medio",
         "nao",
         "2662",
         "nao",
         "148",
         "2",
         "nao"
        ],
        [
         "34",
         "47",
         "casado (a)",
         "medio",
         "nao",
         "2246",
         "nao",
         "330",
         "1",
         "nao"
        ],
        [
         "35",
         "34",
         "casado (a)",
         "medio",
         "nao",
         "475",
         "nao",
         "559",
         "1",
         "nao"
        ],
        [
         "36",
         "40",
         "casado (a)",
         "superior",
         "nao",
         "1584",
         "nao",
         "661",
         "1",
         "nao"
        ],
        [
         "37",
         "44",
         "divorciado (a)",
         "medio",
         "nao",
         "0",
         "nao",
         "264",
         "5",
         "nao"
        ],
        [
         "38",
         "55",
         "divorciado (a)",
         "medio",
         "sim",
         "-404",
         "nao",
         "502",
         "3",
         "nao"
        ],
        [
         "39",
         "71",
         "casado (a)",
         "superior",
         "nao",
         "14220",
         "nao",
         "397",
         "1",
         "sim"
        ],
        [
         "40",
         "38",
         "casado (a)",
         "fundamental",
         "nao",
         "168",
         "sim",
         "212",
         "3",
         "nao"
        ],
        [
         "41",
         "38",
         "casado (a)",
         "superior",
         "nao",
         "12877",
         "nao",
         "118",
         "3",
         "nao"
        ],
        [
         "42",
         "54",
         "casado (a)",
         "superior",
         "nao",
         "98",
         "nao",
         "420",
         "4",
         "nao"
        ],
        [
         "43",
         "43",
         "casado (a)",
         "superior",
         "nao",
         "13342",
         "nao",
         "465",
         "1",
         "nao"
        ],
        [
         "44",
         "31",
         "casado (a)",
         "superior",
         "nao",
         "8312",
         "nao",
         "43",
         "13",
         "nao"
        ],
        [
         "45",
         "36",
         "divorciado (a)",
         "superior",
         "nao",
         "119",
         "nao",
         "127",
         "8",
         "nao"
        ],
        [
         "46",
         "31",
         "casado (a)",
         "superior",
         "nao",
         "156",
         "nao",
         "657",
         "7",
         "sim"
        ],
        [
         "47",
         "33",
         "casado (a)",
         "superior",
         "nao",
         "3696",
         "nao",
         "305",
         "1",
         "nao"
        ],
        [
         "48",
         "30",
         "casado (a)",
         "medio",
         "nao",
         "-393",
         "sim",
         "435",
         "1",
         "sim"
        ],
        [
         "49",
         "38",
         "casado (a)",
         "medio",
         "nao",
         "497",
         "sim",
         "88",
         "5",
         "nao"
        ]
       ],
       "shape": {
        "columns": 9,
        "rows": 1268
       }
      },
      "text/html": [
       "<div>\n",
       "<style scoped>\n",
       "    .dataframe tbody tr th:only-of-type {\n",
       "        vertical-align: middle;\n",
       "    }\n",
       "\n",
       "    .dataframe tbody tr th {\n",
       "        vertical-align: top;\n",
       "    }\n",
       "\n",
       "    .dataframe thead th {\n",
       "        text-align: right;\n",
       "    }\n",
       "</style>\n",
       "<table border=\"1\" class=\"dataframe\">\n",
       "  <thead>\n",
       "    <tr style=\"text-align: right;\">\n",
       "      <th></th>\n",
       "      <th>idade</th>\n",
       "      <th>estado_civil</th>\n",
       "      <th>escolaridade</th>\n",
       "      <th>inadimplencia</th>\n",
       "      <th>saldo</th>\n",
       "      <th>fez_emprestimo</th>\n",
       "      <th>tempo_ult_contato</th>\n",
       "      <th>numero_contatos</th>\n",
       "      <th>aderencia_investimento</th>\n",
       "    </tr>\n",
       "  </thead>\n",
       "  <tbody>\n",
       "    <tr>\n",
       "      <th>0</th>\n",
       "      <td>45</td>\n",
       "      <td>casado (a)</td>\n",
       "      <td>superior</td>\n",
       "      <td>nao</td>\n",
       "      <td>242</td>\n",
       "      <td>nao</td>\n",
       "      <td>587</td>\n",
       "      <td>1</td>\n",
       "      <td>sim</td>\n",
       "    </tr>\n",
       "    <tr>\n",
       "      <th>1</th>\n",
       "      <td>42</td>\n",
       "      <td>casado (a)</td>\n",
       "      <td>medio</td>\n",
       "      <td>nao</td>\n",
       "      <td>1289</td>\n",
       "      <td>nao</td>\n",
       "      <td>250</td>\n",
       "      <td>4</td>\n",
       "      <td>sim</td>\n",
       "    </tr>\n",
       "    <tr>\n",
       "      <th>2</th>\n",
       "      <td>23</td>\n",
       "      <td>solteiro (a)</td>\n",
       "      <td>superior</td>\n",
       "      <td>nao</td>\n",
       "      <td>363</td>\n",
       "      <td>nao</td>\n",
       "      <td>16</td>\n",
       "      <td>18</td>\n",
       "      <td>nao</td>\n",
       "    </tr>\n",
       "    <tr>\n",
       "      <th>3</th>\n",
       "      <td>58</td>\n",
       "      <td>divorciado (a)</td>\n",
       "      <td>superior</td>\n",
       "      <td>nao</td>\n",
       "      <td>1382</td>\n",
       "      <td>nao</td>\n",
       "      <td>700</td>\n",
       "      <td>1</td>\n",
       "      <td>sim</td>\n",
       "    </tr>\n",
       "    <tr>\n",
       "      <th>4</th>\n",
       "      <td>50</td>\n",
       "      <td>casado (a)</td>\n",
       "      <td>medio</td>\n",
       "      <td>nao</td>\n",
       "      <td>3357</td>\n",
       "      <td>nao</td>\n",
       "      <td>239</td>\n",
       "      <td>4</td>\n",
       "      <td>sim</td>\n",
       "    </tr>\n",
       "    <tr>\n",
       "      <th>...</th>\n",
       "      <td>...</td>\n",
       "      <td>...</td>\n",
       "      <td>...</td>\n",
       "      <td>...</td>\n",
       "      <td>...</td>\n",
       "      <td>...</td>\n",
       "      <td>...</td>\n",
       "      <td>...</td>\n",
       "      <td>...</td>\n",
       "    </tr>\n",
       "    <tr>\n",
       "      <th>1263</th>\n",
       "      <td>52</td>\n",
       "      <td>solteiro (a)</td>\n",
       "      <td>superior</td>\n",
       "      <td>nao</td>\n",
       "      <td>83</td>\n",
       "      <td>nao</td>\n",
       "      <td>1223</td>\n",
       "      <td>6</td>\n",
       "      <td>sim</td>\n",
       "    </tr>\n",
       "    <tr>\n",
       "      <th>1264</th>\n",
       "      <td>35</td>\n",
       "      <td>solteiro (a)</td>\n",
       "      <td>superior</td>\n",
       "      <td>nao</td>\n",
       "      <td>5958</td>\n",
       "      <td>nao</td>\n",
       "      <td>215</td>\n",
       "      <td>1</td>\n",
       "      <td>sim</td>\n",
       "    </tr>\n",
       "    <tr>\n",
       "      <th>1265</th>\n",
       "      <td>30</td>\n",
       "      <td>solteiro (a)</td>\n",
       "      <td>superior</td>\n",
       "      <td>nao</td>\n",
       "      <td>-477</td>\n",
       "      <td>sim</td>\n",
       "      <td>1532</td>\n",
       "      <td>2</td>\n",
       "      <td>sim</td>\n",
       "    </tr>\n",
       "    <tr>\n",
       "      <th>1266</th>\n",
       "      <td>42</td>\n",
       "      <td>casado (a)</td>\n",
       "      <td>superior</td>\n",
       "      <td>nao</td>\n",
       "      <td>2187</td>\n",
       "      <td>nao</td>\n",
       "      <td>525</td>\n",
       "      <td>3</td>\n",
       "      <td>sim</td>\n",
       "    </tr>\n",
       "    <tr>\n",
       "      <th>1267</th>\n",
       "      <td>29</td>\n",
       "      <td>solteiro (a)</td>\n",
       "      <td>superior</td>\n",
       "      <td>nao</td>\n",
       "      <td>19</td>\n",
       "      <td>nao</td>\n",
       "      <td>110</td>\n",
       "      <td>2</td>\n",
       "      <td>sim</td>\n",
       "    </tr>\n",
       "  </tbody>\n",
       "</table>\n",
       "<p>1268 rows × 9 columns</p>\n",
       "</div>"
      ],
      "text/plain": [
       "      idade    estado_civil escolaridade inadimplencia  saldo fez_emprestimo  \\\n",
       "0        45      casado (a)     superior           nao    242            nao   \n",
       "1        42      casado (a)        medio           nao   1289            nao   \n",
       "2        23    solteiro (a)     superior           nao    363            nao   \n",
       "3        58  divorciado (a)     superior           nao   1382            nao   \n",
       "4        50      casado (a)        medio           nao   3357            nao   \n",
       "...     ...             ...          ...           ...    ...            ...   \n",
       "1263     52    solteiro (a)     superior           nao     83            nao   \n",
       "1264     35    solteiro (a)     superior           nao   5958            nao   \n",
       "1265     30    solteiro (a)     superior           nao   -477            sim   \n",
       "1266     42      casado (a)     superior           nao   2187            nao   \n",
       "1267     29    solteiro (a)     superior           nao     19            nao   \n",
       "\n",
       "      tempo_ult_contato  numero_contatos aderencia_investimento  \n",
       "0                   587                1                    sim  \n",
       "1                   250                4                    sim  \n",
       "2                    16               18                    nao  \n",
       "3                   700                1                    sim  \n",
       "4                   239                4                    sim  \n",
       "...                 ...              ...                    ...  \n",
       "1263               1223                6                    sim  \n",
       "1264                215                1                    sim  \n",
       "1265               1532                2                    sim  \n",
       "1266                525                3                    sim  \n",
       "1267                110                2                    sim  \n",
       "\n",
       "[1268 rows x 9 columns]"
      ]
     },
     "execution_count": 17,
     "metadata": {},
     "output_type": "execute_result"
    }
   ],
   "source": [
    "dados"
   ]
  },
  {
   "cell_type": "markdown",
   "metadata": {},
   "source": [
    "Fazer a separação dos dados em variáveis explicativas (x) e variáveis resposta / alvo (y):"
   ]
  },
  {
   "cell_type": "code",
   "execution_count": 18,
   "metadata": {},
   "outputs": [],
   "source": [
    "x = dados.drop('aderencia_investimento', axis=1)\n",
    "y = dados['aderencia_investimento']"
   ]
  },
  {
   "cell_type": "code",
   "execution_count": 19,
   "metadata": {},
   "outputs": [
    {
     "data": {
      "application/vnd.microsoft.datawrangler.viewer.v0+json": {
       "columns": [
        {
         "name": "index",
         "rawType": "int64",
         "type": "integer"
        },
        {
         "name": "idade",
         "rawType": "int64",
         "type": "integer"
        },
        {
         "name": "estado_civil",
         "rawType": "object",
         "type": "string"
        },
        {
         "name": "escolaridade",
         "rawType": "object",
         "type": "string"
        },
        {
         "name": "inadimplencia",
         "rawType": "object",
         "type": "string"
        },
        {
         "name": "saldo",
         "rawType": "int64",
         "type": "integer"
        },
        {
         "name": "fez_emprestimo",
         "rawType": "object",
         "type": "string"
        },
        {
         "name": "tempo_ult_contato",
         "rawType": "int64",
         "type": "integer"
        },
        {
         "name": "numero_contatos",
         "rawType": "int64",
         "type": "integer"
        }
       ],
       "ref": "21df1987-0758-4fd2-8691-f7d6d0eaeabd",
       "rows": [
        [
         "0",
         "45",
         "casado (a)",
         "superior",
         "nao",
         "242",
         "nao",
         "587",
         "1"
        ],
        [
         "1",
         "42",
         "casado (a)",
         "medio",
         "nao",
         "1289",
         "nao",
         "250",
         "4"
        ],
        [
         "2",
         "23",
         "solteiro (a)",
         "superior",
         "nao",
         "363",
         "nao",
         "16",
         "18"
        ],
        [
         "3",
         "58",
         "divorciado (a)",
         "superior",
         "nao",
         "1382",
         "nao",
         "700",
         "1"
        ],
        [
         "4",
         "50",
         "casado (a)",
         "medio",
         "nao",
         "3357",
         "nao",
         "239",
         "4"
        ],
        [
         "5",
         "24",
         "solteiro (a)",
         "medio",
         "nao",
         "174",
         "sim",
         "487",
         "1"
        ],
        [
         "6",
         "53",
         "casado (a)",
         "superior",
         "nao",
         "4446",
         "nao",
         "429",
         "1"
        ],
        [
         "7",
         "30",
         "casado (a)",
         "medio",
         "nao",
         "946",
         "nao",
         "1065",
         "1"
        ],
        [
         "8",
         "39",
         "casado (a)",
         "fundamental",
         "nao",
         "879",
         "nao",
         "102",
         "2"
        ],
        [
         "9",
         "30",
         "divorciado (a)",
         "medio",
         "nao",
         "-94",
         "nao",
         "41",
         "2"
        ],
        [
         "10",
         "34",
         "solteiro (a)",
         "superior",
         "nao",
         "5086",
         "nao",
         "213",
         "4"
        ],
        [
         "11",
         "39",
         "casado (a)",
         "fundamental",
         "nao",
         "7685",
         "nao",
         "493",
         "3"
        ],
        [
         "12",
         "33",
         "casado (a)",
         "medio",
         "nao",
         "139",
         "sim",
         "732",
         "2"
        ],
        [
         "13",
         "34",
         "casado (a)",
         "superior",
         "nao",
         "1116",
         "nao",
         "53",
         "5"
        ],
        [
         "14",
         "38",
         "solteiro (a)",
         "superior",
         "nao",
         "0",
         "nao",
         "71",
         "1"
        ],
        [
         "15",
         "33",
         "divorciado (a)",
         "medio",
         "nao",
         "2411",
         "nao",
         "130",
         "1"
        ],
        [
         "16",
         "48",
         "casado (a)",
         "fundamental",
         "nao",
         "559",
         "nao",
         "1231",
         "2"
        ],
        [
         "17",
         "39",
         "casado (a)",
         "medio",
         "nao",
         "0",
         "nao",
         "793",
         "2"
        ],
        [
         "18",
         "53",
         "casado (a)",
         "medio",
         "nao",
         "70",
         "nao",
         "611",
         "2"
        ],
        [
         "19",
         "80",
         "casado (a)",
         "medio",
         "nao",
         "8304",
         "nao",
         "712",
         "1"
        ],
        [
         "20",
         "38",
         "divorciado (a)",
         "medio",
         "nao",
         "157",
         "nao",
         "299",
         "5"
        ],
        [
         "21",
         "24",
         "solteiro (a)",
         "medio",
         "nao",
         "-46",
         "nao",
         "23",
         "1"
        ],
        [
         "22",
         "44",
         "casado (a)",
         "medio",
         "nao",
         "10888",
         "nao",
         "163",
         "1"
        ],
        [
         "23",
         "46",
         "divorciado (a)",
         "superior",
         "nao",
         "624",
         "nao",
         "336",
         "2"
        ],
        [
         "24",
         "53",
         "casado (a)",
         "medio",
         "nao",
         "719",
         "nao",
         "230",
         "1"
        ],
        [
         "25",
         "30",
         "casado (a)",
         "superior",
         "nao",
         "102",
         "nao",
         "470",
         "7"
        ],
        [
         "26",
         "41",
         "casado (a)",
         "fundamental",
         "nao",
         "7735",
         "nao",
         "220",
         "1"
        ],
        [
         "27",
         "47",
         "solteiro (a)",
         "superior",
         "nao",
         "4402",
         "nao",
         "805",
         "1"
        ],
        [
         "28",
         "30",
         "solteiro (a)",
         "medio",
         "nao",
         "2145",
         "nao",
         "727",
         "2"
        ],
        [
         "29",
         "47",
         "casado (a)",
         "medio",
         "nao",
         "1167",
         "nao",
         "968",
         "1"
        ],
        [
         "30",
         "32",
         "solteiro (a)",
         "medio",
         "nao",
         "118",
         "nao",
         "1275",
         "1"
        ],
        [
         "31",
         "27",
         "casado (a)",
         "medio",
         "nao",
         "-247",
         "sim",
         "344",
         "2"
        ],
        [
         "32",
         "58",
         "solteiro (a)",
         "medio",
         "nao",
         "1640",
         "sim",
         "72",
         "6"
        ],
        [
         "33",
         "51",
         "casado (a)",
         "medio",
         "nao",
         "2662",
         "nao",
         "148",
         "2"
        ],
        [
         "34",
         "47",
         "casado (a)",
         "medio",
         "nao",
         "2246",
         "nao",
         "330",
         "1"
        ],
        [
         "35",
         "34",
         "casado (a)",
         "medio",
         "nao",
         "475",
         "nao",
         "559",
         "1"
        ],
        [
         "36",
         "40",
         "casado (a)",
         "superior",
         "nao",
         "1584",
         "nao",
         "661",
         "1"
        ],
        [
         "37",
         "44",
         "divorciado (a)",
         "medio",
         "nao",
         "0",
         "nao",
         "264",
         "5"
        ],
        [
         "38",
         "55",
         "divorciado (a)",
         "medio",
         "sim",
         "-404",
         "nao",
         "502",
         "3"
        ],
        [
         "39",
         "71",
         "casado (a)",
         "superior",
         "nao",
         "14220",
         "nao",
         "397",
         "1"
        ],
        [
         "40",
         "38",
         "casado (a)",
         "fundamental",
         "nao",
         "168",
         "sim",
         "212",
         "3"
        ],
        [
         "41",
         "38",
         "casado (a)",
         "superior",
         "nao",
         "12877",
         "nao",
         "118",
         "3"
        ],
        [
         "42",
         "54",
         "casado (a)",
         "superior",
         "nao",
         "98",
         "nao",
         "420",
         "4"
        ],
        [
         "43",
         "43",
         "casado (a)",
         "superior",
         "nao",
         "13342",
         "nao",
         "465",
         "1"
        ],
        [
         "44",
         "31",
         "casado (a)",
         "superior",
         "nao",
         "8312",
         "nao",
         "43",
         "13"
        ],
        [
         "45",
         "36",
         "divorciado (a)",
         "superior",
         "nao",
         "119",
         "nao",
         "127",
         "8"
        ],
        [
         "46",
         "31",
         "casado (a)",
         "superior",
         "nao",
         "156",
         "nao",
         "657",
         "7"
        ],
        [
         "47",
         "33",
         "casado (a)",
         "superior",
         "nao",
         "3696",
         "nao",
         "305",
         "1"
        ],
        [
         "48",
         "30",
         "casado (a)",
         "medio",
         "nao",
         "-393",
         "sim",
         "435",
         "1"
        ],
        [
         "49",
         "38",
         "casado (a)",
         "medio",
         "nao",
         "497",
         "sim",
         "88",
         "5"
        ]
       ],
       "shape": {
        "columns": 8,
        "rows": 1268
       }
      },
      "text/html": [
       "<div>\n",
       "<style scoped>\n",
       "    .dataframe tbody tr th:only-of-type {\n",
       "        vertical-align: middle;\n",
       "    }\n",
       "\n",
       "    .dataframe tbody tr th {\n",
       "        vertical-align: top;\n",
       "    }\n",
       "\n",
       "    .dataframe thead th {\n",
       "        text-align: right;\n",
       "    }\n",
       "</style>\n",
       "<table border=\"1\" class=\"dataframe\">\n",
       "  <thead>\n",
       "    <tr style=\"text-align: right;\">\n",
       "      <th></th>\n",
       "      <th>idade</th>\n",
       "      <th>estado_civil</th>\n",
       "      <th>escolaridade</th>\n",
       "      <th>inadimplencia</th>\n",
       "      <th>saldo</th>\n",
       "      <th>fez_emprestimo</th>\n",
       "      <th>tempo_ult_contato</th>\n",
       "      <th>numero_contatos</th>\n",
       "    </tr>\n",
       "  </thead>\n",
       "  <tbody>\n",
       "    <tr>\n",
       "      <th>0</th>\n",
       "      <td>45</td>\n",
       "      <td>casado (a)</td>\n",
       "      <td>superior</td>\n",
       "      <td>nao</td>\n",
       "      <td>242</td>\n",
       "      <td>nao</td>\n",
       "      <td>587</td>\n",
       "      <td>1</td>\n",
       "    </tr>\n",
       "    <tr>\n",
       "      <th>1</th>\n",
       "      <td>42</td>\n",
       "      <td>casado (a)</td>\n",
       "      <td>medio</td>\n",
       "      <td>nao</td>\n",
       "      <td>1289</td>\n",
       "      <td>nao</td>\n",
       "      <td>250</td>\n",
       "      <td>4</td>\n",
       "    </tr>\n",
       "    <tr>\n",
       "      <th>2</th>\n",
       "      <td>23</td>\n",
       "      <td>solteiro (a)</td>\n",
       "      <td>superior</td>\n",
       "      <td>nao</td>\n",
       "      <td>363</td>\n",
       "      <td>nao</td>\n",
       "      <td>16</td>\n",
       "      <td>18</td>\n",
       "    </tr>\n",
       "    <tr>\n",
       "      <th>3</th>\n",
       "      <td>58</td>\n",
       "      <td>divorciado (a)</td>\n",
       "      <td>superior</td>\n",
       "      <td>nao</td>\n",
       "      <td>1382</td>\n",
       "      <td>nao</td>\n",
       "      <td>700</td>\n",
       "      <td>1</td>\n",
       "    </tr>\n",
       "    <tr>\n",
       "      <th>4</th>\n",
       "      <td>50</td>\n",
       "      <td>casado (a)</td>\n",
       "      <td>medio</td>\n",
       "      <td>nao</td>\n",
       "      <td>3357</td>\n",
       "      <td>nao</td>\n",
       "      <td>239</td>\n",
       "      <td>4</td>\n",
       "    </tr>\n",
       "    <tr>\n",
       "      <th>...</th>\n",
       "      <td>...</td>\n",
       "      <td>...</td>\n",
       "      <td>...</td>\n",
       "      <td>...</td>\n",
       "      <td>...</td>\n",
       "      <td>...</td>\n",
       "      <td>...</td>\n",
       "      <td>...</td>\n",
       "    </tr>\n",
       "    <tr>\n",
       "      <th>1263</th>\n",
       "      <td>52</td>\n",
       "      <td>solteiro (a)</td>\n",
       "      <td>superior</td>\n",
       "      <td>nao</td>\n",
       "      <td>83</td>\n",
       "      <td>nao</td>\n",
       "      <td>1223</td>\n",
       "      <td>6</td>\n",
       "    </tr>\n",
       "    <tr>\n",
       "      <th>1264</th>\n",
       "      <td>35</td>\n",
       "      <td>solteiro (a)</td>\n",
       "      <td>superior</td>\n",
       "      <td>nao</td>\n",
       "      <td>5958</td>\n",
       "      <td>nao</td>\n",
       "      <td>215</td>\n",
       "      <td>1</td>\n",
       "    </tr>\n",
       "    <tr>\n",
       "      <th>1265</th>\n",
       "      <td>30</td>\n",
       "      <td>solteiro (a)</td>\n",
       "      <td>superior</td>\n",
       "      <td>nao</td>\n",
       "      <td>-477</td>\n",
       "      <td>sim</td>\n",
       "      <td>1532</td>\n",
       "      <td>2</td>\n",
       "    </tr>\n",
       "    <tr>\n",
       "      <th>1266</th>\n",
       "      <td>42</td>\n",
       "      <td>casado (a)</td>\n",
       "      <td>superior</td>\n",
       "      <td>nao</td>\n",
       "      <td>2187</td>\n",
       "      <td>nao</td>\n",
       "      <td>525</td>\n",
       "      <td>3</td>\n",
       "    </tr>\n",
       "    <tr>\n",
       "      <th>1267</th>\n",
       "      <td>29</td>\n",
       "      <td>solteiro (a)</td>\n",
       "      <td>superior</td>\n",
       "      <td>nao</td>\n",
       "      <td>19</td>\n",
       "      <td>nao</td>\n",
       "      <td>110</td>\n",
       "      <td>2</td>\n",
       "    </tr>\n",
       "  </tbody>\n",
       "</table>\n",
       "<p>1268 rows × 8 columns</p>\n",
       "</div>"
      ],
      "text/plain": [
       "      idade    estado_civil escolaridade inadimplencia  saldo fez_emprestimo  \\\n",
       "0        45      casado (a)     superior           nao    242            nao   \n",
       "1        42      casado (a)        medio           nao   1289            nao   \n",
       "2        23    solteiro (a)     superior           nao    363            nao   \n",
       "3        58  divorciado (a)     superior           nao   1382            nao   \n",
       "4        50      casado (a)        medio           nao   3357            nao   \n",
       "...     ...             ...          ...           ...    ...            ...   \n",
       "1263     52    solteiro (a)     superior           nao     83            nao   \n",
       "1264     35    solteiro (a)     superior           nao   5958            nao   \n",
       "1265     30    solteiro (a)     superior           nao   -477            sim   \n",
       "1266     42      casado (a)     superior           nao   2187            nao   \n",
       "1267     29    solteiro (a)     superior           nao     19            nao   \n",
       "\n",
       "      tempo_ult_contato  numero_contatos  \n",
       "0                   587                1  \n",
       "1                   250                4  \n",
       "2                    16               18  \n",
       "3                   700                1  \n",
       "4                   239                4  \n",
       "...                 ...              ...  \n",
       "1263               1223                6  \n",
       "1264                215                1  \n",
       "1265               1532                2  \n",
       "1266                525                3  \n",
       "1267                110                2  \n",
       "\n",
       "[1268 rows x 8 columns]"
      ]
     },
     "execution_count": 19,
     "metadata": {},
     "output_type": "execute_result"
    }
   ],
   "source": [
    "x"
   ]
  },
  {
   "cell_type": "code",
   "execution_count": 20,
   "metadata": {},
   "outputs": [
    {
     "data": {
      "application/vnd.microsoft.datawrangler.viewer.v0+json": {
       "columns": [
        {
         "name": "index",
         "rawType": "int64",
         "type": "integer"
        },
        {
         "name": "aderencia_investimento",
         "rawType": "object",
         "type": "string"
        }
       ],
       "ref": "7d8f80ef-86fc-47a6-a6e5-89d7b336559c",
       "rows": [
        [
         "0",
         "sim"
        ],
        [
         "1",
         "sim"
        ],
        [
         "2",
         "nao"
        ],
        [
         "3",
         "sim"
        ],
        [
         "4",
         "sim"
        ],
        [
         "5",
         "sim"
        ],
        [
         "6",
         "nao"
        ],
        [
         "7",
         "nao"
        ],
        [
         "8",
         "nao"
        ],
        [
         "9",
         "nao"
        ],
        [
         "10",
         "sim"
        ],
        [
         "11",
         "nao"
        ],
        [
         "12",
         "sim"
        ],
        [
         "13",
         "nao"
        ],
        [
         "14",
         "nao"
        ],
        [
         "15",
         "sim"
        ],
        [
         "16",
         "nao"
        ],
        [
         "17",
         "nao"
        ],
        [
         "18",
         "nao"
        ],
        [
         "19",
         "sim"
        ],
        [
         "20",
         "nao"
        ],
        [
         "21",
         "nao"
        ],
        [
         "22",
         "nao"
        ],
        [
         "23",
         "sim"
        ],
        [
         "24",
         "nao"
        ],
        [
         "25",
         "sim"
        ],
        [
         "26",
         "nao"
        ],
        [
         "27",
         "sim"
        ],
        [
         "28",
         "sim"
        ],
        [
         "29",
         "sim"
        ],
        [
         "30",
         "sim"
        ],
        [
         "31",
         "nao"
        ],
        [
         "32",
         "nao"
        ],
        [
         "33",
         "nao"
        ],
        [
         "34",
         "nao"
        ],
        [
         "35",
         "nao"
        ],
        [
         "36",
         "nao"
        ],
        [
         "37",
         "nao"
        ],
        [
         "38",
         "nao"
        ],
        [
         "39",
         "sim"
        ],
        [
         "40",
         "nao"
        ],
        [
         "41",
         "nao"
        ],
        [
         "42",
         "nao"
        ],
        [
         "43",
         "nao"
        ],
        [
         "44",
         "nao"
        ],
        [
         "45",
         "nao"
        ],
        [
         "46",
         "sim"
        ],
        [
         "47",
         "nao"
        ],
        [
         "48",
         "sim"
        ],
        [
         "49",
         "nao"
        ]
       ],
       "shape": {
        "columns": 1,
        "rows": 1268
       }
      },
      "text/plain": [
       "0       sim\n",
       "1       sim\n",
       "2       nao\n",
       "3       sim\n",
       "4       sim\n",
       "       ... \n",
       "1263    sim\n",
       "1264    sim\n",
       "1265    sim\n",
       "1266    sim\n",
       "1267    sim\n",
       "Name: aderencia_investimento, Length: 1268, dtype: object"
      ]
     },
     "execution_count": 20,
     "metadata": {},
     "output_type": "execute_result"
    }
   ],
   "source": [
    "y"
   ]
  },
  {
   "cell_type": "markdown",
   "metadata": {},
   "source": [
    "### Módulo 2 - Transformação de dados - Aula 4 - Transformando variáveis explicativas"
   ]
  },
  {
   "attachments": {
    "image.png": {
     "image/png": "[encoded data removed]"
    }
   },
   "cell_type": "markdown",
   "metadata": {},
   "source": [
    "Os algoritmos de Machine Learning não conseguem compreender informações que não estejam em formato numérico. Portanto, se for o desejo de utilizar variáveis categóricas em modelos, é necessário que elas passem por algum tipo de tratamento para que fiquem em formato numérico. Isso não quer dizer que vão se tornar variáveis numéricas, apenas que estarão em um formato que seja compreendido pelos modelos.\n",
    "\n",
    "Essa transformação deverá ser feita através do One-Hot Encoding.\n",
    "\n",
    "O One-Hot Encoding funciona recolhendo as características de cada uma das colunas categóricas.\n",
    "\n",
    "Para que o modelo compreenda essas características como valor numérico e de forma diferente, podemos criar uma coluna para cada uma dessas características. Nessas colunas, iremos atribuir o valor 1 quando houver a presença da característica, e 0 quando ela estiver ausente.\n",
    "\n",
    "Dessa forma, conseguimos transformar as variáveis categóricas em variáveis numéricas sem perder as informações originais dos dados.\n",
    "\n",
    "![image.png](attachment:image.png)"
   ]
  },
  {
   "cell_type": "code",
   "execution_count": 21,
   "metadata": {},
   "outputs": [],
   "source": [
    "from sklearn.compose import make_column_transformer\n",
    "from sklearn.preprocessing import OneHotEncoder"
   ]
  },
  {
   "cell_type": "code",
   "execution_count": 22,
   "metadata": {},
   "outputs": [],
   "source": [
    "colunas = x.columns"
   ]
  },
  {
   "cell_type": "code",
   "execution_count": 23,
   "metadata": {},
   "outputs": [],
   "source": [
    "one_hot = make_column_transformer((\n",
    "    OneHotEncoder(drop ='if_binary'), \n",
    "     ['estado_civil', 'escolaridade', 'inadimplencia', 'fez_emprestimo']\n",
    "),\n",
    "    remainder='passthrough',\n",
    "    sparse_threshold=0)"
   ]
  },
  {
   "cell_type": "code",
   "execution_count": 24,
   "metadata": {},
   "outputs": [],
   "source": [
    "x = one_hot.fit_transform(x)"
   ]
  },
  {
   "cell_type": "code",
   "execution_count": 25,
   "metadata": {},
   "outputs": [
    {
     "data": {
      "text/plain": [
       "array(['onehotencoder__estado_civil_casado (a)',\n",
       "       'onehotencoder__estado_civil_divorciado (a)',\n",
       "       'onehotencoder__estado_civil_solteiro (a)',\n",
       "       'onehotencoder__escolaridade_fundamental',\n",
       "       'onehotencoder__escolaridade_medio',\n",
       "       'onehotencoder__escolaridade_superior',\n",
       "       'onehotencoder__inadimplencia_sim',\n",
       "       'onehotencoder__fez_emprestimo_sim', 'remainder__idade',\n",
       "       'remainder__saldo', 'remainder__tempo_ult_contato',\n",
       "       'remainder__numero_contatos'], dtype=object)"
      ]
     },
     "execution_count": 25,
     "metadata": {},
     "output_type": "execute_result"
    }
   ],
   "source": [
    "one_hot.get_feature_names_out(colunas)"
   ]
  },
  {
   "cell_type": "code",
   "execution_count": 26,
   "metadata": {},
   "outputs": [
    {
     "data": {
      "application/vnd.microsoft.datawrangler.viewer.v0+json": {
       "columns": [
        {
         "name": "index",
         "rawType": "int64",
         "type": "integer"
        },
        {
         "name": "onehotencoder__estado_civil_casado (a)",
         "rawType": "float64",
         "type": "float"
        },
        {
         "name": "onehotencoder__estado_civil_divorciado (a)",
         "rawType": "float64",
         "type": "float"
        },
        {
         "name": "onehotencoder__estado_civil_solteiro (a)",
         "rawType": "float64",
         "type": "float"
        },
        {
         "name": "onehotencoder__escolaridade_fundamental",
         "rawType": "float64",
         "type": "float"
        },
        {
         "name": "onehotencoder__escolaridade_medio",
         "rawType": "float64",
         "type": "float"
        },
        {
         "name": "onehotencoder__escolaridade_superior",
         "rawType": "float64",
         "type": "float"
        },
        {
         "name": "onehotencoder__inadimplencia_sim",
         "rawType": "float64",
         "type": "float"
        },
        {
         "name": "onehotencoder__fez_emprestimo_sim",
         "rawType": "float64",
         "type": "float"
        },
        {
         "name": "remainder__idade",
         "rawType": "float64",
         "type": "float"
        },
        {
         "name": "remainder__saldo",
         "rawType": "float64",
         "type": "float"
        },
        {
         "name": "remainder__tempo_ult_contato",
         "rawType": "float64",
         "type": "float"
        },
        {
         "name": "remainder__numero_contatos",
         "rawType": "float64",
         "type": "float"
        }
       ],
       "ref": "246ed2c3-df1b-44b7-b2c1-893d11bf26f7",
       "rows": [
        [
         "0",
         "1.0",
         "0.0",
         "0.0",
         "0.0",
         "0.0",
         "1.0",
         "0.0",
         "0.0",
         "45.0",
         "242.0",
         "587.0",
         "1.0"
        ],
        [
         "1",
         "1.0",
         "0.0",
         "0.0",
         "0.0",
         "1.0",
         "0.0",
         "0.0",
         "0.0",
         "42.0",
         "1289.0",
         "250.0",
         "4.0"
        ],
        [
         "2",
         "0.0",
         "0.0",
         "1.0",
         "0.0",
         "0.0",
         "1.0",
         "0.0",
         "0.0",
         "23.0",
         "363.0",
         "16.0",
         "18.0"
        ],
        [
         "3",
         "0.0",
         "1.0",
         "0.0",
         "0.0",
         "0.0",
         "1.0",
         "0.0",
         "0.0",
         "58.0",
         "1382.0",
         "700.0",
         "1.0"
        ],
        [
         "4",
         "1.0",
         "0.0",
         "0.0",
         "0.0",
         "1.0",
         "0.0",
         "0.0",
         "0.0",
         "50.0",
         "3357.0",
         "239.0",
         "4.0"
        ],
        [
         "5",
         "0.0",
         "0.0",
         "1.0",
         "0.0",
         "1.0",
         "0.0",
         "0.0",
         "1.0",
         "24.0",
         "174.0",
         "487.0",
         "1.0"
        ],
        [
         "6",
         "1.0",
         "0.0",
         "0.0",
         "0.0",
         "0.0",
         "1.0",
         "0.0",
         "0.0",
         "53.0",
         "4446.0",
         "429.0",
         "1.0"
        ],
        [
         "7",
         "1.0",
         "0.0",
         "0.0",
         "0.0",
         "1.0",
         "0.0",
         "0.0",
         "0.0",
         "30.0",
         "946.0",
         "1065.0",
         "1.0"
        ],
        [
         "8",
         "1.0",
         "0.0",
         "0.0",
         "1.0",
         "0.0",
         "0.0",
         "0.0",
         "0.0",
         "39.0",
         "879.0",
         "102.0",
         "2.0"
        ],
        [
         "9",
         "0.0",
         "1.0",
         "0.0",
         "0.0",
         "1.0",
         "0.0",
         "0.0",
         "0.0",
         "30.0",
         "-94.0",
         "41.0",
         "2.0"
        ],
        [
         "10",
         "0.0",
         "0.0",
         "1.0",
         "0.0",
         "0.0",
         "1.0",
         "0.0",
         "0.0",
         "34.0",
         "5086.0",
         "213.0",
         "4.0"
        ],
        [
         "11",
         "1.0",
         "0.0",
         "0.0",
         "1.0",
         "0.0",
         "0.0",
         "0.0",
         "0.0",
         "39.0",
         "7685.0",
         "493.0",
         "3.0"
        ],
        [
         "12",
         "1.0",
         "0.0",
         "0.0",
         "0.0",
         "1.0",
         "0.0",
         "0.0",
         "1.0",
         "33.0",
         "139.0",
         "732.0",
         "2.0"
        ],
        [
         "13",
         "1.0",
         "0.0",
         "0.0",
         "0.0",
         "0.0",
         "1.0",
         "0.0",
         "0.0",
         "34.0",
         "1116.0",
         "53.0",
         "5.0"
        ],
        [
         "14",
         "0.0",
         "0.0",
         "1.0",
         "0.0",
         "0.0",
         "1.0",
         "0.0",
         "0.0",
         "38.0",
         "0.0",
         "71.0",
         "1.0"
        ],
        [
         "15",
         "0.0",
         "1.0",
         "0.0",
         "0.0",
         "1.0",
         "0.0",
         "0.0",
         "0.0",
         "33.0",
         "2411.0",
         "130.0",
         "1.0"
        ],
        [
         "16",
         "1.0",
         "0.0",
         "0.0",
         "1.0",
         "0.0",
         "0.0",
         "0.0",
         "0.0",
         "48.0",
         "559.0",
         "1231.0",
         "2.0"
        ],
        [
         "17",
         "1.0",
         "0.0",
         "0.0",
         "0.0",
         "1.0",
         "0.0",
         "0.0",
         "0.0",
         "39.0",
         "0.0",
         "793.0",
         "2.0"
        ],
        [
         "18",
         "1.0",
         "0.0",
         "0.0",
         "0.0",
         "1.0",
         "0.0",
         "0.0",
         "0.0",
         "53.0",
         "70.0",
         "611.0",
         "2.0"
        ],
        [
         "19",
         "1.0",
         "0.0",
         "0.0",
         "0.0",
         "1.0",
         "0.0",
         "0.0",
         "0.0",
         "80.0",
         "8304.0",
         "712.0",
         "1.0"
        ],
        [
         "20",
         "0.0",
         "1.0",
         "0.0",
         "0.0",
         "1.0",
         "0.0",
         "0.0",
         "0.0",
         "38.0",
         "157.0",
         "299.0",
         "5.0"
        ],
        [
         "21",
         "0.0",
         "0.0",
         "1.0",
         "0.0",
         "1.0",
         "0.0",
         "0.0",
         "0.0",
         "24.0",
         "-46.0",
         "23.0",
         "1.0"
        ],
        [
         "22",
         "1.0",
         "0.0",
         "0.0",
         "0.0",
         "1.0",
         "0.0",
         "0.0",
         "0.0",
         "44.0",
         "10888.0",
         "163.0",
         "1.0"
        ],
        [
         "23",
         "0.0",
         "1.0",
         "0.0",
         "0.0",
         "0.0",
         "1.0",
         "0.0",
         "0.0",
         "46.0",
         "624.0",
         "336.0",
         "2.0"
        ],
        [
         "24",
         "1.0",
         "0.0",
         "0.0",
         "0.0",
         "1.0",
         "0.0",
         "0.0",
         "0.0",
         "53.0",
         "719.0",
         "230.0",
         "1.0"
        ],
        [
         "25",
         "1.0",
         "0.0",
         "0.0",
         "0.0",
         "0.0",
         "1.0",
         "0.0",
         "0.0",
         "30.0",
         "102.0",
         "470.0",
         "7.0"
        ],
        [
         "26",
         "1.0",
         "0.0",
         "0.0",
         "1.0",
         "0.0",
         "0.0",
         "0.0",
         "0.0",
         "41.0",
         "7735.0",
         "220.0",
         "1.0"
        ],
        [
         "27",
         "0.0",
         "0.0",
         "1.0",
         "0.0",
         "0.0",
         "1.0",
         "0.0",
         "0.0",
         "47.0",
         "4402.0",
         "805.0",
         "1.0"
        ],
        [
         "28",
         "0.0",
         "0.0",
         "1.0",
         "0.0",
         "1.0",
         "0.0",
         "0.0",
         "0.0",
         "30.0",
         "2145.0",
         "727.0",
         "2.0"
        ],
        [
         "29",
         "1.0",
         "0.0",
         "0.0",
         "0.0",
         "1.0",
         "0.0",
         "0.0",
         "0.0",
         "47.0",
         "1167.0",
         "968.0",
         "1.0"
        ],
        [
         "30",
         "0.0",
         "0.0",
         "1.0",
         "0.0",
         "1.0",
         "0.0",
         "0.0",
         "0.0",
         "32.0",
         "118.0",
         "1275.0",
         "1.0"
        ],
        [
         "31",
         "1.0",
         "0.0",
         "0.0",
         "0.0",
         "1.0",
         "0.0",
         "0.0",
         "1.0",
         "27.0",
         "-247.0",
         "344.0",
         "2.0"
        ],
        [
         "32",
         "0.0",
         "0.0",
         "1.0",
         "0.0",
         "1.0",
         "0.0",
         "0.0",
         "1.0",
         "58.0",
         "1640.0",
         "72.0",
         "6.0"
        ],
        [
         "33",
         "1.0",
         "0.0",
         "0.0",
         "0.0",
         "1.0",
         "0.0",
         "0.0",
         "0.0",
         "51.0",
         "2662.0",
         "148.0",
         "2.0"
        ],
        [
         "34",
         "1.0",
         "0.0",
         "0.0",
         "0.0",
         "1.0",
         "0.0",
         "0.0",
         "0.0",
         "47.0",
         "2246.0",
         "330.0",
         "1.0"
        ],
        [
         "35",
         "1.0",
         "0.0",
         "0.0",
         "0.0",
         "1.0",
         "0.0",
         "0.0",
         "0.0",
         "34.0",
         "475.0",
         "559.0",
         "1.0"
        ],
        [
         "36",
         "1.0",
         "0.0",
         "0.0",
         "0.0",
         "0.0",
         "1.0",
         "0.0",
         "0.0",
         "40.0",
         "1584.0",
         "661.0",
         "1.0"
        ],
        [
         "37",
         "0.0",
         "1.0",
         "0.0",
         "0.0",
         "1.0",
         "0.0",
         "0.0",
         "0.0",
         "44.0",
         "0.0",
         "264.0",
         "5.0"
        ],
        [
         "38",
         "0.0",
         "1.0",
         "0.0",
         "0.0",
         "1.0",
         "0.0",
         "1.0",
         "0.0",
         "55.0",
         "-404.0",
         "502.0",
         "3.0"
        ],
        [
         "39",
         "1.0",
         "0.0",
         "0.0",
         "0.0",
         "0.0",
         "1.0",
         "0.0",
         "0.0",
         "71.0",
         "14220.0",
         "397.0",
         "1.0"
        ],
        [
         "40",
         "1.0",
         "0.0",
         "0.0",
         "1.0",
         "0.0",
         "0.0",
         "0.0",
         "1.0",
         "38.0",
         "168.0",
         "212.0",
         "3.0"
        ],
        [
         "41",
         "1.0",
         "0.0",
         "0.0",
         "0.0",
         "0.0",
         "1.0",
         "0.0",
         "0.0",
         "38.0",
         "12877.0",
         "118.0",
         "3.0"
        ],
        [
         "42",
         "1.0",
         "0.0",
         "0.0",
         "0.0",
         "0.0",
         "1.0",
         "0.0",
         "0.0",
         "54.0",
         "98.0",
         "420.0",
         "4.0"
        ],
        [
         "43",
         "1.0",
         "0.0",
         "0.0",
         "0.0",
         "0.0",
         "1.0",
         "0.0",
         "0.0",
         "43.0",
         "13342.0",
         "465.0",
         "1.0"
        ],
        [
         "44",
         "1.0",
         "0.0",
         "0.0",
         "0.0",
         "0.0",
         "1.0",
         "0.0",
         "0.0",
         "31.0",
         "8312.0",
         "43.0",
         "13.0"
        ],
        [
         "45",
         "0.0",
         "1.0",
         "0.0",
         "0.0",
         "0.0",
         "1.0",
         "0.0",
         "0.0",
         "36.0",
         "119.0",
         "127.0",
         "8.0"
        ],
        [
         "46",
         "1.0",
         "0.0",
         "0.0",
         "0.0",
         "0.0",
         "1.0",
         "0.0",
         "0.0",
         "31.0",
         "156.0",
         "657.0",
         "7.0"
        ],
        [
         "47",
         "1.0",
         "0.0",
         "0.0",
         "0.0",
         "0.0",
         "1.0",
         "0.0",
         "0.0",
         "33.0",
         "3696.0",
         "305.0",
         "1.0"
        ],
        [
         "48",
         "1.0",
         "0.0",
         "0.0",
         "0.0",
         "1.0",
         "0.0",
         "0.0",
         "1.0",
         "30.0",
         "-393.0",
         "435.0",
         "1.0"
        ],
        [
         "49",
         "1.0",
         "0.0",
         "0.0",
         "0.0",
         "1.0",
         "0.0",
         "0.0",
         "1.0",
         "38.0",
         "497.0",
         "88.0",
         "5.0"
        ]
       ],
       "shape": {
        "columns": 12,
        "rows": 1268
       }
      },
      "text/html": [
       "<div>\n",
       "<style scoped>\n",
       "    .dataframe tbody tr th:only-of-type {\n",
       "        vertical-align: middle;\n",
       "    }\n",
       "\n",
       "    .dataframe tbody tr th {\n",
       "        vertical-align: top;\n",
       "    }\n",
       "\n",
       "    .dataframe thead th {\n",
       "        text-align: right;\n",
       "    }\n",
       "</style>\n",
       "<table border=\"1\" class=\"dataframe\">\n",
       "  <thead>\n",
       "    <tr style=\"text-align: right;\">\n",
       "      <th></th>\n",
       "      <th>onehotencoder__estado_civil_casado (a)</th>\n",
       "      <th>onehotencoder__estado_civil_divorciado (a)</th>\n",
       "      <th>onehotencoder__estado_civil_solteiro (a)</th>\n",
       "      <th>onehotencoder__escolaridade_fundamental</th>\n",
       "      <th>onehotencoder__escolaridade_medio</th>\n",
       "      <th>onehotencoder__escolaridade_superior</th>\n",
       "      <th>onehotencoder__inadimplencia_sim</th>\n",
       "      <th>onehotencoder__fez_emprestimo_sim</th>\n",
       "      <th>remainder__idade</th>\n",
       "      <th>remainder__saldo</th>\n",
       "      <th>remainder__tempo_ult_contato</th>\n",
       "      <th>remainder__numero_contatos</th>\n",
       "    </tr>\n",
       "  </thead>\n",
       "  <tbody>\n",
       "    <tr>\n",
       "      <th>0</th>\n",
       "      <td>1.0</td>\n",
       "      <td>0.0</td>\n",
       "      <td>0.0</td>\n",
       "      <td>0.0</td>\n",
       "      <td>0.0</td>\n",
       "      <td>1.0</td>\n",
       "      <td>0.0</td>\n",
       "      <td>0.0</td>\n",
       "      <td>45.0</td>\n",
       "      <td>242.0</td>\n",
       "      <td>587.0</td>\n",
       "      <td>1.0</td>\n",
       "    </tr>\n",
       "    <tr>\n",
       "      <th>1</th>\n",
       "      <td>1.0</td>\n",
       "      <td>0.0</td>\n",
       "      <td>0.0</td>\n",
       "      <td>0.0</td>\n",
       "      <td>1.0</td>\n",
       "      <td>0.0</td>\n",
       "      <td>0.0</td>\n",
       "      <td>0.0</td>\n",
       "      <td>42.0</td>\n",
       "      <td>1289.0</td>\n",
       "      <td>250.0</td>\n",
       "      <td>4.0</td>\n",
       "    </tr>\n",
       "    <tr>\n",
       "      <th>2</th>\n",
       "      <td>0.0</td>\n",
       "      <td>0.0</td>\n",
       "      <td>1.0</td>\n",
       "      <td>0.0</td>\n",
       "      <td>0.0</td>\n",
       "      <td>1.0</td>\n",
       "      <td>0.0</td>\n",
       "      <td>0.0</td>\n",
       "      <td>23.0</td>\n",
       "      <td>363.0</td>\n",
       "      <td>16.0</td>\n",
       "      <td>18.0</td>\n",
       "    </tr>\n",
       "    <tr>\n",
       "      <th>3</th>\n",
       "      <td>0.0</td>\n",
       "      <td>1.0</td>\n",
       "      <td>0.0</td>\n",
       "      <td>0.0</td>\n",
       "      <td>0.0</td>\n",
       "      <td>1.0</td>\n",
       "      <td>0.0</td>\n",
       "      <td>0.0</td>\n",
       "      <td>58.0</td>\n",
       "      <td>1382.0</td>\n",
       "      <td>700.0</td>\n",
       "      <td>1.0</td>\n",
       "    </tr>\n",
       "    <tr>\n",
       "      <th>4</th>\n",
       "      <td>1.0</td>\n",
       "      <td>0.0</td>\n",
       "      <td>0.0</td>\n",
       "      <td>0.0</td>\n",
       "      <td>1.0</td>\n",
       "      <td>0.0</td>\n",
       "      <td>0.0</td>\n",
       "      <td>0.0</td>\n",
       "      <td>50.0</td>\n",
       "      <td>3357.0</td>\n",
       "      <td>239.0</td>\n",
       "      <td>4.0</td>\n",
       "    </tr>\n",
       "    <tr>\n",
       "      <th>...</th>\n",
       "      <td>...</td>\n",
       "      <td>...</td>\n",
       "      <td>...</td>\n",
       "      <td>...</td>\n",
       "      <td>...</td>\n",
       "      <td>...</td>\n",
       "      <td>...</td>\n",
       "      <td>...</td>\n",
       "      <td>...</td>\n",
       "      <td>...</td>\n",
       "      <td>...</td>\n",
       "      <td>...</td>\n",
       "    </tr>\n",
       "    <tr>\n",
       "      <th>1263</th>\n",
       "      <td>0.0</td>\n",
       "      <td>0.0</td>\n",
       "      <td>1.0</td>\n",
       "      <td>0.0</td>\n",
       "      <td>0.0</td>\n",
       "      <td>1.0</td>\n",
       "      <td>0.0</td>\n",
       "      <td>0.0</td>\n",
       "      <td>52.0</td>\n",
       "      <td>83.0</td>\n",
       "      <td>1223.0</td>\n",
       "      <td>6.0</td>\n",
       "    </tr>\n",
       "    <tr>\n",
       "      <th>1264</th>\n",
       "      <td>0.0</td>\n",
       "      <td>0.0</td>\n",
       "      <td>1.0</td>\n",
       "      <td>0.0</td>\n",
       "      <td>0.0</td>\n",
       "      <td>1.0</td>\n",
       "      <td>0.0</td>\n",
       "      <td>0.0</td>\n",
       "      <td>35.0</td>\n",
       "      <td>5958.0</td>\n",
       "      <td>215.0</td>\n",
       "      <td>1.0</td>\n",
       "    </tr>\n",
       "    <tr>\n",
       "      <th>1265</th>\n",
       "      <td>0.0</td>\n",
       "      <td>0.0</td>\n",
       "      <td>1.0</td>\n",
       "      <td>0.0</td>\n",
       "      <td>0.0</td>\n",
       "      <td>1.0</td>\n",
       "      <td>0.0</td>\n",
       "      <td>1.0</td>\n",
       "      <td>30.0</td>\n",
       "      <td>-477.0</td>\n",
       "      <td>1532.0</td>\n",
       "      <td>2.0</td>\n",
       "    </tr>\n",
       "    <tr>\n",
       "      <th>1266</th>\n",
       "      <td>1.0</td>\n",
       "      <td>0.0</td>\n",
       "      <td>0.0</td>\n",
       "      <td>0.0</td>\n",
       "      <td>0.0</td>\n",
       "      <td>1.0</td>\n",
       "      <td>0.0</td>\n",
       "      <td>0.0</td>\n",
       "      <td>42.0</td>\n",
       "      <td>2187.0</td>\n",
       "      <td>525.0</td>\n",
       "      <td>3.0</td>\n",
       "    </tr>\n",
       "    <tr>\n",
       "      <th>1267</th>\n",
       "      <td>0.0</td>\n",
       "      <td>0.0</td>\n",
       "      <td>1.0</td>\n",
       "      <td>0.0</td>\n",
       "      <td>0.0</td>\n",
       "      <td>1.0</td>\n",
       "      <td>0.0</td>\n",
       "      <td>0.0</td>\n",
       "      <td>29.0</td>\n",
       "      <td>19.0</td>\n",
       "      <td>110.0</td>\n",
       "      <td>2.0</td>\n",
       "    </tr>\n",
       "  </tbody>\n",
       "</table>\n",
       "<p>1268 rows × 12 columns</p>\n",
       "</div>"
      ],
      "text/plain": [
       "      onehotencoder__estado_civil_casado (a)  \\\n",
       "0                                        1.0   \n",
       "1                                        1.0   \n",
       "2                                        0.0   \n",
       "3                                        0.0   \n",
       "4                                        1.0   \n",
       "...                                      ...   \n",
       "1263                                     0.0   \n",
       "1264                                     0.0   \n",
       "1265                                     0.0   \n",
       "1266                                     1.0   \n",
       "1267                                     0.0   \n",
       "\n",
       "      onehotencoder__estado_civil_divorciado (a)  \\\n",
       "0                                            0.0   \n",
       "1                                            0.0   \n",
       "2                                            0.0   \n",
       "3                                            1.0   \n",
       "4                                            0.0   \n",
       "...                                          ...   \n",
       "1263                                         0.0   \n",
       "1264                                         0.0   \n",
       "1265                                         0.0   \n",
       "1266                                         0.0   \n",
       "1267                                         0.0   \n",
       "\n",
       "      onehotencoder__estado_civil_solteiro (a)  \\\n",
       "0                                          0.0   \n",
       "1                                          0.0   \n",
       "2                                          1.0   \n",
       "3                                          0.0   \n",
       "4                                          0.0   \n",
       "...                                        ...   \n",
       "1263                                       1.0   \n",
       "1264                                       1.0   \n",
       "1265                                       1.0   \n",
       "1266                                       0.0   \n",
       "1267                                       1.0   \n",
       "\n",
       "      onehotencoder__escolaridade_fundamental  \\\n",
       "0                                         0.0   \n",
       "1                                         0.0   \n",
       "2                                         0.0   \n",
       "3                                         0.0   \n",
       "4                                         0.0   \n",
       "...                                       ...   \n",
       "1263                                      0.0   \n",
       "1264                                      0.0   \n",
       "1265                                      0.0   \n",
       "1266                                      0.0   \n",
       "1267                                      0.0   \n",
       "\n",
       "      onehotencoder__escolaridade_medio  onehotencoder__escolaridade_superior  \\\n",
       "0                                   0.0                                   1.0   \n",
       "1                                   1.0                                   0.0   \n",
       "2                                   0.0                                   1.0   \n",
       "3                                   0.0                                   1.0   \n",
       "4                                   1.0                                   0.0   \n",
       "...                                 ...                                   ...   \n",
       "1263                                0.0                                   1.0   \n",
       "1264                                0.0                                   1.0   \n",
       "1265                                0.0                                   1.0   \n",
       "1266                                0.0                                   1.0   \n",
       "1267                                0.0                                   1.0   \n",
       "\n",
       "      onehotencoder__inadimplencia_sim  onehotencoder__fez_emprestimo_sim  \\\n",
       "0                                  0.0                                0.0   \n",
       "1                                  0.0                                0.0   \n",
       "2                                  0.0                                0.0   \n",
       "3                                  0.0                                0.0   \n",
       "4                                  0.0                                0.0   \n",
       "...                                ...                                ...   \n",
       "1263                               0.0                                0.0   \n",
       "1264                               0.0                                0.0   \n",
       "1265                               0.0                                1.0   \n",
       "1266                               0.0                                0.0   \n",
       "1267                               0.0                                0.0   \n",
       "\n",
       "      remainder__idade  remainder__saldo  remainder__tempo_ult_contato  \\\n",
       "0                 45.0             242.0                         587.0   \n",
       "1                 42.0            1289.0                         250.0   \n",
       "2                 23.0             363.0                          16.0   \n",
       "3                 58.0            1382.0                         700.0   \n",
       "4                 50.0            3357.0                         239.0   \n",
       "...                ...               ...                           ...   \n",
       "1263              52.0              83.0                        1223.0   \n",
       "1264              35.0            5958.0                         215.0   \n",
       "1265              30.0            -477.0                        1532.0   \n",
       "1266              42.0            2187.0                         525.0   \n",
       "1267              29.0              19.0                         110.0   \n",
       "\n",
       "      remainder__numero_contatos  \n",
       "0                            1.0  \n",
       "1                            4.0  \n",
       "2                           18.0  \n",
       "3                            1.0  \n",
       "4                            4.0  \n",
       "...                          ...  \n",
       "1263                         6.0  \n",
       "1264                         1.0  \n",
       "1265                         2.0  \n",
       "1266                         3.0  \n",
       "1267                         2.0  \n",
       "\n",
       "[1268 rows x 12 columns]"
      ]
     },
     "execution_count": 26,
     "metadata": {},
     "output_type": "execute_result"
    }
   ],
   "source": [
    "pd.DataFrame(x, columns=one_hot.get_feature_names_out(colunas))"
   ]
  },
  {
   "cell_type": "markdown",
   "metadata": {},
   "source": [
    "### Módulo 2 - Transformação de dados - Aula 6 - Transformando a variável alvo"
   ]
  },
  {
   "cell_type": "code",
   "execution_count": 27,
   "metadata": {},
   "outputs": [],
   "source": [
    "from sklearn.preprocessing import LabelEncoder"
   ]
  },
  {
   "cell_type": "code",
   "execution_count": 28,
   "metadata": {},
   "outputs": [],
   "source": [
    "label_encoder = LabelEncoder()"
   ]
  },
  {
   "cell_type": "code",
   "execution_count": 29,
   "metadata": {},
   "outputs": [],
   "source": [
    "y = label_encoder.fit_transform(y)"
   ]
  },
  {
   "cell_type": "code",
   "execution_count": 30,
   "metadata": {},
   "outputs": [
    {
     "data": {
      "text/plain": [
       "array([1, 1, 0, ..., 1, 1, 1], shape=(1268,))"
      ]
     },
     "execution_count": 30,
     "metadata": {},
     "output_type": "execute_result"
    }
   ],
   "source": [
    "y"
   ]
  },
  {
   "cell_type": "markdown",
   "metadata": {},
   "source": [
    "### Módulo 3 - Ajustando modelos - Aula 2 - Divisão de treino e teste"
   ]
  },
  {
   "cell_type": "markdown",
   "metadata": {},
   "source": [
    "Uma tarefa muito importante para a avaliação de modelos de machine learning é a divisão dos dados entre treinamento e teste. O conjunto de treinamento é utilizado para que o modelo compreenda padrões e relações nos dados para que ele possa criar uma regra para fazer predições. O conjunto de teste, por sua vez, é reservado para avaliar o desempenho do modelo em dados que não foram utilizados no treinamento, simulando a capacidade do modelo de generalizar para novos dados."
   ]
  },
  {
   "cell_type": "code",
   "execution_count": 31,
   "metadata": {},
   "outputs": [],
   "source": [
    "from sklearn.model_selection import train_test_split"
   ]
  },
  {
   "cell_type": "markdown",
   "metadata": {},
   "source": [
    "Para mantermos essa proporção de dados, tanto nos dados de treinamento quanto nos de teste, utilizamos o parâmetro stratify, que será igual a y.\n",
    "\n",
    "Por fim, a separação dos dados é feita de forma totalmente aleatória, sendo 75% dos dados para o conjunto de treinamento e 25% para o teste. Esse método mantém uma proporção maior para os dados de treinamento, para que o algoritmo consiga compreender melhor o padrão dos dados com mais dados."
   ]
  },
  {
   "cell_type": "code",
   "execution_count": 32,
   "metadata": {},
   "outputs": [],
   "source": [
    "x_treino, x_teste, y_treino, y_teste = train_test_split(x, y, stratify = y, random_state = 5)"
   ]
  },
  {
   "cell_type": "markdown",
   "metadata": {},
   "source": [
    "### Módulo 3 - Ajustando modelos - Aula 4 - Modelo de base"
   ]
  },
  {
   "cell_type": "markdown",
   "metadata": {},
   "source": [
    "Para iniciarmos o nosso processo de modelagem, vamos começar com o modelo mais simples possível, chamado modelo base ou modelo dummy\n",
    "(dummy classifier). Esse algoritmo classifica todos os registros da base de dados com base na categoria da variável alvo de maior frequência, ou seja, a que tem uma contagem maior na nossa base de dados.\n",
    "\n",
    "Se um modelo mais complexo não apresenta um desempenho melhor que o modelo base (dummy classifier), que simplesmente chuta todas as classificações, então significa que esse modelo complexo não será tão útil para ser utilizado. Ele criará muitas regras para fazer a classificação, mas não teve um desempenho melhor que o modelo básico."
   ]
  },
  {
   "cell_type": "code",
   "execution_count": 33,
   "metadata": {},
   "outputs": [],
   "source": [
    "from sklearn.dummy import DummyClassifier"
   ]
  },
  {
   "cell_type": "code",
   "execution_count": 34,
   "metadata": {},
   "outputs": [
    {
     "data": {
      "text/plain": [
       "0.6025236593059937"
      ]
     },
     "execution_count": 34,
     "metadata": {},
     "output_type": "execute_result"
    }
   ],
   "source": [
    "dummy = DummyClassifier()\n",
    "dummy.fit(x_treino, y_treino)\n",
    "\n",
    "dummy.score(x_teste, y_teste)"
   ]
  },
  {
   "cell_type": "markdown",
   "metadata": {},
   "source": [
    "### Módulo 3 - Ajustando modelos - Aula 6 - Árvore de decisão"
   ]
  },
  {
   "cell_type": "markdown",
   "metadata": {},
   "source": [
    "A árvore de decisão é um algoritmo de machine learning supervisionado que tem uma boa interpretabilidade. Isso significa que é possível ter uma compreensão fácil dos passos que foram realizados para conseguir chegar ao resultado final da predição do modelo. Esses passos podem ser representados de forma visual, a partir de um diagrama que indica cada uma das decisões que foram tomadas para se chegar na classificação de um dado."
   ]
  },
  {
   "cell_type": "code",
   "execution_count": 35,
   "metadata": {},
   "outputs": [],
   "source": [
    "from sklearn.tree import DecisionTreeClassifier"
   ]
  },
  {
   "cell_type": "code",
   "execution_count": 36,
   "metadata": {},
   "outputs": [
    {
     "data": {
      "text/html": [
       "<style>#sk-container-id-1 {\n",
       "  /* Definition of color scheme common for light and dark mode */\n",
       "  --sklearn-color-text: #000;\n",
       "  --sklearn-color-text-muted: #666;\n",
       "  --sklearn-color-line: gray;\n",
       "  /* Definition of color scheme for unfitted estimators */\n",
       "  --sklearn-color-unfitted-level-0: #fff5e6;\n",
       "  --sklearn-color-unfitted-level-1: #f6e4d2;\n",
       "  --sklearn-color-unfitted-level-2: #ffe0b3;\n",
       "  --sklearn-color-unfitted-level-3: chocolate;\n",
       "  /* Definition of color scheme for fitted estimators */\n",
       "  --sklearn-color-fitted-level-0: #f0f8ff;\n",
       "  --sklearn-color-fitted-level-1: #d4ebff;\n",
       "  --sklearn-color-fitted-level-2: #b3dbfd;\n",
       "  --sklearn-color-fitted-level-3: cornflowerblue;\n",
       "\n",
       "  /* Specific color for light theme */\n",
       "  --sklearn-color-text-on-default-background: var(--sg-text-color, var(--theme-code-foreground, var(--jp-content-font-color1, black)));\n",
       "  --sklearn-color-background: var(--sg-background-color, var(--theme-background, var(--jp-layout-color0, white)));\n",
       "  --sklearn-color-border-box: var(--sg-text-color, var(--theme-code-foreground, var(--jp-content-font-color1, black)));\n",
       "  --sklearn-color-icon: #696969;\n",
       "\n",
       "  @media (prefers-color-scheme: dark) {\n",
       "    /* Redefinition of color scheme for dark theme */\n",
       "    --sklearn-color-text-on-default-background: var(--sg-text-color, var(--theme-code-foreground, var(--jp-content-font-color1, white)));\n",
       "    --sklearn-color-background: var(--sg-background-color, var(--theme-background, var(--jp-layout-color0, #111)));\n",
       "    --sklearn-color-border-box: var(--sg-text-color, var(--theme-code-foreground, var(--jp-content-font-color1, white)));\n",
       "    --sklearn-color-icon: #878787;\n",
       "  }\n",
       "}\n",
       "\n",
       "#sk-container-id-1 {\n",
       "  color: var(--sklearn-color-text);\n",
       "}\n",
       "\n",
       "#sk-container-id-1 pre {\n",
       "  padding: 0;\n",
       "}\n",
       "\n",
       "#sk-container-id-1 input.sk-hidden--visually {\n",
       "  border: 0;\n",
       "  clip: rect(1px 1px 1px 1px);\n",
       "  clip: rect(1px, 1px, 1px, 1px);\n",
       "  height: 1px;\n",
       "  margin: -1px;\n",
       "  overflow: hidden;\n",
       "  padding: 0;\n",
       "  position: absolute;\n",
       "  width: 1px;\n",
       "}\n",
       "\n",
       "#sk-container-id-1 div.sk-dashed-wrapped {\n",
       "  border: 1px dashed var(--sklearn-color-line);\n",
       "  margin: 0 0.4em 0.5em 0.4em;\n",
       "  box-sizing: border-box;\n",
       "  padding-bottom: 0.4em;\n",
       "  background-color: var(--sklearn-color-background);\n",
       "}\n",
       "\n",
       "#sk-container-id-1 div.sk-container {\n",
       "  /* jupyter's `normalize.less` sets `[hidden] { display: none; }`\n",
       "     but bootstrap.min.css set `[hidden] { display: none !important; }`\n",
       "     so we also need the `!important` here to be able to override the\n",
       "     default hidden behavior on the sphinx rendered scikit-learn.org.\n",
       "     See: https://github.com/scikit-learn/scikit-learn/issues/21755 */\n",
       "  display: inline-block !important;\n",
       "  position: relative;\n",
       "}\n",
       "\n",
       "#sk-container-id-1 div.sk-text-repr-fallback {\n",
       "  display: none;\n",
       "}\n",
       "\n",
       "div.sk-parallel-item,\n",
       "div.sk-serial,\n",
       "div.sk-item {\n",
       "  /* draw centered vertical line to link estimators */\n",
       "  background-image: linear-gradient(var(--sklearn-color-text-on-default-background), var(--sklearn-color-text-on-default-background));\n",
       "  background-size: 2px 100%;\n",
       "  background-repeat: no-repeat;\n",
       "  background-position: center center;\n",
       "}\n",
       "\n",
       "/* Parallel-specific style estimator block */\n",
       "\n",
       "#sk-container-id-1 div.sk-parallel-item::after {\n",
       "  content: \"\";\n",
       "  width: 100%;\n",
       "  border-bottom: 2px solid var(--sklearn-color-text-on-default-background);\n",
       "  flex-grow: 1;\n",
       "}\n",
       "\n",
       "#sk-container-id-1 div.sk-parallel {\n",
       "  display: flex;\n",
       "  align-items: stretch;\n",
       "  justify-content: center;\n",
       "  background-color: var(--sklearn-color-background);\n",
       "  position: relative;\n",
       "}\n",
       "\n",
       "#sk-container-id-1 div.sk-parallel-item {\n",
       "  display: flex;\n",
       "  flex-direction: column;\n",
       "}\n",
       "\n",
       "#sk-container-id-1 div.sk-parallel-item:first-child::after {\n",
       "  align-self: flex-end;\n",
       "  width: 50%;\n",
       "}\n",
       "\n",
       "#sk-container-id-1 div.sk-parallel-item:last-child::after {\n",
       "  align-self: flex-start;\n",
       "  width: 50%;\n",
       "}\n",
       "\n",
       "#sk-container-id-1 div.sk-parallel-item:only-child::after {\n",
       "  width: 0;\n",
       "}\n",
       "\n",
       "/* Serial-specific style estimator block */\n",
       "\n",
       "#sk-container-id-1 div.sk-serial {\n",
       "  display: flex;\n",
       "  flex-direction: column;\n",
       "  align-items: center;\n",
       "  background-color: var(--sklearn-color-background);\n",
       "  padding-right: 1em;\n",
       "  padding-left: 1em;\n",
       "}\n",
       "\n",
       "\n",
       "/* Toggleable style: style used for estimator/Pipeline/ColumnTransformer box that is\n",
       "clickable and can be expanded/collapsed.\n",
       "- Pipeline and ColumnTransformer use this feature and define the default style\n",
       "- Estimators will overwrite some part of the style using the `sk-estimator` class\n",
       "*/\n",
       "\n",
       "/* Pipeline and ColumnTransformer style (default) */\n",
       "\n",
       "#sk-container-id-1 div.sk-toggleable {\n",
       "  /* Default theme specific background. It is overwritten whether we have a\n",
       "  specific estimator or a Pipeline/ColumnTransformer */\n",
       "  background-color: var(--sklearn-color-background);\n",
       "}\n",
       "\n",
       "/* Toggleable label */\n",
       "#sk-container-id-1 label.sk-toggleable__label {\n",
       "  cursor: pointer;\n",
       "  display: flex;\n",
       "  width: 100%;\n",
       "  margin-bottom: 0;\n",
       "  padding: 0.5em;\n",
       "  box-sizing: border-box;\n",
       "  text-align: center;\n",
       "  align-items: start;\n",
       "  justify-content: space-between;\n",
       "  gap: 0.5em;\n",
       "}\n",
       "\n",
       "#sk-container-id-1 label.sk-toggleable__label .caption {\n",
       "  font-size: 0.6rem;\n",
       "  font-weight: lighter;\n",
       "  color: var(--sklearn-color-text-muted);\n",
       "}\n",
       "\n",
       "#sk-container-id-1 label.sk-toggleable__label-arrow:before {\n",
       "  /* Arrow on the left of the label */\n",
       "  content: \"▸\";\n",
       "  float: left;\n",
       "  margin-right: 0.25em;\n",
       "  color: var(--sklearn-color-icon);\n",
       "}\n",
       "\n",
       "#sk-container-id-1 label.sk-toggleable__label-arrow:hover:before {\n",
       "  color: var(--sklearn-color-text);\n",
       "}\n",
       "\n",
       "/* Toggleable content - dropdown */\n",
       "\n",
       "#sk-container-id-1 div.sk-toggleable__content {\n",
       "  max-height: 0;\n",
       "  max-width: 0;\n",
       "  overflow: hidden;\n",
       "  text-align: left;\n",
       "  /* unfitted */\n",
       "  background-color: var(--sklearn-color-unfitted-level-0);\n",
       "}\n",
       "\n",
       "#sk-container-id-1 div.sk-toggleable__content.fitted {\n",
       "  /* fitted */\n",
       "  background-color: var(--sklearn-color-fitted-level-0);\n",
       "}\n",
       "\n",
       "#sk-container-id-1 div.sk-toggleable__content pre {\n",
       "  margin: 0.2em;\n",
       "  border-radius: 0.25em;\n",
       "  color: var(--sklearn-color-text);\n",
       "  /* unfitted */\n",
       "  background-color: var(--sklearn-color-unfitted-level-0);\n",
       "}\n",
       "\n",
       "#sk-container-id-1 div.sk-toggleable__content.fitted pre {\n",
       "  /* unfitted */\n",
       "  background-color: var(--sklearn-color-fitted-level-0);\n",
       "}\n",
       "\n",
       "#sk-container-id-1 input.sk-toggleable__control:checked~div.sk-toggleable__content {\n",
       "  /* Expand drop-down */\n",
       "  max-height: 200px;\n",
       "  max-width: 100%;\n",
       "  overflow: auto;\n",
       "}\n",
       "\n",
       "#sk-container-id-1 input.sk-toggleable__control:checked~label.sk-toggleable__label-arrow:before {\n",
       "  content: \"▾\";\n",
       "}\n",
       "\n",
       "/* Pipeline/ColumnTransformer-specific style */\n",
       "\n",
       "#sk-container-id-1 div.sk-label input.sk-toggleable__control:checked~label.sk-toggleable__label {\n",
       "  color: var(--sklearn-color-text);\n",
       "  background-color: var(--sklearn-color-unfitted-level-2);\n",
       "}\n",
       "\n",
       "#sk-container-id-1 div.sk-label.fitted input.sk-toggleable__control:checked~label.sk-toggleable__label {\n",
       "  background-color: var(--sklearn-color-fitted-level-2);\n",
       "}\n",
       "\n",
       "/* Estimator-specific style */\n",
       "\n",
       "/* Colorize estimator box */\n",
       "#sk-container-id-1 div.sk-estimator input.sk-toggleable__control:checked~label.sk-toggleable__label {\n",
       "  /* unfitted */\n",
       "  background-color: var(--sklearn-color-unfitted-level-2);\n",
       "}\n",
       "\n",
       "#sk-container-id-1 div.sk-estimator.fitted input.sk-toggleable__control:checked~label.sk-toggleable__label {\n",
       "  /* fitted */\n",
       "  background-color: var(--sklearn-color-fitted-level-2);\n",
       "}\n",
       "\n",
       "#sk-container-id-1 div.sk-label label.sk-toggleable__label,\n",
       "#sk-container-id-1 div.sk-label label {\n",
       "  /* The background is the default theme color */\n",
       "  color: var(--sklearn-color-text-on-default-background);\n",
       "}\n",
       "\n",
       "/* On hover, darken the color of the background */\n",
       "#sk-container-id-1 div.sk-label:hover label.sk-toggleable__label {\n",
       "  color: var(--sklearn-color-text);\n",
       "  background-color: var(--sklearn-color-unfitted-level-2);\n",
       "}\n",
       "\n",
       "/* Label box, darken color on hover, fitted */\n",
       "#sk-container-id-1 div.sk-label.fitted:hover label.sk-toggleable__label.fitted {\n",
       "  color: var(--sklearn-color-text);\n",
       "  background-color: var(--sklearn-color-fitted-level-2);\n",
       "}\n",
       "\n",
       "/* Estimator label */\n",
       "\n",
       "#sk-container-id-1 div.sk-label label {\n",
       "  font-family: monospace;\n",
       "  font-weight: bold;\n",
       "  display: inline-block;\n",
       "  line-height: 1.2em;\n",
       "}\n",
       "\n",
       "#sk-container-id-1 div.sk-label-container {\n",
       "  text-align: center;\n",
       "}\n",
       "\n",
       "/* Estimator-specific */\n",
       "#sk-container-id-1 div.sk-estimator {\n",
       "  font-family: monospace;\n",
       "  border: 1px dotted var(--sklearn-color-border-box);\n",
       "  border-radius: 0.25em;\n",
       "  box-sizing: border-box;\n",
       "  margin-bottom: 0.5em;\n",
       "  /* unfitted */\n",
       "  background-color: var(--sklearn-color-unfitted-level-0);\n",
       "}\n",
       "\n",
       "#sk-container-id-1 div.sk-estimator.fitted {\n",
       "  /* fitted */\n",
       "  background-color: var(--sklearn-color-fitted-level-0);\n",
       "}\n",
       "\n",
       "/* on hover */\n",
       "#sk-container-id-1 div.sk-estimator:hover {\n",
       "  /* unfitted */\n",
       "  background-color: var(--sklearn-color-unfitted-level-2);\n",
       "}\n",
       "\n",
       "#sk-container-id-1 div.sk-estimator.fitted:hover {\n",
       "  /* fitted */\n",
       "  background-color: var(--sklearn-color-fitted-level-2);\n",
       "}\n",
       "\n",
       "/* Specification for estimator info (e.g. \"i\" and \"?\") */\n",
       "\n",
       "/* Common style for \"i\" and \"?\" */\n",
       "\n",
       ".sk-estimator-doc-link,\n",
       "a:link.sk-estimator-doc-link,\n",
       "a:visited.sk-estimator-doc-link {\n",
       "  float: right;\n",
       "  font-size: smaller;\n",
       "  line-height: 1em;\n",
       "  font-family: monospace;\n",
       "  background-color: var(--sklearn-color-background);\n",
       "  border-radius: 1em;\n",
       "  height: 1em;\n",
       "  width: 1em;\n",
       "  text-decoration: none !important;\n",
       "  margin-left: 0.5em;\n",
       "  text-align: center;\n",
       "  /* unfitted */\n",
       "  border: var(--sklearn-color-unfitted-level-1) 1pt solid;\n",
       "  color: var(--sklearn-color-unfitted-level-1);\n",
       "}\n",
       "\n",
       ".sk-estimator-doc-link.fitted,\n",
       "a:link.sk-estimator-doc-link.fitted,\n",
       "a:visited.sk-estimator-doc-link.fitted {\n",
       "  /* fitted */\n",
       "  border: var(--sklearn-color-fitted-level-1) 1pt solid;\n",
       "  color: var(--sklearn-color-fitted-level-1);\n",
       "}\n",
       "\n",
       "/* On hover */\n",
       "div.sk-estimator:hover .sk-estimator-doc-link:hover,\n",
       ".sk-estimator-doc-link:hover,\n",
       "div.sk-label-container:hover .sk-estimator-doc-link:hover,\n",
       ".sk-estimator-doc-link:hover {\n",
       "  /* unfitted */\n",
       "  background-color: var(--sklearn-color-unfitted-level-3);\n",
       "  color: var(--sklearn-color-background);\n",
       "  text-decoration: none;\n",
       "}\n",
       "\n",
       "div.sk-estimator.fitted:hover .sk-estimator-doc-link.fitted:hover,\n",
       ".sk-estimator-doc-link.fitted:hover,\n",
       "div.sk-label-container:hover .sk-estimator-doc-link.fitted:hover,\n",
       ".sk-estimator-doc-link.fitted:hover {\n",
       "  /* fitted */\n",
       "  background-color: var(--sklearn-color-fitted-level-3);\n",
       "  color: var(--sklearn-color-background);\n",
       "  text-decoration: none;\n",
       "}\n",
       "\n",
       "/* Span, style for the box shown on hovering the info icon */\n",
       ".sk-estimator-doc-link span {\n",
       "  display: none;\n",
       "  z-index: 9999;\n",
       "  position: relative;\n",
       "  font-weight: normal;\n",
       "  right: .2ex;\n",
       "  padding: .5ex;\n",
       "  margin: .5ex;\n",
       "  width: min-content;\n",
       "  min-width: 20ex;\n",
       "  max-width: 50ex;\n",
       "  color: var(--sklearn-color-text);\n",
       "  box-shadow: 2pt 2pt 4pt #999;\n",
       "  /* unfitted */\n",
       "  background: var(--sklearn-color-unfitted-level-0);\n",
       "  border: .5pt solid var(--sklearn-color-unfitted-level-3);\n",
       "}\n",
       "\n",
       ".sk-estimator-doc-link.fitted span {\n",
       "  /* fitted */\n",
       "  background: var(--sklearn-color-fitted-level-0);\n",
       "  border: var(--sklearn-color-fitted-level-3);\n",
       "}\n",
       "\n",
       ".sk-estimator-doc-link:hover span {\n",
       "  display: block;\n",
       "}\n",
       "\n",
       "/* \"?\"-specific style due to the `<a>` HTML tag */\n",
       "\n",
       "#sk-container-id-1 a.estimator_doc_link {\n",
       "  float: right;\n",
       "  font-size: 1rem;\n",
       "  line-height: 1em;\n",
       "  font-family: monospace;\n",
       "  background-color: var(--sklearn-color-background);\n",
       "  border-radius: 1rem;\n",
       "  height: 1rem;\n",
       "  width: 1rem;\n",
       "  text-decoration: none;\n",
       "  /* unfitted */\n",
       "  color: var(--sklearn-color-unfitted-level-1);\n",
       "  border: var(--sklearn-color-unfitted-level-1) 1pt solid;\n",
       "}\n",
       "\n",
       "#sk-container-id-1 a.estimator_doc_link.fitted {\n",
       "  /* fitted */\n",
       "  border: var(--sklearn-color-fitted-level-1) 1pt solid;\n",
       "  color: var(--sklearn-color-fitted-level-1);\n",
       "}\n",
       "\n",
       "/* On hover */\n",
       "#sk-container-id-1 a.estimator_doc_link:hover {\n",
       "  /* unfitted */\n",
       "  background-color: var(--sklearn-color-unfitted-level-3);\n",
       "  color: var(--sklearn-color-background);\n",
       "  text-decoration: none;\n",
       "}\n",
       "\n",
       "#sk-container-id-1 a.estimator_doc_link.fitted:hover {\n",
       "  /* fitted */\n",
       "  background-color: var(--sklearn-color-fitted-level-3);\n",
       "}\n",
       "</style><div id=\"sk-container-id-1\" class=\"sk-top-container\"><div class=\"sk-text-repr-fallback\"><pre>DecisionTreeClassifier(random_state=5)</pre><b>In a Jupyter environment, please rerun this cell to show the HTML representation or trust the notebook. <br />On GitHub, the HTML representation is unable to render, please try loading this page with nbviewer.org.</b></div><div class=\"sk-container\" hidden><div class=\"sk-item\"><div class=\"sk-estimator fitted sk-toggleable\"><input class=\"sk-toggleable__control sk-hidden--visually\" id=\"sk-estimator-id-1\" type=\"checkbox\" checked><label for=\"sk-estimator-id-1\" class=\"sk-toggleable__label fitted sk-toggleable__label-arrow\"><div><div>DecisionTreeClassifier</div></div><div><a class=\"sk-estimator-doc-link fitted\" rel=\"noreferrer\" target=\"_blank\" href=\"https://scikit-learn.org/1.6/modules/generated/sklearn.tree.DecisionTreeClassifier.html\">?<span>Documentation for DecisionTreeClassifier</span></a><span class=\"sk-estimator-doc-link fitted\">i<span>Fitted</span></span></div></label><div class=\"sk-toggleable__content fitted\"><pre>DecisionTreeClassifier(random_state=5)</pre></div> </div></div></div></div>"
      ],
      "text/plain": [
       "DecisionTreeClassifier(random_state=5)"
      ]
     },
     "execution_count": 36,
     "metadata": {},
     "output_type": "execute_result"
    }
   ],
   "source": [
    "arvore = DecisionTreeClassifier(random_state=5)\n",
    "arvore.fit(x_treino, y_treino)"
   ]
  },
  {
   "cell_type": "code",
   "execution_count": 37,
   "metadata": {},
   "outputs": [
    {
     "data": {
      "text/plain": [
       "array([0, 1, 0, 1, 0, 0, 0, 0, 1, 1, 0, 0, 0, 0, 0, 0, 0, 0, 0, 1, 0, 0,\n",
       "       1, 0, 0, 1, 0, 0, 1, 1, 0, 1, 0, 0, 0, 0, 0, 0, 1, 1, 0, 1, 0, 0,\n",
       "       1, 0, 0, 1, 0, 0, 0, 0, 1, 1, 0, 0, 1, 0, 0, 1, 1, 1, 0, 0, 1, 1,\n",
       "       1, 0, 0, 1, 0, 0, 0, 1, 1, 0, 0, 1, 1, 0, 0, 0, 0, 0, 0, 0, 0, 0,\n",
       "       0, 1, 1, 0, 1, 0, 0, 1, 0, 0, 0, 0, 1, 0, 0, 1, 0, 1, 0, 1, 0, 1,\n",
       "       1, 1, 0, 0, 0, 0, 0, 0, 0, 0, 0, 1, 0, 0, 1, 1, 1, 1, 1, 1, 0, 1,\n",
       "       1, 0, 0, 0, 0, 0, 1, 1, 1, 1, 0, 0, 0, 0, 0, 1, 0, 1, 0, 0, 1, 0,\n",
       "       0, 1, 0, 0, 0, 1, 0, 1, 1, 1, 1, 0, 0, 0, 0, 0, 0, 0, 0, 0, 1, 0,\n",
       "       1, 0, 0, 0, 1, 1, 1, 0, 0, 1, 0, 1, 1, 0, 1, 1, 0, 1, 1, 1, 0, 1,\n",
       "       0, 0, 1, 0, 0, 0, 1, 0, 0, 0, 0, 1, 1, 0, 1, 1, 1, 1, 0, 1, 0, 0,\n",
       "       0, 0, 0, 1, 0, 1, 1, 0, 0, 1, 1, 0, 0, 0, 0, 1, 0, 1, 0, 1, 0, 0,\n",
       "       0, 1, 1, 0, 1, 0, 0, 0, 1, 1, 0, 0, 0, 0, 1, 0, 0, 0, 1, 0, 0, 0,\n",
       "       0, 0, 0, 0, 1, 0, 1, 0, 1, 0, 0, 1, 1, 1, 1, 0, 0, 1, 0, 1, 0, 1,\n",
       "       0, 1, 1, 1, 1, 0, 0, 0, 1, 0, 0, 1, 0, 0, 0, 0, 1, 0, 0, 0, 1, 0,\n",
       "       0, 1, 1, 0, 1, 0, 0, 0, 1])"
      ]
     },
     "execution_count": 37,
     "metadata": {},
     "output_type": "execute_result"
    }
   ],
   "source": [
    "arvore.predict(x_teste)"
   ]
  },
  {
   "cell_type": "code",
   "execution_count": 38,
   "metadata": {},
   "outputs": [
    {
     "data": {
      "text/plain": [
       "0.6656151419558359"
      ]
     },
     "execution_count": 38,
     "metadata": {},
     "output_type": "execute_result"
    }
   ],
   "source": [
    "arvore.score(x_teste, y_teste)"
   ]
  },
  {
   "cell_type": "code",
   "execution_count": 39,
   "metadata": {},
   "outputs": [],
   "source": [
    "from sklearn.tree import plot_tree\n",
    "import matplotlib.pyplot as plt"
   ]
  },
  {
   "cell_type": "code",
   "execution_count": 40,
   "metadata": {},
   "outputs": [],
   "source": [
    "nome_colunas = ['casado (a)',\n",
    "                'divorciado (a)',\n",
    "                'solteiro (a)',\n",
    "                'fundamental',\n",
    "                'medio',\n",
    "                'superior',\n",
    "                'inadimplencia',\n",
    "                'fez_emprestimo',\n",
    "                'idade',\n",
    "                'saldo',\n",
    "                'tempo_ult_contato',\n",
    "                'numero_contatos']"
   ]
  },
  {
   "cell_type": "code",
   "execution_count": 42,
   "metadata": {},
   "outputs": [
    {
     "data": {
      "image/png": "[encoded data removed]",
      "text/plain": [
       "<Figure size 1500x600 with 1 Axes>"
      ]
     },
     "metadata": {},
     "output_type": "display_data"
    }
   ],
   "source": [
    "plt.figure(figsize=(15, 6))\n",
    "plot_tree(arvore, filled=True, class_names=('nao', 'sim'), fontsize=1, feature_names=nome_colunas);"
   ]
  },
  {
   "cell_type": "code",
   "execution_count": 43,
   "metadata": {},
   "outputs": [
    {
     "data": {
      "text/plain": [
       "1.0"
      ]
     },
     "execution_count": 43,
     "metadata": {},
     "output_type": "execute_result"
    }
   ],
   "source": [
    "arvore.score(x_treino, y_treino)"
   ]
  },
  {
   "cell_type": "markdown",
   "metadata": {},
   "source": [
    "Agora vamos fazer uma \"poda\" na árvore, passando um parâmetro que estabelece uma profundidade máxima de 3: max_depht=3"
   ]
  },
  {
   "cell_type": "code",
   "execution_count": 44,
   "metadata": {},
   "outputs": [
    {
     "data": {
      "text/html": [
       "<style>#sk-container-id-2 {\n",
       "  /* Definition of color scheme common for light and dark mode */\n",
       "  --sklearn-color-text: #000;\n",
       "  --sklearn-color-text-muted: #666;\n",
       "  --sklearn-color-line: gray;\n",
       "  /* Definition of color scheme for unfitted estimators */\n",
       "  --sklearn-color-unfitted-level-0: #fff5e6;\n",
       "  --sklearn-color-unfitted-level-1: #f6e4d2;\n",
       "  --sklearn-color-unfitted-level-2: #ffe0b3;\n",
       "  --sklearn-color-unfitted-level-3: chocolate;\n",
       "  /* Definition of color scheme for fitted estimators */\n",
       "  --sklearn-color-fitted-level-0: #f0f8ff;\n",
       "  --sklearn-color-fitted-level-1: #d4ebff;\n",
       "  --sklearn-color-fitted-level-2: #b3dbfd;\n",
       "  --sklearn-color-fitted-level-3: cornflowerblue;\n",
       "\n",
       "  /* Specific color for light theme */\n",
       "  --sklearn-color-text-on-default-background: var(--sg-text-color, var(--theme-code-foreground, var(--jp-content-font-color1, black)));\n",
       "  --sklearn-color-background: var(--sg-background-color, var(--theme-background, var(--jp-layout-color0, white)));\n",
       "  --sklearn-color-border-box: var(--sg-text-color, var(--theme-code-foreground, var(--jp-content-font-color1, black)));\n",
       "  --sklearn-color-icon: #696969;\n",
       "\n",
       "  @media (prefers-color-scheme: dark) {\n",
       "    /* Redefinition of color scheme for dark theme */\n",
       "    --sklearn-color-text-on-default-background: var(--sg-text-color, var(--theme-code-foreground, var(--jp-content-font-color1, white)));\n",
       "    --sklearn-color-background: var(--sg-background-color, var(--theme-background, var(--jp-layout-color0, #111)));\n",
       "    --sklearn-color-border-box: var(--sg-text-color, var(--theme-code-foreground, var(--jp-content-font-color1, white)));\n",
       "    --sklearn-color-icon: #878787;\n",
       "  }\n",
       "}\n",
       "\n",
       "#sk-container-id-2 {\n",
       "  color: var(--sklearn-color-text);\n",
       "}\n",
       "\n",
       "#sk-container-id-2 pre {\n",
       "  padding: 0;\n",
       "}\n",
       "\n",
       "#sk-container-id-2 input.sk-hidden--visually {\n",
       "  border: 0;\n",
       "  clip: rect(1px 1px 1px 1px);\n",
       "  clip: rect(1px, 1px, 1px, 1px);\n",
       "  height: 1px;\n",
       "  margin: -1px;\n",
       "  overflow: hidden;\n",
       "  padding: 0;\n",
       "  position: absolute;\n",
       "  width: 1px;\n",
       "}\n",
       "\n",
       "#sk-container-id-2 div.sk-dashed-wrapped {\n",
       "  border: 1px dashed var(--sklearn-color-line);\n",
       "  margin: 0 0.4em 0.5em 0.4em;\n",
       "  box-sizing: border-box;\n",
       "  padding-bottom: 0.4em;\n",
       "  background-color: var(--sklearn-color-background);\n",
       "}\n",
       "\n",
       "#sk-container-id-2 div.sk-container {\n",
       "  /* jupyter's `normalize.less` sets `[hidden] { display: none; }`\n",
       "     but bootstrap.min.css set `[hidden] { display: none !important; }`\n",
       "     so we also need the `!important` here to be able to override the\n",
       "     default hidden behavior on the sphinx rendered scikit-learn.org.\n",
       "     See: https://github.com/scikit-learn/scikit-learn/issues/21755 */\n",
       "  display: inline-block !important;\n",
       "  position: relative;\n",
       "}\n",
       "\n",
       "#sk-container-id-2 div.sk-text-repr-fallback {\n",
       "  display: none;\n",
       "}\n",
       "\n",
       "div.sk-parallel-item,\n",
       "div.sk-serial,\n",
       "div.sk-item {\n",
       "  /* draw centered vertical line to link estimators */\n",
       "  background-image: linear-gradient(var(--sklearn-color-text-on-default-background), var(--sklearn-color-text-on-default-background));\n",
       "  background-size: 2px 100%;\n",
       "  background-repeat: no-repeat;\n",
       "  background-position: center center;\n",
       "}\n",
       "\n",
       "/* Parallel-specific style estimator block */\n",
       "\n",
       "#sk-container-id-2 div.sk-parallel-item::after {\n",
       "  content: \"\";\n",
       "  width: 100%;\n",
       "  border-bottom: 2px solid var(--sklearn-color-text-on-default-background);\n",
       "  flex-grow: 1;\n",
       "}\n",
       "\n",
       "#sk-container-id-2 div.sk-parallel {\n",
       "  display: flex;\n",
       "  align-items: stretch;\n",
       "  justify-content: center;\n",
       "  background-color: var(--sklearn-color-background);\n",
       "  position: relative;\n",
       "}\n",
       "\n",
       "#sk-container-id-2 div.sk-parallel-item {\n",
       "  display: flex;\n",
       "  flex-direction: column;\n",
       "}\n",
       "\n",
       "#sk-container-id-2 div.sk-parallel-item:first-child::after {\n",
       "  align-self: flex-end;\n",
       "  width: 50%;\n",
       "}\n",
       "\n",
       "#sk-container-id-2 div.sk-parallel-item:last-child::after {\n",
       "  align-self: flex-start;\n",
       "  width: 50%;\n",
       "}\n",
       "\n",
       "#sk-container-id-2 div.sk-parallel-item:only-child::after {\n",
       "  width: 0;\n",
       "}\n",
       "\n",
       "/* Serial-specific style estimator block */\n",
       "\n",
       "#sk-container-id-2 div.sk-serial {\n",
       "  display: flex;\n",
       "  flex-direction: column;\n",
       "  align-items: center;\n",
       "  background-color: var(--sklearn-color-background);\n",
       "  padding-right: 1em;\n",
       "  padding-left: 1em;\n",
       "}\n",
       "\n",
       "\n",
       "/* Toggleable style: style used for estimator/Pipeline/ColumnTransformer box that is\n",
       "clickable and can be expanded/collapsed.\n",
       "- Pipeline and ColumnTransformer use this feature and define the default style\n",
       "- Estimators will overwrite some part of the style using the `sk-estimator` class\n",
       "*/\n",
       "\n",
       "/* Pipeline and ColumnTransformer style (default) */\n",
       "\n",
       "#sk-container-id-2 div.sk-toggleable {\n",
       "  /* Default theme specific background. It is overwritten whether we have a\n",
       "  specific estimator or a Pipeline/ColumnTransformer */\n",
       "  background-color: var(--sklearn-color-background);\n",
       "}\n",
       "\n",
       "/* Toggleable label */\n",
       "#sk-container-id-2 label.sk-toggleable__label {\n",
       "  cursor: pointer;\n",
       "  display: flex;\n",
       "  width: 100%;\n",
       "  margin-bottom: 0;\n",
       "  padding: 0.5em;\n",
       "  box-sizing: border-box;\n",
       "  text-align: center;\n",
       "  align-items: start;\n",
       "  justify-content: space-between;\n",
       "  gap: 0.5em;\n",
       "}\n",
       "\n",
       "#sk-container-id-2 label.sk-toggleable__label .caption {\n",
       "  font-size: 0.6rem;\n",
       "  font-weight: lighter;\n",
       "  color: var(--sklearn-color-text-muted);\n",
       "}\n",
       "\n",
       "#sk-container-id-2 label.sk-toggleable__label-arrow:before {\n",
       "  /* Arrow on the left of the label */\n",
       "  content: \"▸\";\n",
       "  float: left;\n",
       "  margin-right: 0.25em;\n",
       "  color: var(--sklearn-color-icon);\n",
       "}\n",
       "\n",
       "#sk-container-id-2 label.sk-toggleable__label-arrow:hover:before {\n",
       "  color: var(--sklearn-color-text);\n",
       "}\n",
       "\n",
       "/* Toggleable content - dropdown */\n",
       "\n",
       "#sk-container-id-2 div.sk-toggleable__content {\n",
       "  max-height: 0;\n",
       "  max-width: 0;\n",
       "  overflow: hidden;\n",
       "  text-align: left;\n",
       "  /* unfitted */\n",
       "  background-color: var(--sklearn-color-unfitted-level-0);\n",
       "}\n",
       "\n",
       "#sk-container-id-2 div.sk-toggleable__content.fitted {\n",
       "  /* fitted */\n",
       "  background-color: var(--sklearn-color-fitted-level-0);\n",
       "}\n",
       "\n",
       "#sk-container-id-2 div.sk-toggleable__content pre {\n",
       "  margin: 0.2em;\n",
       "  border-radius: 0.25em;\n",
       "  color: var(--sklearn-color-text);\n",
       "  /* unfitted */\n",
       "  background-color: var(--sklearn-color-unfitted-level-0);\n",
       "}\n",
       "\n",
       "#sk-container-id-2 div.sk-toggleable__content.fitted pre {\n",
       "  /* unfitted */\n",
       "  background-color: var(--sklearn-color-fitted-level-0);\n",
       "}\n",
       "\n",
       "#sk-container-id-2 input.sk-toggleable__control:checked~div.sk-toggleable__content {\n",
       "  /* Expand drop-down */\n",
       "  max-height: 200px;\n",
       "  max-width: 100%;\n",
       "  overflow: auto;\n",
       "}\n",
       "\n",
       "#sk-container-id-2 input.sk-toggleable__control:checked~label.sk-toggleable__label-arrow:before {\n",
       "  content: \"▾\";\n",
       "}\n",
       "\n",
       "/* Pipeline/ColumnTransformer-specific style */\n",
       "\n",
       "#sk-container-id-2 div.sk-label input.sk-toggleable__control:checked~label.sk-toggleable__label {\n",
       "  color: var(--sklearn-color-text);\n",
       "  background-color: var(--sklearn-color-unfitted-level-2);\n",
       "}\n",
       "\n",
       "#sk-container-id-2 div.sk-label.fitted input.sk-toggleable__control:checked~label.sk-toggleable__label {\n",
       "  background-color: var(--sklearn-color-fitted-level-2);\n",
       "}\n",
       "\n",
       "/* Estimator-specific style */\n",
       "\n",
       "/* Colorize estimator box */\n",
       "#sk-container-id-2 div.sk-estimator input.sk-toggleable__control:checked~label.sk-toggleable__label {\n",
       "  /* unfitted */\n",
       "  background-color: var(--sklearn-color-unfitted-level-2);\n",
       "}\n",
       "\n",
       "#sk-container-id-2 div.sk-estimator.fitted input.sk-toggleable__control:checked~label.sk-toggleable__label {\n",
       "  /* fitted */\n",
       "  background-color: var(--sklearn-color-fitted-level-2);\n",
       "}\n",
       "\n",
       "#sk-container-id-2 div.sk-label label.sk-toggleable__label,\n",
       "#sk-container-id-2 div.sk-label label {\n",
       "  /* The background is the default theme color */\n",
       "  color: var(--sklearn-color-text-on-default-background);\n",
       "}\n",
       "\n",
       "/* On hover, darken the color of the background */\n",
       "#sk-container-id-2 div.sk-label:hover label.sk-toggleable__label {\n",
       "  color: var(--sklearn-color-text);\n",
       "  background-color: var(--sklearn-color-unfitted-level-2);\n",
       "}\n",
       "\n",
       "/* Label box, darken color on hover, fitted */\n",
       "#sk-container-id-2 div.sk-label.fitted:hover label.sk-toggleable__label.fitted {\n",
       "  color: var(--sklearn-color-text);\n",
       "  background-color: var(--sklearn-color-fitted-level-2);\n",
       "}\n",
       "\n",
       "/* Estimator label */\n",
       "\n",
       "#sk-container-id-2 div.sk-label label {\n",
       "  font-family: monospace;\n",
       "  font-weight: bold;\n",
       "  display: inline-block;\n",
       "  line-height: 1.2em;\n",
       "}\n",
       "\n",
       "#sk-container-id-2 div.sk-label-container {\n",
       "  text-align: center;\n",
       "}\n",
       "\n",
       "/* Estimator-specific */\n",
       "#sk-container-id-2 div.sk-estimator {\n",
       "  font-family: monospace;\n",
       "  border: 1px dotted var(--sklearn-color-border-box);\n",
       "  border-radius: 0.25em;\n",
       "  box-sizing: border-box;\n",
       "  margin-bottom: 0.5em;\n",
       "  /* unfitted */\n",
       "  background-color: var(--sklearn-color-unfitted-level-0);\n",
       "}\n",
       "\n",
       "#sk-container-id-2 div.sk-estimator.fitted {\n",
       "  /* fitted */\n",
       "  background-color: var(--sklearn-color-fitted-level-0);\n",
       "}\n",
       "\n",
       "/* on hover */\n",
       "#sk-container-id-2 div.sk-estimator:hover {\n",
       "  /* unfitted */\n",
       "  background-color: var(--sklearn-color-unfitted-level-2);\n",
       "}\n",
       "\n",
       "#sk-container-id-2 div.sk-estimator.fitted:hover {\n",
       "  /* fitted */\n",
       "  background-color: var(--sklearn-color-fitted-level-2);\n",
       "}\n",
       "\n",
       "/* Specification for estimator info (e.g. \"i\" and \"?\") */\n",
       "\n",
       "/* Common style for \"i\" and \"?\" */\n",
       "\n",
       ".sk-estimator-doc-link,\n",
       "a:link.sk-estimator-doc-link,\n",
       "a:visited.sk-estimator-doc-link {\n",
       "  float: right;\n",
       "  font-size: smaller;\n",
       "  line-height: 1em;\n",
       "  font-family: monospace;\n",
       "  background-color: var(--sklearn-color-background);\n",
       "  border-radius: 1em;\n",
       "  height: 1em;\n",
       "  width: 1em;\n",
       "  text-decoration: none !important;\n",
       "  margin-left: 0.5em;\n",
       "  text-align: center;\n",
       "  /* unfitted */\n",
       "  border: var(--sklearn-color-unfitted-level-1) 1pt solid;\n",
       "  color: var(--sklearn-color-unfitted-level-1);\n",
       "}\n",
       "\n",
       ".sk-estimator-doc-link.fitted,\n",
       "a:link.sk-estimator-doc-link.fitted,\n",
       "a:visited.sk-estimator-doc-link.fitted {\n",
       "  /* fitted */\n",
       "  border: var(--sklearn-color-fitted-level-1) 1pt solid;\n",
       "  color: var(--sklearn-color-fitted-level-1);\n",
       "}\n",
       "\n",
       "/* On hover */\n",
       "div.sk-estimator:hover .sk-estimator-doc-link:hover,\n",
       ".sk-estimator-doc-link:hover,\n",
       "div.sk-label-container:hover .sk-estimator-doc-link:hover,\n",
       ".sk-estimator-doc-link:hover {\n",
       "  /* unfitted */\n",
       "  background-color: var(--sklearn-color-unfitted-level-3);\n",
       "  color: var(--sklearn-color-background);\n",
       "  text-decoration: none;\n",
       "}\n",
       "\n",
       "div.sk-estimator.fitted:hover .sk-estimator-doc-link.fitted:hover,\n",
       ".sk-estimator-doc-link.fitted:hover,\n",
       "div.sk-label-container:hover .sk-estimator-doc-link.fitted:hover,\n",
       ".sk-estimator-doc-link.fitted:hover {\n",
       "  /* fitted */\n",
       "  background-color: var(--sklearn-color-fitted-level-3);\n",
       "  color: var(--sklearn-color-background);\n",
       "  text-decoration: none;\n",
       "}\n",
       "\n",
       "/* Span, style for the box shown on hovering the info icon */\n",
       ".sk-estimator-doc-link span {\n",
       "  display: none;\n",
       "  z-index: 9999;\n",
       "  position: relative;\n",
       "  font-weight: normal;\n",
       "  right: .2ex;\n",
       "  padding: .5ex;\n",
       "  margin: .5ex;\n",
       "  width: min-content;\n",
       "  min-width: 20ex;\n",
       "  max-width: 50ex;\n",
       "  color: var(--sklearn-color-text);\n",
       "  box-shadow: 2pt 2pt 4pt #999;\n",
       "  /* unfitted */\n",
       "  background: var(--sklearn-color-unfitted-level-0);\n",
       "  border: .5pt solid var(--sklearn-color-unfitted-level-3);\n",
       "}\n",
       "\n",
       ".sk-estimator-doc-link.fitted span {\n",
       "  /* fitted */\n",
       "  background: var(--sklearn-color-fitted-level-0);\n",
       "  border: var(--sklearn-color-fitted-level-3);\n",
       "}\n",
       "\n",
       ".sk-estimator-doc-link:hover span {\n",
       "  display: block;\n",
       "}\n",
       "\n",
       "/* \"?\"-specific style due to the `<a>` HTML tag */\n",
       "\n",
       "#sk-container-id-2 a.estimator_doc_link {\n",
       "  float: right;\n",
       "  font-size: 1rem;\n",
       "  line-height: 1em;\n",
       "  font-family: monospace;\n",
       "  background-color: var(--sklearn-color-background);\n",
       "  border-radius: 1rem;\n",
       "  height: 1rem;\n",
       "  width: 1rem;\n",
       "  text-decoration: none;\n",
       "  /* unfitted */\n",
       "  color: var(--sklearn-color-unfitted-level-1);\n",
       "  border: var(--sklearn-color-unfitted-level-1) 1pt solid;\n",
       "}\n",
       "\n",
       "#sk-container-id-2 a.estimator_doc_link.fitted {\n",
       "  /* fitted */\n",
       "  border: var(--sklearn-color-fitted-level-1) 1pt solid;\n",
       "  color: var(--sklearn-color-fitted-level-1);\n",
       "}\n",
       "\n",
       "/* On hover */\n",
       "#sk-container-id-2 a.estimator_doc_link:hover {\n",
       "  /* unfitted */\n",
       "  background-color: var(--sklearn-color-unfitted-level-3);\n",
       "  color: var(--sklearn-color-background);\n",
       "  text-decoration: none;\n",
       "}\n",
       "\n",
       "#sk-container-id-2 a.estimator_doc_link.fitted:hover {\n",
       "  /* fitted */\n",
       "  background-color: var(--sklearn-color-fitted-level-3);\n",
       "}\n",
       "</style><div id=\"sk-container-id-2\" class=\"sk-top-container\"><div class=\"sk-text-repr-fallback\"><pre>DecisionTreeClassifier(max_depth=3, random_state=5)</pre><b>In a Jupyter environment, please rerun this cell to show the HTML representation or trust the notebook. <br />On GitHub, the HTML representation is unable to render, please try loading this page with nbviewer.org.</b></div><div class=\"sk-container\" hidden><div class=\"sk-item\"><div class=\"sk-estimator fitted sk-toggleable\"><input class=\"sk-toggleable__control sk-hidden--visually\" id=\"sk-estimator-id-2\" type=\"checkbox\" checked><label for=\"sk-estimator-id-2\" class=\"sk-toggleable__label fitted sk-toggleable__label-arrow\"><div><div>DecisionTreeClassifier</div></div><div><a class=\"sk-estimator-doc-link fitted\" rel=\"noreferrer\" target=\"_blank\" href=\"https://scikit-learn.org/1.6/modules/generated/sklearn.tree.DecisionTreeClassifier.html\">?<span>Documentation for DecisionTreeClassifier</span></a><span class=\"sk-estimator-doc-link fitted\">i<span>Fitted</span></span></div></label><div class=\"sk-toggleable__content fitted\"><pre>DecisionTreeClassifier(max_depth=3, random_state=5)</pre></div> </div></div></div></div>"
      ],
      "text/plain": [
       "DecisionTreeClassifier(max_depth=3, random_state=5)"
      ]
     },
     "execution_count": 44,
     "metadata": {},
     "output_type": "execute_result"
    }
   ],
   "source": [
    "arvore = DecisionTreeClassifier(max_depth=3, random_state=5)\n",
    "arvore.fit(x_treino, y_treino)"
   ]
  },
  {
   "cell_type": "code",
   "execution_count": 45,
   "metadata": {},
   "outputs": [
    {
     "data": {
      "text/plain": [
       "0.7613038906414301"
      ]
     },
     "execution_count": 45,
     "metadata": {},
     "output_type": "execute_result"
    }
   ],
   "source": [
    "arvore.score(x_treino, y_treino)"
   ]
  },
  {
   "cell_type": "code",
   "execution_count": 46,
   "metadata": {},
   "outputs": [
    {
     "data": {
      "text/plain": [
       "0.7160883280757098"
      ]
     },
     "execution_count": 46,
     "metadata": {},
     "output_type": "execute_result"
    }
   ],
   "source": [
    "arvore.score(x_teste, y_teste)"
   ]
  },
  {
   "cell_type": "code",
   "execution_count": 47,
   "metadata": {},
   "outputs": [
    {
     "data": {
      "image/png": "[encoded data removed]",
      "text/plain": [
       "<Figure size 1500x600 with 1 Axes>"
      ]
     },
     "metadata": {},
     "output_type": "display_data"
    }
   ],
   "source": [
    "plt.figure(figsize=(15, 6))\n",
    "plot_tree(arvore, filled=True, class_names=('nao', 'sim'), fontsize=7, feature_names=nome_colunas);"
   ]
  },
  {
   "cell_type": "markdown",
   "metadata": {},
   "source": [
    "### Módulo 4 - Seleção de Modelos - Aula 2 - Normalizando dados"
   ]
  },
  {
   "cell_type": "code",
   "execution_count": 48,
   "metadata": {},
   "outputs": [],
   "source": [
    "from sklearn. preprocessing import MinMaxScaler"
   ]
  },
  {
   "cell_type": "code",
   "execution_count": 49,
   "metadata": {},
   "outputs": [],
   "source": [
    "normalizacao = MinMaxScaler()\n",
    "x_treino_normalizado = normalizacao.fit_transform(x_treino)"
   ]
  },
  {
   "cell_type": "code",
   "execution_count": 50,
   "metadata": {},
   "outputs": [
    {
     "data": {
      "application/vnd.microsoft.datawrangler.viewer.v0+json": {
       "columns": [
        {
         "name": "index",
         "rawType": "int64",
         "type": "integer"
        },
        {
         "name": "0",
         "rawType": "float64",
         "type": "float"
        },
        {
         "name": "1",
         "rawType": "float64",
         "type": "float"
        },
        {
         "name": "2",
         "rawType": "float64",
         "type": "float"
        },
        {
         "name": "3",
         "rawType": "float64",
         "type": "float"
        },
        {
         "name": "4",
         "rawType": "float64",
         "type": "float"
        },
        {
         "name": "5",
         "rawType": "float64",
         "type": "float"
        },
        {
         "name": "6",
         "rawType": "float64",
         "type": "float"
        },
        {
         "name": "7",
         "rawType": "float64",
         "type": "float"
        },
        {
         "name": "8",
         "rawType": "float64",
         "type": "float"
        },
        {
         "name": "9",
         "rawType": "float64",
         "type": "float"
        },
        {
         "name": "10",
         "rawType": "float64",
         "type": "float"
        },
        {
         "name": "11",
         "rawType": "float64",
         "type": "float"
        }
       ],
       "ref": "34b346fc-070b-4dcb-864c-142b4cb7673b",
       "rows": [
        [
         "0",
         "1.0",
         "0.0",
         "0.0",
         "0.0",
         "0.0",
         "1.0",
         "0.0",
         "0.0",
         "0.20588235294117646",
         "0.06556387774661886",
         "0.12373371924746743",
         "0.03225806451612903"
        ],
        [
         "1",
         "0.0",
         "1.0",
         "0.0",
         "0.0",
         "1.0",
         "0.0",
         "0.0",
         "0.0",
         "0.14705882352941174",
         "0.04579177168009655",
         "0.39652677279305354",
         "0.03225806451612903"
        ],
        [
         "2",
         "0.0",
         "1.0",
         "0.0",
         "0.0",
         "1.0",
         "0.0",
         "0.0",
         "0.0",
         "0.3382352941176471",
         "0.07603563948741612",
         "0.3350217076700434",
         "0.0"
        ],
        [
         "3",
         "1.0",
         "0.0",
         "0.0",
         "1.0",
         "0.0",
         "0.0",
         "0.0",
         "0.0",
         "0.5735294117647058",
         "0.06286606794221007",
         "0.315123010130246",
         "0.0"
        ],
        [
         "4",
         "0.0",
         "1.0",
         "0.0",
         "0.0",
         "1.0",
         "0.0",
         "0.0",
         "0.0",
         "0.3382352941176471",
         "0.1483795392424834",
         "0.06584659913169319",
         "0.12903225806451613"
        ],
        [
         "5",
         "1.0",
         "0.0",
         "0.0",
         "0.0",
         "1.0",
         "0.0",
         "0.0",
         "0.0",
         "0.5",
         "0.04614674665436086",
         "0.17655571635311143",
         "0.0"
        ],
        [
         "6",
         "1.0",
         "0.0",
         "0.0",
         "0.0",
         "1.0",
         "0.0",
         "0.0",
         "1.0",
         "0.16176470588235292",
         "0.02885946540768875",
         "0.15557163531114326",
         "0.0"
        ],
        [
         "7",
         "0.0",
         "0.0",
         "1.0",
         "0.0",
         "1.0",
         "0.0",
         "0.0",
         "0.0",
         "0.22058823529411764",
         "0.04280998189627631",
         "0.05716353111432706",
         "0.03225806451612903"
        ],
        [
         "8",
         "0.0",
         "1.0",
         "0.0",
         "0.0",
         "1.0",
         "0.0",
         "0.0",
         "0.0",
         "0.20588235294117646",
         "0.1283944481914025",
         "0.04522431259044862",
         "0.0"
        ],
        [
         "9",
         "0.0",
         "0.0",
         "1.0",
         "0.0",
         "1.0",
         "0.0",
         "0.0",
         "1.0",
         "0.3382352941176471",
         "0.08114727911682226",
         "0.3422575976845152",
         "0.06451612903225806"
        ],
        [
         "10",
         "1.0",
         "0.0",
         "0.0",
         "0.0",
         "1.0",
         "0.0",
         "0.0",
         "0.0",
         "0.22058823529411764",
         "0.10780589968407225",
         "0.07163531114327061",
         "0.03225806451612903"
        ],
        [
         "11",
         "1.0",
         "0.0",
         "0.0",
         "0.0",
         "1.0",
         "0.0",
         "0.0",
         "0.0",
         "0.5",
         "0.05079691881722338",
         "0.10817655571635311",
         "0.0"
        ],
        [
         "12",
         "1.0",
         "0.0",
         "0.0",
         "0.0",
         "1.0",
         "0.0",
         "0.0",
         "0.0",
         "0.42647058823529405",
         "0.054879131021262996",
         "0.09044862518089725",
         "0.03225806451612903"
        ],
        [
         "13",
         "1.0",
         "0.0",
         "0.0",
         "0.0",
         "1.0",
         "0.0",
         "0.0",
         "0.0",
         "0.47058823529411764",
         "0.13730432004543677",
         "0.051736613603473224",
         "0.03225806451612903"
        ],
        [
         "14",
         "0.0",
         "1.0",
         "0.0",
         "0.0",
         "1.0",
         "0.0",
         "0.0",
         "0.0",
         "0.5294117647058824",
         "0.061907635511696424",
         "0.12590448625180897",
         "0.03225806451612903"
        ],
        [
         "15",
         "1.0",
         "0.0",
         "0.0",
         "0.0",
         "0.0",
         "1.0",
         "0.0",
         "0.0",
         "0.23529411764705876",
         "0.04309396187568776",
         "0.03183791606367583",
         "0.06451612903225806"
        ],
        [
         "16",
         "0.0",
         "0.0",
         "1.0",
         "0.0",
         "1.0",
         "0.0",
         "0.0",
         "0.0",
         "0.22058823529411764",
         "0.08100528912711653",
         "0.023516642547033284",
         "0.03225806451612903"
        ],
        [
         "17",
         "1.0",
         "0.0",
         "0.0",
         "1.0",
         "0.0",
         "0.0",
         "0.0",
         "0.0",
         "0.16176470588235292",
         "0.10624400979730927",
         "0.026772793053545584",
         "0.0"
        ],
        [
         "18",
         "1.0",
         "0.0",
         "0.0",
         "0.0",
         "1.0",
         "0.0",
         "0.0",
         "0.0",
         "0.11764705882352938",
         "0.049412516417592554",
         "0.047395079594790154",
         "0.03225806451612903"
        ],
        [
         "19",
         "1.0",
         "0.0",
         "0.0",
         "0.0",
         "0.0",
         "1.0",
         "0.0",
         "0.0",
         "0.27941176470588236",
         "0.04280998189627631",
         "0.07272069464544138",
         "0.0"
        ],
        [
         "20",
         "1.0",
         "0.0",
         "0.0",
         "0.0",
         "1.0",
         "0.0",
         "0.0",
         "1.0",
         "0.5294117647058824",
         "0.09488481062085122",
         "0.0984081041968162",
         "0.03225806451612903"
        ],
        [
         "21",
         "0.0",
         "1.0",
         "0.0",
         "0.0",
         "1.0",
         "0.0",
         "0.0",
         "0.0",
         "0.2941176470588235",
         "0.07908842426608922",
         "0.005426917510853835",
         "0.06451612903225806"
        ],
        [
         "22",
         "1.0",
         "0.0",
         "0.0",
         "0.0",
         "1.0",
         "0.0",
         "0.0",
         "0.0",
         "0.5147058823529411",
         "0.04280998189627631",
         "0.4924023154848046",
         "0.0"
        ],
        [
         "23",
         "1.0",
         "0.0",
         "0.0",
         "0.0",
         "0.0",
         "1.0",
         "0.0",
         "0.0",
         "0.22058823529411764",
         "0.06776472258705761",
         "0.12192474674384948",
         "0.0"
        ],
        [
         "24",
         "1.0",
         "0.0",
         "0.0",
         "1.0",
         "0.0",
         "0.0",
         "0.0",
         "0.0",
         "0.5",
         "0.043768414326789955",
         "0.08140376266280752",
         "0.06451612903225806"
        ],
        [
         "25",
         "0.0",
         "0.0",
         "1.0",
         "0.0",
         "1.0",
         "0.0",
         "0.0",
         "0.0",
         "0.1764705882352941",
         "0.08136026410138084",
         "0.14652677279305354",
         "0.0"
        ],
        [
         "26",
         "1.0",
         "0.0",
         "0.0",
         "1.0",
         "0.0",
         "0.0",
         "0.0",
         "1.0",
         "0.27941176470588236",
         "0.04877356146391679",
         "0.07489146164978291",
         "0.06451612903225806"
        ],
        [
         "27",
         "1.0",
         "0.0",
         "0.0",
         "0.0",
         "1.0",
         "0.0",
         "0.0",
         "0.0",
         "0.2647058823529411",
         "0.11302403180575768",
         "0.144356005788712",
         "0.0"
        ],
        [
         "28",
         "1.0",
         "0.0",
         "0.0",
         "1.0",
         "0.0",
         "0.0",
         "0.0",
         "0.0",
         "0.32352941176470584",
         "0.05005147137126832",
         "0.03835021707670043",
         "0.1935483870967742"
        ],
        [
         "29",
         "0.0",
         "0.0",
         "1.0",
         "0.0",
         "1.0",
         "0.0",
         "0.0",
         "0.0",
         "0.16176470588235292",
         "0.04351993184480494",
         "0.144356005788712",
         "0.16129032258064516"
        ],
        [
         "30",
         "1.0",
         "0.0",
         "0.0",
         "0.0",
         "1.0",
         "0.0",
         "0.0",
         "0.0",
         "0.23529411764705876",
         "0.048205601505093884",
         "0.20188133140376266",
         "0.0"
        ],
        [
         "31",
         "0.0",
         "1.0",
         "0.0",
         "0.0",
         "1.0",
         "0.0",
         "0.0",
         "1.0",
         "0.32352941176470584",
         "0.2574278513364808",
         "0.10672937771345875",
         "0.16129032258064516"
        ],
        [
         "32",
         "1.0",
         "0.0",
         "0.0",
         "0.0",
         "0.0",
         "1.0",
         "0.0",
         "0.0",
         "0.8529411764705882",
         "0.04280998189627631",
         "0.3046309696092619",
         "0.0"
        ],
        [
         "33",
         "0.0",
         "1.0",
         "0.0",
         "0.0",
         "1.0",
         "0.0",
         "0.0",
         "0.0",
         "0.22058823529411764",
         "0.03390011004224202",
         "0.23010130246020258",
         "0.0"
        ],
        [
         "34",
         "0.0",
         "0.0",
         "1.0",
         "0.0",
         "1.0",
         "0.0",
         "0.0",
         "0.0",
         "0.27941176470588236",
         "0.035852472400695744",
         "0.019898697539797394",
         "0.0"
        ],
        [
         "35",
         "0.0",
         "0.0",
         "1.0",
         "0.0",
         "0.0",
         "1.0",
         "0.0",
         "0.0",
         "0.47058823529411764",
         "0.053352738631926445",
         "0.14833574529667148",
         "0.0967741935483871"
        ],
        [
         "36",
         "0.0",
         "1.0",
         "0.0",
         "0.0",
         "1.0",
         "0.0",
         "0.0",
         "0.0",
         "0.11764705882352938",
         "0.05881935323559688",
         "0.23408104196816207",
         "0.0"
        ],
        [
         "37",
         "1.0",
         "0.0",
         "0.0",
         "0.0",
         "0.0",
         "1.0",
         "0.0",
         "0.0",
         "0.25",
         "0.07564516701572538",
         "0.11432706222865412",
         "0.06451612903225806"
        ],
        [
         "38",
         "1.0",
         "0.0",
         "0.0",
         "0.0",
         "0.0",
         "1.0",
         "0.0",
         "0.0",
         "0.22058823529411764",
         "0.08242518902417378",
         "0.01736613603473227",
         "0.12903225806451613"
        ],
        [
         "39",
         "1.0",
         "0.0",
         "0.0",
         "1.0",
         "0.0",
         "0.0",
         "0.0",
         "0.0",
         "0.25",
         "0.049093038940754674",
         "0.02098408104196816",
         "0.12903225806451613"
        ],
        [
         "40",
         "0.0",
         "1.0",
         "0.0",
         "0.0",
         "1.0",
         "0.0",
         "0.0",
         "0.0",
         "0.47058823529411764",
         "0.08075680664513152",
         "0.08755426917510853",
         "0.03225806451612903"
        ],
        [
         "41",
         "1.0",
         "0.0",
         "0.0",
         "0.0",
         "0.0",
         "1.0",
         "0.0",
         "0.0",
         "0.2647058823529411",
         "0.23289908061481662",
         "0.1667872648335745",
         "0.0967741935483871"
        ],
        [
         "42",
         "1.0",
         "0.0",
         "0.0",
         "1.0",
         "0.0",
         "0.0",
         "0.0",
         "1.0",
         "0.5294117647058824",
         "0.050938908806929105",
         "0.06150506512301013",
         "0.06451612903225806"
        ],
        [
         "43",
         "1.0",
         "0.0",
         "0.0",
         "0.0",
         "1.0",
         "0.0",
         "0.0",
         "0.0",
         "0.20588235294117646",
         "0.05044194384295907",
         "0.19464544138929088",
         "0.3548387096774194"
        ],
        [
         "44",
         "0.0",
         "0.0",
         "1.0",
         "0.0",
         "1.0",
         "0.0",
         "0.0",
         "0.0",
         "0.3088235294117647",
         "0.41120301018778177",
         "0.1874095513748191",
         "0.06451612903225806"
        ],
        [
         "45",
         "1.0",
         "0.0",
         "0.0",
         "1.0",
         "0.0",
         "0.0",
         "0.0",
         "1.0",
         "0.22058823529411764",
         "0.05526960349295374",
         "0.11613603473227206",
         "0.32258064516129037"
        ],
        [
         "46",
         "1.0",
         "0.0",
         "0.0",
         "1.0",
         "0.0",
         "0.0",
         "0.0",
         "0.0",
         "0.4411764705882353",
         "0.07944339924035354",
         "0.013024602026049202",
         "0.12903225806451613"
        ],
        [
         "47",
         "1.0",
         "0.0",
         "0.0",
         "0.0",
         "1.0",
         "0.0",
         "0.0",
         "0.0",
         "0.4411764705882353",
         "0.07202442227822937",
         "0.28039073806078146",
         "0.0967741935483871"
        ],
        [
         "48",
         "0.0",
         "0.0",
         "1.0",
         "0.0",
         "0.0",
         "1.0",
         "0.0",
         "0.0",
         "0.25",
         "0.09715665045614283",
         "0.027496382054992764",
         "0.06451612903225806"
        ],
        [
         "49",
         "1.0",
         "0.0",
         "0.0",
         "0.0",
         "0.0",
         "1.0",
         "0.0",
         "0.0",
         "0.5",
         "0.04334244435767278",
         "0.3314037626628075",
         "0.03225806451612903"
        ]
       ],
       "shape": {
        "columns": 12,
        "rows": 951
       }
      },
      "text/html": [
       "<div>\n",
       "<style scoped>\n",
       "    .dataframe tbody tr th:only-of-type {\n",
       "        vertical-align: middle;\n",
       "    }\n",
       "\n",
       "    .dataframe tbody tr th {\n",
       "        vertical-align: top;\n",
       "    }\n",
       "\n",
       "    .dataframe thead th {\n",
       "        text-align: right;\n",
       "    }\n",
       "</style>\n",
       "<table border=\"1\" class=\"dataframe\">\n",
       "  <thead>\n",
       "    <tr style=\"text-align: right;\">\n",
       "      <th></th>\n",
       "      <th>0</th>\n",
       "      <th>1</th>\n",
       "      <th>2</th>\n",
       "      <th>3</th>\n",
       "      <th>4</th>\n",
       "      <th>5</th>\n",
       "      <th>6</th>\n",
       "      <th>7</th>\n",
       "      <th>8</th>\n",
       "      <th>9</th>\n",
       "      <th>10</th>\n",
       "      <th>11</th>\n",
       "    </tr>\n",
       "  </thead>\n",
       "  <tbody>\n",
       "    <tr>\n",
       "      <th>0</th>\n",
       "      <td>1.0</td>\n",
       "      <td>0.0</td>\n",
       "      <td>0.0</td>\n",
       "      <td>0.0</td>\n",
       "      <td>0.0</td>\n",
       "      <td>1.0</td>\n",
       "      <td>0.0</td>\n",
       "      <td>0.0</td>\n",
       "      <td>0.205882</td>\n",
       "      <td>0.065564</td>\n",
       "      <td>0.123734</td>\n",
       "      <td>0.032258</td>\n",
       "    </tr>\n",
       "    <tr>\n",
       "      <th>1</th>\n",
       "      <td>0.0</td>\n",
       "      <td>1.0</td>\n",
       "      <td>0.0</td>\n",
       "      <td>0.0</td>\n",
       "      <td>1.0</td>\n",
       "      <td>0.0</td>\n",
       "      <td>0.0</td>\n",
       "      <td>0.0</td>\n",
       "      <td>0.147059</td>\n",
       "      <td>0.045792</td>\n",
       "      <td>0.396527</td>\n",
       "      <td>0.032258</td>\n",
       "    </tr>\n",
       "    <tr>\n",
       "      <th>2</th>\n",
       "      <td>0.0</td>\n",
       "      <td>1.0</td>\n",
       "      <td>0.0</td>\n",
       "      <td>0.0</td>\n",
       "      <td>1.0</td>\n",
       "      <td>0.0</td>\n",
       "      <td>0.0</td>\n",
       "      <td>0.0</td>\n",
       "      <td>0.338235</td>\n",
       "      <td>0.076036</td>\n",
       "      <td>0.335022</td>\n",
       "      <td>0.000000</td>\n",
       "    </tr>\n",
       "    <tr>\n",
       "      <th>3</th>\n",
       "      <td>1.0</td>\n",
       "      <td>0.0</td>\n",
       "      <td>0.0</td>\n",
       "      <td>1.0</td>\n",
       "      <td>0.0</td>\n",
       "      <td>0.0</td>\n",
       "      <td>0.0</td>\n",
       "      <td>0.0</td>\n",
       "      <td>0.573529</td>\n",
       "      <td>0.062866</td>\n",
       "      <td>0.315123</td>\n",
       "      <td>0.000000</td>\n",
       "    </tr>\n",
       "    <tr>\n",
       "      <th>4</th>\n",
       "      <td>0.0</td>\n",
       "      <td>1.0</td>\n",
       "      <td>0.0</td>\n",
       "      <td>0.0</td>\n",
       "      <td>1.0</td>\n",
       "      <td>0.0</td>\n",
       "      <td>0.0</td>\n",
       "      <td>0.0</td>\n",
       "      <td>0.338235</td>\n",
       "      <td>0.148380</td>\n",
       "      <td>0.065847</td>\n",
       "      <td>0.129032</td>\n",
       "    </tr>\n",
       "    <tr>\n",
       "      <th>...</th>\n",
       "      <td>...</td>\n",
       "      <td>...</td>\n",
       "      <td>...</td>\n",
       "      <td>...</td>\n",
       "      <td>...</td>\n",
       "      <td>...</td>\n",
       "      <td>...</td>\n",
       "      <td>...</td>\n",
       "      <td>...</td>\n",
       "      <td>...</td>\n",
       "      <td>...</td>\n",
       "      <td>...</td>\n",
       "    </tr>\n",
       "    <tr>\n",
       "      <th>946</th>\n",
       "      <td>0.0</td>\n",
       "      <td>0.0</td>\n",
       "      <td>1.0</td>\n",
       "      <td>0.0</td>\n",
       "      <td>0.0</td>\n",
       "      <td>1.0</td>\n",
       "      <td>0.0</td>\n",
       "      <td>0.0</td>\n",
       "      <td>0.191176</td>\n",
       "      <td>0.044265</td>\n",
       "      <td>0.246382</td>\n",
       "      <td>0.129032</td>\n",
       "    </tr>\n",
       "    <tr>\n",
       "      <th>947</th>\n",
       "      <td>0.0</td>\n",
       "      <td>0.0</td>\n",
       "      <td>1.0</td>\n",
       "      <td>0.0</td>\n",
       "      <td>1.0</td>\n",
       "      <td>0.0</td>\n",
       "      <td>0.0</td>\n",
       "      <td>0.0</td>\n",
       "      <td>0.205882</td>\n",
       "      <td>0.028043</td>\n",
       "      <td>0.275687</td>\n",
       "      <td>0.032258</td>\n",
       "    </tr>\n",
       "    <tr>\n",
       "      <th>948</th>\n",
       "      <td>1.0</td>\n",
       "      <td>0.0</td>\n",
       "      <td>0.0</td>\n",
       "      <td>1.0</td>\n",
       "      <td>0.0</td>\n",
       "      <td>0.0</td>\n",
       "      <td>0.0</td>\n",
       "      <td>0.0</td>\n",
       "      <td>0.323529</td>\n",
       "      <td>0.042952</td>\n",
       "      <td>0.024964</td>\n",
       "      <td>0.129032</td>\n",
       "    </tr>\n",
       "    <tr>\n",
       "      <th>949</th>\n",
       "      <td>1.0</td>\n",
       "      <td>0.0</td>\n",
       "      <td>0.0</td>\n",
       "      <td>0.0</td>\n",
       "      <td>1.0</td>\n",
       "      <td>0.0</td>\n",
       "      <td>0.0</td>\n",
       "      <td>1.0</td>\n",
       "      <td>0.176471</td>\n",
       "      <td>0.042810</td>\n",
       "      <td>0.023878</td>\n",
       "      <td>0.000000</td>\n",
       "    </tr>\n",
       "    <tr>\n",
       "      <th>950</th>\n",
       "      <td>0.0</td>\n",
       "      <td>0.0</td>\n",
       "      <td>1.0</td>\n",
       "      <td>0.0</td>\n",
       "      <td>0.0</td>\n",
       "      <td>1.0</td>\n",
       "      <td>0.0</td>\n",
       "      <td>0.0</td>\n",
       "      <td>0.294118</td>\n",
       "      <td>0.248802</td>\n",
       "      <td>0.028220</td>\n",
       "      <td>0.064516</td>\n",
       "    </tr>\n",
       "  </tbody>\n",
       "</table>\n",
       "<p>951 rows × 12 columns</p>\n",
       "</div>"
      ],
      "text/plain": [
       "      0    1    2    3    4    5    6    7         8         9         10  \\\n",
       "0    1.0  0.0  0.0  0.0  0.0  1.0  0.0  0.0  0.205882  0.065564  0.123734   \n",
       "1    0.0  1.0  0.0  0.0  1.0  0.0  0.0  0.0  0.147059  0.045792  0.396527   \n",
       "2    0.0  1.0  0.0  0.0  1.0  0.0  0.0  0.0  0.338235  0.076036  0.335022   \n",
       "3    1.0  0.0  0.0  1.0  0.0  0.0  0.0  0.0  0.573529  0.062866  0.315123   \n",
       "4    0.0  1.0  0.0  0.0  1.0  0.0  0.0  0.0  0.338235  0.148380  0.065847   \n",
       "..   ...  ...  ...  ...  ...  ...  ...  ...       ...       ...       ...   \n",
       "946  0.0  0.0  1.0  0.0  0.0  1.0  0.0  0.0  0.191176  0.044265  0.246382   \n",
       "947  0.0  0.0  1.0  0.0  1.0  0.0  0.0  0.0  0.205882  0.028043  0.275687   \n",
       "948  1.0  0.0  0.0  1.0  0.0  0.0  0.0  0.0  0.323529  0.042952  0.024964   \n",
       "949  1.0  0.0  0.0  0.0  1.0  0.0  0.0  1.0  0.176471  0.042810  0.023878   \n",
       "950  0.0  0.0  1.0  0.0  0.0  1.0  0.0  0.0  0.294118  0.248802  0.028220   \n",
       "\n",
       "           11  \n",
       "0    0.032258  \n",
       "1    0.032258  \n",
       "2    0.000000  \n",
       "3    0.000000  \n",
       "4    0.129032  \n",
       "..        ...  \n",
       "946  0.129032  \n",
       "947  0.032258  \n",
       "948  0.129032  \n",
       "949  0.000000  \n",
       "950  0.064516  \n",
       "\n",
       "[951 rows x 12 columns]"
      ]
     },
     "execution_count": 50,
     "metadata": {},
     "output_type": "execute_result"
    }
   ],
   "source": [
    "pd.DataFrame(x_treino_normalizado)"
   ]
  },
  {
   "cell_type": "markdown",
   "metadata": {},
   "source": [
    "### Módulo 4 - Seleção de Modelos - Aula 4 - Utilizando KNN"
   ]
  },
  {
   "cell_type": "markdown",
   "metadata": {},
   "source": [
    "Já temos os nossos dados normalizados nas variáveis explicativas em uma escala entre 0 e 1. Com isso, podemos utilizar o algoritmo KNN, porque não haverá mais o problema da escala das variáveis interferir na escolha do cálculo de distância. Como todas as variáveis estão entre 0 e 1, não haverá esse peso maior para as variáveis que têm valores maiores.\n",
    "\n",
    "O nome dele, KNN, significa K-Nearest Neighbors, ou os \"vizinhos mais próximos\". É justamente aquela ideia de o algoritmo calcular a distância dos elementos para os outros elementos e verificar nos vizinhos mais próximos, ou seja, aqueles que têm distância menor. Depois, avaliará quais são as classificações, a resposta real daqueles registros. E a partir deles, aqueles que tiverem a maioria comparada, será a classificação daquele registro que está sendo comparado."
   ]
  },
  {
   "cell_type": "code",
   "execution_count": 51,
   "metadata": {},
   "outputs": [],
   "source": [
    "from sklearn.neighbors import KNeighborsClassifier"
   ]
  },
  {
   "cell_type": "code",
   "execution_count": 52,
   "metadata": {},
   "outputs": [],
   "source": [
    "knn = KNeighborsClassifier()"
   ]
  },
  {
   "cell_type": "code",
   "execution_count": 53,
   "metadata": {},
   "outputs": [
    {
     "data": {
      "text/html": [
       "<style>#sk-container-id-3 {\n",
       "  /* Definition of color scheme common for light and dark mode */\n",
       "  --sklearn-color-text: #000;\n",
       "  --sklearn-color-text-muted: #666;\n",
       "  --sklearn-color-line: gray;\n",
       "  /* Definition of color scheme for unfitted estimators */\n",
       "  --sklearn-color-unfitted-level-0: #fff5e6;\n",
       "  --sklearn-color-unfitted-level-1: #f6e4d2;\n",
       "  --sklearn-color-unfitted-level-2: #ffe0b3;\n",
       "  --sklearn-color-unfitted-level-3: chocolate;\n",
       "  /* Definition of color scheme for fitted estimators */\n",
       "  --sklearn-color-fitted-level-0: #f0f8ff;\n",
       "  --sklearn-color-fitted-level-1: #d4ebff;\n",
       "  --sklearn-color-fitted-level-2: #b3dbfd;\n",
       "  --sklearn-color-fitted-level-3: cornflowerblue;\n",
       "\n",
       "  /* Specific color for light theme */\n",
       "  --sklearn-color-text-on-default-background: var(--sg-text-color, var(--theme-code-foreground, var(--jp-content-font-color1, black)));\n",
       "  --sklearn-color-background: var(--sg-background-color, var(--theme-background, var(--jp-layout-color0, white)));\n",
       "  --sklearn-color-border-box: var(--sg-text-color, var(--theme-code-foreground, var(--jp-content-font-color1, black)));\n",
       "  --sklearn-color-icon: #696969;\n",
       "\n",
       "  @media (prefers-color-scheme: dark) {\n",
       "    /* Redefinition of color scheme for dark theme */\n",
       "    --sklearn-color-text-on-default-background: var(--sg-text-color, var(--theme-code-foreground, var(--jp-content-font-color1, white)));\n",
       "    --sklearn-color-background: var(--sg-background-color, var(--theme-background, var(--jp-layout-color0, #111)));\n",
       "    --sklearn-color-border-box: var(--sg-text-color, var(--theme-code-foreground, var(--jp-content-font-color1, white)));\n",
       "    --sklearn-color-icon: #878787;\n",
       "  }\n",
       "}\n",
       "\n",
       "#sk-container-id-3 {\n",
       "  color: var(--sklearn-color-text);\n",
       "}\n",
       "\n",
       "#sk-container-id-3 pre {\n",
       "  padding: 0;\n",
       "}\n",
       "\n",
       "#sk-container-id-3 input.sk-hidden--visually {\n",
       "  border: 0;\n",
       "  clip: rect(1px 1px 1px 1px);\n",
       "  clip: rect(1px, 1px, 1px, 1px);\n",
       "  height: 1px;\n",
       "  margin: -1px;\n",
       "  overflow: hidden;\n",
       "  padding: 0;\n",
       "  position: absolute;\n",
       "  width: 1px;\n",
       "}\n",
       "\n",
       "#sk-container-id-3 div.sk-dashed-wrapped {\n",
       "  border: 1px dashed var(--sklearn-color-line);\n",
       "  margin: 0 0.4em 0.5em 0.4em;\n",
       "  box-sizing: border-box;\n",
       "  padding-bottom: 0.4em;\n",
       "  background-color: var(--sklearn-color-background);\n",
       "}\n",
       "\n",
       "#sk-container-id-3 div.sk-container {\n",
       "  /* jupyter's `normalize.less` sets `[hidden] { display: none; }`\n",
       "     but bootstrap.min.css set `[hidden] { display: none !important; }`\n",
       "     so we also need the `!important` here to be able to override the\n",
       "     default hidden behavior on the sphinx rendered scikit-learn.org.\n",
       "     See: https://github.com/scikit-learn/scikit-learn/issues/21755 */\n",
       "  display: inline-block !important;\n",
       "  position: relative;\n",
       "}\n",
       "\n",
       "#sk-container-id-3 div.sk-text-repr-fallback {\n",
       "  display: none;\n",
       "}\n",
       "\n",
       "div.sk-parallel-item,\n",
       "div.sk-serial,\n",
       "div.sk-item {\n",
       "  /* draw centered vertical line to link estimators */\n",
       "  background-image: linear-gradient(var(--sklearn-color-text-on-default-background), var(--sklearn-color-text-on-default-background));\n",
       "  background-size: 2px 100%;\n",
       "  background-repeat: no-repeat;\n",
       "  background-position: center center;\n",
       "}\n",
       "\n",
       "/* Parallel-specific style estimator block */\n",
       "\n",
       "#sk-container-id-3 div.sk-parallel-item::after {\n",
       "  content: \"\";\n",
       "  width: 100%;\n",
       "  border-bottom: 2px solid var(--sklearn-color-text-on-default-background);\n",
       "  flex-grow: 1;\n",
       "}\n",
       "\n",
       "#sk-container-id-3 div.sk-parallel {\n",
       "  display: flex;\n",
       "  align-items: stretch;\n",
       "  justify-content: center;\n",
       "  background-color: var(--sklearn-color-background);\n",
       "  position: relative;\n",
       "}\n",
       "\n",
       "#sk-container-id-3 div.sk-parallel-item {\n",
       "  display: flex;\n",
       "  flex-direction: column;\n",
       "}\n",
       "\n",
       "#sk-container-id-3 div.sk-parallel-item:first-child::after {\n",
       "  align-self: flex-end;\n",
       "  width: 50%;\n",
       "}\n",
       "\n",
       "#sk-container-id-3 div.sk-parallel-item:last-child::after {\n",
       "  align-self: flex-start;\n",
       "  width: 50%;\n",
       "}\n",
       "\n",
       "#sk-container-id-3 div.sk-parallel-item:only-child::after {\n",
       "  width: 0;\n",
       "}\n",
       "\n",
       "/* Serial-specific style estimator block */\n",
       "\n",
       "#sk-container-id-3 div.sk-serial {\n",
       "  display: flex;\n",
       "  flex-direction: column;\n",
       "  align-items: center;\n",
       "  background-color: var(--sklearn-color-background);\n",
       "  padding-right: 1em;\n",
       "  padding-left: 1em;\n",
       "}\n",
       "\n",
       "\n",
       "/* Toggleable style: style used for estimator/Pipeline/ColumnTransformer box that is\n",
       "clickable and can be expanded/collapsed.\n",
       "- Pipeline and ColumnTransformer use this feature and define the default style\n",
       "- Estimators will overwrite some part of the style using the `sk-estimator` class\n",
       "*/\n",
       "\n",
       "/* Pipeline and ColumnTransformer style (default) */\n",
       "\n",
       "#sk-container-id-3 div.sk-toggleable {\n",
       "  /* Default theme specific background. It is overwritten whether we have a\n",
       "  specific estimator or a Pipeline/ColumnTransformer */\n",
       "  background-color: var(--sklearn-color-background);\n",
       "}\n",
       "\n",
       "/* Toggleable label */\n",
       "#sk-container-id-3 label.sk-toggleable__label {\n",
       "  cursor: pointer;\n",
       "  display: flex;\n",
       "  width: 100%;\n",
       "  margin-bottom: 0;\n",
       "  padding: 0.5em;\n",
       "  box-sizing: border-box;\n",
       "  text-align: center;\n",
       "  align-items: start;\n",
       "  justify-content: space-between;\n",
       "  gap: 0.5em;\n",
       "}\n",
       "\n",
       "#sk-container-id-3 label.sk-toggleable__label .caption {\n",
       "  font-size: 0.6rem;\n",
       "  font-weight: lighter;\n",
       "  color: var(--sklearn-color-text-muted);\n",
       "}\n",
       "\n",
       "#sk-container-id-3 label.sk-toggleable__label-arrow:before {\n",
       "  /* Arrow on the left of the label */\n",
       "  content: \"▸\";\n",
       "  float: left;\n",
       "  margin-right: 0.25em;\n",
       "  color: var(--sklearn-color-icon);\n",
       "}\n",
       "\n",
       "#sk-container-id-3 label.sk-toggleable__label-arrow:hover:before {\n",
       "  color: var(--sklearn-color-text);\n",
       "}\n",
       "\n",
       "/* Toggleable content - dropdown */\n",
       "\n",
       "#sk-container-id-3 div.sk-toggleable__content {\n",
       "  max-height: 0;\n",
       "  max-width: 0;\n",
       "  overflow: hidden;\n",
       "  text-align: left;\n",
       "  /* unfitted */\n",
       "  background-color: var(--sklearn-color-unfitted-level-0);\n",
       "}\n",
       "\n",
       "#sk-container-id-3 div.sk-toggleable__content.fitted {\n",
       "  /* fitted */\n",
       "  background-color: var(--sklearn-color-fitted-level-0);\n",
       "}\n",
       "\n",
       "#sk-container-id-3 div.sk-toggleable__content pre {\n",
       "  margin: 0.2em;\n",
       "  border-radius: 0.25em;\n",
       "  color: var(--sklearn-color-text);\n",
       "  /* unfitted */\n",
       "  background-color: var(--sklearn-color-unfitted-level-0);\n",
       "}\n",
       "\n",
       "#sk-container-id-3 div.sk-toggleable__content.fitted pre {\n",
       "  /* unfitted */\n",
       "  background-color: var(--sklearn-color-fitted-level-0);\n",
       "}\n",
       "\n",
       "#sk-container-id-3 input.sk-toggleable__control:checked~div.sk-toggleable__content {\n",
       "  /* Expand drop-down */\n",
       "  max-height: 200px;\n",
       "  max-width: 100%;\n",
       "  overflow: auto;\n",
       "}\n",
       "\n",
       "#sk-container-id-3 input.sk-toggleable__control:checked~label.sk-toggleable__label-arrow:before {\n",
       "  content: \"▾\";\n",
       "}\n",
       "\n",
       "/* Pipeline/ColumnTransformer-specific style */\n",
       "\n",
       "#sk-container-id-3 div.sk-label input.sk-toggleable__control:checked~label.sk-toggleable__label {\n",
       "  color: var(--sklearn-color-text);\n",
       "  background-color: var(--sklearn-color-unfitted-level-2);\n",
       "}\n",
       "\n",
       "#sk-container-id-3 div.sk-label.fitted input.sk-toggleable__control:checked~label.sk-toggleable__label {\n",
       "  background-color: var(--sklearn-color-fitted-level-2);\n",
       "}\n",
       "\n",
       "/* Estimator-specific style */\n",
       "\n",
       "/* Colorize estimator box */\n",
       "#sk-container-id-3 div.sk-estimator input.sk-toggleable__control:checked~label.sk-toggleable__label {\n",
       "  /* unfitted */\n",
       "  background-color: var(--sklearn-color-unfitted-level-2);\n",
       "}\n",
       "\n",
       "#sk-container-id-3 div.sk-estimator.fitted input.sk-toggleable__control:checked~label.sk-toggleable__label {\n",
       "  /* fitted */\n",
       "  background-color: var(--sklearn-color-fitted-level-2);\n",
       "}\n",
       "\n",
       "#sk-container-id-3 div.sk-label label.sk-toggleable__label,\n",
       "#sk-container-id-3 div.sk-label label {\n",
       "  /* The background is the default theme color */\n",
       "  color: var(--sklearn-color-text-on-default-background);\n",
       "}\n",
       "\n",
       "/* On hover, darken the color of the background */\n",
       "#sk-container-id-3 div.sk-label:hover label.sk-toggleable__label {\n",
       "  color: var(--sklearn-color-text);\n",
       "  background-color: var(--sklearn-color-unfitted-level-2);\n",
       "}\n",
       "\n",
       "/* Label box, darken color on hover, fitted */\n",
       "#sk-container-id-3 div.sk-label.fitted:hover label.sk-toggleable__label.fitted {\n",
       "  color: var(--sklearn-color-text);\n",
       "  background-color: var(--sklearn-color-fitted-level-2);\n",
       "}\n",
       "\n",
       "/* Estimator label */\n",
       "\n",
       "#sk-container-id-3 div.sk-label label {\n",
       "  font-family: monospace;\n",
       "  font-weight: bold;\n",
       "  display: inline-block;\n",
       "  line-height: 1.2em;\n",
       "}\n",
       "\n",
       "#sk-container-id-3 div.sk-label-container {\n",
       "  text-align: center;\n",
       "}\n",
       "\n",
       "/* Estimator-specific */\n",
       "#sk-container-id-3 div.sk-estimator {\n",
       "  font-family: monospace;\n",
       "  border: 1px dotted var(--sklearn-color-border-box);\n",
       "  border-radius: 0.25em;\n",
       "  box-sizing: border-box;\n",
       "  margin-bottom: 0.5em;\n",
       "  /* unfitted */\n",
       "  background-color: var(--sklearn-color-unfitted-level-0);\n",
       "}\n",
       "\n",
       "#sk-container-id-3 div.sk-estimator.fitted {\n",
       "  /* fitted */\n",
       "  background-color: var(--sklearn-color-fitted-level-0);\n",
       "}\n",
       "\n",
       "/* on hover */\n",
       "#sk-container-id-3 div.sk-estimator:hover {\n",
       "  /* unfitted */\n",
       "  background-color: var(--sklearn-color-unfitted-level-2);\n",
       "}\n",
       "\n",
       "#sk-container-id-3 div.sk-estimator.fitted:hover {\n",
       "  /* fitted */\n",
       "  background-color: var(--sklearn-color-fitted-level-2);\n",
       "}\n",
       "\n",
       "/* Specification for estimator info (e.g. \"i\" and \"?\") */\n",
       "\n",
       "/* Common style for \"i\" and \"?\" */\n",
       "\n",
       ".sk-estimator-doc-link,\n",
       "a:link.sk-estimator-doc-link,\n",
       "a:visited.sk-estimator-doc-link {\n",
       "  float: right;\n",
       "  font-size: smaller;\n",
       "  line-height: 1em;\n",
       "  font-family: monospace;\n",
       "  background-color: var(--sklearn-color-background);\n",
       "  border-radius: 1em;\n",
       "  height: 1em;\n",
       "  width: 1em;\n",
       "  text-decoration: none !important;\n",
       "  margin-left: 0.5em;\n",
       "  text-align: center;\n",
       "  /* unfitted */\n",
       "  border: var(--sklearn-color-unfitted-level-1) 1pt solid;\n",
       "  color: var(--sklearn-color-unfitted-level-1);\n",
       "}\n",
       "\n",
       ".sk-estimator-doc-link.fitted,\n",
       "a:link.sk-estimator-doc-link.fitted,\n",
       "a:visited.sk-estimator-doc-link.fitted {\n",
       "  /* fitted */\n",
       "  border: var(--sklearn-color-fitted-level-1) 1pt solid;\n",
       "  color: var(--sklearn-color-fitted-level-1);\n",
       "}\n",
       "\n",
       "/* On hover */\n",
       "div.sk-estimator:hover .sk-estimator-doc-link:hover,\n",
       ".sk-estimator-doc-link:hover,\n",
       "div.sk-label-container:hover .sk-estimator-doc-link:hover,\n",
       ".sk-estimator-doc-link:hover {\n",
       "  /* unfitted */\n",
       "  background-color: var(--sklearn-color-unfitted-level-3);\n",
       "  color: var(--sklearn-color-background);\n",
       "  text-decoration: none;\n",
       "}\n",
       "\n",
       "div.sk-estimator.fitted:hover .sk-estimator-doc-link.fitted:hover,\n",
       ".sk-estimator-doc-link.fitted:hover,\n",
       "div.sk-label-container:hover .sk-estimator-doc-link.fitted:hover,\n",
       ".sk-estimator-doc-link.fitted:hover {\n",
       "  /* fitted */\n",
       "  background-color: var(--sklearn-color-fitted-level-3);\n",
       "  color: var(--sklearn-color-background);\n",
       "  text-decoration: none;\n",
       "}\n",
       "\n",
       "/* Span, style for the box shown on hovering the info icon */\n",
       ".sk-estimator-doc-link span {\n",
       "  display: none;\n",
       "  z-index: 9999;\n",
       "  position: relative;\n",
       "  font-weight: normal;\n",
       "  right: .2ex;\n",
       "  padding: .5ex;\n",
       "  margin: .5ex;\n",
       "  width: min-content;\n",
       "  min-width: 20ex;\n",
       "  max-width: 50ex;\n",
       "  color: var(--sklearn-color-text);\n",
       "  box-shadow: 2pt 2pt 4pt #999;\n",
       "  /* unfitted */\n",
       "  background: var(--sklearn-color-unfitted-level-0);\n",
       "  border: .5pt solid var(--sklearn-color-unfitted-level-3);\n",
       "}\n",
       "\n",
       ".sk-estimator-doc-link.fitted span {\n",
       "  /* fitted */\n",
       "  background: var(--sklearn-color-fitted-level-0);\n",
       "  border: var(--sklearn-color-fitted-level-3);\n",
       "}\n",
       "\n",
       ".sk-estimator-doc-link:hover span {\n",
       "  display: block;\n",
       "}\n",
       "\n",
       "/* \"?\"-specific style due to the `<a>` HTML tag */\n",
       "\n",
       "#sk-container-id-3 a.estimator_doc_link {\n",
       "  float: right;\n",
       "  font-size: 1rem;\n",
       "  line-height: 1em;\n",
       "  font-family: monospace;\n",
       "  background-color: var(--sklearn-color-background);\n",
       "  border-radius: 1rem;\n",
       "  height: 1rem;\n",
       "  width: 1rem;\n",
       "  text-decoration: none;\n",
       "  /* unfitted */\n",
       "  color: var(--sklearn-color-unfitted-level-1);\n",
       "  border: var(--sklearn-color-unfitted-level-1) 1pt solid;\n",
       "}\n",
       "\n",
       "#sk-container-id-3 a.estimator_doc_link.fitted {\n",
       "  /* fitted */\n",
       "  border: var(--sklearn-color-fitted-level-1) 1pt solid;\n",
       "  color: var(--sklearn-color-fitted-level-1);\n",
       "}\n",
       "\n",
       "/* On hover */\n",
       "#sk-container-id-3 a.estimator_doc_link:hover {\n",
       "  /* unfitted */\n",
       "  background-color: var(--sklearn-color-unfitted-level-3);\n",
       "  color: var(--sklearn-color-background);\n",
       "  text-decoration: none;\n",
       "}\n",
       "\n",
       "#sk-container-id-3 a.estimator_doc_link.fitted:hover {\n",
       "  /* fitted */\n",
       "  background-color: var(--sklearn-color-fitted-level-3);\n",
       "}\n",
       "</style><div id=\"sk-container-id-3\" class=\"sk-top-container\"><div class=\"sk-text-repr-fallback\"><pre>KNeighborsClassifier()</pre><b>In a Jupyter environment, please rerun this cell to show the HTML representation or trust the notebook. <br />On GitHub, the HTML representation is unable to render, please try loading this page with nbviewer.org.</b></div><div class=\"sk-container\" hidden><div class=\"sk-item\"><div class=\"sk-estimator fitted sk-toggleable\"><input class=\"sk-toggleable__control sk-hidden--visually\" id=\"sk-estimator-id-3\" type=\"checkbox\" checked><label for=\"sk-estimator-id-3\" class=\"sk-toggleable__label fitted sk-toggleable__label-arrow\"><div><div>KNeighborsClassifier</div></div><div><a class=\"sk-estimator-doc-link fitted\" rel=\"noreferrer\" target=\"_blank\" href=\"https://scikit-learn.org/1.6/modules/generated/sklearn.neighbors.KNeighborsClassifier.html\">?<span>Documentation for KNeighborsClassifier</span></a><span class=\"sk-estimator-doc-link fitted\">i<span>Fitted</span></span></div></label><div class=\"sk-toggleable__content fitted\"><pre>KNeighborsClassifier()</pre></div> </div></div></div></div>"
      ],
      "text/plain": [
       "KNeighborsClassifier()"
      ]
     },
     "execution_count": 53,
     "metadata": {},
     "output_type": "execute_result"
    }
   ],
   "source": [
    "knn.fit(x_treino_normalizado, y_treino)"
   ]
  },
  {
   "cell_type": "code",
   "execution_count": 54,
   "metadata": {},
   "outputs": [],
   "source": [
    "x_teste_normalizado = normalizacao.transform(x_teste)"
   ]
  },
  {
   "cell_type": "code",
   "execution_count": 55,
   "metadata": {},
   "outputs": [
    {
     "data": {
      "text/plain": [
       "0.6876971608832808"
      ]
     },
     "execution_count": 55,
     "metadata": {},
     "output_type": "execute_result"
    }
   ],
   "source": [
    "knn.score(x_teste_normalizado, y_teste)"
   ]
  },
  {
   "cell_type": "code",
   "execution_count": null,
   "metadata": {},
   "outputs": [],
   "source": []
  }
 ],
 "metadata": {
  "colab": {
   "authorship_tag": "ABX9TyP1yoP194/rZdhdT7Pux8ir",
   "provenance": [],
   "toc_visible": true
  },
  "kernelspec": {
   "display_name": "Python 3",
   "name": "python3"
  },
  "language_info": {
   "codemirror_mode": {
    "name": "ipython",
    "version": 3
   },
   "file_extension": ".py",
   "mimetype": "text/x-python",
   "name": "python",
   "nbconvert_exporter": "python",
   "pygments_lexer": "ipython3",
   "version": "3.13.3"
  }
 },
 "nbformat": 4,
 "nbformat_minor": 0
}
