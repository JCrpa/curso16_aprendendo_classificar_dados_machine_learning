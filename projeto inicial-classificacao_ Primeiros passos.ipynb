{
 "cells": [
  {
   "cell_type": "markdown",
   "metadata": {
    "id": "MJ3tSbLsBPhe"
   },
   "source": [
    "# Classificação: Primeiros passos"
   ]
  },
  {
   "cell_type": "markdown",
   "metadata": {
    "id": "CYC5vst2FcaG"
   },
   "source": [
    "Neste projeto, iremos analisar dados de uma campanha de marketing para aderência de investimentos. O intuito é usar as informações dos dados para prever se os clientes de um banco vão aplicar o dinheiro em um investimento ou não.\n",
    "\n",
    "Essa previsão será feita utilizando machine learning e este notebook vai conter os passos para se obter um modelo capaz de realizar as previsões, desde a **leitura**, **análise exploratória**, **separação** e **transformação** dos dados, até o **ajuste**, **avaliação** e **comparação** de modelos de classificação."
   ]
  },
  {
   "cell_type": "markdown",
   "metadata": {
    "id": "dr9I9xCXoICN"
   },
   "source": [
    "# Análise exploratória"
   ]
  },
  {
   "cell_type": "markdown",
   "metadata": {
    "id": "fwuPpdZOBTUn"
   },
   "source": [
    "## Fazendo a leitura dos dados"
   ]
  },
  {
   "cell_type": "markdown",
   "metadata": {
    "id": "YzOu8ojHPemt"
   },
   "source": [
    "Podemos realizar a leitura dos dados a partir da biblioteca `pandas`. Por conta disso, vamos realizar a importação da biblioteca com o comando `import pandas as pd`.\n",
    "\n",
    "Como o arquivo de dados está no formato *csv*, vamos realizar a leitura com a função [`read_csv()`](https://pandas.pydata.org/docs/reference/api/pandas.read_csv.html)."
   ]
  },
  {
   "cell_type": "code",
   "execution_count": 1,
   "metadata": {
    "id": "nPrDJYBKZbKW"
   },
   "outputs": [],
   "source": [
    "import pandas as pd"
   ]
  },
  {
   "cell_type": "code",
   "execution_count": 3,
   "metadata": {
    "id": "9h4YUPxyZuLf"
   },
   "outputs": [],
   "source": [
    "dados = pd.read_csv('C:\\\\Users\\\\joaoc\\\\OneDrive\\\\Documentos\\\\Aprendizado_ONE\\\\formacao-tech-foundation\\\\curso16_aprendendo_classificar_dados_machine_learning\\\\marketing_investimento.csv')"
   ]
  },
  {
   "cell_type": "code",
   "execution_count": 4,
   "metadata": {
    "id": "4uQHVCGlZxkL"
   },
   "outputs": [
    {
     "data": {
      "application/vnd.microsoft.datawrangler.viewer.v0+json": {
       "columns": [
        {
         "name": "index",
         "rawType": "int64",
         "type": "integer"
        },
        {
         "name": "idade",
         "rawType": "int64",
         "type": "integer"
        },
        {
         "name": "estado_civil",
         "rawType": "object",
         "type": "string"
        },
        {
         "name": "escolaridade",
         "rawType": "object",
         "type": "string"
        },
        {
         "name": "inadimplencia",
         "rawType": "object",
         "type": "string"
        },
        {
         "name": "saldo",
         "rawType": "int64",
         "type": "integer"
        },
        {
         "name": "fez_emprestimo",
         "rawType": "object",
         "type": "string"
        },
        {
         "name": "tempo_ult_contato",
         "rawType": "int64",
         "type": "integer"
        },
        {
         "name": "numero_contatos",
         "rawType": "int64",
         "type": "integer"
        },
        {
         "name": "aderencia_investimento",
         "rawType": "object",
         "type": "string"
        }
       ],
       "ref": "4d0ce11e-526d-40a2-8965-5f8e11366e2a",
       "rows": [
        [
         "0",
         "45",
         "casado (a)",
         "superior",
         "nao",
         "242",
         "nao",
         "587",
         "1",
         "sim"
        ],
        [
         "1",
         "42",
         "casado (a)",
         "medio",
         "nao",
         "1289",
         "nao",
         "250",
         "4",
         "sim"
        ],
        [
         "2",
         "23",
         "solteiro (a)",
         "superior",
         "nao",
         "363",
         "nao",
         "16",
         "18",
         "nao"
        ],
        [
         "3",
         "58",
         "divorciado (a)",
         "superior",
         "nao",
         "1382",
         "nao",
         "700",
         "1",
         "sim"
        ],
        [
         "4",
         "50",
         "casado (a)",
         "medio",
         "nao",
         "3357",
         "nao",
         "239",
         "4",
         "sim"
        ],
        [
         "5",
         "24",
         "solteiro (a)",
         "medio",
         "nao",
         "174",
         "sim",
         "487",
         "1",
         "sim"
        ],
        [
         "6",
         "53",
         "casado (a)",
         "superior",
         "nao",
         "4446",
         "nao",
         "429",
         "1",
         "nao"
        ],
        [
         "7",
         "30",
         "casado (a)",
         "medio",
         "nao",
         "946",
         "nao",
         "1065",
         "1",
         "nao"
        ],
        [
         "8",
         "39",
         "casado (a)",
         "fundamental",
         "nao",
         "879",
         "nao",
         "102",
         "2",
         "nao"
        ],
        [
         "9",
         "30",
         "divorciado (a)",
         "medio",
         "nao",
         "-94",
         "nao",
         "41",
         "2",
         "nao"
        ],
        [
         "10",
         "34",
         "solteiro (a)",
         "superior",
         "nao",
         "5086",
         "nao",
         "213",
         "4",
         "sim"
        ],
        [
         "11",
         "39",
         "casado (a)",
         "fundamental",
         "nao",
         "7685",
         "nao",
         "493",
         "3",
         "nao"
        ],
        [
         "12",
         "33",
         "casado (a)",
         "medio",
         "nao",
         "139",
         "sim",
         "732",
         "2",
         "sim"
        ],
        [
         "13",
         "34",
         "casado (a)",
         "superior",
         "nao",
         "1116",
         "nao",
         "53",
         "5",
         "nao"
        ],
        [
         "14",
         "38",
         "solteiro (a)",
         "superior",
         "nao",
         "0",
         "nao",
         "71",
         "1",
         "nao"
        ],
        [
         "15",
         "33",
         "divorciado (a)",
         "medio",
         "nao",
         "2411",
         "nao",
         "130",
         "1",
         "sim"
        ],
        [
         "16",
         "48",
         "casado (a)",
         "fundamental",
         "nao",
         "559",
         "nao",
         "1231",
         "2",
         "nao"
        ],
        [
         "17",
         "39",
         "casado (a)",
         "medio",
         "nao",
         "0",
         "nao",
         "793",
         "2",
         "nao"
        ],
        [
         "18",
         "53",
         "casado (a)",
         "medio",
         "nao",
         "70",
         "nao",
         "611",
         "2",
         "nao"
        ],
        [
         "19",
         "80",
         "casado (a)",
         "medio",
         "nao",
         "8304",
         "nao",
         "712",
         "1",
         "sim"
        ],
        [
         "20",
         "38",
         "divorciado (a)",
         "medio",
         "nao",
         "157",
         "nao",
         "299",
         "5",
         "nao"
        ],
        [
         "21",
         "24",
         "solteiro (a)",
         "medio",
         "nao",
         "-46",
         "nao",
         "23",
         "1",
         "nao"
        ],
        [
         "22",
         "44",
         "casado (a)",
         "medio",
         "nao",
         "10888",
         "nao",
         "163",
         "1",
         "nao"
        ],
        [
         "23",
         "46",
         "divorciado (a)",
         "superior",
         "nao",
         "624",
         "nao",
         "336",
         "2",
         "sim"
        ],
        [
         "24",
         "53",
         "casado (a)",
         "medio",
         "nao",
         "719",
         "nao",
         "230",
         "1",
         "nao"
        ],
        [
         "25",
         "30",
         "casado (a)",
         "superior",
         "nao",
         "102",
         "nao",
         "470",
         "7",
         "sim"
        ],
        [
         "26",
         "41",
         "casado (a)",
         "fundamental",
         "nao",
         "7735",
         "nao",
         "220",
         "1",
         "nao"
        ],
        [
         "27",
         "47",
         "solteiro (a)",
         "superior",
         "nao",
         "4402",
         "nao",
         "805",
         "1",
         "sim"
        ],
        [
         "28",
         "30",
         "solteiro (a)",
         "medio",
         "nao",
         "2145",
         "nao",
         "727",
         "2",
         "sim"
        ],
        [
         "29",
         "47",
         "casado (a)",
         "medio",
         "nao",
         "1167",
         "nao",
         "968",
         "1",
         "sim"
        ],
        [
         "30",
         "32",
         "solteiro (a)",
         "medio",
         "nao",
         "118",
         "nao",
         "1275",
         "1",
         "sim"
        ],
        [
         "31",
         "27",
         "casado (a)",
         "medio",
         "nao",
         "-247",
         "sim",
         "344",
         "2",
         "nao"
        ],
        [
         "32",
         "58",
         "solteiro (a)",
         "medio",
         "nao",
         "1640",
         "sim",
         "72",
         "6",
         "nao"
        ],
        [
         "33",
         "51",
         "casado (a)",
         "medio",
         "nao",
         "2662",
         "nao",
         "148",
         "2",
         "nao"
        ],
        [
         "34",
         "47",
         "casado (a)",
         "medio",
         "nao",
         "2246",
         "nao",
         "330",
         "1",
         "nao"
        ],
        [
         "35",
         "34",
         "casado (a)",
         "medio",
         "nao",
         "475",
         "nao",
         "559",
         "1",
         "nao"
        ],
        [
         "36",
         "40",
         "casado (a)",
         "superior",
         "nao",
         "1584",
         "nao",
         "661",
         "1",
         "nao"
        ],
        [
         "37",
         "44",
         "divorciado (a)",
         "medio",
         "nao",
         "0",
         "nao",
         "264",
         "5",
         "nao"
        ],
        [
         "38",
         "55",
         "divorciado (a)",
         "medio",
         "sim",
         "-404",
         "nao",
         "502",
         "3",
         "nao"
        ],
        [
         "39",
         "71",
         "casado (a)",
         "superior",
         "nao",
         "14220",
         "nao",
         "397",
         "1",
         "sim"
        ],
        [
         "40",
         "38",
         "casado (a)",
         "fundamental",
         "nao",
         "168",
         "sim",
         "212",
         "3",
         "nao"
        ],
        [
         "41",
         "38",
         "casado (a)",
         "superior",
         "nao",
         "12877",
         "nao",
         "118",
         "3",
         "nao"
        ],
        [
         "42",
         "54",
         "casado (a)",
         "superior",
         "nao",
         "98",
         "nao",
         "420",
         "4",
         "nao"
        ],
        [
         "43",
         "43",
         "casado (a)",
         "superior",
         "nao",
         "13342",
         "nao",
         "465",
         "1",
         "nao"
        ],
        [
         "44",
         "31",
         "casado (a)",
         "superior",
         "nao",
         "8312",
         "nao",
         "43",
         "13",
         "nao"
        ],
        [
         "45",
         "36",
         "divorciado (a)",
         "superior",
         "nao",
         "119",
         "nao",
         "127",
         "8",
         "nao"
        ],
        [
         "46",
         "31",
         "casado (a)",
         "superior",
         "nao",
         "156",
         "nao",
         "657",
         "7",
         "sim"
        ],
        [
         "47",
         "33",
         "casado (a)",
         "superior",
         "nao",
         "3696",
         "nao",
         "305",
         "1",
         "nao"
        ],
        [
         "48",
         "30",
         "casado (a)",
         "medio",
         "nao",
         "-393",
         "sim",
         "435",
         "1",
         "sim"
        ],
        [
         "49",
         "38",
         "casado (a)",
         "medio",
         "nao",
         "497",
         "sim",
         "88",
         "5",
         "nao"
        ]
       ],
       "shape": {
        "columns": 9,
        "rows": 1268
       }
      },
      "text/html": [
       "<div>\n",
       "<style scoped>\n",
       "    .dataframe tbody tr th:only-of-type {\n",
       "        vertical-align: middle;\n",
       "    }\n",
       "\n",
       "    .dataframe tbody tr th {\n",
       "        vertical-align: top;\n",
       "    }\n",
       "\n",
       "    .dataframe thead th {\n",
       "        text-align: right;\n",
       "    }\n",
       "</style>\n",
       "<table border=\"1\" class=\"dataframe\">\n",
       "  <thead>\n",
       "    <tr style=\"text-align: right;\">\n",
       "      <th></th>\n",
       "      <th>idade</th>\n",
       "      <th>estado_civil</th>\n",
       "      <th>escolaridade</th>\n",
       "      <th>inadimplencia</th>\n",
       "      <th>saldo</th>\n",
       "      <th>fez_emprestimo</th>\n",
       "      <th>tempo_ult_contato</th>\n",
       "      <th>numero_contatos</th>\n",
       "      <th>aderencia_investimento</th>\n",
       "    </tr>\n",
       "  </thead>\n",
       "  <tbody>\n",
       "    <tr>\n",
       "      <th>0</th>\n",
       "      <td>45</td>\n",
       "      <td>casado (a)</td>\n",
       "      <td>superior</td>\n",
       "      <td>nao</td>\n",
       "      <td>242</td>\n",
       "      <td>nao</td>\n",
       "      <td>587</td>\n",
       "      <td>1</td>\n",
       "      <td>sim</td>\n",
       "    </tr>\n",
       "    <tr>\n",
       "      <th>1</th>\n",
       "      <td>42</td>\n",
       "      <td>casado (a)</td>\n",
       "      <td>medio</td>\n",
       "      <td>nao</td>\n",
       "      <td>1289</td>\n",
       "      <td>nao</td>\n",
       "      <td>250</td>\n",
       "      <td>4</td>\n",
       "      <td>sim</td>\n",
       "    </tr>\n",
       "    <tr>\n",
       "      <th>2</th>\n",
       "      <td>23</td>\n",
       "      <td>solteiro (a)</td>\n",
       "      <td>superior</td>\n",
       "      <td>nao</td>\n",
       "      <td>363</td>\n",
       "      <td>nao</td>\n",
       "      <td>16</td>\n",
       "      <td>18</td>\n",
       "      <td>nao</td>\n",
       "    </tr>\n",
       "    <tr>\n",
       "      <th>3</th>\n",
       "      <td>58</td>\n",
       "      <td>divorciado (a)</td>\n",
       "      <td>superior</td>\n",
       "      <td>nao</td>\n",
       "      <td>1382</td>\n",
       "      <td>nao</td>\n",
       "      <td>700</td>\n",
       "      <td>1</td>\n",
       "      <td>sim</td>\n",
       "    </tr>\n",
       "    <tr>\n",
       "      <th>4</th>\n",
       "      <td>50</td>\n",
       "      <td>casado (a)</td>\n",
       "      <td>medio</td>\n",
       "      <td>nao</td>\n",
       "      <td>3357</td>\n",
       "      <td>nao</td>\n",
       "      <td>239</td>\n",
       "      <td>4</td>\n",
       "      <td>sim</td>\n",
       "    </tr>\n",
       "    <tr>\n",
       "      <th>...</th>\n",
       "      <td>...</td>\n",
       "      <td>...</td>\n",
       "      <td>...</td>\n",
       "      <td>...</td>\n",
       "      <td>...</td>\n",
       "      <td>...</td>\n",
       "      <td>...</td>\n",
       "      <td>...</td>\n",
       "      <td>...</td>\n",
       "    </tr>\n",
       "    <tr>\n",
       "      <th>1263</th>\n",
       "      <td>52</td>\n",
       "      <td>solteiro (a)</td>\n",
       "      <td>superior</td>\n",
       "      <td>nao</td>\n",
       "      <td>83</td>\n",
       "      <td>nao</td>\n",
       "      <td>1223</td>\n",
       "      <td>6</td>\n",
       "      <td>sim</td>\n",
       "    </tr>\n",
       "    <tr>\n",
       "      <th>1264</th>\n",
       "      <td>35</td>\n",
       "      <td>solteiro (a)</td>\n",
       "      <td>superior</td>\n",
       "      <td>nao</td>\n",
       "      <td>5958</td>\n",
       "      <td>nao</td>\n",
       "      <td>215</td>\n",
       "      <td>1</td>\n",
       "      <td>sim</td>\n",
       "    </tr>\n",
       "    <tr>\n",
       "      <th>1265</th>\n",
       "      <td>30</td>\n",
       "      <td>solteiro (a)</td>\n",
       "      <td>superior</td>\n",
       "      <td>nao</td>\n",
       "      <td>-477</td>\n",
       "      <td>sim</td>\n",
       "      <td>1532</td>\n",
       "      <td>2</td>\n",
       "      <td>sim</td>\n",
       "    </tr>\n",
       "    <tr>\n",
       "      <th>1266</th>\n",
       "      <td>42</td>\n",
       "      <td>casado (a)</td>\n",
       "      <td>superior</td>\n",
       "      <td>nao</td>\n",
       "      <td>2187</td>\n",
       "      <td>nao</td>\n",
       "      <td>525</td>\n",
       "      <td>3</td>\n",
       "      <td>sim</td>\n",
       "    </tr>\n",
       "    <tr>\n",
       "      <th>1267</th>\n",
       "      <td>29</td>\n",
       "      <td>solteiro (a)</td>\n",
       "      <td>superior</td>\n",
       "      <td>nao</td>\n",
       "      <td>19</td>\n",
       "      <td>nao</td>\n",
       "      <td>110</td>\n",
       "      <td>2</td>\n",
       "      <td>sim</td>\n",
       "    </tr>\n",
       "  </tbody>\n",
       "</table>\n",
       "<p>1268 rows × 9 columns</p>\n",
       "</div>"
      ],
      "text/plain": [
       "      idade    estado_civil escolaridade inadimplencia  saldo fez_emprestimo  \\\n",
       "0        45      casado (a)     superior           nao    242            nao   \n",
       "1        42      casado (a)        medio           nao   1289            nao   \n",
       "2        23    solteiro (a)     superior           nao    363            nao   \n",
       "3        58  divorciado (a)     superior           nao   1382            nao   \n",
       "4        50      casado (a)        medio           nao   3357            nao   \n",
       "...     ...             ...          ...           ...    ...            ...   \n",
       "1263     52    solteiro (a)     superior           nao     83            nao   \n",
       "1264     35    solteiro (a)     superior           nao   5958            nao   \n",
       "1265     30    solteiro (a)     superior           nao   -477            sim   \n",
       "1266     42      casado (a)     superior           nao   2187            nao   \n",
       "1267     29    solteiro (a)     superior           nao     19            nao   \n",
       "\n",
       "      tempo_ult_contato  numero_contatos aderencia_investimento  \n",
       "0                   587                1                    sim  \n",
       "1                   250                4                    sim  \n",
       "2                    16               18                    nao  \n",
       "3                   700                1                    sim  \n",
       "4                   239                4                    sim  \n",
       "...                 ...              ...                    ...  \n",
       "1263               1223                6                    sim  \n",
       "1264                215                1                    sim  \n",
       "1265               1532                2                    sim  \n",
       "1266                525                3                    sim  \n",
       "1267                110                2                    sim  \n",
       "\n",
       "[1268 rows x 9 columns]"
      ]
     },
     "execution_count": 4,
     "metadata": {},
     "output_type": "execute_result"
    }
   ],
   "source": [
    "dados"
   ]
  },
  {
   "cell_type": "markdown",
   "metadata": {
    "id": "y5VuhIoQQC51"
   },
   "source": [
    "Para criar modelos de classificação, precisamos utilizar dados de qualidade, sem inconsistências e sem dados faltantes. Vamos checar se existem dados nulos e o tipo dos dados de cada coluna na base de dados a partir do método [`info()`](https://pandas.pydata.org/docs/reference/api/pandas.DataFrame.info.html)."
   ]
  },
  {
   "cell_type": "code",
   "execution_count": 5,
   "metadata": {
    "id": "p1ylujcUmSGW"
   },
   "outputs": [
    {
     "name": "stdout",
     "output_type": "stream",
     "text": [
      "<class 'pandas.core.frame.DataFrame'>\n",
      "RangeIndex: 1268 entries, 0 to 1267\n",
      "Data columns (total 9 columns):\n",
      " #   Column                  Non-Null Count  Dtype \n",
      "---  ------                  --------------  ----- \n",
      " 0   idade                   1268 non-null   int64 \n",
      " 1   estado_civil            1268 non-null   object\n",
      " 2   escolaridade            1268 non-null   object\n",
      " 3   inadimplencia           1268 non-null   object\n",
      " 4   saldo                   1268 non-null   int64 \n",
      " 5   fez_emprestimo          1268 non-null   object\n",
      " 6   tempo_ult_contato       1268 non-null   int64 \n",
      " 7   numero_contatos         1268 non-null   int64 \n",
      " 8   aderencia_investimento  1268 non-null   object\n",
      "dtypes: int64(4), object(5)\n",
      "memory usage: 89.3+ KB\n"
     ]
    }
   ],
   "source": [
    "dados.info()"
   ]
  },
  {
   "cell_type": "code",
   "execution_count": null,
   "metadata": {},
   "outputs": [],
   "source": []
  }
 ],
 "metadata": {
  "colab": {
   "authorship_tag": "ABX9TyP1yoP194/rZdhdT7Pux8ir",
   "provenance": [],
   "toc_visible": true
  },
  "kernelspec": {
   "display_name": "Python 3",
   "name": "python3"
  },
  "language_info": {
   "codemirror_mode": {
    "name": "ipython",
    "version": 3
   },
   "file_extension": ".py",
   "mimetype": "text/x-python",
   "name": "python",
   "nbconvert_exporter": "python",
   "pygments_lexer": "ipython3",
   "version": "3.13.3"
  }
 },
 "nbformat": 4,
 "nbformat_minor": 0
}
